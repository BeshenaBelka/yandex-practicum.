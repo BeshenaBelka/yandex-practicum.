{
 "cells": [
  {
   "cell_type": "markdown",
   "metadata": {},
   "source": [
    "# Приоритизация гипотез, запуск A/B-теста и анализ результатов\n",
    "\n",
    "### Цель проекта: приоретизировать имеющиеся гипотезы. Затем проанализировать результаты А/В-теста.\n",
    "\n",
    "### Описание данных\n",
    "#### Данные для первой части\n",
    "Файл /datasets/hypothesis.csv. Скачать датасет\n",
    "Hypothesis — краткое описание гипотезы;\n",
    "Reach — охват пользователей по 10-балльной шкале;\n",
    "Impact — влияние на пользователей по 10-балльной шкале;\n",
    "Confidence — уверенность в гипотезе по 10-балльной шкале;\n",
    "Efforts — затраты ресурсов на проверку гипотезы по 10-балльной шкале. Чем больше значение Efforts, тем дороже проверка гипотезы.\n",
    "#### Данные для второй части\n",
    "Файл /datasets/orders.csv. Скачать датасет\n",
    "transactionId — идентификатор заказа;\n",
    "visitorId — идентификатор пользователя, совершившего заказ;\n",
    "date — дата, когда был совершён заказ;\n",
    "revenue — выручка заказа;\n",
    "group — группа A/B-теста, в которую попал заказ.\n",
    "Файл /datasets/visitors.csv. Скачать датасет\n",
    "date — дата;\n",
    "group — группа A/B-теста;\n",
    "visitors — количество пользователей в указанную дату в указанной группе A/B-теста\n",
    "\n",
    "#### Описание прокта:\n",
    "Вместе с отделом маркетинга подготовить список гипотез для увеличения выручки.\n",
    "Приоритизировать гипотезы, запустить A/B-тест и проанализировать результаты. "
   ]
  },
  {
   "cell_type": "code",
   "execution_count": 1,
   "metadata": {},
   "outputs": [],
   "source": [
    "import pandas as pd\n",
    "import datetime as dt\n",
    "import numpy as np\n",
    "import matplotlib.pyplot as plt\n",
    "from pandas.plotting import register_matplotlib_converters\n",
    "import warnings\n",
    "from scipy import stats as st"
   ]
  },
  {
   "cell_type": "markdown",
   "metadata": {},
   "source": [
    "## Приоритезация гипотез"
   ]
  },
  {
   "cell_type": "code",
   "execution_count": 2,
   "metadata": {},
   "outputs": [
    {
     "data": {
      "text/html": [
       "<div>\n",
       "<style scoped>\n",
       "    .dataframe tbody tr th:only-of-type {\n",
       "        vertical-align: middle;\n",
       "    }\n",
       "\n",
       "    .dataframe tbody tr th {\n",
       "        vertical-align: top;\n",
       "    }\n",
       "\n",
       "    .dataframe thead th {\n",
       "        text-align: right;\n",
       "    }\n",
       "</style>\n",
       "<table border=\"1\" class=\"dataframe\">\n",
       "  <thead>\n",
       "    <tr style=\"text-align: right;\">\n",
       "      <th></th>\n",
       "      <th>Hypothesis</th>\n",
       "      <th>Reach</th>\n",
       "      <th>Impact</th>\n",
       "      <th>Confidence</th>\n",
       "      <th>Efforts</th>\n",
       "    </tr>\n",
       "  </thead>\n",
       "  <tbody>\n",
       "    <tr>\n",
       "      <th>0</th>\n",
       "      <td>Добавить два новых канала привлечения трафика, что позволит привлекать на 30% больше пользователей</td>\n",
       "      <td>3</td>\n",
       "      <td>10</td>\n",
       "      <td>8</td>\n",
       "      <td>6</td>\n",
       "    </tr>\n",
       "    <tr>\n",
       "      <th>1</th>\n",
       "      <td>Запустить собственную службу доставки, что сократит срок доставки заказов</td>\n",
       "      <td>2</td>\n",
       "      <td>5</td>\n",
       "      <td>4</td>\n",
       "      <td>10</td>\n",
       "    </tr>\n",
       "    <tr>\n",
       "      <th>2</th>\n",
       "      <td>Добавить блоки рекомендаций товаров на сайт интернет магазина, чтобы повысить конверсию и средний чек заказа</td>\n",
       "      <td>8</td>\n",
       "      <td>3</td>\n",
       "      <td>7</td>\n",
       "      <td>3</td>\n",
       "    </tr>\n",
       "    <tr>\n",
       "      <th>3</th>\n",
       "      <td>Изменить структура категорий, что увеличит конверсию, т.к. пользователи быстрее найдут нужный товар</td>\n",
       "      <td>8</td>\n",
       "      <td>3</td>\n",
       "      <td>3</td>\n",
       "      <td>8</td>\n",
       "    </tr>\n",
       "    <tr>\n",
       "      <th>4</th>\n",
       "      <td>Изменить цвет фона главной страницы, чтобы увеличить вовлеченность пользователей</td>\n",
       "      <td>3</td>\n",
       "      <td>1</td>\n",
       "      <td>1</td>\n",
       "      <td>1</td>\n",
       "    </tr>\n",
       "    <tr>\n",
       "      <th>5</th>\n",
       "      <td>Добавить страницу отзывов клиентов о магазине, что позволит увеличить количество заказов</td>\n",
       "      <td>3</td>\n",
       "      <td>2</td>\n",
       "      <td>2</td>\n",
       "      <td>3</td>\n",
       "    </tr>\n",
       "    <tr>\n",
       "      <th>6</th>\n",
       "      <td>Показать на главной странице баннеры с актуальными акциями и распродажами, чтобы увеличить конверсию</td>\n",
       "      <td>5</td>\n",
       "      <td>3</td>\n",
       "      <td>8</td>\n",
       "      <td>3</td>\n",
       "    </tr>\n",
       "    <tr>\n",
       "      <th>7</th>\n",
       "      <td>Добавить форму подписки на все основные страницы, чтобы собрать базу клиентов для email-рассылок</td>\n",
       "      <td>10</td>\n",
       "      <td>7</td>\n",
       "      <td>8</td>\n",
       "      <td>5</td>\n",
       "    </tr>\n",
       "    <tr>\n",
       "      <th>8</th>\n",
       "      <td>Запустить акцию, дающую скидку на товар в день рождения</td>\n",
       "      <td>1</td>\n",
       "      <td>9</td>\n",
       "      <td>9</td>\n",
       "      <td>5</td>\n",
       "    </tr>\n",
       "  </tbody>\n",
       "</table>\n",
       "</div>"
      ],
      "text/plain": [
       "                                                                                                     Hypothesis  \\\n",
       "0            Добавить два новых канала привлечения трафика, что позволит привлекать на 30% больше пользователей   \n",
       "1                                     Запустить собственную службу доставки, что сократит срок доставки заказов   \n",
       "2  Добавить блоки рекомендаций товаров на сайт интернет магазина, чтобы повысить конверсию и средний чек заказа   \n",
       "3           Изменить структура категорий, что увеличит конверсию, т.к. пользователи быстрее найдут нужный товар   \n",
       "4                              Изменить цвет фона главной страницы, чтобы увеличить вовлеченность пользователей   \n",
       "5                      Добавить страницу отзывов клиентов о магазине, что позволит увеличить количество заказов   \n",
       "6          Показать на главной странице баннеры с актуальными акциями и распродажами, чтобы увеличить конверсию   \n",
       "7              Добавить форму подписки на все основные страницы, чтобы собрать базу клиентов для email-рассылок   \n",
       "8                                                       Запустить акцию, дающую скидку на товар в день рождения   \n",
       "\n",
       "   Reach  Impact  Confidence  Efforts  \n",
       "0      3      10           8        6  \n",
       "1      2       5           4       10  \n",
       "2      8       3           7        3  \n",
       "3      8       3           3        8  \n",
       "4      3       1           1        1  \n",
       "5      3       2           2        3  \n",
       "6      5       3           8        3  \n",
       "7     10       7           8        5  \n",
       "8      1       9           9        5  "
      ]
     },
     "metadata": {},
     "output_type": "display_data"
    }
   ],
   "source": [
    "hypothesis=pd.read_csv('/datasets/hypothesis.csv')\n",
    "pd.options.display.max_colwidth = 150\n",
    "display(hypothesis)"
   ]
  },
  {
   "cell_type": "markdown",
   "metadata": {},
   "source": [
    "### Фреймворк ICE\n",
    "\n",
    "Приоретизировали гипотезы фреймворком ICE. Из результатов видно что лидером является гипотеза о запуске акции со скидкой на товар. Так же к приоритетным можно отнести гипотезы привлечении двух новых каналов трафика и добалвении вормы подписки на все основные страницы."
   ]
  },
  {
   "cell_type": "code",
   "execution_count": 3,
   "metadata": {},
   "outputs": [
    {
     "data": {
      "text/html": [
       "<div>\n",
       "<style scoped>\n",
       "    .dataframe tbody tr th:only-of-type {\n",
       "        vertical-align: middle;\n",
       "    }\n",
       "\n",
       "    .dataframe tbody tr th {\n",
       "        vertical-align: top;\n",
       "    }\n",
       "\n",
       "    .dataframe thead th {\n",
       "        text-align: right;\n",
       "    }\n",
       "</style>\n",
       "<table border=\"1\" class=\"dataframe\">\n",
       "  <thead>\n",
       "    <tr style=\"text-align: right;\">\n",
       "      <th></th>\n",
       "      <th>Hypothesis</th>\n",
       "      <th>ICE</th>\n",
       "    </tr>\n",
       "  </thead>\n",
       "  <tbody>\n",
       "    <tr>\n",
       "      <th>8</th>\n",
       "      <td>Запустить акцию, дающую скидку на товар в день рождения</td>\n",
       "      <td>16.20</td>\n",
       "    </tr>\n",
       "    <tr>\n",
       "      <th>0</th>\n",
       "      <td>Добавить два новых канала привлечения трафика, что позволит привлекать на 30% больше пользователей</td>\n",
       "      <td>13.33</td>\n",
       "    </tr>\n",
       "    <tr>\n",
       "      <th>7</th>\n",
       "      <td>Добавить форму подписки на все основные страницы, чтобы собрать базу клиентов для email-рассылок</td>\n",
       "      <td>11.20</td>\n",
       "    </tr>\n",
       "    <tr>\n",
       "      <th>6</th>\n",
       "      <td>Показать на главной странице баннеры с актуальными акциями и распродажами, чтобы увеличить конверсию</td>\n",
       "      <td>8.00</td>\n",
       "    </tr>\n",
       "    <tr>\n",
       "      <th>2</th>\n",
       "      <td>Добавить блоки рекомендаций товаров на сайт интернет магазина, чтобы повысить конверсию и средний чек заказа</td>\n",
       "      <td>7.00</td>\n",
       "    </tr>\n",
       "    <tr>\n",
       "      <th>1</th>\n",
       "      <td>Запустить собственную службу доставки, что сократит срок доставки заказов</td>\n",
       "      <td>2.00</td>\n",
       "    </tr>\n",
       "    <tr>\n",
       "      <th>5</th>\n",
       "      <td>Добавить страницу отзывов клиентов о магазине, что позволит увеличить количество заказов</td>\n",
       "      <td>1.33</td>\n",
       "    </tr>\n",
       "    <tr>\n",
       "      <th>3</th>\n",
       "      <td>Изменить структура категорий, что увеличит конверсию, т.к. пользователи быстрее найдут нужный товар</td>\n",
       "      <td>1.12</td>\n",
       "    </tr>\n",
       "    <tr>\n",
       "      <th>4</th>\n",
       "      <td>Изменить цвет фона главной страницы, чтобы увеличить вовлеченность пользователей</td>\n",
       "      <td>1.00</td>\n",
       "    </tr>\n",
       "  </tbody>\n",
       "</table>\n",
       "</div>"
      ],
      "text/plain": [
       "                                                                                                     Hypothesis  \\\n",
       "8                                                       Запустить акцию, дающую скидку на товар в день рождения   \n",
       "0            Добавить два новых канала привлечения трафика, что позволит привлекать на 30% больше пользователей   \n",
       "7              Добавить форму подписки на все основные страницы, чтобы собрать базу клиентов для email-рассылок   \n",
       "6          Показать на главной странице баннеры с актуальными акциями и распродажами, чтобы увеличить конверсию   \n",
       "2  Добавить блоки рекомендаций товаров на сайт интернет магазина, чтобы повысить конверсию и средний чек заказа   \n",
       "1                                     Запустить собственную службу доставки, что сократит срок доставки заказов   \n",
       "5                      Добавить страницу отзывов клиентов о магазине, что позволит увеличить количество заказов   \n",
       "3           Изменить структура категорий, что увеличит конверсию, т.к. пользователи быстрее найдут нужный товар   \n",
       "4                              Изменить цвет фона главной страницы, чтобы увеличить вовлеченность пользователей   \n",
       "\n",
       "     ICE  \n",
       "8  16.20  \n",
       "0  13.33  \n",
       "7  11.20  \n",
       "6   8.00  \n",
       "2   7.00  \n",
       "1   2.00  \n",
       "5   1.33  \n",
       "3   1.12  \n",
       "4   1.00  "
      ]
     },
     "metadata": {},
     "output_type": "display_data"
    }
   ],
   "source": [
    "hypothesis['ICE']=round(((hypothesis['Impact']*hypothesis['Confidence'])/hypothesis['Efforts']),2)\n",
    "display(hypothesis[['Hypothesis','ICE']].sort_values(by='ICE',ascending=False))"
   ]
  },
  {
   "cell_type": "markdown",
   "metadata": {},
   "source": [
    "### Фреймворк RICE\n",
    "\n",
    "Приоритезировав гипотезы фреймворком RICE мы получили следующие результаты. Наиболее приоритетной оказалась гипотеза о добавлении формы подписки на все основные страницы. Гипотеза лидирует с большим отрывом. Далее идут гипотезы о добавлении блока рекомендаций на сайт и добавлении двух новых каналов привлечения."
   ]
  },
  {
   "cell_type": "code",
   "execution_count": 4,
   "metadata": {},
   "outputs": [
    {
     "data": {
      "text/html": [
       "<div>\n",
       "<style scoped>\n",
       "    .dataframe tbody tr th:only-of-type {\n",
       "        vertical-align: middle;\n",
       "    }\n",
       "\n",
       "    .dataframe tbody tr th {\n",
       "        vertical-align: top;\n",
       "    }\n",
       "\n",
       "    .dataframe thead th {\n",
       "        text-align: right;\n",
       "    }\n",
       "</style>\n",
       "<table border=\"1\" class=\"dataframe\">\n",
       "  <thead>\n",
       "    <tr style=\"text-align: right;\">\n",
       "      <th></th>\n",
       "      <th>Hypothesis</th>\n",
       "      <th>RICE</th>\n",
       "    </tr>\n",
       "  </thead>\n",
       "  <tbody>\n",
       "    <tr>\n",
       "      <th>7</th>\n",
       "      <td>Добавить форму подписки на все основные страницы, чтобы собрать базу клиентов для email-рассылок</td>\n",
       "      <td>112.0</td>\n",
       "    </tr>\n",
       "    <tr>\n",
       "      <th>2</th>\n",
       "      <td>Добавить блоки рекомендаций товаров на сайт интернет магазина, чтобы повысить конверсию и средний чек заказа</td>\n",
       "      <td>56.0</td>\n",
       "    </tr>\n",
       "    <tr>\n",
       "      <th>0</th>\n",
       "      <td>Добавить два новых канала привлечения трафика, что позволит привлекать на 30% больше пользователей</td>\n",
       "      <td>40.0</td>\n",
       "    </tr>\n",
       "    <tr>\n",
       "      <th>6</th>\n",
       "      <td>Показать на главной странице баннеры с актуальными акциями и распродажами, чтобы увеличить конверсию</td>\n",
       "      <td>40.0</td>\n",
       "    </tr>\n",
       "    <tr>\n",
       "      <th>8</th>\n",
       "      <td>Запустить акцию, дающую скидку на товар в день рождения</td>\n",
       "      <td>16.2</td>\n",
       "    </tr>\n",
       "    <tr>\n",
       "      <th>3</th>\n",
       "      <td>Изменить структура категорий, что увеличит конверсию, т.к. пользователи быстрее найдут нужный товар</td>\n",
       "      <td>9.0</td>\n",
       "    </tr>\n",
       "    <tr>\n",
       "      <th>1</th>\n",
       "      <td>Запустить собственную службу доставки, что сократит срок доставки заказов</td>\n",
       "      <td>4.0</td>\n",
       "    </tr>\n",
       "    <tr>\n",
       "      <th>5</th>\n",
       "      <td>Добавить страницу отзывов клиентов о магазине, что позволит увеличить количество заказов</td>\n",
       "      <td>4.0</td>\n",
       "    </tr>\n",
       "    <tr>\n",
       "      <th>4</th>\n",
       "      <td>Изменить цвет фона главной страницы, чтобы увеличить вовлеченность пользователей</td>\n",
       "      <td>3.0</td>\n",
       "    </tr>\n",
       "  </tbody>\n",
       "</table>\n",
       "</div>"
      ],
      "text/plain": [
       "                                                                                                     Hypothesis  \\\n",
       "7              Добавить форму подписки на все основные страницы, чтобы собрать базу клиентов для email-рассылок   \n",
       "2  Добавить блоки рекомендаций товаров на сайт интернет магазина, чтобы повысить конверсию и средний чек заказа   \n",
       "0            Добавить два новых канала привлечения трафика, что позволит привлекать на 30% больше пользователей   \n",
       "6          Показать на главной странице баннеры с актуальными акциями и распродажами, чтобы увеличить конверсию   \n",
       "8                                                       Запустить акцию, дающую скидку на товар в день рождения   \n",
       "3           Изменить структура категорий, что увеличит конверсию, т.к. пользователи быстрее найдут нужный товар   \n",
       "1                                     Запустить собственную службу доставки, что сократит срок доставки заказов   \n",
       "5                      Добавить страницу отзывов клиентов о магазине, что позволит увеличить количество заказов   \n",
       "4                              Изменить цвет фона главной страницы, чтобы увеличить вовлеченность пользователей   \n",
       "\n",
       "    RICE  \n",
       "7  112.0  \n",
       "2   56.0  \n",
       "0   40.0  \n",
       "6   40.0  \n",
       "8   16.2  \n",
       "3    9.0  \n",
       "1    4.0  \n",
       "5    4.0  \n",
       "4    3.0  "
      ]
     },
     "metadata": {},
     "output_type": "display_data"
    }
   ],
   "source": [
    "hypothesis['RICE']=(hypothesis['Reach']*hypothesis['Impact']*hypothesis['Confidence'])/hypothesis['Efforts']\n",
    "display(hypothesis[['Hypothesis','RICE']].sort_values(by='RICE',ascending=False))"
   ]
  },
  {
   "cell_type": "markdown",
   "metadata": {},
   "source": [
    "### Вывод\n",
    "\n",
    "Мы видим что при приоритезации гипотез двумя разными способами результат немного отличается. Используя фреймворк ICE приоритетными оказались следующие гипотезы: 1)гипотеза о запуске акции со скидкой на товар 2)гипотеза о привлечении двух новых каналов трафика 3) гипотеза о добалвении формы подписки на все основные страницы.Используя фреймворк RICE приоритетными оказались следующие гипотезы: 1)гипотеза о добавлении формы подписки на все основные страницы 2)гипотезф о добавлении блока рекомендаций на сайт 3)гипотеза о добавлении двух новых каналов привлечения. Это происходит по той причине, что ICE учитывает только насколько сильно изменение повлияет на пользователей, их опыт и удовлетворение от продукта, уверенность,что это изменение повлияет на пользователей именно так и сколько стоит протестировать эту гипотезу. Фреймворк RICE кроме этого учитывает еще скольких пользователей затронет изменение."
   ]
  },
  {
   "cell_type": "markdown",
   "metadata": {},
   "source": [
    "## Анализ A/B-теста\n",
    "\n",
    "Загрузили данные. Проверили их на пропуски и дубликаты. Поменяти тип данных во временных столбцах."
   ]
  },
  {
   "cell_type": "markdown",
   "metadata": {},
   "source": [
    "В нашем  А/В тесте две группы;\n",
    "\n",
    "Даты начала и окончания теста - 01-08-2019 и 31-08-2019;\n",
    "\n",
    "Пользователей в каждой группе (по таблице с заказами)- группа А:503, группа В:586;"
   ]
  },
  {
   "cell_type": "code",
   "execution_count": 5,
   "metadata": {},
   "outputs": [
    {
     "name": "stdout",
     "output_type": "stream",
     "text": [
      "0\n",
      "0\n",
      "          date group  visitors\n",
      "0   2019-08-01     A       719\n",
      "1   2019-08-02     A       619\n",
      "2   2019-08-03     A       507\n",
      "3   2019-08-04     A       717\n",
      "4   2019-08-05     A       756\n",
      "..         ...   ...       ...\n",
      "57  2019-08-27     B       720\n",
      "58  2019-08-28     B       654\n",
      "59  2019-08-29     B       531\n",
      "60  2019-08-30     B       490\n",
      "61  2019-08-31     B       718\n",
      "\n",
      "[62 rows x 3 columns]\n",
      "      transactionId   visitorId        date  revenue group\n",
      "0        3667963787  3312258926  2019-08-15     1650     B\n",
      "1        2804400009  3642806036  2019-08-15      730     B\n",
      "2        2961555356  4069496402  2019-08-15      400     A\n",
      "3        3797467345  1196621759  2019-08-15     9759     B\n",
      "4        2282983706  2322279887  2019-08-15     2308     B\n",
      "...             ...         ...         ...      ...   ...\n",
      "1192     2662137336  3733762160  2019-08-14     6490     B\n",
      "1193     2203539145   370388673  2019-08-14     3190     A\n",
      "1194     1807773912   573423106  2019-08-14    10550     A\n",
      "1195     1947021204  1614305549  2019-08-14      100     A\n",
      "1196     3936777065  2108080724  2019-08-15   202740     B\n",
      "\n",
      "[1197 rows x 5 columns]\n",
      "<class 'pandas.core.frame.DataFrame'>\n",
      "RangeIndex: 62 entries, 0 to 61\n",
      "Data columns (total 3 columns):\n",
      " #   Column    Non-Null Count  Dtype \n",
      "---  ------    --------------  ----- \n",
      " 0   date      62 non-null     object\n",
      " 1   group     62 non-null     object\n",
      " 2   visitors  62 non-null     int64 \n",
      "dtypes: int64(1), object(2)\n",
      "memory usage: 1.6+ KB\n",
      "<class 'pandas.core.frame.DataFrame'>\n",
      "RangeIndex: 1197 entries, 0 to 1196\n",
      "Data columns (total 5 columns):\n",
      " #   Column         Non-Null Count  Dtype \n",
      "---  ------         --------------  ----- \n",
      " 0   transactionId  1197 non-null   int64 \n",
      " 1   visitorId      1197 non-null   int64 \n",
      " 2   date           1197 non-null   object\n",
      " 3   revenue        1197 non-null   int64 \n",
      " 4   group          1197 non-null   object\n",
      "dtypes: int64(3), object(2)\n",
      "memory usage: 46.9+ KB\n"
     ]
    },
    {
     "data": {
      "text/html": [
       "<div>\n",
       "<style scoped>\n",
       "    .dataframe tbody tr th:only-of-type {\n",
       "        vertical-align: middle;\n",
       "    }\n",
       "\n",
       "    .dataframe tbody tr th {\n",
       "        vertical-align: top;\n",
       "    }\n",
       "\n",
       "    .dataframe thead th {\n",
       "        text-align: right;\n",
       "    }\n",
       "</style>\n",
       "<table border=\"1\" class=\"dataframe\">\n",
       "  <thead>\n",
       "    <tr style=\"text-align: right;\">\n",
       "      <th></th>\n",
       "      <th>transactionId</th>\n",
       "      <th>visitorId</th>\n",
       "      <th>date</th>\n",
       "      <th>revenue</th>\n",
       "      <th>group</th>\n",
       "    </tr>\n",
       "  </thead>\n",
       "  <tbody>\n",
       "    <tr>\n",
       "      <th>0</th>\n",
       "      <td>3667963787</td>\n",
       "      <td>3312258926</td>\n",
       "      <td>2019-08-15</td>\n",
       "      <td>1650.0</td>\n",
       "      <td>B</td>\n",
       "    </tr>\n",
       "    <tr>\n",
       "      <th>1</th>\n",
       "      <td>2804400009</td>\n",
       "      <td>3642806036</td>\n",
       "      <td>2019-08-15</td>\n",
       "      <td>730.0</td>\n",
       "      <td>B</td>\n",
       "    </tr>\n",
       "    <tr>\n",
       "      <th>2</th>\n",
       "      <td>2961555356</td>\n",
       "      <td>4069496402</td>\n",
       "      <td>2019-08-15</td>\n",
       "      <td>400.0</td>\n",
       "      <td>A</td>\n",
       "    </tr>\n",
       "    <tr>\n",
       "      <th>3</th>\n",
       "      <td>3797467345</td>\n",
       "      <td>1196621759</td>\n",
       "      <td>2019-08-15</td>\n",
       "      <td>9759.0</td>\n",
       "      <td>B</td>\n",
       "    </tr>\n",
       "    <tr>\n",
       "      <th>4</th>\n",
       "      <td>2282983706</td>\n",
       "      <td>2322279887</td>\n",
       "      <td>2019-08-15</td>\n",
       "      <td>2308.0</td>\n",
       "      <td>B</td>\n",
       "    </tr>\n",
       "    <tr>\n",
       "      <th>...</th>\n",
       "      <td>...</td>\n",
       "      <td>...</td>\n",
       "      <td>...</td>\n",
       "      <td>...</td>\n",
       "      <td>...</td>\n",
       "    </tr>\n",
       "    <tr>\n",
       "      <th>1192</th>\n",
       "      <td>2662137336</td>\n",
       "      <td>3733762160</td>\n",
       "      <td>2019-08-14</td>\n",
       "      <td>6490.0</td>\n",
       "      <td>B</td>\n",
       "    </tr>\n",
       "    <tr>\n",
       "      <th>1193</th>\n",
       "      <td>2203539145</td>\n",
       "      <td>370388673</td>\n",
       "      <td>2019-08-14</td>\n",
       "      <td>3190.0</td>\n",
       "      <td>A</td>\n",
       "    </tr>\n",
       "    <tr>\n",
       "      <th>1194</th>\n",
       "      <td>1807773912</td>\n",
       "      <td>573423106</td>\n",
       "      <td>2019-08-14</td>\n",
       "      <td>10550.0</td>\n",
       "      <td>A</td>\n",
       "    </tr>\n",
       "    <tr>\n",
       "      <th>1195</th>\n",
       "      <td>1947021204</td>\n",
       "      <td>1614305549</td>\n",
       "      <td>2019-08-14</td>\n",
       "      <td>100.0</td>\n",
       "      <td>A</td>\n",
       "    </tr>\n",
       "    <tr>\n",
       "      <th>1196</th>\n",
       "      <td>3936777065</td>\n",
       "      <td>2108080724</td>\n",
       "      <td>2019-08-15</td>\n",
       "      <td>202740.0</td>\n",
       "      <td>B</td>\n",
       "    </tr>\n",
       "  </tbody>\n",
       "</table>\n",
       "<p>1197 rows × 5 columns</p>\n",
       "</div>"
      ],
      "text/plain": [
       "      transactionId   visitorId       date   revenue group\n",
       "0        3667963787  3312258926 2019-08-15    1650.0     B\n",
       "1        2804400009  3642806036 2019-08-15     730.0     B\n",
       "2        2961555356  4069496402 2019-08-15     400.0     A\n",
       "3        3797467345  1196621759 2019-08-15    9759.0     B\n",
       "4        2282983706  2322279887 2019-08-15    2308.0     B\n",
       "...             ...         ...        ...       ...   ...\n",
       "1192     2662137336  3733762160 2019-08-14    6490.0     B\n",
       "1193     2203539145   370388673 2019-08-14    3190.0     A\n",
       "1194     1807773912   573423106 2019-08-14   10550.0     A\n",
       "1195     1947021204  1614305549 2019-08-14     100.0     A\n",
       "1196     3936777065  2108080724 2019-08-15  202740.0     B\n",
       "\n",
       "[1197 rows x 5 columns]"
      ]
     },
     "metadata": {},
     "output_type": "display_data"
    },
    {
     "data": {
      "text/html": [
       "<div>\n",
       "<style scoped>\n",
       "    .dataframe tbody tr th:only-of-type {\n",
       "        vertical-align: middle;\n",
       "    }\n",
       "\n",
       "    .dataframe tbody tr th {\n",
       "        vertical-align: top;\n",
       "    }\n",
       "\n",
       "    .dataframe thead th {\n",
       "        text-align: right;\n",
       "    }\n",
       "</style>\n",
       "<table border=\"1\" class=\"dataframe\">\n",
       "  <thead>\n",
       "    <tr style=\"text-align: right;\">\n",
       "      <th></th>\n",
       "      <th>date</th>\n",
       "      <th>group</th>\n",
       "      <th>visitors</th>\n",
       "    </tr>\n",
       "  </thead>\n",
       "  <tbody>\n",
       "    <tr>\n",
       "      <th>0</th>\n",
       "      <td>2019-08-01</td>\n",
       "      <td>A</td>\n",
       "      <td>719.0</td>\n",
       "    </tr>\n",
       "    <tr>\n",
       "      <th>1</th>\n",
       "      <td>2019-08-02</td>\n",
       "      <td>A</td>\n",
       "      <td>619.0</td>\n",
       "    </tr>\n",
       "    <tr>\n",
       "      <th>2</th>\n",
       "      <td>2019-08-03</td>\n",
       "      <td>A</td>\n",
       "      <td>507.0</td>\n",
       "    </tr>\n",
       "    <tr>\n",
       "      <th>3</th>\n",
       "      <td>2019-08-04</td>\n",
       "      <td>A</td>\n",
       "      <td>717.0</td>\n",
       "    </tr>\n",
       "    <tr>\n",
       "      <th>4</th>\n",
       "      <td>2019-08-05</td>\n",
       "      <td>A</td>\n",
       "      <td>756.0</td>\n",
       "    </tr>\n",
       "    <tr>\n",
       "      <th>...</th>\n",
       "      <td>...</td>\n",
       "      <td>...</td>\n",
       "      <td>...</td>\n",
       "    </tr>\n",
       "    <tr>\n",
       "      <th>57</th>\n",
       "      <td>2019-08-27</td>\n",
       "      <td>B</td>\n",
       "      <td>720.0</td>\n",
       "    </tr>\n",
       "    <tr>\n",
       "      <th>58</th>\n",
       "      <td>2019-08-28</td>\n",
       "      <td>B</td>\n",
       "      <td>654.0</td>\n",
       "    </tr>\n",
       "    <tr>\n",
       "      <th>59</th>\n",
       "      <td>2019-08-29</td>\n",
       "      <td>B</td>\n",
       "      <td>531.0</td>\n",
       "    </tr>\n",
       "    <tr>\n",
       "      <th>60</th>\n",
       "      <td>2019-08-30</td>\n",
       "      <td>B</td>\n",
       "      <td>490.0</td>\n",
       "    </tr>\n",
       "    <tr>\n",
       "      <th>61</th>\n",
       "      <td>2019-08-31</td>\n",
       "      <td>B</td>\n",
       "      <td>718.0</td>\n",
       "    </tr>\n",
       "  </tbody>\n",
       "</table>\n",
       "<p>62 rows × 3 columns</p>\n",
       "</div>"
      ],
      "text/plain": [
       "         date group  visitors\n",
       "0  2019-08-01     A     719.0\n",
       "1  2019-08-02     A     619.0\n",
       "2  2019-08-03     A     507.0\n",
       "3  2019-08-04     A     717.0\n",
       "4  2019-08-05     A     756.0\n",
       "..        ...   ...       ...\n",
       "57 2019-08-27     B     720.0\n",
       "58 2019-08-28     B     654.0\n",
       "59 2019-08-29     B     531.0\n",
       "60 2019-08-30     B     490.0\n",
       "61 2019-08-31     B     718.0\n",
       "\n",
       "[62 rows x 3 columns]"
      ]
     },
     "metadata": {},
     "output_type": "display_data"
    },
    {
     "name": "stdout",
     "output_type": "stream",
     "text": [
      "visitorId    503\n",
      "group          1\n",
      "dtype: int64\n",
      "visitorId    586\n",
      "group          1\n",
      "dtype: int64\n"
     ]
    }
   ],
   "source": [
    "orders=pd.read_csv('/datasets/orders.csv')\n",
    "visitors=pd.read_csv('/datasets/visitors.csv')\n",
    "print(visitors.isna().sum().sum())\n",
    "print(orders.isna().sum().sum())\n",
    "print(visitors.drop_duplicates())\n",
    "print(orders.drop_duplicates())\n",
    "visitors.info()\n",
    "visitors['date']=pd.to_datetime(visitors['date'])\n",
    "visitors['visitors']=visitors['visitors'].astype(float)\n",
    "orders.info()\n",
    "orders['date']=pd.to_datetime(orders['date'])\n",
    "orders['revenue']=orders['revenue'].astype(float)\n",
    "display(orders)\n",
    "display(visitors)\n",
    "ordersA=orders[['visitorId','group']][orders['group']=='A']\n",
    "print(ordersA.nunique())\n",
    "ordersB=orders[['visitorId','group']][orders['group']=='B']\n",
    "print(ordersB.nunique())"
   ]
  },
  {
   "cell_type": "markdown",
   "metadata": {},
   "source": [
    "Проверив пользователей на предмет участия в обеих тестовых группах, мы обнаружили что 58 пользователя принимали участие и в группе А и в группе В. Мы приняли решение избавиться от таких пользователей. В итоге количество участников в группах изменилось. Пользователей в каждой группе (по таблице с заказами)- группа А:445, группа В:528;"
   ]
  },
  {
   "cell_type": "code",
   "execution_count": 6,
   "metadata": {},
   "outputs": [
    {
     "name": "stdout",
     "output_type": "stream",
     "text": [
      "visitorId    58\n",
      "group_x       1\n",
      "group_y       1\n",
      "dtype: int64\n",
      "visitorId    445\n",
      "group          1\n",
      "dtype: int64\n",
      "visitorId    528\n",
      "group          1\n",
      "dtype: int64\n"
     ]
    }
   ],
   "source": [
    "visitor_id=ordersA.merge(ordersB,right_on='visitorId',left_on='visitorId',how='inner')\n",
    "#visitot_id=visitor_id['visitorId']\n",
    "print(visitor_id.nunique())\n",
    "orders=orders[~orders['visitorId'].isin(visitor_id['visitorId'])]\n",
    "orders\n",
    "ordersA=orders[['visitorId','group']][orders['group']=='A']\n",
    "print(ordersA.nunique())\n",
    "ordersB=orders[['visitorId','group']][orders['group']=='B']\n",
    "print(ordersB.nunique())"
   ]
  },
  {
   "cell_type": "markdown",
   "metadata": {},
   "source": [
    "### Подготовка данных"
   ]
  },
  {
   "cell_type": "markdown",
   "metadata": {},
   "source": [
    "1)Создаем датафрейм datesGroups с уникальными парами значений 'date' и 'group', таблицы orders. Избавляемся от дубликатов методом drop_duplicates()\n",
    "\n",
    "2)Объявляем переменную ordersAggregated, содержащую:\n",
    "-дату;\n",
    "-группу A/B-теста;\n",
    "-число уникальных заказов в группе теста по указанную дату включительно;\n",
    "-число уникальных пользователей, совершивших хотя бы 1 заказ в группе теста по указанную дату включительно;\n",
    "-суммарную выручку заказов в группе теста по указанную дату включительно\n",
    "\n",
    "3)Объявляем переменную visitorsAggregated, содержащую:\n",
    "-дату;\n",
    "-группу A/B-теста;\n",
    "-количество уникальных посетителей в группе теста по указанную дату включительно\n",
    "\n",
    "4)ordersAggregated и visitorsAggregated осортируем по столбцам 'date', 'group' в указанном порядке\n",
    "\n",
    "5)Определяем переменную cumulativeData, объединив ordersAggregated и visitorsAggregated по колонкам 'date', 'group' методом merge()\n",
    "\n",
    "6)Присваиваем столбцам cumulativeData названия ['date', 'group', 'orders', 'buyers', 'revenue', 'visitors']"
   ]
  },
  {
   "cell_type": "code",
   "execution_count": 7,
   "metadata": {},
   "outputs": [
    {
     "data": {
      "text/html": [
       "<div>\n",
       "<style scoped>\n",
       "    .dataframe tbody tr th:only-of-type {\n",
       "        vertical-align: middle;\n",
       "    }\n",
       "\n",
       "    .dataframe tbody tr th {\n",
       "        vertical-align: top;\n",
       "    }\n",
       "\n",
       "    .dataframe thead th {\n",
       "        text-align: right;\n",
       "    }\n",
       "</style>\n",
       "<table border=\"1\" class=\"dataframe\">\n",
       "  <thead>\n",
       "    <tr style=\"text-align: right;\">\n",
       "      <th></th>\n",
       "      <th>date</th>\n",
       "      <th>group</th>\n",
       "      <th>orders</th>\n",
       "      <th>buyers</th>\n",
       "      <th>revenue</th>\n",
       "      <th>visitors</th>\n",
       "    </tr>\n",
       "  </thead>\n",
       "  <tbody>\n",
       "    <tr>\n",
       "      <th>0</th>\n",
       "      <td>2019-08-01</td>\n",
       "      <td>A</td>\n",
       "      <td>23</td>\n",
       "      <td>19</td>\n",
       "      <td>142779.0</td>\n",
       "      <td>719.0</td>\n",
       "    </tr>\n",
       "    <tr>\n",
       "      <th>1</th>\n",
       "      <td>2019-08-01</td>\n",
       "      <td>B</td>\n",
       "      <td>17</td>\n",
       "      <td>17</td>\n",
       "      <td>59758.0</td>\n",
       "      <td>713.0</td>\n",
       "    </tr>\n",
       "    <tr>\n",
       "      <th>2</th>\n",
       "      <td>2019-08-02</td>\n",
       "      <td>A</td>\n",
       "      <td>42</td>\n",
       "      <td>36</td>\n",
       "      <td>234381.0</td>\n",
       "      <td>1338.0</td>\n",
       "    </tr>\n",
       "    <tr>\n",
       "      <th>3</th>\n",
       "      <td>2019-08-02</td>\n",
       "      <td>B</td>\n",
       "      <td>40</td>\n",
       "      <td>39</td>\n",
       "      <td>221801.0</td>\n",
       "      <td>1294.0</td>\n",
       "    </tr>\n",
       "    <tr>\n",
       "      <th>4</th>\n",
       "      <td>2019-08-03</td>\n",
       "      <td>A</td>\n",
       "      <td>66</td>\n",
       "      <td>60</td>\n",
       "      <td>346854.0</td>\n",
       "      <td>1845.0</td>\n",
       "    </tr>\n",
       "  </tbody>\n",
       "</table>\n",
       "</div>"
      ],
      "text/plain": [
       "        date group  orders  buyers   revenue  visitors\n",
       "0 2019-08-01     A      23      19  142779.0     719.0\n",
       "1 2019-08-01     B      17      17   59758.0     713.0\n",
       "2 2019-08-02     A      42      36  234381.0    1338.0\n",
       "3 2019-08-02     B      40      39  221801.0    1294.0\n",
       "4 2019-08-03     A      66      60  346854.0    1845.0"
      ]
     },
     "metadata": {},
     "output_type": "display_data"
    }
   ],
   "source": [
    "datesGroups = orders[['date','group']].drop_duplicates() \n",
    "ordersAggregated = datesGroups.apply(lambda x: orders[np.logical_and(orders['date'] <= x['date'], orders['group'] == x['group'])]\\\n",
    ".agg({'date' : 'max', 'group' : 'max', 'transactionId' : 'nunique', 'visitorId' : 'nunique', 'revenue' : 'sum'}), axis=1).sort_values(by=['date','group']) \n",
    "visitorsAggregated = datesGroups.apply(lambda x: visitors[np.logical_and(visitors['date'] <= x['date'], visitors['group'] == x['group'])].agg({'date' : 'max', 'group' : 'max', 'visitors' : 'sum'}), axis=1).sort_values(by=['date','group']) \n",
    "cumulativeData = ordersAggregated.merge(visitorsAggregated, left_on=['date', 'group'], right_on=['date', 'group'])\n",
    "cumulativeData.columns = ['date', 'group', 'orders', 'buyers', 'revenue', 'visitors']\n",
    "display(cumulativeData.head(5))"
   ]
  },
  {
   "cell_type": "markdown",
   "metadata": {},
   "source": [
    "Создаем переменные cumulativeRevenueA и cumulativeRevenueB, в которых сохраняем данные о датах, выручке и числе заказов в группах A и B"
   ]
  },
  {
   "cell_type": "code",
   "execution_count": 8,
   "metadata": {},
   "outputs": [
    {
     "data": {
      "text/html": [
       "<div>\n",
       "<style scoped>\n",
       "    .dataframe tbody tr th:only-of-type {\n",
       "        vertical-align: middle;\n",
       "    }\n",
       "\n",
       "    .dataframe tbody tr th {\n",
       "        vertical-align: top;\n",
       "    }\n",
       "\n",
       "    .dataframe thead th {\n",
       "        text-align: right;\n",
       "    }\n",
       "</style>\n",
       "<table border=\"1\" class=\"dataframe\">\n",
       "  <thead>\n",
       "    <tr style=\"text-align: right;\">\n",
       "      <th></th>\n",
       "      <th>date</th>\n",
       "      <th>revenue</th>\n",
       "      <th>orders</th>\n",
       "      <th>visitors</th>\n",
       "    </tr>\n",
       "  </thead>\n",
       "  <tbody>\n",
       "    <tr>\n",
       "      <th>0</th>\n",
       "      <td>2019-08-01</td>\n",
       "      <td>142779.0</td>\n",
       "      <td>23</td>\n",
       "      <td>719.0</td>\n",
       "    </tr>\n",
       "    <tr>\n",
       "      <th>2</th>\n",
       "      <td>2019-08-02</td>\n",
       "      <td>234381.0</td>\n",
       "      <td>42</td>\n",
       "      <td>1338.0</td>\n",
       "    </tr>\n",
       "    <tr>\n",
       "      <th>4</th>\n",
       "      <td>2019-08-03</td>\n",
       "      <td>346854.0</td>\n",
       "      <td>66</td>\n",
       "      <td>1845.0</td>\n",
       "    </tr>\n",
       "    <tr>\n",
       "      <th>6</th>\n",
       "      <td>2019-08-04</td>\n",
       "      <td>388030.0</td>\n",
       "      <td>77</td>\n",
       "      <td>2562.0</td>\n",
       "    </tr>\n",
       "    <tr>\n",
       "      <th>8</th>\n",
       "      <td>2019-08-05</td>\n",
       "      <td>474413.0</td>\n",
       "      <td>99</td>\n",
       "      <td>3318.0</td>\n",
       "    </tr>\n",
       "    <tr>\n",
       "      <th>10</th>\n",
       "      <td>2019-08-06</td>\n",
       "      <td>515332.0</td>\n",
       "      <td>114</td>\n",
       "      <td>3985.0</td>\n",
       "    </tr>\n",
       "    <tr>\n",
       "      <th>12</th>\n",
       "      <td>2019-08-07</td>\n",
       "      <td>638580.0</td>\n",
       "      <td>130</td>\n",
       "      <td>4629.0</td>\n",
       "    </tr>\n",
       "    <tr>\n",
       "      <th>14</th>\n",
       "      <td>2019-08-08</td>\n",
       "      <td>727219.0</td>\n",
       "      <td>144</td>\n",
       "      <td>5239.0</td>\n",
       "    </tr>\n",
       "    <tr>\n",
       "      <th>16</th>\n",
       "      <td>2019-08-09</td>\n",
       "      <td>861456.0</td>\n",
       "      <td>155</td>\n",
       "      <td>5856.0</td>\n",
       "    </tr>\n",
       "    <tr>\n",
       "      <th>18</th>\n",
       "      <td>2019-08-10</td>\n",
       "      <td>1013731.0</td>\n",
       "      <td>170</td>\n",
       "      <td>6262.0</td>\n",
       "    </tr>\n",
       "    <tr>\n",
       "      <th>20</th>\n",
       "      <td>2019-08-11</td>\n",
       "      <td>1074396.0</td>\n",
       "      <td>181</td>\n",
       "      <td>6980.0</td>\n",
       "    </tr>\n",
       "    <tr>\n",
       "      <th>22</th>\n",
       "      <td>2019-08-12</td>\n",
       "      <td>1294788.0</td>\n",
       "      <td>200</td>\n",
       "      <td>7575.0</td>\n",
       "    </tr>\n",
       "    <tr>\n",
       "      <th>24</th>\n",
       "      <td>2019-08-13</td>\n",
       "      <td>1558426.0</td>\n",
       "      <td>214</td>\n",
       "      <td>8323.0</td>\n",
       "    </tr>\n",
       "    <tr>\n",
       "      <th>26</th>\n",
       "      <td>2019-08-14</td>\n",
       "      <td>1601692.0</td>\n",
       "      <td>231</td>\n",
       "      <td>9058.0</td>\n",
       "    </tr>\n",
       "    <tr>\n",
       "      <th>28</th>\n",
       "      <td>2019-08-15</td>\n",
       "      <td>1682569.0</td>\n",
       "      <td>241</td>\n",
       "      <td>9686.0</td>\n",
       "    </tr>\n",
       "    <tr>\n",
       "      <th>30</th>\n",
       "      <td>2019-08-16</td>\n",
       "      <td>1782420.0</td>\n",
       "      <td>259</td>\n",
       "      <td>10047.0</td>\n",
       "    </tr>\n",
       "    <tr>\n",
       "      <th>32</th>\n",
       "      <td>2019-08-17</td>\n",
       "      <td>1817160.0</td>\n",
       "      <td>265</td>\n",
       "      <td>10459.0</td>\n",
       "    </tr>\n",
       "    <tr>\n",
       "      <th>34</th>\n",
       "      <td>2019-08-18</td>\n",
       "      <td>1876741.0</td>\n",
       "      <td>278</td>\n",
       "      <td>11127.0</td>\n",
       "    </tr>\n",
       "    <tr>\n",
       "      <th>36</th>\n",
       "      <td>2019-08-19</td>\n",
       "      <td>2044934.0</td>\n",
       "      <td>299</td>\n",
       "      <td>11629.0</td>\n",
       "    </tr>\n",
       "    <tr>\n",
       "      <th>38</th>\n",
       "      <td>2019-08-20</td>\n",
       "      <td>2103613.0</td>\n",
       "      <td>309</td>\n",
       "      <td>12204.0</td>\n",
       "    </tr>\n",
       "    <tr>\n",
       "      <th>40</th>\n",
       "      <td>2019-08-21</td>\n",
       "      <td>2273782.0</td>\n",
       "      <td>329</td>\n",
       "      <td>12850.0</td>\n",
       "    </tr>\n",
       "    <tr>\n",
       "      <th>42</th>\n",
       "      <td>2019-08-22</td>\n",
       "      <td>2366147.0</td>\n",
       "      <td>339</td>\n",
       "      <td>13459.0</td>\n",
       "    </tr>\n",
       "    <tr>\n",
       "      <th>44</th>\n",
       "      <td>2019-08-23</td>\n",
       "      <td>2424010.0</td>\n",
       "      <td>359</td>\n",
       "      <td>13927.0</td>\n",
       "    </tr>\n",
       "    <tr>\n",
       "      <th>46</th>\n",
       "      <td>2019-08-24</td>\n",
       "      <td>2546023.0</td>\n",
       "      <td>372</td>\n",
       "      <td>14322.0</td>\n",
       "    </tr>\n",
       "    <tr>\n",
       "      <th>48</th>\n",
       "      <td>2019-08-25</td>\n",
       "      <td>2597907.0</td>\n",
       "      <td>380</td>\n",
       "      <td>14943.0</td>\n",
       "    </tr>\n",
       "    <tr>\n",
       "      <th>50</th>\n",
       "      <td>2019-08-26</td>\n",
       "      <td>2755121.0</td>\n",
       "      <td>396</td>\n",
       "      <td>15665.0</td>\n",
       "    </tr>\n",
       "    <tr>\n",
       "      <th>52</th>\n",
       "      <td>2019-08-27</td>\n",
       "      <td>2940471.0</td>\n",
       "      <td>419</td>\n",
       "      <td>16376.0</td>\n",
       "    </tr>\n",
       "    <tr>\n",
       "      <th>54</th>\n",
       "      <td>2019-08-28</td>\n",
       "      <td>3036933.0</td>\n",
       "      <td>434</td>\n",
       "      <td>16970.0</td>\n",
       "    </tr>\n",
       "    <tr>\n",
       "      <th>56</th>\n",
       "      <td>2019-08-29</td>\n",
       "      <td>3233233.0</td>\n",
       "      <td>451</td>\n",
       "      <td>17547.0</td>\n",
       "    </tr>\n",
       "    <tr>\n",
       "      <th>58</th>\n",
       "      <td>2019-08-30</td>\n",
       "      <td>3311413.0</td>\n",
       "      <td>460</td>\n",
       "      <td>18037.0</td>\n",
       "    </tr>\n",
       "    <tr>\n",
       "      <th>60</th>\n",
       "      <td>2019-08-31</td>\n",
       "      <td>3364656.0</td>\n",
       "      <td>468</td>\n",
       "      <td>18736.0</td>\n",
       "    </tr>\n",
       "  </tbody>\n",
       "</table>\n",
       "</div>"
      ],
      "text/plain": [
       "         date    revenue  orders  visitors\n",
       "0  2019-08-01   142779.0      23     719.0\n",
       "2  2019-08-02   234381.0      42    1338.0\n",
       "4  2019-08-03   346854.0      66    1845.0\n",
       "6  2019-08-04   388030.0      77    2562.0\n",
       "8  2019-08-05   474413.0      99    3318.0\n",
       "10 2019-08-06   515332.0     114    3985.0\n",
       "12 2019-08-07   638580.0     130    4629.0\n",
       "14 2019-08-08   727219.0     144    5239.0\n",
       "16 2019-08-09   861456.0     155    5856.0\n",
       "18 2019-08-10  1013731.0     170    6262.0\n",
       "20 2019-08-11  1074396.0     181    6980.0\n",
       "22 2019-08-12  1294788.0     200    7575.0\n",
       "24 2019-08-13  1558426.0     214    8323.0\n",
       "26 2019-08-14  1601692.0     231    9058.0\n",
       "28 2019-08-15  1682569.0     241    9686.0\n",
       "30 2019-08-16  1782420.0     259   10047.0\n",
       "32 2019-08-17  1817160.0     265   10459.0\n",
       "34 2019-08-18  1876741.0     278   11127.0\n",
       "36 2019-08-19  2044934.0     299   11629.0\n",
       "38 2019-08-20  2103613.0     309   12204.0\n",
       "40 2019-08-21  2273782.0     329   12850.0\n",
       "42 2019-08-22  2366147.0     339   13459.0\n",
       "44 2019-08-23  2424010.0     359   13927.0\n",
       "46 2019-08-24  2546023.0     372   14322.0\n",
       "48 2019-08-25  2597907.0     380   14943.0\n",
       "50 2019-08-26  2755121.0     396   15665.0\n",
       "52 2019-08-27  2940471.0     419   16376.0\n",
       "54 2019-08-28  3036933.0     434   16970.0\n",
       "56 2019-08-29  3233233.0     451   17547.0\n",
       "58 2019-08-30  3311413.0     460   18037.0\n",
       "60 2019-08-31  3364656.0     468   18736.0"
      ]
     },
     "metadata": {},
     "output_type": "display_data"
    },
    {
     "data": {
      "text/html": [
       "<div>\n",
       "<style scoped>\n",
       "    .dataframe tbody tr th:only-of-type {\n",
       "        vertical-align: middle;\n",
       "    }\n",
       "\n",
       "    .dataframe tbody tr th {\n",
       "        vertical-align: top;\n",
       "    }\n",
       "\n",
       "    .dataframe thead th {\n",
       "        text-align: right;\n",
       "    }\n",
       "</style>\n",
       "<table border=\"1\" class=\"dataframe\">\n",
       "  <thead>\n",
       "    <tr style=\"text-align: right;\">\n",
       "      <th></th>\n",
       "      <th>date</th>\n",
       "      <th>revenue</th>\n",
       "      <th>orders</th>\n",
       "      <th>visitors</th>\n",
       "    </tr>\n",
       "  </thead>\n",
       "  <tbody>\n",
       "    <tr>\n",
       "      <th>1</th>\n",
       "      <td>2019-08-01</td>\n",
       "      <td>59758.0</td>\n",
       "      <td>17</td>\n",
       "      <td>713.0</td>\n",
       "    </tr>\n",
       "    <tr>\n",
       "      <th>3</th>\n",
       "      <td>2019-08-02</td>\n",
       "      <td>221801.0</td>\n",
       "      <td>40</td>\n",
       "      <td>1294.0</td>\n",
       "    </tr>\n",
       "    <tr>\n",
       "      <th>5</th>\n",
       "      <td>2019-08-03</td>\n",
       "      <td>288850.0</td>\n",
       "      <td>54</td>\n",
       "      <td>1803.0</td>\n",
       "    </tr>\n",
       "    <tr>\n",
       "      <th>7</th>\n",
       "      <td>2019-08-04</td>\n",
       "      <td>385740.0</td>\n",
       "      <td>68</td>\n",
       "      <td>2573.0</td>\n",
       "    </tr>\n",
       "    <tr>\n",
       "      <th>9</th>\n",
       "      <td>2019-08-05</td>\n",
       "      <td>475648.0</td>\n",
       "      <td>89</td>\n",
       "      <td>3280.0</td>\n",
       "    </tr>\n",
       "    <tr>\n",
       "      <th>11</th>\n",
       "      <td>2019-08-06</td>\n",
       "      <td>690490.0</td>\n",
       "      <td>112</td>\n",
       "      <td>3935.0</td>\n",
       "    </tr>\n",
       "    <tr>\n",
       "      <th>13</th>\n",
       "      <td>2019-08-07</td>\n",
       "      <td>909654.0</td>\n",
       "      <td>135</td>\n",
       "      <td>4644.0</td>\n",
       "    </tr>\n",
       "    <tr>\n",
       "      <th>15</th>\n",
       "      <td>2019-08-08</td>\n",
       "      <td>1059795.0</td>\n",
       "      <td>157</td>\n",
       "      <td>5298.0</td>\n",
       "    </tr>\n",
       "    <tr>\n",
       "      <th>17</th>\n",
       "      <td>2019-08-09</td>\n",
       "      <td>1162961.0</td>\n",
       "      <td>176</td>\n",
       "      <td>5908.0</td>\n",
       "    </tr>\n",
       "    <tr>\n",
       "      <th>19</th>\n",
       "      <td>2019-08-10</td>\n",
       "      <td>1268123.0</td>\n",
       "      <td>198</td>\n",
       "      <td>6277.0</td>\n",
       "    </tr>\n",
       "    <tr>\n",
       "      <th>21</th>\n",
       "      <td>2019-08-11</td>\n",
       "      <td>1321183.0</td>\n",
       "      <td>210</td>\n",
       "      <td>6998.0</td>\n",
       "    </tr>\n",
       "    <tr>\n",
       "      <th>23</th>\n",
       "      <td>2019-08-12</td>\n",
       "      <td>1425237.0</td>\n",
       "      <td>229</td>\n",
       "      <td>7541.0</td>\n",
       "    </tr>\n",
       "    <tr>\n",
       "      <th>25</th>\n",
       "      <td>2019-08-13</td>\n",
       "      <td>1542928.0</td>\n",
       "      <td>249</td>\n",
       "      <td>8310.0</td>\n",
       "    </tr>\n",
       "    <tr>\n",
       "      <th>27</th>\n",
       "      <td>2019-08-14</td>\n",
       "      <td>1650268.0</td>\n",
       "      <td>263</td>\n",
       "      <td>9056.0</td>\n",
       "    </tr>\n",
       "    <tr>\n",
       "      <th>29</th>\n",
       "      <td>2019-08-15</td>\n",
       "      <td>1960427.0</td>\n",
       "      <td>289</td>\n",
       "      <td>9600.0</td>\n",
       "    </tr>\n",
       "    <tr>\n",
       "      <th>31</th>\n",
       "      <td>2019-08-16</td>\n",
       "      <td>2074677.0</td>\n",
       "      <td>307</td>\n",
       "      <td>10013.0</td>\n",
       "    </tr>\n",
       "    <tr>\n",
       "      <th>33</th>\n",
       "      <td>2019-08-17</td>\n",
       "      <td>2155542.0</td>\n",
       "      <td>320</td>\n",
       "      <td>10434.0</td>\n",
       "    </tr>\n",
       "    <tr>\n",
       "      <th>35</th>\n",
       "      <td>2019-08-18</td>\n",
       "      <td>2190865.0</td>\n",
       "      <td>327</td>\n",
       "      <td>11171.0</td>\n",
       "    </tr>\n",
       "    <tr>\n",
       "      <th>37</th>\n",
       "      <td>2019-08-19</td>\n",
       "      <td>3620785.0</td>\n",
       "      <td>348</td>\n",
       "      <td>11658.0</td>\n",
       "    </tr>\n",
       "    <tr>\n",
       "      <th>39</th>\n",
       "      <td>2019-08-20</td>\n",
       "      <td>3768059.0</td>\n",
       "      <td>368</td>\n",
       "      <td>12218.0</td>\n",
       "    </tr>\n",
       "    <tr>\n",
       "      <th>41</th>\n",
       "      <td>2019-08-21</td>\n",
       "      <td>3908406.0</td>\n",
       "      <td>380</td>\n",
       "      <td>12874.0</td>\n",
       "    </tr>\n",
       "    <tr>\n",
       "      <th>43</th>\n",
       "      <td>2019-08-22</td>\n",
       "      <td>4050134.0</td>\n",
       "      <td>401</td>\n",
       "      <td>13524.0</td>\n",
       "    </tr>\n",
       "    <tr>\n",
       "      <th>45</th>\n",
       "      <td>2019-08-23</td>\n",
       "      <td>4127403.0</td>\n",
       "      <td>414</td>\n",
       "      <td>14070.0</td>\n",
       "    </tr>\n",
       "    <tr>\n",
       "      <th>47</th>\n",
       "      <td>2019-08-24</td>\n",
       "      <td>4215269.0</td>\n",
       "      <td>428</td>\n",
       "      <td>14448.0</td>\n",
       "    </tr>\n",
       "    <tr>\n",
       "      <th>49</th>\n",
       "      <td>2019-08-25</td>\n",
       "      <td>4294526.0</td>\n",
       "      <td>440</td>\n",
       "      <td>15127.0</td>\n",
       "    </tr>\n",
       "    <tr>\n",
       "      <th>51</th>\n",
       "      <td>2019-08-26</td>\n",
       "      <td>4467965.0</td>\n",
       "      <td>462</td>\n",
       "      <td>15803.0</td>\n",
       "    </tr>\n",
       "    <tr>\n",
       "      <th>53</th>\n",
       "      <td>2019-08-27</td>\n",
       "      <td>4579312.0</td>\n",
       "      <td>473</td>\n",
       "      <td>16523.0</td>\n",
       "    </tr>\n",
       "    <tr>\n",
       "      <th>55</th>\n",
       "      <td>2019-08-28</td>\n",
       "      <td>4640510.0</td>\n",
       "      <td>495</td>\n",
       "      <td>17177.0</td>\n",
       "    </tr>\n",
       "    <tr>\n",
       "      <th>57</th>\n",
       "      <td>2019-08-29</td>\n",
       "      <td>4746610.0</td>\n",
       "      <td>510</td>\n",
       "      <td>17708.0</td>\n",
       "    </tr>\n",
       "    <tr>\n",
       "      <th>59</th>\n",
       "      <td>2019-08-30</td>\n",
       "      <td>4955833.0</td>\n",
       "      <td>531</td>\n",
       "      <td>18198.0</td>\n",
       "    </tr>\n",
       "    <tr>\n",
       "      <th>61</th>\n",
       "      <td>2019-08-31</td>\n",
       "      <td>5068972.0</td>\n",
       "      <td>548</td>\n",
       "      <td>18916.0</td>\n",
       "    </tr>\n",
       "  </tbody>\n",
       "</table>\n",
       "</div>"
      ],
      "text/plain": [
       "         date    revenue  orders  visitors\n",
       "1  2019-08-01    59758.0      17     713.0\n",
       "3  2019-08-02   221801.0      40    1294.0\n",
       "5  2019-08-03   288850.0      54    1803.0\n",
       "7  2019-08-04   385740.0      68    2573.0\n",
       "9  2019-08-05   475648.0      89    3280.0\n",
       "11 2019-08-06   690490.0     112    3935.0\n",
       "13 2019-08-07   909654.0     135    4644.0\n",
       "15 2019-08-08  1059795.0     157    5298.0\n",
       "17 2019-08-09  1162961.0     176    5908.0\n",
       "19 2019-08-10  1268123.0     198    6277.0\n",
       "21 2019-08-11  1321183.0     210    6998.0\n",
       "23 2019-08-12  1425237.0     229    7541.0\n",
       "25 2019-08-13  1542928.0     249    8310.0\n",
       "27 2019-08-14  1650268.0     263    9056.0\n",
       "29 2019-08-15  1960427.0     289    9600.0\n",
       "31 2019-08-16  2074677.0     307   10013.0\n",
       "33 2019-08-17  2155542.0     320   10434.0\n",
       "35 2019-08-18  2190865.0     327   11171.0\n",
       "37 2019-08-19  3620785.0     348   11658.0\n",
       "39 2019-08-20  3768059.0     368   12218.0\n",
       "41 2019-08-21  3908406.0     380   12874.0\n",
       "43 2019-08-22  4050134.0     401   13524.0\n",
       "45 2019-08-23  4127403.0     414   14070.0\n",
       "47 2019-08-24  4215269.0     428   14448.0\n",
       "49 2019-08-25  4294526.0     440   15127.0\n",
       "51 2019-08-26  4467965.0     462   15803.0\n",
       "53 2019-08-27  4579312.0     473   16523.0\n",
       "55 2019-08-28  4640510.0     495   17177.0\n",
       "57 2019-08-29  4746610.0     510   17708.0\n",
       "59 2019-08-30  4955833.0     531   18198.0\n",
       "61 2019-08-31  5068972.0     548   18916.0"
      ]
     },
     "metadata": {},
     "output_type": "display_data"
    }
   ],
   "source": [
    "cumulativeRevenueA = cumulativeData[cumulativeData['group']=='A'][['date','revenue', 'orders','visitors']]\n",
    "cumulativeRevenueB = cumulativeData[cumulativeData['group']=='B'][['date','revenue', 'orders','visitors']]\n",
    "display(cumulativeRevenueA)\n",
    "display(cumulativeRevenueB)"
   ]
  },
  {
   "cell_type": "markdown",
   "metadata": {},
   "source": [
    "### График кумулятивной выручки по группам\n",
    "\n",
    "Построив график кумулятивной выручки по группам мы видим следующее. В начале экспериманта обе группы имели схожие данные. Затем группа В не на долго вырвалась вперед. В какойто момент группа А сровнялась с группой В. Но затем Группа В сделала резкий скачек и дальше продолжила плавный рост. Группа А же растет весь период достаточно плавно. \n",
    "\n",
    "Можно предполажить что имеют влияние чеки с аномально большими суммами, что и могло привести к таким результатам."
   ]
  },
  {
   "cell_type": "code",
   "execution_count": 9,
   "metadata": {
    "scrolled": true
   },
   "outputs": [
    {
     "data": {
      "image/png": "[encoded data removed]",
      "text/plain": [
       "<Figure size 1440x720 with 1 Axes>"
      ]
     },
     "metadata": {
      "needs_background": "light"
     },
     "output_type": "display_data"
    }
   ],
   "source": [
    "plt.figure(figsize=(20,10))\n",
    "plt.plot(cumulativeRevenueA['date'], cumulativeRevenueA['revenue'], label='A')\n",
    "plt.plot(cumulativeRevenueB['date'], cumulativeRevenueB['revenue'], label='B')\n",
    "plt.legend() \n",
    "plt.xlabel('дата')\n",
    "plt.ylabel('выручка')\n",
    "plt.title('Кумулятивная выручка по группам')\n",
    "plt.show()"
   ]
  },
  {
   "cell_type": "markdown",
   "metadata": {},
   "source": [
    "### График кумулятивного среднего чека по группам\n",
    "\n",
    "Судя по графику кумулятивный средний чек по группе В продолжает колебаться, имеет резкие скачки, а в дальнейшем медленный спад. Группа А более стабильна. Если в начале мы видим колебания, то в дальнейшем был небольшой провал и затем плавный рост. Но делать какие либо выводы пока рано."
   ]
  },
  {
   "cell_type": "code",
   "execution_count": 10,
   "metadata": {},
   "outputs": [
    {
     "data": {
      "image/png": "[encoded data removed]",
      "text/plain": [
       "<Figure size 1440x720 with 1 Axes>"
      ]
     },
     "metadata": {
      "needs_background": "light"
     },
     "output_type": "display_data"
    }
   ],
   "source": [
    "plt.figure(figsize=(20,10))\n",
    "plt.plot(cumulativeRevenueA['date'], cumulativeRevenueA['revenue']/cumulativeRevenueA['orders'], label='A')\n",
    "plt.plot(cumulativeRevenueB['date'], cumulativeRevenueB['revenue']/cumulativeRevenueB['orders'], label='B')\n",
    "plt.legend() \n",
    "plt.xlabel('дата')\n",
    "plt.ylabel('средний чек')\n",
    "plt.title('Кумулятивный средний чек по группам')\n",
    "plt.show()"
   ]
  },
  {
   "cell_type": "markdown",
   "metadata": {},
   "source": [
    "### График относительного изменения кумулятивного среднего чека группы B к группе A\n",
    "\n",
    "На графике хорошо видно что в определенные даты проведения эксперимента были значительные и резкие изменения. Возможно именно в эти даты были совершены покупки на большие чеки."
   ]
  },
  {
   "cell_type": "code",
   "execution_count": 11,
   "metadata": {},
   "outputs": [
    {
     "data": {
      "image/png": "[encoded data removed]",
      "text/plain": [
       "<Figure size 1440x720 with 1 Axes>"
      ]
     },
     "metadata": {
      "needs_background": "light"
     },
     "output_type": "display_data"
    }
   ],
   "source": [
    "mergedCumulativeRevenue = cumulativeRevenueA.merge(cumulativeRevenueB, left_on='date', right_on='date', how='left', suffixes=['A', 'B'])\n",
    "plt.figure(figsize=(20,10))\n",
    "plt.plot(mergedCumulativeRevenue['date'], (mergedCumulativeRevenue['revenueB']/mergedCumulativeRevenue['ordersB'])/(mergedCumulativeRevenue['revenueA']/mergedCumulativeRevenue['ordersA'])-1)\n",
    "plt.axhline(y=0, color='black', linestyle='--') \n",
    "plt.xlabel('дата')\n",
    "plt.ylabel('относительное изменение')\n",
    "plt.title('Изменения кумулятивного среднего чека группы B к группе A')\n",
    "plt.show()"
   ]
  },
  {
   "cell_type": "markdown",
   "metadata": {},
   "source": [
    "### График кумулятивного среднего количества заказов на посетителя по группам\n",
    "\n",
    "На графике видно что в начале эксперимента был скачек количества заказов на посетителя в обеих группах. При этом группа А имела более высокий показатель. Но затем в обеих группах произошел резкий спад. При этом среднее количество заказов на посетителя в группе А продолжает снижаться. В то время как среднее количество заказов на посетителя в группе В снова имело резкий рост и имеет стабильно более высокий показатель чем группа А."
   ]
  },
  {
   "cell_type": "code",
   "execution_count": 12,
   "metadata": {},
   "outputs": [
    {
     "data": {
      "image/png": "[encoded data removed]",
      "text/plain": [
       "<Figure size 1440x720 with 1 Axes>"
      ]
     },
     "metadata": {
      "needs_background": "light"
     },
     "output_type": "display_data"
    }
   ],
   "source": [
    "plt.figure(figsize=(20,10))\n",
    "plt.plot(cumulativeRevenueA['date'], cumulativeRevenueA['orders']/cumulativeRevenueA['visitors'], label='A')\n",
    "plt.plot(cumulativeRevenueB['date'], cumulativeRevenueB['orders']/cumulativeRevenueB['visitors'], label='B')\n",
    "plt.legend() \n",
    "plt.xlabel('дата')\n",
    "plt.ylabel('среднее кол-во заказов на посетителя')\n",
    "plt.title('Кумулятивное среднее количество заказов на посетителя по группам')\n",
    "plt.show()"
   ]
  },
  {
   "cell_type": "markdown",
   "metadata": {},
   "source": [
    "### График относительного изменения кумулятивного среднего количества заказов на посетителя группы B к группе A\n",
    "\n",
    "Мы видим что среднее количество заказов на посетителя группы В почти с самого начала эксперимента выше среднее количество заказов на посетителя в группе А. В определенные моменты различия достигали 20%, затем конверсия в группе В немного просела, но осталась выше чем в группе А."
   ]
  },
  {
   "cell_type": "code",
   "execution_count": 13,
   "metadata": {},
   "outputs": [
    {
     "data": {
      "image/png": "[encoded data removed]",
      "text/plain": [
       "<Figure size 1440x720 with 1 Axes>"
      ]
     },
     "metadata": {
      "needs_background": "light"
     },
     "output_type": "display_data"
    }
   ],
   "source": [
    "mergedCumulativeRevenue = cumulativeRevenueA.merge(cumulativeRevenueB, left_on='date', right_on='date', how='left', suffixes=['A', 'B'])\n",
    "plt.figure(figsize=(20,10))\n",
    "plt.plot(mergedCumulativeRevenue['date'], (mergedCumulativeRevenue['ordersB']/mergedCumulativeRevenue['visitorsB'])/(mergedCumulativeRevenue['ordersA']/mergedCumulativeRevenue['visitorsA'])-1)\n",
    "plt.axhline(y=0, color='black', linestyle='--') \n",
    "plt.xlabel('дата')\n",
    "plt.ylabel('относительное изменене')\n",
    "plt.title('Относительное изменение кумулятивного среднего количества заказов на посетителя группы B к группе A')\n",
    "plt.show()"
   ]
  },
  {
   "cell_type": "markdown",
   "metadata": {},
   "source": [
    "### Точечный график количества заказов по пользователям\n",
    "\n",
    " На точечном графике мы видим, что пользователей сделавших болек 2-х заказов совскм не много. "
   ]
  },
  {
   "cell_type": "code",
   "execution_count": 14,
   "metadata": {},
   "outputs": [
    {
     "name": "stdout",
     "output_type": "stream",
     "text": [
      "      visitorId  orders\n",
      "908  3967698036       3\n",
      "55    249864742       3\n",
      "478  2108163459       3\n",
      "687  2988190573       3\n",
      "890  3908431265       3\n",
      "138   611059232       3\n",
      "632  2742574263       3\n",
      "157   678354126       2\n",
      "323  1404560065       2\n",
      "452  1985475298       2\n"
     ]
    },
    {
     "data": {
      "image/png": "[encoded data removed]",
      "text/plain": [
       "<Figure size 432x288 with 1 Axes>"
      ]
     },
     "metadata": {
      "needs_background": "light"
     },
     "output_type": "display_data"
    }
   ],
   "source": [
    "ordersByUsers = (\n",
    "    orders.groupby('visitorId', as_index=False)\n",
    "    .agg({'transactionId': 'nunique'}))\n",
    "ordersByUsers.columns = ['visitorId', 'orders']\n",
    "print(ordersByUsers.sort_values(by='orders', ascending=False).head(10))\n",
    "x_values = pd.Series(range(0, len(ordersByUsers)))\n",
    "plt.scatter(x_values, ordersByUsers['orders']) \n",
    "plt.title('Точечный график количества заказов по пользователям')\n",
    "plt.show()"
   ]
  },
  {
   "cell_type": "markdown",
   "metadata": {},
   "source": [
    "### 95-й и 99-й перцентили количества заказов на пользователя\n",
    "\n",
    "Посчитав перцентиль мы видим что не более 5% пользователей совершили больше 2 заказов. И не больше 1% пользователей совершили более 4 заказов. За границу для фильтра аномалий примим количество заказов более 2."
   ]
  },
  {
   "cell_type": "code",
   "execution_count": 15,
   "metadata": {},
   "outputs": [
    {
     "name": "stdout",
     "output_type": "stream",
     "text": [
      "[1. 2.]\n"
     ]
    }
   ],
   "source": [
    "print(np.percentile(ordersByUsers['orders'], [95, 99])) "
   ]
  },
  {
   "cell_type": "markdown",
   "metadata": {},
   "source": [
    "### Точечный график стоимостей заказов\n",
    "\n",
    "Мы видим что большая часть чеков не превышала суммой 20000 рублей. Но так же мы можем заметить выбросы на сумму свыше 120000 рублей."
   ]
  },
  {
   "cell_type": "code",
   "execution_count": 16,
   "metadata": {},
   "outputs": [
    {
     "data": {
      "image/png": "[encoded data removed]",
      "text/plain": [
       "<Figure size 432x288 with 1 Axes>"
      ]
     },
     "metadata": {
      "needs_background": "light"
     },
     "output_type": "display_data"
    }
   ],
   "source": [
    "x_values = pd.Series(range(0, len(orders['revenue'])))\n",
    "plt.scatter(x_values, orders['revenue'])\n",
    "plt.title('Точечный график стоимости заказов')\n",
    "plt.show()"
   ]
  },
  {
   "cell_type": "markdown",
   "metadata": {},
   "source": [
    "### 95-й и 99-й перцентили стоимости заказов\n",
    "\n",
    "Посчитав процентили мы видим что не более 5% чеков оформлены на сумму более 28000 рублей. И не более 1% на сумму Более 58233 рублей. За границу для фильтра аномалий примем стоимость заказов свыше 28000 рублей"
   ]
  },
  {
   "cell_type": "code",
   "execution_count": 17,
   "metadata": {},
   "outputs": [
    {
     "name": "stdout",
     "output_type": "stream",
     "text": [
      "[26785. 53904.]\n"
     ]
    }
   ],
   "source": [
    "print(np.percentile(orders['revenue'], [95, 99]))"
   ]
  },
  {
   "cell_type": "markdown",
   "metadata": {},
   "source": [
    "Гипотезы:\n",
    "\n",
    "Нулевая:среднее количества заказов на пользователя в группе А по \"сырым\" = среднему количеству заказов на посетителя в группе В по \"сырым\" данным и средний чек в группе А по \"сырым\" данным = среднему чеку в группе В по \"сырым\" данным;\n",
    "\n",
    "Альтернативная: среднее количество заказов на пользователя в группе А по \"сырым\" данным != среднего количества заказов на пользователя в группе В по \"сырым\" данным и средний чек в группе А по \"сырым\" != среднего чека в группе В по \"сырым\" данным;\n",
    "\n",
    "Статистический критерий: Так как в данных имеются большие выбросы, алгебраические метрики работают плохо, так как даже одно выбивающееся значение существенно влияет на результат. Поэтому мы воспользуемся непараметрическим тестом Манна-Уитни."
   ]
  },
  {
   "cell_type": "markdown",
   "metadata": {},
   "source": [
    "### Статистическая значимость различий в среднем количестве заказов на посетителя между группами по «сырым» данным\n",
    "\n",
    "Мы видим что Р-value меньше 0.05. Но прежде чем делать выводы посмотрим другие показатели. Анализ сырых данных показал, что среднее количество заказов между группами есть статистически значимое различие. Относительный прирост среднего группы В к группе А равен 13,8%."
   ]
  },
  {
   "cell_type": "code",
   "execution_count": 18,
   "metadata": {},
   "outputs": [
    {
     "name": "stdout",
     "output_type": "stream",
     "text": [
      "p-value: 0.01102\n",
      "относительная разница: 0.00000\n"
     ]
    }
   ],
   "source": [
    "ordersByUsersA = (\n",
    "    orders[orders['group'] == 'A']\n",
    "    .groupby('visitorId', as_index=False)\n",
    "    .agg({'transactionId': pd.Series.nunique})\n",
    ")\n",
    "ordersByUsersA.columns = ['userId', 'orders']\n",
    "\n",
    "ordersByUsersB = (\n",
    "    orders[orders['group'] == 'B']\n",
    "    .groupby('visitorId', as_index=False)\n",
    "    .agg({'transactionId': pd.Series.nunique})\n",
    ")\n",
    "ordersByUsersB.columns = ['userId', 'orders'] \n",
    "pd.Series(0, index=np.arange(visitors[visitors['group'] == 'A']['visitors'].sum() - len(ordersByUsersA['orders'])), name='orders')\n",
    "[ordersByUsersA['orders'],pd.Series(0, index=np.arange(visitors[visitors['group'] == 'A']['visitors'].sum() - len(ordersByUsersA['orders'])), name='orders')] \n",
    "sampleA = pd.concat([ordersByUsersA['orders'],pd.Series(0, index=np.arange(visitors[visitors['group'] == 'A']['visitors'].sum() - len(ordersByUsersA['orders'])), name='orders')],axis=0)\n",
    "\n",
    "sampleB = pd.concat([ordersByUsersB['orders'],pd.Series(0, index=np.arange(visitors[visitors['group'] == 'B']['visitors'].sum() - len(ordersByUsersB['orders'])), name='orders')],axis=0)\n",
    "ordersByUsersA = (\n",
    "    orders[orders['group'] == 'A']\n",
    "    .groupby('visitorId', as_index=False)\n",
    "    .agg({'transactionId': pd.Series.nunique})\n",
    ")\n",
    "ordersByUsersA.columns = ['userId', 'orders']\n",
    "\n",
    "ordersByUsersB = (\n",
    "    orders[orders['group'] == 'B']\n",
    "    .groupby('visitorId', as_index=False)\n",
    "    .agg({'transactionId': pd.Series.nunique})\n",
    ")\n",
    "ordersByUsersB.columns = ['userId', 'orders']\n",
    "\n",
    "sampleA = pd.concat(\n",
    "    [\n",
    "        ordersByUsersA['orders'],\n",
    "        pd.Series(\n",
    "            0,\n",
    "            index=np.arange(\n",
    "                visitors[visitors['group'] == 'A']['visitors'].sum() - len(ordersByUsersA['orders'])\n",
    "            ),\n",
    "            name='orders',\n",
    "        ),\n",
    "    ],\n",
    "    axis=0,\n",
    ")\n",
    "\n",
    "sampleB = pd.concat(\n",
    "    [\n",
    "        ordersByUsersB['orders'],\n",
    "        pd.Series(\n",
    "            0,\n",
    "            index=np.arange(\n",
    "                visitors[visitors['group'] == 'B']['visitors'].sum() - len(ordersByUsersB['orders'])\n",
    "            ),\n",
    "            name='orders',\n",
    "        ),\n",
    "    ],\n",
    "    axis=0,\n",
    ")\n",
    "\n",
    "print('p-value:',\"{0:.5f}\".format(st.mannwhitneyu(sampleA, sampleB)[1]))\n",
    "\n",
    "print('относительная разница:',\"{0:.5f}\".format((visitors[visitors['group'] == 'B']['visitors'].sum()/visitors[visitors['group'] == 'B']['visitors'].sum())/(visitors[visitors['group'] == 'A']['visitors'].sum()/visitors[visitors['group'] == 'A']['visitors'].sum())-1))"
   ]
  },
  {
   "cell_type": "markdown",
   "metadata": {},
   "source": [
    "### Статистическая значимость различий в среднем чеке заказа между группами по «сырым» данным\n",
    "\n",
    "P-value больше 0.05, статически значимых различий между средними чеками нет. Относительное различие среднего чека 28,7%"
   ]
  },
  {
   "cell_type": "code",
   "execution_count": 19,
   "metadata": {},
   "outputs": [
    {
     "name": "stdout",
     "output_type": "stream",
     "text": [
      "p-value: 0.829\n",
      "относительная разница: 0.287\n"
     ]
    }
   ],
   "source": [
    "print('p-value:','{0:.3f}'.format(st.mannwhitneyu(orders[orders['group']=='A']['revenue'], orders[orders['group']=='B']['revenue'])[1]))\n",
    "print('относительная разница:','{0:.3f}'.format(orders[orders['group']=='B']['revenue'].mean()/orders[orders['group']=='A']['revenue'].mean()-1)) "
   ]
  },
  {
   "cell_type": "markdown",
   "metadata": {},
   "source": [
    "### Статистическая значимость различий в среднем количестве заказов на посетителя между группами по «очищенным» данным\n",
    "\n",
    " Как и в случае с сырыми данными статистическая значимость достигнута. Группа В лучше группы А по среднему количеству заказов на посетителя."
   ]
  },
  {
   "cell_type": "code",
   "execution_count": 20,
   "metadata": {},
   "outputs": [],
   "source": [
    "ordersByUsersA = (\n",
    "    orders[orders['group'] == 'A']\n",
    "    .groupby('visitorId', as_index=False)\n",
    "    .agg({'transactionId': pd.Series.nunique})\n",
    ")\n",
    "ordersByUsersA.columns = ['visitorId', 'orders']\n",
    "\n",
    "ordersByUsersB = (\n",
    "    orders[orders['group'] == 'B']\n",
    "    .groupby('visitorId', as_index=False)\n",
    "    .agg({'transactionId': pd.Series.nunique})\n",
    ")\n",
    "ordersByUsersB.columns = ['visitorId', 'orders']\n",
    "usersWithManyOrders = pd.concat(\n",
    "    [\n",
    "        ordersByUsersA[ordersByUsersA['orders'] > 2]['visitorId'],\n",
    "        ordersByUsersB[ordersByUsersB['orders'] > 2]['visitorId'],\n",
    "    ],\n",
    "    axis=0,\n",
    ")\n",
    "usersWithExpensiveOrders = orders[orders['revenue'] > 28000]['visitorId']\n",
    "abnormalUsers = (\n",
    "    pd.concat([usersWithManyOrders, usersWithExpensiveOrders], axis=0)\n",
    "    .drop_duplicates()\n",
    "    .sort_values()\n",
    ")"
   ]
  },
  {
   "cell_type": "markdown",
   "metadata": {},
   "source": [
    "Абсолютные потери составили 55 пользователя.\n",
    "\n",
    "Относительные потери -  0.05653."
   ]
  },
  {
   "cell_type": "code",
   "execution_count": 21,
   "metadata": {},
   "outputs": [
    {
     "name": "stdout",
     "output_type": "stream",
     "text": [
      "55\n",
      "973\n",
      "0.05653\n"
     ]
    }
   ],
   "source": [
    "print(abnormalUsers.nunique())\n",
    "orders1=orders['visitorId']\n",
    "print(orders1.nunique())\n",
    "print(round((abnormalUsers.nunique()/orders1.nunique()),5))"
   ]
  },
  {
   "cell_type": "code",
   "execution_count": 22,
   "metadata": {},
   "outputs": [
    {
     "name": "stdout",
     "output_type": "stream",
     "text": [
      "p-value: 0.00945\n",
      "относительная разница: 0.189\n"
     ]
    }
   ],
   "source": [
    "sampleAFiltered = pd.concat(\n",
    "    [\n",
    "        ordersByUsersA[\n",
    "            np.logical_not(ordersByUsersA['visitorId'].isin(abnormalUsers))\n",
    "        ]['orders'],\n",
    "        pd.Series(\n",
    "            0,\n",
    "            index=np.arange(\n",
    "                visitors[visitors['group'] == 'A']['visitors'].sum()- len(ordersByUsersA['orders'])\n",
    "            ),\n",
    "            name='orders',\n",
    "        ),\n",
    "    ],\n",
    "    axis=0,\n",
    ")\n",
    "\n",
    "sampleBFiltered = pd.concat(\n",
    "    [\n",
    "        ordersByUsersB[\n",
    "            np.logical_not(ordersByUsersB['visitorId'].isin(abnormalUsers))\n",
    "        ]['orders'],\n",
    "        pd.Series(\n",
    "            0,\n",
    "            index=np.arange(\n",
    "                visitors[visitors['group'] == 'B']['visitors'].sum() - len(ordersByUsersB['orders'])\n",
    "            ),\n",
    "            name='orders',\n",
    "        ),\n",
    "    ],\n",
    "    axis=0,\n",
    ") \n",
    "print('p-value:','{0:.5f}'.format(st.mannwhitneyu(sampleAFiltered, sampleBFiltered)[1]))\n",
    "print('относительная разница:','{0:.3f}'.format(sampleBFiltered.mean()/sampleAFiltered.mean()-1)) "
   ]
  },
  {
   "cell_type": "markdown",
   "metadata": {},
   "source": [
    "Гипотезы:\n",
    "\n",
    "Нулевая:среднее количества заказов на пользователя в группе А по \"очищенным\" данным = среднему количеству заказов на посетителя в группе В по \"очищенным\" данным и средний чек в группе А по \"очищенным\" данным = среднему чеку в группе В по \"очищенным\" данным;\n",
    "\n",
    "Альтернативная: среднее количество заказов на пользователя в группе А по \"очищенным\" данным != среднего количества заказов на пользователя в группе В по \"очищенным\" данным и средний чек в группе А по \"очищенным\" != среднего чека в группе В по \"очищенным\" данным;"
   ]
  },
  {
   "cell_type": "markdown",
   "metadata": {},
   "source": [
    "### Статистическая значимость различий в среднем чеке заказа между группами по «очищенным» данным\n",
    "\n",
    "Появилась статистическая значимость между группами В и А по среднему чеку."
   ]
  },
  {
   "cell_type": "code",
   "execution_count": 23,
   "metadata": {},
   "outputs": [
    {
     "name": "stdout",
     "output_type": "stream",
     "text": [
      "p-value:0.762\n",
      "относительная разница: -0.022\n"
     ]
    }
   ],
   "source": [
    "print('p-value:'\n",
    "    '{0:.3f}'.format(\n",
    "        st.mannwhitneyu(\n",
    "            orders[\n",
    "                np.logical_and(\n",
    "                    orders['group'] == 'A',\n",
    "                    np.logical_not(orders['visitorId'].isin(abnormalUsers)),\n",
    "                )\n",
    "            ]['revenue'],\n",
    "            orders[\n",
    "                np.logical_and(\n",
    "                    orders['group'] == 'B',\n",
    "                    np.logical_not(orders['visitorId'].isin(abnormalUsers)),\n",
    "                )\n",
    "            ]['revenue'],\n",
    "        )[1]\n",
    "    )\n",
    ")\n",
    "\n",
    "print('относительная разница:',\n",
    "    \"{0:.3f}\".format(\n",
    "        orders[\n",
    "            np.logical_and(\n",
    "                orders['group'] == 'B',\n",
    "                np.logical_not(orders['visitorId'].isin(abnormalUsers)),\n",
    "            )\n",
    "        ]['revenue'].mean()\n",
    "        / orders[\n",
    "            np.logical_and(\n",
    "                orders['group'] == 'A',\n",
    "                np.logical_not(orders['visitorId'].isin(abnormalUsers)),\n",
    "            )\n",
    "        ]['revenue'].mean()\n",
    "        - 1\n",
    "    )\n",
    ") "
   ]
  },
  {
   "cell_type": "markdown",
   "metadata": {},
   "source": [
    "## Вывод:\n",
    "\n",
    "Остановить тест и признать победу группы В. Так как по результатам теста была достигнута статистическая значимость в показателях по среднему чеку и по среднему количеству покупок на посетителя."
   ]
  }
 ],
 "metadata": {
  "ExecuteTimeLog": [
   {
    "duration": 846,
    "start_time": "2023-02-22T15:02:08.581Z"
   },
   {
    "duration": 98,
    "start_time": "2023-02-22T15:03:05.868Z"
   },
   {
    "duration": 102,
    "start_time": "2023-02-22T15:03:11.393Z"
   },
   {
    "duration": 7,
    "start_time": "2023-02-22T15:07:26.273Z"
   },
   {
    "duration": 92,
    "start_time": "2023-02-22T15:08:03.573Z"
   },
   {
    "duration": 14,
    "start_time": "2023-02-22T15:08:48.616Z"
   },
   {
    "duration": 12,
    "start_time": "2023-02-22T15:08:52.272Z"
   },
   {
    "duration": 11,
    "start_time": "2023-02-22T15:09:24.615Z"
   },
   {
    "duration": 12,
    "start_time": "2023-02-22T15:16:15.757Z"
   },
   {
    "duration": 5,
    "start_time": "2023-02-22T15:18:19.203Z"
   },
   {
    "duration": 1143,
    "start_time": "2023-02-22T15:18:23.402Z"
   },
   {
    "duration": 13,
    "start_time": "2023-02-22T15:18:58.640Z"
   },
   {
    "duration": 11,
    "start_time": "2023-02-22T15:19:20.332Z"
   },
   {
    "duration": 3,
    "start_time": "2023-02-22T15:28:38.335Z"
   },
   {
    "duration": 30,
    "start_time": "2023-02-22T15:28:56.376Z"
   },
   {
    "duration": 11,
    "start_time": "2023-02-22T15:32:43.945Z"
   },
   {
    "duration": 11,
    "start_time": "2023-02-22T15:32:44.788Z"
   },
   {
    "duration": 171,
    "start_time": "2023-02-22T15:37:34.267Z"
   },
   {
    "duration": 378,
    "start_time": "2023-02-22T15:45:26.732Z"
   },
   {
    "duration": 34,
    "start_time": "2023-02-22T15:45:27.423Z"
   },
   {
    "duration": 74,
    "start_time": "2023-02-22T15:45:27.831Z"
   },
   {
    "duration": 14,
    "start_time": "2023-02-22T15:45:28.249Z"
   },
   {
    "duration": 86,
    "start_time": "2023-02-22T15:45:28.838Z"
   },
   {
    "duration": 345,
    "start_time": "2023-02-22T15:47:17.945Z"
   },
   {
    "duration": 76,
    "start_time": "2023-02-22T15:47:39.958Z"
   },
   {
    "duration": 67,
    "start_time": "2023-02-22T15:47:52.665Z"
   },
   {
    "duration": 77,
    "start_time": "2023-02-22T15:48:10.273Z"
   },
   {
    "duration": 348,
    "start_time": "2023-02-22T15:48:33.052Z"
   },
   {
    "duration": 84,
    "start_time": "2023-02-22T15:48:45.918Z"
   },
   {
    "duration": 364,
    "start_time": "2023-02-22T15:50:01.054Z"
   },
   {
    "duration": 340,
    "start_time": "2023-02-22T15:50:50.642Z"
   },
   {
    "duration": 76,
    "start_time": "2023-02-22T15:51:07.665Z"
   },
   {
    "duration": 90,
    "start_time": "2023-02-22T15:51:19.722Z"
   },
   {
    "duration": 80,
    "start_time": "2023-02-22T15:51:34.866Z"
   },
   {
    "duration": 30,
    "start_time": "2023-02-22T15:54:20.157Z"
   },
   {
    "duration": 296,
    "start_time": "2023-02-22T15:55:59.057Z"
   },
   {
    "duration": 264,
    "start_time": "2023-02-22T15:56:36.543Z"
   },
   {
    "duration": 275,
    "start_time": "2023-02-22T16:04:57.221Z"
   },
   {
    "duration": 271,
    "start_time": "2023-02-22T16:08:07.692Z"
   },
   {
    "duration": 312,
    "start_time": "2023-02-22T16:10:41.452Z"
   },
   {
    "duration": 281,
    "start_time": "2023-02-22T16:12:21.190Z"
   },
   {
    "duration": 7,
    "start_time": "2023-02-22T16:12:38.734Z"
   },
   {
    "duration": 281,
    "start_time": "2023-02-22T16:12:39.902Z"
   },
   {
    "duration": 27,
    "start_time": "2023-02-22T16:14:09.522Z"
   },
   {
    "duration": 294,
    "start_time": "2023-02-22T16:18:52.289Z"
   },
   {
    "duration": 315,
    "start_time": "2023-02-22T16:20:15.047Z"
   },
   {
    "duration": 283,
    "start_time": "2023-02-22T16:23:31.162Z"
   },
   {
    "duration": 794,
    "start_time": "2023-02-24T11:57:11.633Z"
   },
   {
    "duration": 93,
    "start_time": "2023-02-24T11:57:12.429Z"
   },
   {
    "duration": 13,
    "start_time": "2023-02-24T11:57:12.914Z"
   },
   {
    "duration": 11,
    "start_time": "2023-02-24T11:57:13.333Z"
   },
   {
    "duration": 204,
    "start_time": "2023-02-24T11:57:14.055Z"
   },
   {
    "duration": 292,
    "start_time": "2023-02-24T11:57:15.011Z"
   },
   {
    "duration": 18,
    "start_time": "2023-02-24T11:57:15.436Z"
   },
   {
    "duration": 314,
    "start_time": "2023-02-24T11:57:16.344Z"
   },
   {
    "duration": 273,
    "start_time": "2023-02-24T11:57:17.715Z"
   },
   {
    "duration": 427,
    "start_time": "2023-02-24T11:58:49.189Z"
   },
   {
    "duration": 352,
    "start_time": "2023-02-24T11:59:47.836Z"
   },
   {
    "duration": 441,
    "start_time": "2023-02-24T12:05:47.533Z"
   },
   {
    "duration": 380,
    "start_time": "2023-02-24T12:06:35.336Z"
   },
   {
    "duration": 293,
    "start_time": "2023-02-24T12:06:36.945Z"
   },
   {
    "duration": 302,
    "start_time": "2023-02-24T12:10:29.090Z"
   },
   {
    "duration": 6,
    "start_time": "2023-02-24T12:10:59.135Z"
   },
   {
    "duration": 300,
    "start_time": "2023-02-24T12:11:12.387Z"
   },
   {
    "duration": 284,
    "start_time": "2023-02-24T12:12:36.446Z"
   },
   {
    "duration": 282,
    "start_time": "2023-02-24T12:12:55.561Z"
   },
   {
    "duration": 288,
    "start_time": "2023-02-24T12:17:28.947Z"
   },
   {
    "duration": 384,
    "start_time": "2023-02-24T12:18:28.453Z"
   },
   {
    "duration": 352,
    "start_time": "2023-02-24T12:19:19.733Z"
   },
   {
    "duration": 82,
    "start_time": "2023-02-24T12:19:33.612Z"
   },
   {
    "duration": 255,
    "start_time": "2023-02-24T12:19:35.534Z"
   },
   {
    "duration": 16,
    "start_time": "2023-02-24T12:19:36.002Z"
   },
   {
    "duration": 240,
    "start_time": "2023-02-24T12:19:36.468Z"
   },
   {
    "duration": 243,
    "start_time": "2023-02-24T12:19:36.842Z"
   },
   {
    "duration": 418,
    "start_time": "2023-02-24T12:19:37.370Z"
   },
   {
    "duration": 285,
    "start_time": "2023-02-24T12:19:37.790Z"
   },
   {
    "duration": 350,
    "start_time": "2023-02-24T12:21:32.840Z"
   },
   {
    "duration": 276,
    "start_time": "2023-02-24T12:22:30.733Z"
   },
   {
    "duration": 350,
    "start_time": "2023-02-24T12:24:57.077Z"
   },
   {
    "duration": 355,
    "start_time": "2023-02-24T12:26:44.280Z"
   },
   {
    "duration": 841,
    "start_time": "2023-02-28T10:09:18.732Z"
   },
   {
    "duration": 71,
    "start_time": "2023-02-28T10:09:19.575Z"
   },
   {
    "duration": 12,
    "start_time": "2023-02-28T10:09:19.648Z"
   },
   {
    "duration": 12,
    "start_time": "2023-02-28T10:09:19.884Z"
   },
   {
    "duration": 162,
    "start_time": "2023-02-28T10:09:20.409Z"
   },
   {
    "duration": 262,
    "start_time": "2023-02-28T10:09:20.943Z"
   },
   {
    "duration": 18,
    "start_time": "2023-02-28T10:09:21.282Z"
   },
   {
    "duration": 271,
    "start_time": "2023-02-28T10:09:21.628Z"
   },
   {
    "duration": 260,
    "start_time": "2023-02-28T10:09:22.184Z"
   },
   {
    "duration": 403,
    "start_time": "2023-02-28T10:09:22.574Z"
   },
   {
    "duration": 259,
    "start_time": "2023-02-28T10:09:23.010Z"
   },
   {
    "duration": 447,
    "start_time": "2023-02-28T10:09:23.795Z"
   },
   {
    "duration": 19,
    "start_time": "2023-02-28T10:18:51.689Z"
   },
   {
    "duration": 319,
    "start_time": "2023-02-28T10:20:32.758Z"
   },
   {
    "duration": 296,
    "start_time": "2023-02-28T10:24:53.131Z"
   },
   {
    "duration": 362,
    "start_time": "2023-02-28T10:27:21.684Z"
   },
   {
    "duration": 72,
    "start_time": "2023-02-28T10:30:59.173Z"
   },
   {
    "duration": 11,
    "start_time": "2023-02-28T10:33:42.997Z"
   },
   {
    "duration": 124,
    "start_time": "2023-02-28T10:34:56.628Z"
   },
   {
    "duration": 399,
    "start_time": "2023-02-28T10:36:46.853Z"
   },
   {
    "duration": 117,
    "start_time": "2023-02-28T10:36:48.076Z"
   },
   {
    "duration": 4,
    "start_time": "2023-02-28T10:38:04.861Z"
   },
   {
    "duration": 5,
    "start_time": "2023-02-28T10:40:31.809Z"
   },
   {
    "duration": 135,
    "start_time": "2023-02-28T10:42:20.686Z"
   },
   {
    "duration": 126,
    "start_time": "2023-02-28T10:44:34.063Z"
   },
   {
    "duration": 4,
    "start_time": "2023-02-28T10:45:24.022Z"
   },
   {
    "duration": 4,
    "start_time": "2023-02-28T10:48:02.714Z"
   },
   {
    "duration": 97,
    "start_time": "2023-02-28T10:53:31.803Z"
   },
   {
    "duration": 91,
    "start_time": "2023-02-28T10:54:50.937Z"
   },
   {
    "duration": 109,
    "start_time": "2023-02-28T10:55:16.261Z"
   },
   {
    "duration": 104,
    "start_time": "2023-02-28T10:55:28.474Z"
   },
   {
    "duration": 210,
    "start_time": "2023-02-28T10:56:22.199Z"
   },
   {
    "duration": 228,
    "start_time": "2023-02-28T10:57:21.420Z"
   },
   {
    "duration": 631,
    "start_time": "2023-02-28T11:00:15.192Z"
   },
   {
    "duration": 464,
    "start_time": "2023-02-28T11:04:25.538Z"
   },
   {
    "duration": 430,
    "start_time": "2023-02-28T11:05:10.754Z"
   },
   {
    "duration": 30,
    "start_time": "2023-02-28T11:05:11.550Z"
   },
   {
    "duration": 12,
    "start_time": "2023-02-28T11:05:11.965Z"
   },
   {
    "duration": 12,
    "start_time": "2023-02-28T11:05:12.391Z"
   },
   {
    "duration": 69,
    "start_time": "2023-02-28T11:05:13.021Z"
   },
   {
    "duration": 242,
    "start_time": "2023-02-28T11:05:13.683Z"
   },
   {
    "duration": 20,
    "start_time": "2023-02-28T11:05:14.157Z"
   },
   {
    "duration": 247,
    "start_time": "2023-02-28T11:05:14.615Z"
   },
   {
    "duration": 254,
    "start_time": "2023-02-28T11:05:15.013Z"
   },
   {
    "duration": 376,
    "start_time": "2023-02-28T11:05:15.489Z"
   },
   {
    "duration": 287,
    "start_time": "2023-02-28T11:05:15.968Z"
   },
   {
    "duration": 531,
    "start_time": "2023-02-28T11:05:16.435Z"
   },
   {
    "duration": 147,
    "start_time": "2023-02-28T11:05:16.969Z"
   },
   {
    "duration": 4,
    "start_time": "2023-02-28T11:05:17.761Z"
   },
   {
    "duration": 139,
    "start_time": "2023-02-28T11:05:18.440Z"
   },
   {
    "duration": 4,
    "start_time": "2023-02-28T11:05:18.982Z"
   },
   {
    "duration": 470,
    "start_time": "2023-02-28T11:05:19.712Z"
   },
   {
    "duration": 505,
    "start_time": "2023-02-28T11:10:46.927Z"
   },
   {
    "duration": 35,
    "start_time": "2023-02-28T11:12:32.420Z"
   },
   {
    "duration": 11,
    "start_time": "2023-02-28T11:12:39.069Z"
   },
   {
    "duration": 511,
    "start_time": "2023-02-28T11:15:04.922Z"
   },
   {
    "duration": 16,
    "start_time": "2023-02-28T11:15:06.107Z"
   },
   {
    "duration": 15,
    "start_time": "2023-02-28T11:18:12.205Z"
   },
   {
    "duration": 852,
    "start_time": "2023-02-28T11:18:47.183Z"
   },
   {
    "duration": 140,
    "start_time": "2023-02-28T11:20:33.838Z"
   },
   {
    "duration": 764,
    "start_time": "2023-02-28T11:21:43.477Z"
   },
   {
    "duration": 161,
    "start_time": "2023-02-28T11:22:06.819Z"
   },
   {
    "duration": 173,
    "start_time": "2023-02-28T11:22:12.752Z"
   },
   {
    "duration": 192,
    "start_time": "2023-02-28T11:23:27.686Z"
   },
   {
    "duration": 14,
    "start_time": "2023-02-28T11:25:22.550Z"
   },
   {
    "duration": 13,
    "start_time": "2023-02-28T11:26:43.899Z"
   },
   {
    "duration": 1117,
    "start_time": "2023-02-28T12:05:33.534Z"
   },
   {
    "duration": 35,
    "start_time": "2023-02-28T12:05:34.652Z"
   },
   {
    "duration": 14,
    "start_time": "2023-02-28T12:05:34.691Z"
   },
   {
    "duration": 19,
    "start_time": "2023-02-28T12:05:34.707Z"
   },
   {
    "duration": 88,
    "start_time": "2023-02-28T12:05:34.727Z"
   },
   {
    "duration": 261,
    "start_time": "2023-02-28T12:05:34.817Z"
   },
   {
    "duration": 24,
    "start_time": "2023-02-28T12:05:35.080Z"
   },
   {
    "duration": 287,
    "start_time": "2023-02-28T12:05:35.107Z"
   },
   {
    "duration": 279,
    "start_time": "2023-02-28T12:05:35.397Z"
   },
   {
    "duration": 387,
    "start_time": "2023-02-28T12:05:35.678Z"
   },
   {
    "duration": 271,
    "start_time": "2023-02-28T12:05:36.066Z"
   },
   {
    "duration": 351,
    "start_time": "2023-02-28T12:05:36.338Z"
   },
   {
    "duration": 128,
    "start_time": "2023-02-28T12:05:36.691Z"
   },
   {
    "duration": 4,
    "start_time": "2023-02-28T12:05:36.821Z"
   },
   {
    "duration": 145,
    "start_time": "2023-02-28T12:05:36.826Z"
   },
   {
    "duration": 4,
    "start_time": "2023-02-28T12:05:36.972Z"
   },
   {
    "duration": 242,
    "start_time": "2023-02-28T12:05:36.978Z"
   },
   {
    "duration": 311,
    "start_time": "2023-02-28T12:05:37.223Z"
   },
   {
    "duration": 18,
    "start_time": "2023-02-28T12:05:37.536Z"
   },
   {
    "duration": 136,
    "start_time": "2023-02-28T12:05:37.556Z"
   },
   {
    "duration": 33,
    "start_time": "2023-02-28T12:05:37.694Z"
   },
   {
    "duration": 12,
    "start_time": "2023-02-28T12:05:37.728Z"
   },
   {
    "duration": 1223,
    "start_time": "2023-03-01T11:16:57.409Z"
   },
   {
    "duration": 4,
    "start_time": "2023-03-01T11:18:11.569Z"
   },
   {
    "duration": 72,
    "start_time": "2023-03-01T11:18:13.304Z"
   },
   {
    "duration": 14,
    "start_time": "2023-03-01T11:19:02.583Z"
   },
   {
    "duration": 15,
    "start_time": "2023-03-01T11:19:21.782Z"
   },
   {
    "duration": 159,
    "start_time": "2023-03-01T11:19:43.764Z"
   },
   {
    "duration": 269,
    "start_time": "2023-03-01T11:19:55.261Z"
   },
   {
    "duration": 23,
    "start_time": "2023-03-01T11:19:56.062Z"
   },
   {
    "duration": 271,
    "start_time": "2023-03-01T11:19:56.615Z"
   },
   {
    "duration": 259,
    "start_time": "2023-03-01T11:19:59.899Z"
   },
   {
    "duration": 364,
    "start_time": "2023-03-01T11:20:00.380Z"
   },
   {
    "duration": 290,
    "start_time": "2023-03-01T11:20:01.067Z"
   },
   {
    "duration": 334,
    "start_time": "2023-03-01T11:20:01.593Z"
   },
   {
    "duration": 158,
    "start_time": "2023-03-01T11:20:02.440Z"
   },
   {
    "duration": 5,
    "start_time": "2023-03-01T11:20:03.631Z"
   },
   {
    "duration": 152,
    "start_time": "2023-03-01T11:20:16.908Z"
   },
   {
    "duration": 5,
    "start_time": "2023-03-01T11:20:20.356Z"
   },
   {
    "duration": 211,
    "start_time": "2023-03-01T11:20:21.955Z"
   },
   {
    "duration": 268,
    "start_time": "2023-03-01T11:20:32.264Z"
   },
   {
    "duration": 11,
    "start_time": "2023-03-01T11:20:48.356Z"
   },
   {
    "duration": 147,
    "start_time": "2023-03-01T11:20:49.384Z"
   },
   {
    "duration": 24,
    "start_time": "2023-03-01T11:20:51.069Z"
   },
   {
    "duration": 13,
    "start_time": "2023-03-01T11:20:51.753Z"
   },
   {
    "duration": 113,
    "start_time": "2023-03-01T11:21:45.851Z"
   },
   {
    "duration": 11,
    "start_time": "2023-03-01T11:21:51.910Z"
   },
   {
    "duration": 34,
    "start_time": "2023-03-01T11:22:23.148Z"
   },
   {
    "duration": 330,
    "start_time": "2023-03-01T11:30:19.590Z"
   },
   {
    "duration": 323,
    "start_time": "2023-03-01T11:30:27.358Z"
   },
   {
    "duration": 265,
    "start_time": "2023-03-01T11:30:32.977Z"
   },
   {
    "duration": 309,
    "start_time": "2023-03-01T11:31:36.525Z"
   },
   {
    "duration": 333,
    "start_time": "2023-03-01T11:31:43.391Z"
   },
   {
    "duration": 114,
    "start_time": "2023-03-01T11:31:51.381Z"
   },
   {
    "duration": 125,
    "start_time": "2023-03-01T11:32:00.671Z"
   },
   {
    "duration": 254,
    "start_time": "2023-03-01T11:34:58.162Z"
   },
   {
    "duration": 254,
    "start_time": "2023-03-01T11:35:15.168Z"
   },
   {
    "duration": 285,
    "start_time": "2023-03-01T11:35:34.803Z"
   },
   {
    "duration": 291,
    "start_time": "2023-03-01T11:35:54.441Z"
   },
   {
    "duration": 362,
    "start_time": "2023-03-01T11:36:26.847Z"
   },
   {
    "duration": 371,
    "start_time": "2023-03-01T11:36:51.004Z"
   },
   {
    "duration": 363,
    "start_time": "2023-03-01T11:37:23.960Z"
   },
   {
    "duration": 122,
    "start_time": "2023-03-01T11:37:55.168Z"
   },
   {
    "duration": 373,
    "start_time": "2023-03-01T11:38:12.202Z"
   },
   {
    "duration": 298,
    "start_time": "2023-03-01T11:40:08.019Z"
   },
   {
    "duration": 52,
    "start_time": "2023-03-01T11:41:05.745Z"
   },
   {
    "duration": 46,
    "start_time": "2023-03-01T11:41:14.889Z"
   },
   {
    "duration": 51,
    "start_time": "2023-03-01T11:41:33.537Z"
   },
   {
    "duration": 13,
    "start_time": "2023-03-01T11:41:38.166Z"
   },
   {
    "duration": 415,
    "start_time": "2023-03-01T11:41:50.368Z"
   },
   {
    "duration": 341,
    "start_time": "2023-03-01T11:42:02.681Z"
   },
   {
    "duration": 394,
    "start_time": "2023-03-01T11:42:12.264Z"
   },
   {
    "duration": 367,
    "start_time": "2023-03-01T11:42:20.986Z"
   },
   {
    "duration": 341,
    "start_time": "2023-03-01T11:42:27.353Z"
   },
   {
    "duration": 450,
    "start_time": "2023-03-01T11:42:36.795Z"
   },
   {
    "duration": 376,
    "start_time": "2023-03-01T11:42:44.761Z"
   },
   {
    "duration": 562,
    "start_time": "2023-03-01T11:42:50.746Z"
   },
   {
    "duration": 119,
    "start_time": "2023-03-01T11:43:56.762Z"
   },
   {
    "duration": 133,
    "start_time": "2023-03-01T11:44:17.852Z"
   },
   {
    "duration": 62,
    "start_time": "2023-03-01T11:57:51.829Z"
   },
   {
    "duration": 4,
    "start_time": "2023-03-01T12:01:03.113Z"
   },
   {
    "duration": 256,
    "start_time": "2023-03-01T12:03:07.279Z"
   },
   {
    "duration": 358,
    "start_time": "2023-03-01T12:03:12.443Z"
   },
   {
    "duration": 303,
    "start_time": "2023-03-01T12:03:31.670Z"
   },
   {
    "duration": 11,
    "start_time": "2023-03-01T12:03:56.549Z"
   },
   {
    "duration": 718,
    "start_time": "2023-03-01T12:04:19.154Z"
   },
   {
    "duration": 3,
    "start_time": "2023-03-01T12:04:57.857Z"
   },
   {
    "duration": 30,
    "start_time": "2023-03-01T12:04:58.672Z"
   },
   {
    "duration": 10,
    "start_time": "2023-03-01T12:05:00.017Z"
   },
   {
    "duration": 11,
    "start_time": "2023-03-01T12:05:00.882Z"
   },
   {
    "duration": 64,
    "start_time": "2023-03-01T12:05:02.742Z"
   },
   {
    "duration": 253,
    "start_time": "2023-03-01T12:05:03.965Z"
   },
   {
    "duration": 20,
    "start_time": "2023-03-01T12:05:04.742Z"
   },
   {
    "duration": 348,
    "start_time": "2023-03-01T12:05:05.189Z"
   },
   {
    "duration": 350,
    "start_time": "2023-03-01T12:05:06.096Z"
   },
   {
    "duration": 457,
    "start_time": "2023-03-01T12:05:06.588Z"
   },
   {
    "duration": 407,
    "start_time": "2023-03-01T12:05:07.046Z"
   },
   {
    "duration": 496,
    "start_time": "2023-03-01T12:05:07.523Z"
   },
   {
    "duration": 115,
    "start_time": "2023-03-01T12:05:08.268Z"
   },
   {
    "duration": 5,
    "start_time": "2023-03-01T12:05:09.260Z"
   },
   {
    "duration": 125,
    "start_time": "2023-03-01T12:05:11.173Z"
   },
   {
    "duration": 5,
    "start_time": "2023-03-01T12:05:12.514Z"
   },
   {
    "duration": 208,
    "start_time": "2023-03-01T12:05:13.762Z"
   },
   {
    "duration": 272,
    "start_time": "2023-03-01T12:05:15.600Z"
   },
   {
    "duration": 10,
    "start_time": "2023-03-01T12:05:19.654Z"
   },
   {
    "duration": 126,
    "start_time": "2023-03-01T12:05:21.619Z"
   },
   {
    "duration": 25,
    "start_time": "2023-03-01T12:05:24.618Z"
   },
   {
    "duration": 13,
    "start_time": "2023-03-01T12:06:02.162Z"
   },
   {
    "duration": 193,
    "start_time": "2023-03-01T12:07:55.475Z"
   },
   {
    "duration": 3,
    "start_time": "2023-03-01T12:08:25.573Z"
   },
   {
    "duration": 27,
    "start_time": "2023-03-01T12:08:27.278Z"
   },
   {
    "duration": 10,
    "start_time": "2023-03-01T12:08:28.990Z"
   },
   {
    "duration": 17,
    "start_time": "2023-03-01T12:08:31.404Z"
   },
   {
    "duration": 62,
    "start_time": "2023-03-01T12:08:33.248Z"
   },
   {
    "duration": 261,
    "start_time": "2023-03-01T12:08:34.602Z"
   },
   {
    "duration": 21,
    "start_time": "2023-03-01T12:08:35.344Z"
   },
   {
    "duration": 470,
    "start_time": "2023-03-01T12:08:35.882Z"
   },
   {
    "duration": 364,
    "start_time": "2023-03-01T12:08:36.917Z"
   },
   {
    "duration": 418,
    "start_time": "2023-03-01T12:08:37.376Z"
   },
   {
    "duration": 362,
    "start_time": "2023-03-01T12:08:37.905Z"
   },
   {
    "duration": 460,
    "start_time": "2023-03-01T12:08:38.449Z"
   },
   {
    "duration": 124,
    "start_time": "2023-03-01T12:08:39.207Z"
   },
   {
    "duration": 4,
    "start_time": "2023-03-01T12:08:41.776Z"
   },
   {
    "duration": 126,
    "start_time": "2023-03-01T12:08:44.988Z"
   },
   {
    "duration": 4,
    "start_time": "2023-03-01T12:08:47.048Z"
   },
   {
    "duration": 194,
    "start_time": "2023-03-01T12:08:49.153Z"
   },
   {
    "duration": 268,
    "start_time": "2023-03-01T12:08:51.782Z"
   },
   {
    "duration": 10,
    "start_time": "2023-03-01T12:08:55.881Z"
   },
   {
    "duration": 130,
    "start_time": "2023-03-01T12:08:57.467Z"
   },
   {
    "duration": 174,
    "start_time": "2023-03-01T12:09:06.026Z"
   },
   {
    "duration": 5,
    "start_time": "2023-03-01T12:09:17.656Z"
   },
   {
    "duration": 145,
    "start_time": "2023-03-01T12:09:30.615Z"
   },
   {
    "duration": 67,
    "start_time": "2023-03-01T12:16:50.321Z"
   },
   {
    "duration": 68,
    "start_time": "2023-03-01T12:17:20.209Z"
   },
   {
    "duration": 68,
    "start_time": "2023-03-01T12:17:35.083Z"
   },
   {
    "duration": 68,
    "start_time": "2023-03-01T12:17:50.304Z"
   },
   {
    "duration": 67,
    "start_time": "2023-03-01T12:19:43.926Z"
   },
   {
    "duration": 73,
    "start_time": "2023-03-01T12:20:51.642Z"
   },
   {
    "duration": 70,
    "start_time": "2023-03-01T12:21:25.696Z"
   },
   {
    "duration": 84,
    "start_time": "2023-03-01T12:25:34.911Z"
   },
   {
    "duration": 74,
    "start_time": "2023-03-01T12:25:51.340Z"
   },
   {
    "duration": 82,
    "start_time": "2023-03-01T12:26:24.282Z"
   },
   {
    "duration": 75,
    "start_time": "2023-03-01T12:27:00.852Z"
   },
   {
    "duration": 77,
    "start_time": "2023-03-01T12:27:11.949Z"
   },
   {
    "duration": 62,
    "start_time": "2023-03-01T12:29:29.200Z"
   },
   {
    "duration": 3,
    "start_time": "2023-03-01T12:30:01.031Z"
   },
   {
    "duration": 26,
    "start_time": "2023-03-01T12:30:05.777Z"
   },
   {
    "duration": 10,
    "start_time": "2023-03-01T12:30:06.924Z"
   },
   {
    "duration": 10,
    "start_time": "2023-03-01T12:30:08.068Z"
   },
   {
    "duration": 62,
    "start_time": "2023-03-01T12:30:11.700Z"
   },
   {
    "duration": 59,
    "start_time": "2023-03-01T12:30:24.318Z"
   },
   {
    "duration": 60,
    "start_time": "2023-03-01T12:30:36.805Z"
   },
   {
    "duration": 64,
    "start_time": "2023-03-01T12:30:55.043Z"
   },
   {
    "duration": 68,
    "start_time": "2023-03-01T12:31:34.688Z"
   },
   {
    "duration": 69,
    "start_time": "2023-03-01T12:31:42.822Z"
   },
   {
    "duration": 89,
    "start_time": "2023-03-01T12:32:25.156Z"
   },
   {
    "duration": 555,
    "start_time": "2023-03-01T12:40:12.202Z"
   },
   {
    "duration": 97,
    "start_time": "2023-03-01T12:40:24.182Z"
   },
   {
    "duration": 788,
    "start_time": "2023-03-01T12:40:53.851Z"
   },
   {
    "duration": 104,
    "start_time": "2023-03-01T12:42:11.891Z"
   },
   {
    "duration": 107,
    "start_time": "2023-03-01T12:42:34.314Z"
   },
   {
    "duration": 98,
    "start_time": "2023-03-01T12:43:55.863Z"
   },
   {
    "duration": 98,
    "start_time": "2023-03-01T12:44:46.391Z"
   },
   {
    "duration": 51,
    "start_time": "2023-03-01T12:45:55.085Z"
   },
   {
    "duration": 107,
    "start_time": "2023-03-01T12:47:03.876Z"
   },
   {
    "duration": 94,
    "start_time": "2023-03-01T12:47:38.016Z"
   },
   {
    "duration": 112,
    "start_time": "2023-03-01T12:48:31.149Z"
   },
   {
    "duration": 108,
    "start_time": "2023-03-01T12:48:59.471Z"
   },
   {
    "duration": 101,
    "start_time": "2023-03-01T12:49:41.969Z"
   },
   {
    "duration": 306,
    "start_time": "2023-03-01T12:49:50.271Z"
   },
   {
    "duration": 21,
    "start_time": "2023-03-01T12:49:51.266Z"
   },
   {
    "duration": 340,
    "start_time": "2023-03-01T12:49:52.805Z"
   },
   {
    "duration": 278,
    "start_time": "2023-03-01T12:49:57.572Z"
   },
   {
    "duration": 393,
    "start_time": "2023-03-01T12:49:58.170Z"
   },
   {
    "duration": 426,
    "start_time": "2023-03-01T12:49:58.849Z"
   },
   {
    "duration": 411,
    "start_time": "2023-03-01T12:49:59.781Z"
   },
   {
    "duration": 137,
    "start_time": "2023-03-01T12:50:00.949Z"
   },
   {
    "duration": 5,
    "start_time": "2023-03-01T12:50:02.927Z"
   },
   {
    "duration": 185,
    "start_time": "2023-03-01T12:50:06.449Z"
   },
   {
    "duration": 3,
    "start_time": "2023-03-01T12:50:07.948Z"
   },
   {
    "duration": 202,
    "start_time": "2023-03-01T12:50:10.380Z"
   },
   {
    "duration": 128,
    "start_time": "2023-03-01T13:06:57.277Z"
   },
   {
    "duration": 6,
    "start_time": "2023-03-01T13:07:22.381Z"
   },
   {
    "duration": 4,
    "start_time": "2023-03-01T13:07:51.848Z"
   },
   {
    "duration": 5,
    "start_time": "2023-03-01T13:08:42.462Z"
   },
   {
    "duration": 92,
    "start_time": "2023-03-01T13:10:01.386Z"
   },
   {
    "duration": 93,
    "start_time": "2023-03-01T13:10:26.794Z"
   },
   {
    "duration": 13,
    "start_time": "2023-03-01T13:11:27.525Z"
   },
   {
    "duration": 3,
    "start_time": "2023-03-01T13:11:45.086Z"
   },
   {
    "duration": 26,
    "start_time": "2023-03-01T13:11:45.938Z"
   },
   {
    "duration": 12,
    "start_time": "2023-03-01T13:11:48.836Z"
   },
   {
    "duration": 11,
    "start_time": "2023-03-01T13:11:51.785Z"
   },
   {
    "duration": 90,
    "start_time": "2023-03-01T13:11:54.623Z"
   },
   {
    "duration": 273,
    "start_time": "2023-03-01T13:12:28.104Z"
   },
   {
    "duration": 18,
    "start_time": "2023-03-01T13:12:28.780Z"
   },
   {
    "duration": 255,
    "start_time": "2023-03-01T13:12:29.208Z"
   },
   {
    "duration": 302,
    "start_time": "2023-03-01T13:12:30.156Z"
   },
   {
    "duration": 407,
    "start_time": "2023-03-01T13:12:30.623Z"
   },
   {
    "duration": 285,
    "start_time": "2023-03-01T13:12:31.068Z"
   },
   {
    "duration": 379,
    "start_time": "2023-03-01T13:12:31.556Z"
   },
   {
    "duration": 123,
    "start_time": "2023-03-01T13:12:32.252Z"
   },
   {
    "duration": 4,
    "start_time": "2023-03-01T13:12:33.222Z"
   },
   {
    "duration": 136,
    "start_time": "2023-03-01T13:12:34.167Z"
   },
   {
    "duration": 4,
    "start_time": "2023-03-01T13:12:35.420Z"
   },
   {
    "duration": 216,
    "start_time": "2023-03-01T13:12:37.025Z"
   },
   {
    "duration": 284,
    "start_time": "2023-03-01T13:12:39.507Z"
   },
   {
    "duration": 11,
    "start_time": "2023-03-01T13:12:44.127Z"
   },
   {
    "duration": 143,
    "start_time": "2023-03-01T13:12:44.989Z"
   },
   {
    "duration": 13,
    "start_time": "2023-03-01T13:12:46.226Z"
   },
   {
    "duration": 14,
    "start_time": "2023-03-01T13:13:37.637Z"
   },
   {
    "duration": 5,
    "start_time": "2023-03-01T13:13:55.681Z"
   },
   {
    "duration": 5,
    "start_time": "2023-03-01T13:14:09.258Z"
   },
   {
    "duration": 4,
    "start_time": "2023-03-01T13:16:18.924Z"
   },
   {
    "duration": 6,
    "start_time": "2023-03-01T13:16:26.722Z"
   },
   {
    "duration": 129,
    "start_time": "2023-03-01T13:16:34.489Z"
   },
   {
    "duration": 6,
    "start_time": "2023-03-01T13:18:34.101Z"
   },
   {
    "duration": 67,
    "start_time": "2023-03-01T13:19:58.505Z"
   },
   {
    "duration": 49,
    "start_time": "2023-03-01T13:20:53.948Z"
   },
   {
    "duration": 6,
    "start_time": "2023-03-01T13:21:07.741Z"
   },
   {
    "duration": 144,
    "start_time": "2023-03-01T13:22:36.564Z"
   },
   {
    "duration": 139,
    "start_time": "2023-03-01T13:22:48.267Z"
   },
   {
    "duration": 10,
    "start_time": "2023-03-01T13:24:41.676Z"
   },
   {
    "duration": 144,
    "start_time": "2023-03-01T13:28:18.406Z"
   },
   {
    "duration": 8,
    "start_time": "2023-03-01T13:28:31.736Z"
   },
   {
    "duration": 153,
    "start_time": "2023-03-01T13:28:43.120Z"
   },
   {
    "duration": 129,
    "start_time": "2023-03-01T13:28:56.949Z"
   },
   {
    "duration": 151,
    "start_time": "2023-03-01T13:29:11.021Z"
   },
   {
    "duration": 59,
    "start_time": "2023-03-02T15:06:58.315Z"
   },
   {
    "duration": 1262,
    "start_time": "2023-03-02T15:07:05.414Z"
   },
   {
    "duration": 74,
    "start_time": "2023-03-02T15:07:07.071Z"
   },
   {
    "duration": 13,
    "start_time": "2023-03-02T15:07:08.619Z"
   },
   {
    "duration": 10,
    "start_time": "2023-03-02T15:07:09.829Z"
   },
   {
    "duration": 225,
    "start_time": "2023-03-02T15:07:13.628Z"
   },
   {
    "duration": 269,
    "start_time": "2023-03-02T15:07:16.472Z"
   },
   {
    "duration": 17,
    "start_time": "2023-03-02T15:07:17.179Z"
   },
   {
    "duration": 332,
    "start_time": "2023-03-02T15:07:17.686Z"
   },
   {
    "duration": 278,
    "start_time": "2023-03-02T15:07:25.373Z"
   },
   {
    "duration": 436,
    "start_time": "2023-03-02T15:07:34.103Z"
   },
   {
    "duration": 280,
    "start_time": "2023-03-02T15:07:40.175Z"
   },
   {
    "duration": 373,
    "start_time": "2023-03-02T15:07:45.688Z"
   },
   {
    "duration": 111,
    "start_time": "2023-03-02T15:12:00.773Z"
   },
   {
    "duration": 6,
    "start_time": "2023-03-02T15:14:21.130Z"
   },
   {
    "duration": 78,
    "start_time": "2023-03-02T15:16:58.957Z"
   },
   {
    "duration": 6,
    "start_time": "2023-03-02T15:17:15.194Z"
   },
   {
    "duration": 14,
    "start_time": "2023-03-02T15:18:20.746Z"
   },
   {
    "duration": 18,
    "start_time": "2023-03-02T15:18:30.472Z"
   },
   {
    "duration": 20,
    "start_time": "2023-03-02T15:19:10.647Z"
   },
   {
    "duration": 108,
    "start_time": "2023-03-02T15:19:21.788Z"
   },
   {
    "duration": 10,
    "start_time": "2023-03-02T15:19:27.373Z"
   },
   {
    "duration": 1862,
    "start_time": "2023-03-02T15:19:54.340Z"
   },
   {
    "duration": 136,
    "start_time": "2023-03-02T15:20:21.778Z"
   },
   {
    "duration": 136,
    "start_time": "2023-03-02T15:20:51.483Z"
   },
   {
    "duration": 143,
    "start_time": "2023-03-02T15:20:57.329Z"
   },
   {
    "duration": 25,
    "start_time": "2023-03-02T15:21:05.771Z"
   },
   {
    "duration": 10,
    "start_time": "2023-03-02T15:21:36.511Z"
   },
   {
    "duration": 27,
    "start_time": "2023-03-02T15:21:54.172Z"
   },
   {
    "duration": 19,
    "start_time": "2023-03-02T15:22:43.485Z"
   },
   {
    "duration": 20,
    "start_time": "2023-03-02T15:23:09.372Z"
   },
   {
    "duration": 11,
    "start_time": "2023-03-02T15:23:18.350Z"
   },
   {
    "duration": 16,
    "start_time": "2023-03-02T15:23:25.330Z"
   },
   {
    "duration": 20,
    "start_time": "2023-03-02T15:23:32.674Z"
   },
   {
    "duration": 101,
    "start_time": "2023-03-02T15:28:37.072Z"
   },
   {
    "duration": 93,
    "start_time": "2023-03-02T15:28:52.729Z"
   },
   {
    "duration": 1565,
    "start_time": "2023-03-02T15:29:00.367Z"
   },
   {
    "duration": 18,
    "start_time": "2023-03-02T15:29:11.672Z"
   },
   {
    "duration": 14,
    "start_time": "2023-03-02T15:29:26.298Z"
   },
   {
    "duration": 21,
    "start_time": "2023-03-02T15:31:14.736Z"
   },
   {
    "duration": 117,
    "start_time": "2023-03-02T15:33:01.674Z"
   },
   {
    "duration": 18,
    "start_time": "2023-03-02T15:33:06.933Z"
   },
   {
    "duration": 6,
    "start_time": "2023-03-02T15:33:33.325Z"
   },
   {
    "duration": 1348,
    "start_time": "2023-03-02T15:37:16.787Z"
   },
   {
    "duration": 17,
    "start_time": "2023-03-02T15:37:29.927Z"
   },
   {
    "duration": 23,
    "start_time": "2023-03-02T15:38:04.962Z"
   },
   {
    "duration": 20,
    "start_time": "2023-03-02T15:39:49.771Z"
   },
   {
    "duration": 16,
    "start_time": "2023-03-02T15:42:34.874Z"
   },
   {
    "duration": 1253,
    "start_time": "2023-03-02T18:03:07.663Z"
   },
   {
    "duration": 84,
    "start_time": "2023-03-02T18:03:09.116Z"
   },
   {
    "duration": 14,
    "start_time": "2023-03-02T18:03:10.912Z"
   },
   {
    "duration": 12,
    "start_time": "2023-03-02T18:03:12.979Z"
   },
   {
    "duration": 249,
    "start_time": "2023-03-02T18:03:22.670Z"
   },
   {
    "duration": 105,
    "start_time": "2023-03-02T18:03:23.096Z"
   },
   {
    "duration": 14,
    "start_time": "2023-03-02T18:03:37.754Z"
   },
   {
    "duration": 18,
    "start_time": "2023-03-02T18:03:46.151Z"
   },
   {
    "duration": 5,
    "start_time": "2023-03-02T18:05:12.934Z"
   },
   {
    "duration": 15,
    "start_time": "2023-03-02T18:05:25.866Z"
   },
   {
    "duration": 16,
    "start_time": "2023-03-02T18:06:11.476Z"
   },
   {
    "duration": 14,
    "start_time": "2023-03-02T18:08:37.170Z"
   },
   {
    "duration": 11,
    "start_time": "2023-03-02T18:10:34.772Z"
   },
   {
    "duration": 13,
    "start_time": "2023-03-02T18:13:27.496Z"
   },
   {
    "duration": 13,
    "start_time": "2023-03-02T18:15:11.370Z"
   },
   {
    "duration": 12,
    "start_time": "2023-03-02T18:15:14.523Z"
   },
   {
    "duration": 13,
    "start_time": "2023-03-02T18:15:33.689Z"
   },
   {
    "duration": 15,
    "start_time": "2023-03-02T18:17:01.276Z"
   },
   {
    "duration": 13,
    "start_time": "2023-03-02T18:18:38.363Z"
   },
   {
    "duration": 10,
    "start_time": "2023-03-02T18:18:53.808Z"
   },
   {
    "duration": 18,
    "start_time": "2023-03-02T18:19:04.825Z"
   },
   {
    "duration": 13,
    "start_time": "2023-03-02T18:19:18.088Z"
   },
   {
    "duration": 17,
    "start_time": "2023-03-02T18:19:40.280Z"
   },
   {
    "duration": 15,
    "start_time": "2023-03-02T18:21:18.954Z"
   },
   {
    "duration": 15,
    "start_time": "2023-03-02T18:21:43.049Z"
   },
   {
    "duration": 1179,
    "start_time": "2023-03-02T18:22:14.348Z"
   },
   {
    "duration": 22,
    "start_time": "2023-03-02T18:22:25.703Z"
   },
   {
    "duration": 7,
    "start_time": "2023-03-02T18:22:39.438Z"
   },
   {
    "duration": 9,
    "start_time": "2023-03-02T18:22:50.117Z"
   },
   {
    "duration": 18,
    "start_time": "2023-03-02T18:23:13.773Z"
   },
   {
    "duration": 16,
    "start_time": "2023-03-02T18:23:19.519Z"
   },
   {
    "duration": 13,
    "start_time": "2023-03-02T18:23:24.779Z"
   },
   {
    "duration": 9,
    "start_time": "2023-03-02T18:23:35.146Z"
   },
   {
    "duration": 18,
    "start_time": "2023-03-02T18:24:55.688Z"
   },
   {
    "duration": 22,
    "start_time": "2023-03-02T18:25:00.178Z"
   },
   {
    "duration": 19,
    "start_time": "2023-03-02T18:25:10.674Z"
   },
   {
    "duration": 20,
    "start_time": "2023-03-02T18:25:29.259Z"
   },
   {
    "duration": 33,
    "start_time": "2023-03-02T18:25:44.072Z"
   },
   {
    "duration": 19,
    "start_time": "2023-03-02T18:26:08.185Z"
   },
   {
    "duration": 21,
    "start_time": "2023-03-02T18:29:31.031Z"
   },
   {
    "duration": 301,
    "start_time": "2023-03-02T18:29:43.727Z"
   },
   {
    "duration": 9,
    "start_time": "2023-03-02T18:29:58.425Z"
   },
   {
    "duration": 10,
    "start_time": "2023-03-02T18:30:05.647Z"
   },
   {
    "duration": 4,
    "start_time": "2023-03-02T18:30:15.385Z"
   },
   {
    "duration": 33,
    "start_time": "2023-03-02T18:30:17.330Z"
   },
   {
    "duration": 11,
    "start_time": "2023-03-02T18:30:19.062Z"
   },
   {
    "duration": 11,
    "start_time": "2023-03-02T18:30:21.274Z"
   },
   {
    "duration": 110,
    "start_time": "2023-03-02T18:30:24.827Z"
   },
   {
    "duration": 14,
    "start_time": "2023-03-02T18:30:25.051Z"
   },
   {
    "duration": 282,
    "start_time": "2023-03-02T18:30:38.379Z"
   },
   {
    "duration": 3,
    "start_time": "2023-03-02T18:36:46.901Z"
   },
   {
    "duration": 32,
    "start_time": "2023-03-02T18:36:48.245Z"
   },
   {
    "duration": 11,
    "start_time": "2023-03-02T18:36:49.575Z"
   },
   {
    "duration": 12,
    "start_time": "2023-03-02T18:36:50.831Z"
   },
   {
    "duration": 117,
    "start_time": "2023-03-02T18:36:52.782Z"
   },
   {
    "duration": 14,
    "start_time": "2023-03-02T18:36:53.094Z"
   },
   {
    "duration": 276,
    "start_time": "2023-03-02T18:36:55.478Z"
   },
   {
    "duration": 19,
    "start_time": "2023-03-02T18:36:56.240Z"
   },
   {
    "duration": 347,
    "start_time": "2023-03-02T18:36:56.739Z"
   },
   {
    "duration": 253,
    "start_time": "2023-03-02T18:36:58.295Z"
   },
   {
    "duration": 424,
    "start_time": "2023-03-02T18:36:58.812Z"
   },
   {
    "duration": 317,
    "start_time": "2023-03-02T18:36:59.350Z"
   },
   {
    "duration": 335,
    "start_time": "2023-03-02T18:36:59.881Z"
   },
   {
    "duration": 128,
    "start_time": "2023-03-02T18:37:00.733Z"
   },
   {
    "duration": 5,
    "start_time": "2023-03-02T18:37:01.839Z"
   },
   {
    "duration": 133,
    "start_time": "2023-03-02T18:37:03.115Z"
   },
   {
    "duration": 5,
    "start_time": "2023-03-02T18:37:05.818Z"
   },
   {
    "duration": 282,
    "start_time": "2023-03-02T18:37:08.360Z"
   },
   {
    "duration": 265,
    "start_time": "2023-03-02T18:38:10.026Z"
   },
   {
    "duration": 228,
    "start_time": "2023-03-02T18:38:55.870Z"
   },
   {
    "duration": 325,
    "start_time": "2023-03-02T18:39:00.918Z"
   },
   {
    "duration": 13,
    "start_time": "2023-03-02T18:39:04.489Z"
   },
   {
    "duration": 175,
    "start_time": "2023-03-02T18:39:05.741Z"
   },
   {
    "duration": 6,
    "start_time": "2023-03-02T18:39:06.520Z"
   },
   {
    "duration": 2,
    "start_time": "2023-03-02T18:40:05.595Z"
   },
   {
    "duration": 32,
    "start_time": "2023-03-02T18:40:07.366Z"
   },
   {
    "duration": 11,
    "start_time": "2023-03-02T18:40:08.882Z"
   },
   {
    "duration": 12,
    "start_time": "2023-03-02T18:40:12.530Z"
   },
   {
    "duration": 113,
    "start_time": "2023-03-02T18:40:15.471Z"
   },
   {
    "duration": 20,
    "start_time": "2023-03-02T18:40:15.742Z"
   },
   {
    "duration": 306,
    "start_time": "2023-03-02T18:40:24.652Z"
   },
   {
    "duration": 18,
    "start_time": "2023-03-02T18:40:26.670Z"
   },
   {
    "duration": 276,
    "start_time": "2023-03-02T18:40:27.238Z"
   },
   {
    "duration": 263,
    "start_time": "2023-03-02T18:40:31.675Z"
   },
   {
    "duration": 402,
    "start_time": "2023-03-02T18:40:33.333Z"
   },
   {
    "duration": 309,
    "start_time": "2023-03-02T18:40:34.405Z"
   },
   {
    "duration": 434,
    "start_time": "2023-03-02T18:40:35.138Z"
   },
   {
    "duration": 132,
    "start_time": "2023-03-02T18:40:36.334Z"
   },
   {
    "duration": 4,
    "start_time": "2023-03-02T18:40:37.869Z"
   },
   {
    "duration": 134,
    "start_time": "2023-03-02T18:40:40.592Z"
   },
   {
    "duration": 4,
    "start_time": "2023-03-02T18:40:44.065Z"
   },
   {
    "duration": 213,
    "start_time": "2023-03-02T18:40:50.042Z"
   },
   {
    "duration": 322,
    "start_time": "2023-03-02T18:40:55.579Z"
   },
   {
    "duration": 16,
    "start_time": "2023-03-02T18:40:58.348Z"
   },
   {
    "duration": 144,
    "start_time": "2023-03-02T18:40:58.960Z"
   },
   {
    "duration": 7,
    "start_time": "2023-03-02T18:40:59.517Z"
   },
   {
    "duration": 29,
    "start_time": "2023-03-02T18:41:02.485Z"
   },
   {
    "duration": 19,
    "start_time": "2023-03-02T18:41:03.857Z"
   },
   {
    "duration": 8,
    "start_time": "2023-03-02T19:31:24.183Z"
   },
   {
    "duration": 19,
    "start_time": "2023-03-02T19:32:06.798Z"
   },
   {
    "duration": 13,
    "start_time": "2023-03-02T19:33:35.733Z"
   },
   {
    "duration": 17,
    "start_time": "2023-03-02T19:33:59.164Z"
   },
   {
    "duration": 116,
    "start_time": "2023-03-02T19:37:11.767Z"
   },
   {
    "duration": 116,
    "start_time": "2023-03-02T19:38:37.219Z"
   },
   {
    "duration": 116,
    "start_time": "2023-03-02T19:38:50.871Z"
   },
   {
    "duration": 112,
    "start_time": "2023-03-02T19:39:02.403Z"
   },
   {
    "duration": 15,
    "start_time": "2023-03-02T19:39:03.274Z"
   },
   {
    "duration": 288,
    "start_time": "2023-03-02T19:39:05.472Z"
   },
   {
    "duration": 27,
    "start_time": "2023-03-02T19:39:06.116Z"
   },
   {
    "duration": 253,
    "start_time": "2023-03-02T19:39:06.540Z"
   },
   {
    "duration": 251,
    "start_time": "2023-03-02T19:39:07.794Z"
   },
   {
    "duration": 342,
    "start_time": "2023-03-02T19:39:08.167Z"
   },
   {
    "duration": 340,
    "start_time": "2023-03-02T19:39:08.585Z"
   },
   {
    "duration": 327,
    "start_time": "2023-03-02T19:39:08.994Z"
   },
   {
    "duration": 120,
    "start_time": "2023-03-02T19:39:09.625Z"
   },
   {
    "duration": 4,
    "start_time": "2023-03-02T19:39:10.508Z"
   },
   {
    "duration": 125,
    "start_time": "2023-03-02T19:39:11.599Z"
   },
   {
    "duration": 4,
    "start_time": "2023-03-02T19:39:12.706Z"
   },
   {
    "duration": 260,
    "start_time": "2023-03-02T19:39:15.161Z"
   },
   {
    "duration": 16,
    "start_time": "2023-03-02T19:39:19.050Z"
   },
   {
    "duration": 12,
    "start_time": "2023-03-02T19:39:43.803Z"
   },
   {
    "duration": 16,
    "start_time": "2023-03-02T19:40:01.188Z"
   },
   {
    "duration": 11,
    "start_time": "2023-03-02T19:45:11.634Z"
   },
   {
    "duration": 4,
    "start_time": "2023-03-02T19:46:02.459Z"
   },
   {
    "duration": 5,
    "start_time": "2023-03-02T19:46:17.750Z"
   },
   {
    "duration": 8,
    "start_time": "2023-03-02T19:47:01.452Z"
   },
   {
    "duration": 10,
    "start_time": "2023-03-02T19:47:09.690Z"
   },
   {
    "duration": 10,
    "start_time": "2023-03-02T19:47:32.256Z"
   },
   {
    "duration": 4,
    "start_time": "2023-03-02T19:48:23.857Z"
   },
   {
    "duration": 7,
    "start_time": "2023-03-02T19:49:00.658Z"
   },
   {
    "duration": 7,
    "start_time": "2023-03-02T19:49:13.642Z"
   },
   {
    "duration": 1306,
    "start_time": "2023-03-03T07:52:00.626Z"
   },
   {
    "duration": 79,
    "start_time": "2023-03-03T07:52:02.471Z"
   },
   {
    "duration": 13,
    "start_time": "2023-03-03T07:52:03.970Z"
   },
   {
    "duration": 14,
    "start_time": "2023-03-03T07:52:05.515Z"
   },
   {
    "duration": 201,
    "start_time": "2023-03-03T07:52:09.673Z"
   },
   {
    "duration": 20,
    "start_time": "2023-03-03T07:52:10.668Z"
   },
   {
    "duration": 102,
    "start_time": "2023-03-03T07:55:32.672Z"
   },
   {
    "duration": 886,
    "start_time": "2023-03-03T07:57:20.995Z"
   },
   {
    "duration": 20,
    "start_time": "2023-03-03T07:57:29.764Z"
   },
   {
    "duration": 15,
    "start_time": "2023-03-03T07:57:40.729Z"
   },
   {
    "duration": 16,
    "start_time": "2023-03-03T07:59:50.038Z"
   },
   {
    "duration": 281,
    "start_time": "2023-03-03T07:59:52.488Z"
   },
   {
    "duration": 24,
    "start_time": "2023-03-03T07:59:53.094Z"
   },
   {
    "duration": 322,
    "start_time": "2023-03-03T07:59:53.488Z"
   },
   {
    "duration": 236,
    "start_time": "2023-03-03T07:59:54.760Z"
   },
   {
    "duration": 412,
    "start_time": "2023-03-03T07:59:55.169Z"
   },
   {
    "duration": 311,
    "start_time": "2023-03-03T07:59:55.583Z"
   },
   {
    "duration": 384,
    "start_time": "2023-03-03T07:59:55.942Z"
   },
   {
    "duration": 122,
    "start_time": "2023-03-03T07:59:56.547Z"
   },
   {
    "duration": 6,
    "start_time": "2023-03-03T07:59:57.373Z"
   },
   {
    "duration": 139,
    "start_time": "2023-03-03T07:59:58.707Z"
   },
   {
    "duration": 4,
    "start_time": "2023-03-03T07:59:59.828Z"
   },
   {
    "duration": 225,
    "start_time": "2023-03-03T08:00:01.224Z"
   },
   {
    "duration": 9,
    "start_time": "2023-03-03T08:00:04.591Z"
   },
   {
    "duration": 8,
    "start_time": "2023-03-03T08:00:04.791Z"
   },
   {
    "duration": 1080,
    "start_time": "2023-03-03T08:08:43.739Z"
   },
   {
    "duration": 36,
    "start_time": "2023-03-03T08:08:44.822Z"
   },
   {
    "duration": 11,
    "start_time": "2023-03-03T08:08:44.859Z"
   },
   {
    "duration": 9,
    "start_time": "2023-03-03T08:08:44.872Z"
   },
   {
    "duration": 103,
    "start_time": "2023-03-03T08:08:44.882Z"
   },
   {
    "duration": 14,
    "start_time": "2023-03-03T08:08:44.987Z"
   },
   {
    "duration": 354,
    "start_time": "2023-03-03T08:08:45.003Z"
   },
   {
    "duration": 30,
    "start_time": "2023-03-03T08:08:45.359Z"
   },
   {
    "duration": 383,
    "start_time": "2023-03-03T08:08:45.391Z"
   },
   {
    "duration": 285,
    "start_time": "2023-03-03T08:08:45.777Z"
   },
   {
    "duration": 369,
    "start_time": "2023-03-03T08:08:46.063Z"
   },
   {
    "duration": 348,
    "start_time": "2023-03-03T08:08:46.434Z"
   },
   {
    "duration": 342,
    "start_time": "2023-03-03T08:08:46.783Z"
   },
   {
    "duration": 128,
    "start_time": "2023-03-03T08:08:47.127Z"
   },
   {
    "duration": 4,
    "start_time": "2023-03-03T08:08:47.257Z"
   },
   {
    "duration": 193,
    "start_time": "2023-03-03T08:08:47.262Z"
   },
   {
    "duration": 6,
    "start_time": "2023-03-03T08:08:47.457Z"
   },
   {
    "duration": 275,
    "start_time": "2023-03-03T08:08:47.467Z"
   },
   {
    "duration": 255,
    "start_time": "2023-03-03T08:08:47.743Z"
   },
   {
    "duration": 0,
    "start_time": "2023-03-03T08:08:48.000Z"
   },
   {
    "duration": 0,
    "start_time": "2023-03-03T08:08:48.001Z"
   },
   {
    "duration": 0,
    "start_time": "2023-03-03T08:08:48.002Z"
   },
   {
    "duration": 0,
    "start_time": "2023-03-03T08:08:48.003Z"
   },
   {
    "duration": 0,
    "start_time": "2023-03-03T08:08:48.005Z"
   },
   {
    "duration": 767,
    "start_time": "2023-03-03T08:11:47.358Z"
   },
   {
    "duration": 3,
    "start_time": "2023-03-03T08:12:00.540Z"
   },
   {
    "duration": 31,
    "start_time": "2023-03-03T08:12:02.569Z"
   },
   {
    "duration": 11,
    "start_time": "2023-03-03T08:12:04.498Z"
   },
   {
    "duration": 12,
    "start_time": "2023-03-03T08:12:06.278Z"
   },
   {
    "duration": 115,
    "start_time": "2023-03-03T08:12:08.137Z"
   },
   {
    "duration": 15,
    "start_time": "2023-03-03T08:12:08.309Z"
   },
   {
    "duration": 289,
    "start_time": "2023-03-03T08:12:10.363Z"
   },
   {
    "duration": 30,
    "start_time": "2023-03-03T08:12:11.188Z"
   },
   {
    "duration": 353,
    "start_time": "2023-03-03T08:12:11.599Z"
   },
   {
    "duration": 246,
    "start_time": "2023-03-03T08:12:13.356Z"
   },
   {
    "duration": 328,
    "start_time": "2023-03-03T08:12:13.871Z"
   },
   {
    "duration": 268,
    "start_time": "2023-03-03T08:12:14.431Z"
   },
   {
    "duration": 330,
    "start_time": "2023-03-03T08:12:14.890Z"
   },
   {
    "duration": 131,
    "start_time": "2023-03-03T08:12:15.640Z"
   },
   {
    "duration": 5,
    "start_time": "2023-03-03T08:12:16.638Z"
   },
   {
    "duration": 142,
    "start_time": "2023-03-03T08:12:17.843Z"
   },
   {
    "duration": 4,
    "start_time": "2023-03-03T08:12:20.833Z"
   },
   {
    "duration": 229,
    "start_time": "2023-03-03T08:12:21.990Z"
   },
   {
    "duration": 148,
    "start_time": "2023-03-03T08:12:25.308Z"
   },
   {
    "duration": 147,
    "start_time": "2023-03-03T08:16:08.070Z"
   },
   {
    "duration": 134,
    "start_time": "2023-03-03T08:16:32.973Z"
   },
   {
    "duration": 140,
    "start_time": "2023-03-03T08:18:20.603Z"
   },
   {
    "duration": 321,
    "start_time": "2023-03-03T08:19:26.926Z"
   },
   {
    "duration": 298,
    "start_time": "2023-03-03T08:19:37.878Z"
   },
   {
    "duration": 13,
    "start_time": "2023-03-03T08:40:25.005Z"
   },
   {
    "duration": 4,
    "start_time": "2023-03-03T08:40:36.901Z"
   },
   {
    "duration": 31,
    "start_time": "2023-03-03T08:40:38.010Z"
   },
   {
    "duration": 14,
    "start_time": "2023-03-03T08:40:57.783Z"
   },
   {
    "duration": 12,
    "start_time": "2023-03-03T08:40:58.985Z"
   },
   {
    "duration": 111,
    "start_time": "2023-03-03T08:41:01.907Z"
   },
   {
    "duration": 13,
    "start_time": "2023-03-03T08:41:02.286Z"
   },
   {
    "duration": 16,
    "start_time": "2023-03-03T08:41:13.341Z"
   },
   {
    "duration": 35,
    "start_time": "2023-03-03T08:47:47.908Z"
   },
   {
    "duration": 22,
    "start_time": "2023-03-03T08:48:46.572Z"
   },
   {
    "duration": 18,
    "start_time": "2023-03-03T08:48:51.373Z"
   },
   {
    "duration": 12,
    "start_time": "2023-03-03T08:49:35.799Z"
   },
   {
    "duration": 6,
    "start_time": "2023-03-03T08:50:15.208Z"
   },
   {
    "duration": 11,
    "start_time": "2023-03-03T08:50:23.485Z"
   },
   {
    "duration": 9,
    "start_time": "2023-03-03T08:51:59.411Z"
   },
   {
    "duration": 604,
    "start_time": "2023-03-03T08:52:14.065Z"
   },
   {
    "duration": 34,
    "start_time": "2023-03-03T08:52:45.693Z"
   },
   {
    "duration": 30,
    "start_time": "2023-03-03T08:53:21.174Z"
   },
   {
    "duration": 12,
    "start_time": "2023-03-03T08:53:22.311Z"
   },
   {
    "duration": 11,
    "start_time": "2023-03-03T08:53:23.373Z"
   },
   {
    "duration": 115,
    "start_time": "2023-03-03T08:53:25.066Z"
   },
   {
    "duration": 35,
    "start_time": "2023-03-03T08:53:25.266Z"
   },
   {
    "duration": 540,
    "start_time": "2023-03-03T08:53:55.064Z"
   },
   {
    "duration": 561,
    "start_time": "2023-03-03T08:54:05.779Z"
   },
   {
    "duration": 29,
    "start_time": "2023-03-03T08:54:19.184Z"
   },
   {
    "duration": 12,
    "start_time": "2023-03-03T08:56:51.681Z"
   },
   {
    "duration": 19,
    "start_time": "2023-03-03T08:56:56.365Z"
   },
   {
    "duration": 20,
    "start_time": "2023-03-03T08:58:18.667Z"
   },
   {
    "duration": 15,
    "start_time": "2023-03-03T09:01:24.506Z"
   },
   {
    "duration": 48,
    "start_time": "2023-03-03T09:03:27.936Z"
   },
   {
    "duration": 12,
    "start_time": "2023-03-03T09:03:36.466Z"
   },
   {
    "duration": 19,
    "start_time": "2023-03-03T09:03:41.087Z"
   },
   {
    "duration": 14,
    "start_time": "2023-03-03T09:09:58.481Z"
   },
   {
    "duration": 16,
    "start_time": "2023-03-03T09:10:57.754Z"
   },
   {
    "duration": 15,
    "start_time": "2023-03-03T09:12:25.440Z"
   },
   {
    "duration": 11,
    "start_time": "2023-03-03T09:12:33.962Z"
   },
   {
    "duration": 4,
    "start_time": "2023-03-03T09:12:47.862Z"
   },
   {
    "duration": 32,
    "start_time": "2023-03-03T09:12:49.040Z"
   },
   {
    "duration": 12,
    "start_time": "2023-03-03T09:12:50.267Z"
   },
   {
    "duration": 10,
    "start_time": "2023-03-03T09:12:51.557Z"
   },
   {
    "duration": 120,
    "start_time": "2023-03-03T09:12:53.737Z"
   },
   {
    "duration": 17,
    "start_time": "2023-03-03T09:12:54.154Z"
   },
   {
    "duration": 115,
    "start_time": "2023-03-03T09:13:55.240Z"
   },
   {
    "duration": 12,
    "start_time": "2023-03-03T09:15:02.698Z"
   },
   {
    "duration": 23,
    "start_time": "2023-03-03T09:15:47.651Z"
   },
   {
    "duration": 4,
    "start_time": "2023-03-03T09:15:56.152Z"
   },
   {
    "duration": 33,
    "start_time": "2023-03-03T09:15:57.258Z"
   },
   {
    "duration": 13,
    "start_time": "2023-03-03T09:15:58.710Z"
   },
   {
    "duration": 14,
    "start_time": "2023-03-03T09:16:00.875Z"
   },
   {
    "duration": 116,
    "start_time": "2023-03-03T09:16:04.570Z"
   },
   {
    "duration": 18,
    "start_time": "2023-03-03T09:16:06.856Z"
   },
   {
    "duration": 13,
    "start_time": "2023-03-03T09:16:31.062Z"
   },
   {
    "duration": 16,
    "start_time": "2023-03-03T09:17:31.861Z"
   },
   {
    "duration": 313,
    "start_time": "2023-03-03T09:17:34.654Z"
   },
   {
    "duration": 43,
    "start_time": "2023-03-03T09:17:35.264Z"
   },
   {
    "duration": 364,
    "start_time": "2023-03-03T09:17:35.669Z"
   },
   {
    "duration": 273,
    "start_time": "2023-03-03T09:17:36.871Z"
   },
   {
    "duration": 441,
    "start_time": "2023-03-03T09:17:37.253Z"
   },
   {
    "duration": 398,
    "start_time": "2023-03-03T09:17:37.697Z"
   },
   {
    "duration": 413,
    "start_time": "2023-03-03T09:17:38.098Z"
   },
   {
    "duration": 181,
    "start_time": "2023-03-03T09:17:38.676Z"
   },
   {
    "duration": 5,
    "start_time": "2023-03-03T09:17:39.498Z"
   },
   {
    "duration": 152,
    "start_time": "2023-03-03T09:17:40.469Z"
   },
   {
    "duration": 5,
    "start_time": "2023-03-03T09:17:41.558Z"
   },
   {
    "duration": 243,
    "start_time": "2023-03-03T09:17:42.653Z"
   },
   {
    "duration": 311,
    "start_time": "2023-03-03T09:17:45.705Z"
   },
   {
    "duration": 14,
    "start_time": "2023-03-03T09:17:48.358Z"
   },
   {
    "duration": 144,
    "start_time": "2023-03-03T09:17:49.597Z"
   },
   {
    "duration": 6,
    "start_time": "2023-03-03T09:17:50.956Z"
   },
   {
    "duration": 16,
    "start_time": "2023-03-03T09:17:54.053Z"
   },
   {
    "duration": 18,
    "start_time": "2023-03-03T09:17:55.128Z"
   },
   {
    "duration": 1064,
    "start_time": "2023-03-04T09:45:48.866Z"
   },
   {
    "duration": 74,
    "start_time": "2023-03-04T09:45:49.932Z"
   },
   {
    "duration": 12,
    "start_time": "2023-03-04T09:45:50.008Z"
   },
   {
    "duration": 9,
    "start_time": "2023-03-04T09:45:50.022Z"
   },
   {
    "duration": 189,
    "start_time": "2023-03-04T09:45:50.033Z"
   },
   {
    "duration": 107,
    "start_time": "2023-03-04T09:45:50.223Z"
   },
   {
    "duration": 0,
    "start_time": "2023-03-04T09:45:50.332Z"
   },
   {
    "duration": 0,
    "start_time": "2023-03-04T09:45:50.333Z"
   },
   {
    "duration": 0,
    "start_time": "2023-03-04T09:45:50.334Z"
   },
   {
    "duration": 0,
    "start_time": "2023-03-04T09:45:50.335Z"
   },
   {
    "duration": 0,
    "start_time": "2023-03-04T09:45:50.336Z"
   },
   {
    "duration": 0,
    "start_time": "2023-03-04T09:45:50.337Z"
   },
   {
    "duration": 0,
    "start_time": "2023-03-04T09:45:50.338Z"
   },
   {
    "duration": 0,
    "start_time": "2023-03-04T09:45:50.339Z"
   },
   {
    "duration": 0,
    "start_time": "2023-03-04T09:45:50.340Z"
   },
   {
    "duration": 0,
    "start_time": "2023-03-04T09:45:50.341Z"
   },
   {
    "duration": 0,
    "start_time": "2023-03-04T09:45:50.342Z"
   },
   {
    "duration": 0,
    "start_time": "2023-03-04T09:45:50.343Z"
   },
   {
    "duration": 0,
    "start_time": "2023-03-04T09:45:50.345Z"
   },
   {
    "duration": 0,
    "start_time": "2023-03-04T09:45:50.346Z"
   },
   {
    "duration": 0,
    "start_time": "2023-03-04T09:45:50.346Z"
   },
   {
    "duration": 0,
    "start_time": "2023-03-04T09:45:50.347Z"
   },
   {
    "duration": 0,
    "start_time": "2023-03-04T09:45:50.348Z"
   },
   {
    "duration": 0,
    "start_time": "2023-03-04T09:45:50.349Z"
   },
   {
    "duration": 0,
    "start_time": "2023-03-04T09:45:50.350Z"
   },
   {
    "duration": 13,
    "start_time": "2023-03-04T09:46:03.253Z"
   },
   {
    "duration": 908,
    "start_time": "2023-03-04T09:46:14.955Z"
   },
   {
    "duration": 837,
    "start_time": "2023-03-04T09:46:21.487Z"
   },
   {
    "duration": 13,
    "start_time": "2023-03-04T09:46:24.478Z"
   },
   {
    "duration": 9,
    "start_time": "2023-03-04T09:46:28.553Z"
   },
   {
    "duration": 9,
    "start_time": "2023-03-04T09:46:32.335Z"
   },
   {
    "duration": 996,
    "start_time": "2023-03-04T09:47:08.555Z"
   },
   {
    "duration": 35,
    "start_time": "2023-03-04T09:47:09.553Z"
   },
   {
    "duration": 14,
    "start_time": "2023-03-04T09:47:09.590Z"
   },
   {
    "duration": 13,
    "start_time": "2023-03-04T09:47:09.607Z"
   },
   {
    "duration": 112,
    "start_time": "2023-03-04T09:47:09.621Z"
   },
   {
    "duration": 14,
    "start_time": "2023-03-04T09:47:09.734Z"
   },
   {
    "duration": 331,
    "start_time": "2023-03-04T09:47:09.749Z"
   },
   {
    "duration": 39,
    "start_time": "2023-03-04T09:47:10.082Z"
   },
   {
    "duration": 330,
    "start_time": "2023-03-04T09:47:10.122Z"
   },
   {
    "duration": 255,
    "start_time": "2023-03-04T09:47:10.454Z"
   },
   {
    "duration": 322,
    "start_time": "2023-03-04T09:47:10.711Z"
   },
   {
    "duration": 250,
    "start_time": "2023-03-04T09:47:11.034Z"
   },
   {
    "duration": 368,
    "start_time": "2023-03-04T09:47:11.285Z"
   },
   {
    "duration": 130,
    "start_time": "2023-03-04T09:47:11.654Z"
   },
   {
    "duration": 5,
    "start_time": "2023-03-04T09:47:11.791Z"
   },
   {
    "duration": 130,
    "start_time": "2023-03-04T09:47:11.799Z"
   },
   {
    "duration": 4,
    "start_time": "2023-03-04T09:47:11.931Z"
   },
   {
    "duration": 220,
    "start_time": "2023-03-04T09:47:11.937Z"
   },
   {
    "duration": 293,
    "start_time": "2023-03-04T09:47:12.159Z"
   },
   {
    "duration": 10,
    "start_time": "2023-03-04T09:47:12.454Z"
   },
   {
    "duration": 153,
    "start_time": "2023-03-04T09:47:12.466Z"
   },
   {
    "duration": 5,
    "start_time": "2023-03-04T09:47:12.620Z"
   },
   {
    "duration": 107,
    "start_time": "2023-03-04T09:47:12.626Z"
   },
   {
    "duration": 0,
    "start_time": "2023-03-04T09:47:12.735Z"
   },
   {
    "duration": 1288,
    "start_time": "2023-03-04T10:53:47.238Z"
   },
   {
    "duration": 93,
    "start_time": "2023-03-04T10:53:55.106Z"
   },
   {
    "duration": 13,
    "start_time": "2023-03-04T10:53:58.212Z"
   },
   {
    "duration": 12,
    "start_time": "2023-03-04T10:54:19.753Z"
   },
   {
    "duration": 205,
    "start_time": "2023-03-04T10:54:30.319Z"
   },
   {
    "duration": 19,
    "start_time": "2023-03-04T10:54:30.791Z"
   },
   {
    "duration": 107,
    "start_time": "2023-03-04T10:56:04.918Z"
   },
   {
    "duration": 16,
    "start_time": "2023-03-04T10:56:16.711Z"
   },
   {
    "duration": 14,
    "start_time": "2023-03-04T10:57:17.485Z"
   },
   {
    "duration": 14,
    "start_time": "2023-03-04T10:58:10.581Z"
   },
   {
    "duration": 16,
    "start_time": "2023-03-04T10:58:32.573Z"
   },
   {
    "duration": 15,
    "start_time": "2023-03-04T10:58:57.666Z"
   },
   {
    "duration": 4,
    "start_time": "2023-03-04T10:59:05.334Z"
   },
   {
    "duration": 34,
    "start_time": "2023-03-04T10:59:06.974Z"
   },
   {
    "duration": 12,
    "start_time": "2023-03-04T10:59:08.476Z"
   },
   {
    "duration": 13,
    "start_time": "2023-03-04T10:59:10.154Z"
   },
   {
    "duration": 117,
    "start_time": "2023-03-04T10:59:12.381Z"
   },
   {
    "duration": 16,
    "start_time": "2023-03-04T10:59:14.525Z"
   },
   {
    "duration": 323,
    "start_time": "2023-03-04T11:00:32.765Z"
   },
   {
    "duration": 36,
    "start_time": "2023-03-04T11:00:33.750Z"
   },
   {
    "duration": 354,
    "start_time": "2023-03-04T11:00:34.463Z"
   },
   {
    "duration": 270,
    "start_time": "2023-03-04T11:00:40.065Z"
   },
   {
    "duration": 442,
    "start_time": "2023-03-04T11:00:40.830Z"
   },
   {
    "duration": 316,
    "start_time": "2023-03-04T11:00:41.309Z"
   },
   {
    "duration": 381,
    "start_time": "2023-03-04T11:00:41.831Z"
   },
   {
    "duration": 145,
    "start_time": "2023-03-04T11:00:42.996Z"
   },
   {
    "duration": 6,
    "start_time": "2023-03-04T11:00:44.330Z"
   },
   {
    "duration": 134,
    "start_time": "2023-03-04T11:00:47.632Z"
   },
   {
    "duration": 5,
    "start_time": "2023-03-04T11:00:55.765Z"
   },
   {
    "duration": 299,
    "start_time": "2023-03-04T11:00:57.968Z"
   },
   {
    "duration": 4,
    "start_time": "2023-03-04T11:02:54.174Z"
   },
   {
    "duration": 33,
    "start_time": "2023-03-04T11:02:55.881Z"
   },
   {
    "duration": 15,
    "start_time": "2023-03-04T11:02:57.263Z"
   },
   {
    "duration": 12,
    "start_time": "2023-03-04T11:02:58.725Z"
   },
   {
    "duration": 121,
    "start_time": "2023-03-04T11:03:01.282Z"
   },
   {
    "duration": 17,
    "start_time": "2023-03-04T11:03:01.757Z"
   },
   {
    "duration": 329,
    "start_time": "2023-03-04T11:03:06.008Z"
   },
   {
    "duration": 31,
    "start_time": "2023-03-04T11:03:07.254Z"
   },
   {
    "duration": 261,
    "start_time": "2023-03-04T11:03:07.693Z"
   },
   {
    "duration": 279,
    "start_time": "2023-03-04T11:03:10.511Z"
   },
   {
    "duration": 381,
    "start_time": "2023-03-04T11:03:11.108Z"
   },
   {
    "duration": 276,
    "start_time": "2023-03-04T11:03:11.751Z"
   },
   {
    "duration": 404,
    "start_time": "2023-03-04T11:03:12.296Z"
   },
   {
    "duration": 148,
    "start_time": "2023-03-04T11:03:13.307Z"
   },
   {
    "duration": 4,
    "start_time": "2023-03-04T11:03:15.430Z"
   },
   {
    "duration": 163,
    "start_time": "2023-03-04T11:03:18.830Z"
   },
   {
    "duration": 4,
    "start_time": "2023-03-04T11:03:21.935Z"
   },
   {
    "duration": 294,
    "start_time": "2023-03-04T11:03:31.173Z"
   },
   {
    "duration": 11,
    "start_time": "2023-03-04T11:03:33.955Z"
   },
   {
    "duration": 168,
    "start_time": "2023-03-04T11:03:36.507Z"
   },
   {
    "duration": 6,
    "start_time": "2023-03-04T11:03:39.764Z"
   },
   {
    "duration": 31,
    "start_time": "2023-03-04T11:06:32.475Z"
   },
   {
    "duration": 3,
    "start_time": "2023-03-04T11:18:33.488Z"
   },
   {
    "duration": 33,
    "start_time": "2023-03-04T11:18:34.987Z"
   },
   {
    "duration": 11,
    "start_time": "2023-03-04T11:18:36.746Z"
   },
   {
    "duration": 14,
    "start_time": "2023-03-04T11:18:38.377Z"
   },
   {
    "duration": 120,
    "start_time": "2023-03-04T11:18:41.085Z"
   },
   {
    "duration": 17,
    "start_time": "2023-03-04T11:18:41.840Z"
   },
   {
    "duration": 18,
    "start_time": "2023-03-04T11:18:51.194Z"
   },
   {
    "duration": 3,
    "start_time": "2023-03-04T11:19:02.480Z"
   },
   {
    "duration": 32,
    "start_time": "2023-03-04T11:19:04.470Z"
   },
   {
    "duration": 13,
    "start_time": "2023-03-04T11:19:06.281Z"
   },
   {
    "duration": 12,
    "start_time": "2023-03-04T11:19:08.036Z"
   },
   {
    "duration": 120,
    "start_time": "2023-03-04T11:19:11.570Z"
   },
   {
    "duration": 18,
    "start_time": "2023-03-04T11:19:13.481Z"
   },
   {
    "duration": 326,
    "start_time": "2023-03-04T11:19:21.369Z"
   },
   {
    "duration": 31,
    "start_time": "2023-03-04T11:19:22.368Z"
   },
   {
    "duration": 273,
    "start_time": "2023-03-04T11:19:23.119Z"
   },
   {
    "duration": 261,
    "start_time": "2023-03-04T11:19:27.269Z"
   },
   {
    "duration": 410,
    "start_time": "2023-03-04T11:19:29.498Z"
   },
   {
    "duration": 383,
    "start_time": "2023-03-04T11:19:31.045Z"
   },
   {
    "duration": 359,
    "start_time": "2023-03-04T11:19:32.986Z"
   },
   {
    "duration": 153,
    "start_time": "2023-03-04T11:19:36.149Z"
   },
   {
    "duration": 6,
    "start_time": "2023-03-04T11:19:48.815Z"
   },
   {
    "duration": 138,
    "start_time": "2023-03-04T11:19:53.062Z"
   },
   {
    "duration": 5,
    "start_time": "2023-03-04T11:19:59.650Z"
   },
   {
    "duration": 287,
    "start_time": "2023-03-04T11:20:16.641Z"
   },
   {
    "duration": 12,
    "start_time": "2023-03-04T11:20:20.254Z"
   },
   {
    "duration": 143,
    "start_time": "2023-03-04T11:20:22.991Z"
   },
   {
    "duration": 6,
    "start_time": "2023-03-04T11:20:25.909Z"
   },
   {
    "duration": 31,
    "start_time": "2023-03-04T11:20:39.827Z"
   },
   {
    "duration": 15,
    "start_time": "2023-03-04T11:20:43.370Z"
   },
   {
    "duration": 1177,
    "start_time": "2023-03-04T11:23:02.336Z"
   },
   {
    "duration": 39,
    "start_time": "2023-03-04T11:23:03.515Z"
   },
   {
    "duration": 17,
    "start_time": "2023-03-04T11:23:03.557Z"
   },
   {
    "duration": 32,
    "start_time": "2023-03-04T11:23:03.577Z"
   },
   {
    "duration": 126,
    "start_time": "2023-03-04T11:23:03.611Z"
   },
   {
    "duration": 23,
    "start_time": "2023-03-04T11:23:03.740Z"
   },
   {
    "duration": 394,
    "start_time": "2023-03-04T11:23:03.765Z"
   },
   {
    "duration": 34,
    "start_time": "2023-03-04T11:23:04.161Z"
   },
   {
    "duration": 428,
    "start_time": "2023-03-04T11:23:04.198Z"
   },
   {
    "duration": 328,
    "start_time": "2023-03-04T11:23:04.630Z"
   },
   {
    "duration": 360,
    "start_time": "2023-03-04T11:23:04.960Z"
   },
   {
    "duration": 346,
    "start_time": "2023-03-04T11:23:05.322Z"
   },
   {
    "duration": 380,
    "start_time": "2023-03-04T11:23:05.671Z"
   },
   {
    "duration": 163,
    "start_time": "2023-03-04T11:23:06.053Z"
   },
   {
    "duration": 9,
    "start_time": "2023-03-04T11:23:06.218Z"
   },
   {
    "duration": 155,
    "start_time": "2023-03-04T11:23:06.229Z"
   },
   {
    "duration": 5,
    "start_time": "2023-03-04T11:23:06.386Z"
   },
   {
    "duration": 347,
    "start_time": "2023-03-04T11:23:06.393Z"
   },
   {
    "duration": 13,
    "start_time": "2023-03-04T11:23:06.741Z"
   },
   {
    "duration": 213,
    "start_time": "2023-03-04T11:23:06.755Z"
   },
   {
    "duration": 6,
    "start_time": "2023-03-04T11:23:06.969Z"
   },
   {
    "duration": 51,
    "start_time": "2023-03-04T11:23:06.977Z"
   },
   {
    "duration": 16,
    "start_time": "2023-03-04T11:23:07.030Z"
   },
   {
    "duration": 1123,
    "start_time": "2023-03-04T11:23:31.479Z"
   },
   {
    "duration": 38,
    "start_time": "2023-03-04T11:23:32.604Z"
   },
   {
    "duration": 13,
    "start_time": "2023-03-04T11:23:32.643Z"
   },
   {
    "duration": 12,
    "start_time": "2023-03-04T11:23:32.658Z"
   },
   {
    "duration": 109,
    "start_time": "2023-03-04T11:23:32.672Z"
   },
   {
    "duration": 16,
    "start_time": "2023-03-04T11:23:32.782Z"
   },
   {
    "duration": 304,
    "start_time": "2023-03-04T11:23:32.799Z"
   },
   {
    "duration": 34,
    "start_time": "2023-03-04T11:23:33.105Z"
   },
   {
    "duration": 359,
    "start_time": "2023-03-04T11:23:33.141Z"
   },
   {
    "duration": 290,
    "start_time": "2023-03-04T11:23:33.503Z"
   },
   {
    "duration": 387,
    "start_time": "2023-03-04T11:23:33.795Z"
   },
   {
    "duration": 346,
    "start_time": "2023-03-04T11:23:34.191Z"
   },
   {
    "duration": 359,
    "start_time": "2023-03-04T11:23:34.538Z"
   },
   {
    "duration": 154,
    "start_time": "2023-03-04T11:23:34.899Z"
   },
   {
    "duration": 5,
    "start_time": "2023-03-04T11:23:35.055Z"
   },
   {
    "duration": 153,
    "start_time": "2023-03-04T11:23:35.063Z"
   },
   {
    "duration": 9,
    "start_time": "2023-03-04T11:23:35.218Z"
   },
   {
    "duration": 321,
    "start_time": "2023-03-04T11:23:35.229Z"
   },
   {
    "duration": 10,
    "start_time": "2023-03-04T11:23:35.552Z"
   },
   {
    "duration": 149,
    "start_time": "2023-03-04T11:23:35.564Z"
   },
   {
    "duration": 11,
    "start_time": "2023-03-04T11:23:35.715Z"
   },
   {
    "duration": 38,
    "start_time": "2023-03-04T11:23:35.728Z"
   },
   {
    "duration": 15,
    "start_time": "2023-03-04T11:23:35.768Z"
   },
   {
    "duration": 1202,
    "start_time": "2023-03-04T11:24:35.401Z"
   },
   {
    "duration": 40,
    "start_time": "2023-03-04T11:24:36.605Z"
   },
   {
    "duration": 19,
    "start_time": "2023-03-04T11:24:36.646Z"
   },
   {
    "duration": 17,
    "start_time": "2023-03-04T11:24:36.668Z"
   },
   {
    "duration": 152,
    "start_time": "2023-03-04T11:24:36.687Z"
   },
   {
    "duration": 21,
    "start_time": "2023-03-04T11:24:36.841Z"
   },
   {
    "duration": 327,
    "start_time": "2023-03-04T11:24:36.864Z"
   },
   {
    "duration": 40,
    "start_time": "2023-03-04T11:24:37.193Z"
   },
   {
    "duration": 367,
    "start_time": "2023-03-04T11:24:37.234Z"
   },
   {
    "duration": 295,
    "start_time": "2023-03-04T11:24:37.603Z"
   },
   {
    "duration": 404,
    "start_time": "2023-03-04T11:24:37.900Z"
   },
   {
    "duration": 331,
    "start_time": "2023-03-04T11:24:38.306Z"
   },
   {
    "duration": 416,
    "start_time": "2023-03-04T11:24:38.639Z"
   },
   {
    "duration": 173,
    "start_time": "2023-03-04T11:24:39.057Z"
   },
   {
    "duration": 5,
    "start_time": "2023-03-04T11:24:39.232Z"
   },
   {
    "duration": 155,
    "start_time": "2023-03-04T11:24:39.239Z"
   },
   {
    "duration": 5,
    "start_time": "2023-03-04T11:24:39.396Z"
   },
   {
    "duration": 308,
    "start_time": "2023-03-04T11:24:39.404Z"
   },
   {
    "duration": 18,
    "start_time": "2023-03-04T11:24:39.714Z"
   },
   {
    "duration": 150,
    "start_time": "2023-03-04T11:24:39.734Z"
   },
   {
    "duration": 7,
    "start_time": "2023-03-04T11:24:39.886Z"
   },
   {
    "duration": 52,
    "start_time": "2023-03-04T11:24:39.895Z"
   },
   {
    "duration": 15,
    "start_time": "2023-03-04T11:24:39.949Z"
   },
   {
    "duration": 986,
    "start_time": "2023-03-04T11:44:24.543Z"
   },
   {
    "duration": 37,
    "start_time": "2023-03-04T11:44:25.531Z"
   },
   {
    "duration": 12,
    "start_time": "2023-03-04T11:44:25.569Z"
   },
   {
    "duration": 10,
    "start_time": "2023-03-04T11:44:25.584Z"
   },
   {
    "duration": 107,
    "start_time": "2023-03-04T11:44:25.596Z"
   },
   {
    "duration": 15,
    "start_time": "2023-03-04T11:44:25.705Z"
   },
   {
    "duration": 320,
    "start_time": "2023-03-04T11:44:25.721Z"
   },
   {
    "duration": 25,
    "start_time": "2023-03-04T11:44:26.042Z"
   },
   {
    "duration": 352,
    "start_time": "2023-03-04T11:44:26.069Z"
   },
   {
    "duration": 272,
    "start_time": "2023-03-04T11:44:26.424Z"
   },
   {
    "duration": 342,
    "start_time": "2023-03-04T11:44:26.697Z"
   },
   {
    "duration": 247,
    "start_time": "2023-03-04T11:44:27.040Z"
   },
   {
    "duration": 342,
    "start_time": "2023-03-04T11:44:27.290Z"
   },
   {
    "duration": 135,
    "start_time": "2023-03-04T11:44:27.633Z"
   },
   {
    "duration": 3,
    "start_time": "2023-03-04T11:44:27.770Z"
   },
   {
    "duration": 127,
    "start_time": "2023-03-04T11:44:27.775Z"
   },
   {
    "duration": 5,
    "start_time": "2023-03-04T11:44:27.904Z"
   },
   {
    "duration": 316,
    "start_time": "2023-03-04T11:44:27.911Z"
   },
   {
    "duration": 11,
    "start_time": "2023-03-04T11:44:28.229Z"
   },
   {
    "duration": 138,
    "start_time": "2023-03-04T11:44:28.241Z"
   },
   {
    "duration": 14,
    "start_time": "2023-03-04T11:44:28.380Z"
   },
   {
    "duration": 46,
    "start_time": "2023-03-04T11:44:28.396Z"
   },
   {
    "duration": 15,
    "start_time": "2023-03-04T11:44:28.444Z"
   }
  ],
  "kernelspec": {
   "display_name": "Python 3 (ipykernel)",
   "language": "python",
   "name": "python3"
  },
  "language_info": {
   "codemirror_mode": {
    "name": "ipython",
    "version": 3
   },
   "file_extension": ".py",
   "mimetype": "text/x-python",
   "name": "python",
   "nbconvert_exporter": "python",
   "pygments_lexer": "ipython3",
   "version": "3.9.12"
  },
  "toc": {
   "base_numbering": 1,
   "nav_menu": {},
   "number_sections": true,
   "sideBar": true,
   "skip_h1_title": true,
   "title_cell": "Table of Contents",
   "title_sidebar": "Contents",
   "toc_cell": false,
   "toc_position": {
    "height": "calc(100% - 180px)",
    "left": "10px",
    "top": "150px",
    "width": "336px"
   },
   "toc_section_display": true,
   "toc_window_display": true
  }
 },
 "nbformat": 4,
 "nbformat_minor": 2
}
