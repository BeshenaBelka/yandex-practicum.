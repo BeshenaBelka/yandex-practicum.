{
 "cells": [
  {
   "cell_type": "markdown",
   "id": "4225a7df",
   "metadata": {},
   "source": [
    "Дашборд: https://public.tableau.com/views/proect_yandex_dzen/Yandex_Dzen?:language=en-US&:display_count=n&:origin=viz_share_link"
   ]
  },
  {
   "cell_type": "markdown",
   "id": "c4229415",
   "metadata": {},
   "source": [
    "Презентация: https://disk.yandex.ru/i/NNf1gkXC9C9_sg"
   ]
  }
 ],
 "metadata": {
  "kernelspec": {
   "display_name": "Python 3 (ipykernel)",
   "language": "python",
   "name": "python3"
  },
  "language_info": {
   "codemirror_mode": {
    "name": "ipython",
    "version": 3
   },
   "file_extension": ".py",
   "mimetype": "text/x-python",
   "name": "python",
   "nbconvert_exporter": "python",
   "pygments_lexer": "ipython3",
   "version": "3.9.12"
  }
 },
 "nbformat": 4,
 "nbformat_minor": 5
}
