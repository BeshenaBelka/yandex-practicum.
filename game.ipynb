{
 "cells": [
  {
   "cell_type": "markdown",
   "metadata": {},
   "source": [
    "# Исследование для интернет-магазина «Стримчик»"
   ]
  },
  {
   "cell_type": "markdown",
   "metadata": {},
   "source": [
    "Цель: выявить определяющие успешность игры закономерности. Это позволит сделать ставку на потенциально популярный продукт и спланировать рекламные кампании на 2017 год."
   ]
  },
  {
   "cell_type": "markdown",
   "metadata": {},
   "source": [
    "Перед нами данные до 2016 года. В наборе данных попадается аббревиатура ESRB (Entertainment Software Rating Board) — это ассоциация, определяющая возрастной рейтинг компьютерных игр. ESRB оценивает игровой контент и присваивает ему подходящую возрастную категорию, например, «Для взрослых», «Для детей младшего возраста» или «Для подростков»."
   ]
  },
  {
   "cell_type": "markdown",
   "metadata": {},
   "source": [
    "Краткое описание данных: перед нами данные 2016 года. Структура датафрейма: \n",
    "\n",
    "Name — название игры\n",
    "\n",
    "Platform — платформа\n",
    "\n",
    "Year_of_Release — год выпуска\n",
    "\n",
    "Genre — жанр игры\n",
    "\n",
    "NA_sales — продажи в Северной Америке (миллионы проданных копий)\n",
    "\n",
    "EU_sales — продажи в Европе (миллионы проданных копий)\n",
    "\n",
    "JP_sales — продажи в Японии (миллионы проданных копий)\n",
    "\n",
    "Other_sales — продажи в других странах (миллионы проданных копий)\n",
    "\n",
    "Critic_Score — оценка критиков (максимум 100)\n",
    "\n",
    "User_Score — оценка пользователей (максимум 10)\n",
    "\n",
    "Rating — рейтинг от организации ESRB (англ. Entertainment Software Rating Board). Эта ассоциация определяет рейтинг компьютерных игр и присваивает им подходящую возрастную категорию."
   ]
  },
  {
   "cell_type": "code",
   "execution_count": 128,
   "metadata": {},
   "outputs": [],
   "source": [
    "import seaborn as sns\n",
    "import numpy as np\n",
    "import pandas as pd\n",
    "import matplotlib as mpl\n",
    "import matplotlib.pyplot as plt\n",
    "from scipy import stats as st"
   ]
  },
  {
   "cell_type": "code",
   "execution_count": 129,
   "metadata": {},
   "outputs": [],
   "source": [
    "data=pd.read_csv('/datasets/games.csv')"
   ]
  },
  {
   "cell_type": "markdown",
   "metadata": {},
   "source": [
    "## Подготовка данных"
   ]
  },
  {
   "cell_type": "markdown",
   "metadata": {},
   "source": [
    "Посмотрим на датафрейм, а так же на информацию по нему. "
   ]
  },
  {
   "cell_type": "code",
   "execution_count": 130,
   "metadata": {},
   "outputs": [
    {
     "data": {
      "text/html": [
       "<div>\n",
       "<style scoped>\n",
       "    .dataframe tbody tr th:only-of-type {\n",
       "        vertical-align: middle;\n",
       "    }\n",
       "\n",
       "    .dataframe tbody tr th {\n",
       "        vertical-align: top;\n",
       "    }\n",
       "\n",
       "    .dataframe thead th {\n",
       "        text-align: right;\n",
       "    }\n",
       "</style>\n",
       "<table border=\"1\" class=\"dataframe\">\n",
       "  <thead>\n",
       "    <tr style=\"text-align: right;\">\n",
       "      <th></th>\n",
       "      <th>Name</th>\n",
       "      <th>Platform</th>\n",
       "      <th>Year_of_Release</th>\n",
       "      <th>Genre</th>\n",
       "      <th>NA_sales</th>\n",
       "      <th>EU_sales</th>\n",
       "      <th>JP_sales</th>\n",
       "      <th>Other_sales</th>\n",
       "      <th>Critic_Score</th>\n",
       "      <th>User_Score</th>\n",
       "      <th>Rating</th>\n",
       "    </tr>\n",
       "  </thead>\n",
       "  <tbody>\n",
       "    <tr>\n",
       "      <th>0</th>\n",
       "      <td>Wii Sports</td>\n",
       "      <td>Wii</td>\n",
       "      <td>2006.0</td>\n",
       "      <td>Sports</td>\n",
       "      <td>41.36</td>\n",
       "      <td>28.96</td>\n",
       "      <td>3.77</td>\n",
       "      <td>8.45</td>\n",
       "      <td>76.0</td>\n",
       "      <td>8</td>\n",
       "      <td>E</td>\n",
       "    </tr>\n",
       "    <tr>\n",
       "      <th>1</th>\n",
       "      <td>Super Mario Bros.</td>\n",
       "      <td>NES</td>\n",
       "      <td>1985.0</td>\n",
       "      <td>Platform</td>\n",
       "      <td>29.08</td>\n",
       "      <td>3.58</td>\n",
       "      <td>6.81</td>\n",
       "      <td>0.77</td>\n",
       "      <td>NaN</td>\n",
       "      <td>NaN</td>\n",
       "      <td>NaN</td>\n",
       "    </tr>\n",
       "    <tr>\n",
       "      <th>2</th>\n",
       "      <td>Mario Kart Wii</td>\n",
       "      <td>Wii</td>\n",
       "      <td>2008.0</td>\n",
       "      <td>Racing</td>\n",
       "      <td>15.68</td>\n",
       "      <td>12.76</td>\n",
       "      <td>3.79</td>\n",
       "      <td>3.29</td>\n",
       "      <td>82.0</td>\n",
       "      <td>8.3</td>\n",
       "      <td>E</td>\n",
       "    </tr>\n",
       "    <tr>\n",
       "      <th>3</th>\n",
       "      <td>Wii Sports Resort</td>\n",
       "      <td>Wii</td>\n",
       "      <td>2009.0</td>\n",
       "      <td>Sports</td>\n",
       "      <td>15.61</td>\n",
       "      <td>10.93</td>\n",
       "      <td>3.28</td>\n",
       "      <td>2.95</td>\n",
       "      <td>80.0</td>\n",
       "      <td>8</td>\n",
       "      <td>E</td>\n",
       "    </tr>\n",
       "    <tr>\n",
       "      <th>4</th>\n",
       "      <td>Pokemon Red/Pokemon Blue</td>\n",
       "      <td>GB</td>\n",
       "      <td>1996.0</td>\n",
       "      <td>Role-Playing</td>\n",
       "      <td>11.27</td>\n",
       "      <td>8.89</td>\n",
       "      <td>10.22</td>\n",
       "      <td>1.00</td>\n",
       "      <td>NaN</td>\n",
       "      <td>NaN</td>\n",
       "      <td>NaN</td>\n",
       "    </tr>\n",
       "    <tr>\n",
       "      <th>5</th>\n",
       "      <td>Tetris</td>\n",
       "      <td>GB</td>\n",
       "      <td>1989.0</td>\n",
       "      <td>Puzzle</td>\n",
       "      <td>23.20</td>\n",
       "      <td>2.26</td>\n",
       "      <td>4.22</td>\n",
       "      <td>0.58</td>\n",
       "      <td>NaN</td>\n",
       "      <td>NaN</td>\n",
       "      <td>NaN</td>\n",
       "    </tr>\n",
       "    <tr>\n",
       "      <th>6</th>\n",
       "      <td>New Super Mario Bros.</td>\n",
       "      <td>DS</td>\n",
       "      <td>2006.0</td>\n",
       "      <td>Platform</td>\n",
       "      <td>11.28</td>\n",
       "      <td>9.14</td>\n",
       "      <td>6.50</td>\n",
       "      <td>2.88</td>\n",
       "      <td>89.0</td>\n",
       "      <td>8.5</td>\n",
       "      <td>E</td>\n",
       "    </tr>\n",
       "    <tr>\n",
       "      <th>7</th>\n",
       "      <td>Wii Play</td>\n",
       "      <td>Wii</td>\n",
       "      <td>2006.0</td>\n",
       "      <td>Misc</td>\n",
       "      <td>13.96</td>\n",
       "      <td>9.18</td>\n",
       "      <td>2.93</td>\n",
       "      <td>2.84</td>\n",
       "      <td>58.0</td>\n",
       "      <td>6.6</td>\n",
       "      <td>E</td>\n",
       "    </tr>\n",
       "    <tr>\n",
       "      <th>8</th>\n",
       "      <td>New Super Mario Bros. Wii</td>\n",
       "      <td>Wii</td>\n",
       "      <td>2009.0</td>\n",
       "      <td>Platform</td>\n",
       "      <td>14.44</td>\n",
       "      <td>6.94</td>\n",
       "      <td>4.70</td>\n",
       "      <td>2.24</td>\n",
       "      <td>87.0</td>\n",
       "      <td>8.4</td>\n",
       "      <td>E</td>\n",
       "    </tr>\n",
       "    <tr>\n",
       "      <th>9</th>\n",
       "      <td>Duck Hunt</td>\n",
       "      <td>NES</td>\n",
       "      <td>1984.0</td>\n",
       "      <td>Shooter</td>\n",
       "      <td>26.93</td>\n",
       "      <td>0.63</td>\n",
       "      <td>0.28</td>\n",
       "      <td>0.47</td>\n",
       "      <td>NaN</td>\n",
       "      <td>NaN</td>\n",
       "      <td>NaN</td>\n",
       "    </tr>\n",
       "  </tbody>\n",
       "</table>\n",
       "</div>"
      ],
      "text/plain": [
       "                        Name Platform  Year_of_Release         Genre  \\\n",
       "0                 Wii Sports      Wii           2006.0        Sports   \n",
       "1          Super Mario Bros.      NES           1985.0      Platform   \n",
       "2             Mario Kart Wii      Wii           2008.0        Racing   \n",
       "3          Wii Sports Resort      Wii           2009.0        Sports   \n",
       "4   Pokemon Red/Pokemon Blue       GB           1996.0  Role-Playing   \n",
       "5                     Tetris       GB           1989.0        Puzzle   \n",
       "6      New Super Mario Bros.       DS           2006.0      Platform   \n",
       "7                   Wii Play      Wii           2006.0          Misc   \n",
       "8  New Super Mario Bros. Wii      Wii           2009.0      Platform   \n",
       "9                  Duck Hunt      NES           1984.0       Shooter   \n",
       "\n",
       "   NA_sales  EU_sales  JP_sales  Other_sales  Critic_Score User_Score Rating  \n",
       "0     41.36     28.96      3.77         8.45          76.0          8      E  \n",
       "1     29.08      3.58      6.81         0.77           NaN        NaN    NaN  \n",
       "2     15.68     12.76      3.79         3.29          82.0        8.3      E  \n",
       "3     15.61     10.93      3.28         2.95          80.0          8      E  \n",
       "4     11.27      8.89     10.22         1.00           NaN        NaN    NaN  \n",
       "5     23.20      2.26      4.22         0.58           NaN        NaN    NaN  \n",
       "6     11.28      9.14      6.50         2.88          89.0        8.5      E  \n",
       "7     13.96      9.18      2.93         2.84          58.0        6.6      E  \n",
       "8     14.44      6.94      4.70         2.24          87.0        8.4      E  \n",
       "9     26.93      0.63      0.28         0.47           NaN        NaN    NaN  "
      ]
     },
     "metadata": {},
     "output_type": "display_data"
    }
   ],
   "source": [
    "display(data.head(10))"
   ]
  },
  {
   "cell_type": "code",
   "execution_count": 131,
   "metadata": {},
   "outputs": [
    {
     "name": "stdout",
     "output_type": "stream",
     "text": [
      "<class 'pandas.core.frame.DataFrame'>\n",
      "RangeIndex: 16715 entries, 0 to 16714\n",
      "Data columns (total 11 columns):\n",
      " #   Column           Non-Null Count  Dtype  \n",
      "---  ------           --------------  -----  \n",
      " 0   Name             16713 non-null  object \n",
      " 1   Platform         16715 non-null  object \n",
      " 2   Year_of_Release  16446 non-null  float64\n",
      " 3   Genre            16713 non-null  object \n",
      " 4   NA_sales         16715 non-null  float64\n",
      " 5   EU_sales         16715 non-null  float64\n",
      " 6   JP_sales         16715 non-null  float64\n",
      " 7   Other_sales      16715 non-null  float64\n",
      " 8   Critic_Score     8137 non-null   float64\n",
      " 9   User_Score       10014 non-null  object \n",
      " 10  Rating           9949 non-null   object \n",
      "dtypes: float64(6), object(5)\n",
      "memory usage: 1.4+ MB\n"
     ]
    },
    {
     "data": {
      "text/plain": [
       "None"
      ]
     },
     "metadata": {},
     "output_type": "display_data"
    }
   ],
   "source": [
    "display(data.info())"
   ]
  },
  {
   "cell_type": "code",
   "execution_count": 132,
   "metadata": {},
   "outputs": [
    {
     "data": {
      "text/html": [
       "<div>\n",
       "<style scoped>\n",
       "    .dataframe tbody tr th:only-of-type {\n",
       "        vertical-align: middle;\n",
       "    }\n",
       "\n",
       "    .dataframe tbody tr th {\n",
       "        vertical-align: top;\n",
       "    }\n",
       "\n",
       "    .dataframe thead th {\n",
       "        text-align: right;\n",
       "    }\n",
       "</style>\n",
       "<table border=\"1\" class=\"dataframe\">\n",
       "  <thead>\n",
       "    <tr style=\"text-align: right;\">\n",
       "      <th></th>\n",
       "      <th>Year_of_Release</th>\n",
       "      <th>NA_sales</th>\n",
       "      <th>EU_sales</th>\n",
       "      <th>JP_sales</th>\n",
       "      <th>Other_sales</th>\n",
       "      <th>Critic_Score</th>\n",
       "    </tr>\n",
       "  </thead>\n",
       "  <tbody>\n",
       "    <tr>\n",
       "      <th>count</th>\n",
       "      <td>16446.000000</td>\n",
       "      <td>16715.000000</td>\n",
       "      <td>16715.000000</td>\n",
       "      <td>16715.000000</td>\n",
       "      <td>16715.000000</td>\n",
       "      <td>8137.000000</td>\n",
       "    </tr>\n",
       "    <tr>\n",
       "      <th>mean</th>\n",
       "      <td>2006.484616</td>\n",
       "      <td>0.263377</td>\n",
       "      <td>0.145060</td>\n",
       "      <td>0.077617</td>\n",
       "      <td>0.047342</td>\n",
       "      <td>68.967679</td>\n",
       "    </tr>\n",
       "    <tr>\n",
       "      <th>std</th>\n",
       "      <td>5.877050</td>\n",
       "      <td>0.813604</td>\n",
       "      <td>0.503339</td>\n",
       "      <td>0.308853</td>\n",
       "      <td>0.186731</td>\n",
       "      <td>13.938165</td>\n",
       "    </tr>\n",
       "    <tr>\n",
       "      <th>min</th>\n",
       "      <td>1980.000000</td>\n",
       "      <td>0.000000</td>\n",
       "      <td>0.000000</td>\n",
       "      <td>0.000000</td>\n",
       "      <td>0.000000</td>\n",
       "      <td>13.000000</td>\n",
       "    </tr>\n",
       "    <tr>\n",
       "      <th>25%</th>\n",
       "      <td>2003.000000</td>\n",
       "      <td>0.000000</td>\n",
       "      <td>0.000000</td>\n",
       "      <td>0.000000</td>\n",
       "      <td>0.000000</td>\n",
       "      <td>60.000000</td>\n",
       "    </tr>\n",
       "    <tr>\n",
       "      <th>50%</th>\n",
       "      <td>2007.000000</td>\n",
       "      <td>0.080000</td>\n",
       "      <td>0.020000</td>\n",
       "      <td>0.000000</td>\n",
       "      <td>0.010000</td>\n",
       "      <td>71.000000</td>\n",
       "    </tr>\n",
       "    <tr>\n",
       "      <th>75%</th>\n",
       "      <td>2010.000000</td>\n",
       "      <td>0.240000</td>\n",
       "      <td>0.110000</td>\n",
       "      <td>0.040000</td>\n",
       "      <td>0.030000</td>\n",
       "      <td>79.000000</td>\n",
       "    </tr>\n",
       "    <tr>\n",
       "      <th>max</th>\n",
       "      <td>2016.000000</td>\n",
       "      <td>41.360000</td>\n",
       "      <td>28.960000</td>\n",
       "      <td>10.220000</td>\n",
       "      <td>10.570000</td>\n",
       "      <td>98.000000</td>\n",
       "    </tr>\n",
       "  </tbody>\n",
       "</table>\n",
       "</div>"
      ],
      "text/plain": [
       "       Year_of_Release      NA_sales      EU_sales      JP_sales  \\\n",
       "count     16446.000000  16715.000000  16715.000000  16715.000000   \n",
       "mean       2006.484616      0.263377      0.145060      0.077617   \n",
       "std           5.877050      0.813604      0.503339      0.308853   \n",
       "min        1980.000000      0.000000      0.000000      0.000000   \n",
       "25%        2003.000000      0.000000      0.000000      0.000000   \n",
       "50%        2007.000000      0.080000      0.020000      0.000000   \n",
       "75%        2010.000000      0.240000      0.110000      0.040000   \n",
       "max        2016.000000     41.360000     28.960000     10.220000   \n",
       "\n",
       "        Other_sales  Critic_Score  \n",
       "count  16715.000000   8137.000000  \n",
       "mean       0.047342     68.967679  \n",
       "std        0.186731     13.938165  \n",
       "min        0.000000     13.000000  \n",
       "25%        0.000000     60.000000  \n",
       "50%        0.010000     71.000000  \n",
       "75%        0.030000     79.000000  \n",
       "max       10.570000     98.000000  "
      ]
     },
     "metadata": {},
     "output_type": "display_data"
    }
   ],
   "source": [
    "display(data.describe())"
   ]
  },
  {
   "cell_type": "markdown",
   "metadata": {},
   "source": [
    "Мы посмотрели на датафрейм и его структуру. На информацию о том какие типы данных размещены в столбцах, есть ли там пропуски. И краткую информацию о данных представленных в цифрах. Далее нам необходимо сделать предварительную обработку данных."
   ]
  },
  {
   "cell_type": "markdown",
   "metadata": {},
   "source": [
    "### Приведение названий столбцов к единому регистру\n",
    "\n",
    "Приведем все названия столбцов к нижнему регистру"
   ]
  },
  {
   "cell_type": "code",
   "execution_count": 133,
   "metadata": {},
   "outputs": [
    {
     "data": {
      "text/html": [
       "<div>\n",
       "<style scoped>\n",
       "    .dataframe tbody tr th:only-of-type {\n",
       "        vertical-align: middle;\n",
       "    }\n",
       "\n",
       "    .dataframe tbody tr th {\n",
       "        vertical-align: top;\n",
       "    }\n",
       "\n",
       "    .dataframe thead th {\n",
       "        text-align: right;\n",
       "    }\n",
       "</style>\n",
       "<table border=\"1\" class=\"dataframe\">\n",
       "  <thead>\n",
       "    <tr style=\"text-align: right;\">\n",
       "      <th></th>\n",
       "      <th>name</th>\n",
       "      <th>platform</th>\n",
       "      <th>year_of_release</th>\n",
       "      <th>genre</th>\n",
       "      <th>na_sales</th>\n",
       "      <th>eu_sales</th>\n",
       "      <th>jp_sales</th>\n",
       "      <th>other_sales</th>\n",
       "      <th>critic_score</th>\n",
       "      <th>user_score</th>\n",
       "      <th>rating</th>\n",
       "    </tr>\n",
       "  </thead>\n",
       "  <tbody>\n",
       "    <tr>\n",
       "      <th>0</th>\n",
       "      <td>Wii Sports</td>\n",
       "      <td>Wii</td>\n",
       "      <td>2006.0</td>\n",
       "      <td>Sports</td>\n",
       "      <td>41.36</td>\n",
       "      <td>28.96</td>\n",
       "      <td>3.77</td>\n",
       "      <td>8.45</td>\n",
       "      <td>76.0</td>\n",
       "      <td>8</td>\n",
       "      <td>E</td>\n",
       "    </tr>\n",
       "    <tr>\n",
       "      <th>1</th>\n",
       "      <td>Super Mario Bros.</td>\n",
       "      <td>NES</td>\n",
       "      <td>1985.0</td>\n",
       "      <td>Platform</td>\n",
       "      <td>29.08</td>\n",
       "      <td>3.58</td>\n",
       "      <td>6.81</td>\n",
       "      <td>0.77</td>\n",
       "      <td>NaN</td>\n",
       "      <td>NaN</td>\n",
       "      <td>NaN</td>\n",
       "    </tr>\n",
       "    <tr>\n",
       "      <th>2</th>\n",
       "      <td>Mario Kart Wii</td>\n",
       "      <td>Wii</td>\n",
       "      <td>2008.0</td>\n",
       "      <td>Racing</td>\n",
       "      <td>15.68</td>\n",
       "      <td>12.76</td>\n",
       "      <td>3.79</td>\n",
       "      <td>3.29</td>\n",
       "      <td>82.0</td>\n",
       "      <td>8.3</td>\n",
       "      <td>E</td>\n",
       "    </tr>\n",
       "    <tr>\n",
       "      <th>3</th>\n",
       "      <td>Wii Sports Resort</td>\n",
       "      <td>Wii</td>\n",
       "      <td>2009.0</td>\n",
       "      <td>Sports</td>\n",
       "      <td>15.61</td>\n",
       "      <td>10.93</td>\n",
       "      <td>3.28</td>\n",
       "      <td>2.95</td>\n",
       "      <td>80.0</td>\n",
       "      <td>8</td>\n",
       "      <td>E</td>\n",
       "    </tr>\n",
       "    <tr>\n",
       "      <th>4</th>\n",
       "      <td>Pokemon Red/Pokemon Blue</td>\n",
       "      <td>GB</td>\n",
       "      <td>1996.0</td>\n",
       "      <td>Role-Playing</td>\n",
       "      <td>11.27</td>\n",
       "      <td>8.89</td>\n",
       "      <td>10.22</td>\n",
       "      <td>1.00</td>\n",
       "      <td>NaN</td>\n",
       "      <td>NaN</td>\n",
       "      <td>NaN</td>\n",
       "    </tr>\n",
       "  </tbody>\n",
       "</table>\n",
       "</div>"
      ],
      "text/plain": [
       "                       name platform  year_of_release         genre  na_sales  \\\n",
       "0                Wii Sports      Wii           2006.0        Sports     41.36   \n",
       "1         Super Mario Bros.      NES           1985.0      Platform     29.08   \n",
       "2            Mario Kart Wii      Wii           2008.0        Racing     15.68   \n",
       "3         Wii Sports Resort      Wii           2009.0        Sports     15.61   \n",
       "4  Pokemon Red/Pokemon Blue       GB           1996.0  Role-Playing     11.27   \n",
       "\n",
       "   eu_sales  jp_sales  other_sales  critic_score user_score rating  \n",
       "0     28.96      3.77         8.45          76.0          8      E  \n",
       "1      3.58      6.81         0.77           NaN        NaN    NaN  \n",
       "2     12.76      3.79         3.29          82.0        8.3      E  \n",
       "3     10.93      3.28         2.95          80.0          8      E  \n",
       "4      8.89     10.22         1.00           NaN        NaN    NaN  "
      ]
     },
     "metadata": {},
     "output_type": "display_data"
    }
   ],
   "source": [
    "data.columns=data.columns.str.lower()\n",
    "display(data.head(5))"
   ]
  },
  {
   "cell_type": "markdown",
   "metadata": {},
   "source": [
    "### Преобразование данные в нужные типы\n",
    "\n",
    "Посмотрим на типы даннах столбцов датафрейма, мы видим что столбец \"user_score\" собержит данные типа float. Для начала запросим уникальные данные этого столбца. Видим нетипичное обозначение \"tbd\" Предположим что tbd это to be determined -то есть оценки пока нет, но будет. Заменим эти значения на 0. А далее уже преобразуем столбец в тип данных float.\n",
    "\n",
    "Столбец \"year_of_release\" собержит год релиза, а значит заменим тип данных на int. Но для этого сначала избавимся от пропусков. Так как заполнить пропуски не представляется возможным, а данные необходимы и важны для дальнейшего исследования, а пропуски составляют менее 5% от данных, то мы приняли решение удалить данные с пропусками."
   ]
  },
  {
   "cell_type": "code",
   "execution_count": 134,
   "metadata": {},
   "outputs": [
    {
     "data": {
      "text/plain": [
       "array(['8', nan, '8.3', '8.5', '6.6', '8.4', '8.6', '7.7', '6.3', '7.4',\n",
       "       '8.2', '9', '7.9', '8.1', '8.7', '7.1', '3.4', '5.3', '4.8', '3.2',\n",
       "       '8.9', '6.4', '7.8', '7.5', '2.6', '7.2', '9.2', '7', '7.3', '4.3',\n",
       "       '7.6', '5.7', '5', '9.1', '6.5', 'tbd', '8.8', '6.9', '9.4', '6.8',\n",
       "       '6.1', '6.7', '5.4', '4', '4.9', '4.5', '9.3', '6.2', '4.2', '6',\n",
       "       '3.7', '4.1', '5.8', '5.6', '5.5', '4.4', '4.6', '5.9', '3.9',\n",
       "       '3.1', '2.9', '5.2', '3.3', '4.7', '5.1', '3.5', '2.5', '1.9', '3',\n",
       "       '2.7', '2.2', '2', '9.5', '2.1', '3.6', '2.8', '1.8', '3.8', '0',\n",
       "       '1.6', '9.6', '2.4', '1.7', '1.1', '0.3', '1.5', '0.7', '1.2',\n",
       "       '2.3', '0.5', '1.3', '0.2', '0.6', '1.4', '0.9', '1', '9.7'],\n",
       "      dtype=object)"
      ]
     },
     "metadata": {},
     "output_type": "display_data"
    },
    {
     "data": {
      "text/plain": [
       "array(['8', nan, '8.3', '8.5', '6.6', '8.4', '8.6', '7.7', '6.3', '7.4',\n",
       "       '8.2', '9', '7.9', '8.1', '8.7', '7.1', '3.4', '5.3', '4.8', '3.2',\n",
       "       '8.9', '6.4', '7.8', '7.5', '2.6', '7.2', '9.2', '7', '7.3', '4.3',\n",
       "       '7.6', '5.7', '5', '9.1', '6.5', 0, '8.8', '6.9', '9.4', '6.8',\n",
       "       '6.1', '6.7', '5.4', '4', '4.9', '4.5', '9.3', '6.2', '4.2', '6',\n",
       "       '3.7', '4.1', '5.8', '5.6', '5.5', '4.4', '4.6', '5.9', '3.9',\n",
       "       '3.1', '2.9', '5.2', '3.3', '4.7', '5.1', '3.5', '2.5', '1.9', '3',\n",
       "       '2.7', '2.2', '2', '9.5', '2.1', '3.6', '2.8', '1.8', '3.8', '0',\n",
       "       '1.6', '9.6', '2.4', '1.7', '1.1', '0.3', '1.5', '0.7', '1.2',\n",
       "       '2.3', '0.5', '1.3', '0.2', '0.6', '1.4', '0.9', '1', '9.7'],\n",
       "      dtype=object)"
      ]
     },
     "metadata": {},
     "output_type": "display_data"
    },
    {
     "name": "stdout",
     "output_type": "stream",
     "text": [
      "<class 'pandas.core.frame.DataFrame'>\n",
      "Int64Index: 16446 entries, 0 to 16714\n",
      "Data columns (total 11 columns):\n",
      " #   Column           Non-Null Count  Dtype  \n",
      "---  ------           --------------  -----  \n",
      " 0   name             16444 non-null  object \n",
      " 1   platform         16446 non-null  object \n",
      " 2   year_of_release  16446 non-null  int64  \n",
      " 3   genre            16444 non-null  object \n",
      " 4   na_sales         16446 non-null  float64\n",
      " 5   eu_sales         16446 non-null  float64\n",
      " 6   jp_sales         16446 non-null  float64\n",
      " 7   other_sales      16446 non-null  float64\n",
      " 8   critic_score     7983 non-null   float64\n",
      " 9   user_score       9839 non-null   float64\n",
      " 10  rating           9768 non-null   object \n",
      "dtypes: float64(6), int64(1), object(4)\n",
      "memory usage: 1.5+ MB\n"
     ]
    },
    {
     "data": {
      "text/plain": [
       "None"
      ]
     },
     "metadata": {},
     "output_type": "display_data"
    }
   ],
   "source": [
    "display(data['user_score'].unique())\n",
    "data.loc[data['user_score']=='tbd','user_score']=0\n",
    "display(data['user_score'].unique())\n",
    "data['user_score']=data['user_score'].astype(float)\n",
    "data=data.dropna(subset=['year_of_release'])\n",
    "data['year_of_release']=data['year_of_release'].astype(int)\n",
    "display(data.info())"
   ]
  },
  {
   "cell_type": "markdown",
   "metadata": {},
   "source": [
    "### Обработка пропусков\n",
    "\n",
    "Посмотрим на пропуски. У нас наблюдались пропуски в столбце в годом выпуска. Возможно что эти данные не заполнены по причине того что дата выхода игр была не известна, либо это ошибка при сборе данных. Восстановить такие пропуски не представлялось возможным, но эти данные были важны для дальнейшего исследования. Так как пропуском было менее 5% было принято решение избавиться от них. \n",
    "\n",
    "Пропуски в оценках критиков могли образоваться по той причине ячто для некоторых игр этих оценок просто нет. Таких пропусков значительное количество и просто так избавиться от данных мы не можем. но заметнить пропуски каким-то средним или медианой будет не корректно, так как это субъективно. Пока мы оставим пропуски и учтем это в дальнейшем.\n",
    "\n",
    "Пропуски в оценках пользователей. Туп могла сложиться та же ситуация что и с оценкой критиков, для некоторых игр просто нет оуенки пользователей. Так же вспомним что здесь у нас было нетипичное значение tbd, мы предположили что это to be determined -то есть оценки пока нет, но будет. И заменили значения на 0. По сути это тоже пропуски. Поступим с пропусками аналогично пропускам в оценке критиков. Ос тавим их как есть и учтем это в дальнейшем.\n",
    "\n",
    "Пропуски в рейтинге могли возникнуть по причине что рейтинг игре не присвоен. Данных много, они важны для дальнейшего исследования. Поэтому оставим пропуски и и учтем это в дальнейшем.\n",
    "\n",
    "Обратим внимание на пропуски в столбцах названия игры и ее жанра. Таких пропусков всего 2, это количество совсем не значительно, заполнить эти пропуски не представляется возможным, а потому просто избавимся от этих данных."
   ]
  },
  {
   "cell_type": "code",
   "execution_count": 135,
   "metadata": {},
   "outputs": [
    {
     "name": "stdout",
     "output_type": "stream",
     "text": [
      "<class 'pandas.core.frame.DataFrame'>\n",
      "Int64Index: 16444 entries, 0 to 16714\n",
      "Data columns (total 11 columns):\n",
      " #   Column           Non-Null Count  Dtype  \n",
      "---  ------           --------------  -----  \n",
      " 0   name             16444 non-null  object \n",
      " 1   platform         16444 non-null  object \n",
      " 2   year_of_release  16444 non-null  int64  \n",
      " 3   genre            16444 non-null  object \n",
      " 4   na_sales         16444 non-null  float64\n",
      " 5   eu_sales         16444 non-null  float64\n",
      " 6   jp_sales         16444 non-null  float64\n",
      " 7   other_sales      16444 non-null  float64\n",
      " 8   critic_score     7983 non-null   float64\n",
      " 9   user_score       9839 non-null   float64\n",
      " 10  rating           9768 non-null   object \n",
      "dtypes: float64(6), int64(1), object(4)\n",
      "memory usage: 1.5+ MB\n"
     ]
    }
   ],
   "source": [
    "data=data.dropna (subset=['name','genre'])\n",
    "data.info()"
   ]
  },
  {
   "cell_type": "markdown",
   "metadata": {},
   "source": [
    "Теперь проверим данные на явные дубликаты. Видим что явных дубликатов нет."
   ]
  },
  {
   "cell_type": "code",
   "execution_count": 136,
   "metadata": {},
   "outputs": [
    {
     "data": {
      "text/plain": [
       "0"
      ]
     },
     "execution_count": 136,
     "metadata": {},
     "output_type": "execute_result"
    }
   ],
   "source": [
    "data.duplicated().sum()"
   ]
  },
  {
   "cell_type": "markdown",
   "metadata": {},
   "source": [
    "Проверим не явные дубликаты. Логично будет проверить игры с одинаковым названием, но это могут быть одни и те же игры, но на разнеых платформах. тогда правильно будет проверить дубликаты по названию и платформе, но игра могла перезапускаться в разные года. Получается проверим дубликаты по названию игры, платформе и году выпуска. Нашелся один дубликат. Избавимся от него."
   ]
  },
  {
   "cell_type": "code",
   "execution_count": 137,
   "metadata": {},
   "outputs": [
    {
     "data": {
      "text/plain": [
       "1"
      ]
     },
     "metadata": {},
     "output_type": "display_data"
    },
    {
     "data": {
      "text/html": [
       "<div>\n",
       "<style scoped>\n",
       "    .dataframe tbody tr th:only-of-type {\n",
       "        vertical-align: middle;\n",
       "    }\n",
       "\n",
       "    .dataframe tbody tr th {\n",
       "        vertical-align: top;\n",
       "    }\n",
       "\n",
       "    .dataframe thead th {\n",
       "        text-align: right;\n",
       "    }\n",
       "</style>\n",
       "<table border=\"1\" class=\"dataframe\">\n",
       "  <thead>\n",
       "    <tr style=\"text-align: right;\">\n",
       "      <th></th>\n",
       "      <th>name</th>\n",
       "      <th>platform</th>\n",
       "      <th>year_of_release</th>\n",
       "      <th>genre</th>\n",
       "      <th>na_sales</th>\n",
       "      <th>eu_sales</th>\n",
       "      <th>jp_sales</th>\n",
       "      <th>other_sales</th>\n",
       "      <th>critic_score</th>\n",
       "      <th>user_score</th>\n",
       "      <th>rating</th>\n",
       "    </tr>\n",
       "  </thead>\n",
       "  <tbody>\n",
       "    <tr>\n",
       "      <th>16230</th>\n",
       "      <td>Madden NFL 13</td>\n",
       "      <td>PS3</td>\n",
       "      <td>2012</td>\n",
       "      <td>Sports</td>\n",
       "      <td>0.0</td>\n",
       "      <td>0.01</td>\n",
       "      <td>0.0</td>\n",
       "      <td>0.0</td>\n",
       "      <td>83.0</td>\n",
       "      <td>5.5</td>\n",
       "      <td>E</td>\n",
       "    </tr>\n",
       "  </tbody>\n",
       "</table>\n",
       "</div>"
      ],
      "text/plain": [
       "                name platform  year_of_release   genre  na_sales  eu_sales  \\\n",
       "16230  Madden NFL 13      PS3             2012  Sports       0.0      0.01   \n",
       "\n",
       "       jp_sales  other_sales  critic_score  user_score rating  \n",
       "16230       0.0          0.0          83.0         5.5      E  "
      ]
     },
     "metadata": {},
     "output_type": "display_data"
    },
    {
     "data": {
      "text/plain": [
       "0"
      ]
     },
     "metadata": {},
     "output_type": "display_data"
    }
   ],
   "source": [
    "display(data.duplicated(subset=['name','platform','year_of_release']).sum())\n",
    "display(data[data.duplicated(subset=['name','platform','year_of_release'])])\n",
    "data=data.drop_duplicates(subset=['name','platform','year_of_release'])\n",
    "display(data.duplicated(subset=['name','platform','year_of_release']).sum())"
   ]
  },
  {
   "cell_type": "markdown",
   "metadata": {},
   "source": [
    "Для дальнейших исследования посчитаем суммарные продажи во всех регионах и запишим их в отдельный столбец 'sum'."
   ]
  },
  {
   "cell_type": "code",
   "execution_count": 138,
   "metadata": {},
   "outputs": [
    {
     "data": {
      "text/html": [
       "<div>\n",
       "<style scoped>\n",
       "    .dataframe tbody tr th:only-of-type {\n",
       "        vertical-align: middle;\n",
       "    }\n",
       "\n",
       "    .dataframe tbody tr th {\n",
       "        vertical-align: top;\n",
       "    }\n",
       "\n",
       "    .dataframe thead th {\n",
       "        text-align: right;\n",
       "    }\n",
       "</style>\n",
       "<table border=\"1\" class=\"dataframe\">\n",
       "  <thead>\n",
       "    <tr style=\"text-align: right;\">\n",
       "      <th></th>\n",
       "      <th>name</th>\n",
       "      <th>platform</th>\n",
       "      <th>year_of_release</th>\n",
       "      <th>genre</th>\n",
       "      <th>na_sales</th>\n",
       "      <th>eu_sales</th>\n",
       "      <th>jp_sales</th>\n",
       "      <th>other_sales</th>\n",
       "      <th>critic_score</th>\n",
       "      <th>user_score</th>\n",
       "      <th>rating</th>\n",
       "      <th>sum</th>\n",
       "    </tr>\n",
       "  </thead>\n",
       "  <tbody>\n",
       "    <tr>\n",
       "      <th>0</th>\n",
       "      <td>Wii Sports</td>\n",
       "      <td>Wii</td>\n",
       "      <td>2006</td>\n",
       "      <td>Sports</td>\n",
       "      <td>41.36</td>\n",
       "      <td>28.96</td>\n",
       "      <td>3.77</td>\n",
       "      <td>8.45</td>\n",
       "      <td>76.0</td>\n",
       "      <td>8.0</td>\n",
       "      <td>E</td>\n",
       "      <td>82.54</td>\n",
       "    </tr>\n",
       "    <tr>\n",
       "      <th>1</th>\n",
       "      <td>Super Mario Bros.</td>\n",
       "      <td>NES</td>\n",
       "      <td>1985</td>\n",
       "      <td>Platform</td>\n",
       "      <td>29.08</td>\n",
       "      <td>3.58</td>\n",
       "      <td>6.81</td>\n",
       "      <td>0.77</td>\n",
       "      <td>NaN</td>\n",
       "      <td>NaN</td>\n",
       "      <td>NaN</td>\n",
       "      <td>40.24</td>\n",
       "    </tr>\n",
       "    <tr>\n",
       "      <th>2</th>\n",
       "      <td>Mario Kart Wii</td>\n",
       "      <td>Wii</td>\n",
       "      <td>2008</td>\n",
       "      <td>Racing</td>\n",
       "      <td>15.68</td>\n",
       "      <td>12.76</td>\n",
       "      <td>3.79</td>\n",
       "      <td>3.29</td>\n",
       "      <td>82.0</td>\n",
       "      <td>8.3</td>\n",
       "      <td>E</td>\n",
       "      <td>35.52</td>\n",
       "    </tr>\n",
       "    <tr>\n",
       "      <th>3</th>\n",
       "      <td>Wii Sports Resort</td>\n",
       "      <td>Wii</td>\n",
       "      <td>2009</td>\n",
       "      <td>Sports</td>\n",
       "      <td>15.61</td>\n",
       "      <td>10.93</td>\n",
       "      <td>3.28</td>\n",
       "      <td>2.95</td>\n",
       "      <td>80.0</td>\n",
       "      <td>8.0</td>\n",
       "      <td>E</td>\n",
       "      <td>32.77</td>\n",
       "    </tr>\n",
       "    <tr>\n",
       "      <th>4</th>\n",
       "      <td>Pokemon Red/Pokemon Blue</td>\n",
       "      <td>GB</td>\n",
       "      <td>1996</td>\n",
       "      <td>Role-Playing</td>\n",
       "      <td>11.27</td>\n",
       "      <td>8.89</td>\n",
       "      <td>10.22</td>\n",
       "      <td>1.00</td>\n",
       "      <td>NaN</td>\n",
       "      <td>NaN</td>\n",
       "      <td>NaN</td>\n",
       "      <td>31.38</td>\n",
       "    </tr>\n",
       "    <tr>\n",
       "      <th>...</th>\n",
       "      <td>...</td>\n",
       "      <td>...</td>\n",
       "      <td>...</td>\n",
       "      <td>...</td>\n",
       "      <td>...</td>\n",
       "      <td>...</td>\n",
       "      <td>...</td>\n",
       "      <td>...</td>\n",
       "      <td>...</td>\n",
       "      <td>...</td>\n",
       "      <td>...</td>\n",
       "      <td>...</td>\n",
       "    </tr>\n",
       "    <tr>\n",
       "      <th>16710</th>\n",
       "      <td>Samurai Warriors: Sanada Maru</td>\n",
       "      <td>PS3</td>\n",
       "      <td>2016</td>\n",
       "      <td>Action</td>\n",
       "      <td>0.00</td>\n",
       "      <td>0.00</td>\n",
       "      <td>0.01</td>\n",
       "      <td>0.00</td>\n",
       "      <td>NaN</td>\n",
       "      <td>NaN</td>\n",
       "      <td>NaN</td>\n",
       "      <td>0.01</td>\n",
       "    </tr>\n",
       "    <tr>\n",
       "      <th>16711</th>\n",
       "      <td>LMA Manager 2007</td>\n",
       "      <td>X360</td>\n",
       "      <td>2006</td>\n",
       "      <td>Sports</td>\n",
       "      <td>0.00</td>\n",
       "      <td>0.01</td>\n",
       "      <td>0.00</td>\n",
       "      <td>0.00</td>\n",
       "      <td>NaN</td>\n",
       "      <td>NaN</td>\n",
       "      <td>NaN</td>\n",
       "      <td>0.01</td>\n",
       "    </tr>\n",
       "    <tr>\n",
       "      <th>16712</th>\n",
       "      <td>Haitaka no Psychedelica</td>\n",
       "      <td>PSV</td>\n",
       "      <td>2016</td>\n",
       "      <td>Adventure</td>\n",
       "      <td>0.00</td>\n",
       "      <td>0.00</td>\n",
       "      <td>0.01</td>\n",
       "      <td>0.00</td>\n",
       "      <td>NaN</td>\n",
       "      <td>NaN</td>\n",
       "      <td>NaN</td>\n",
       "      <td>0.01</td>\n",
       "    </tr>\n",
       "    <tr>\n",
       "      <th>16713</th>\n",
       "      <td>Spirits &amp; Spells</td>\n",
       "      <td>GBA</td>\n",
       "      <td>2003</td>\n",
       "      <td>Platform</td>\n",
       "      <td>0.01</td>\n",
       "      <td>0.00</td>\n",
       "      <td>0.00</td>\n",
       "      <td>0.00</td>\n",
       "      <td>NaN</td>\n",
       "      <td>NaN</td>\n",
       "      <td>NaN</td>\n",
       "      <td>0.01</td>\n",
       "    </tr>\n",
       "    <tr>\n",
       "      <th>16714</th>\n",
       "      <td>Winning Post 8 2016</td>\n",
       "      <td>PSV</td>\n",
       "      <td>2016</td>\n",
       "      <td>Simulation</td>\n",
       "      <td>0.00</td>\n",
       "      <td>0.00</td>\n",
       "      <td>0.01</td>\n",
       "      <td>0.00</td>\n",
       "      <td>NaN</td>\n",
       "      <td>NaN</td>\n",
       "      <td>NaN</td>\n",
       "      <td>0.01</td>\n",
       "    </tr>\n",
       "  </tbody>\n",
       "</table>\n",
       "<p>16443 rows × 12 columns</p>\n",
       "</div>"
      ],
      "text/plain": [
       "                                name platform  year_of_release         genre  \\\n",
       "0                         Wii Sports      Wii             2006        Sports   \n",
       "1                  Super Mario Bros.      NES             1985      Platform   \n",
       "2                     Mario Kart Wii      Wii             2008        Racing   \n",
       "3                  Wii Sports Resort      Wii             2009        Sports   \n",
       "4           Pokemon Red/Pokemon Blue       GB             1996  Role-Playing   \n",
       "...                              ...      ...              ...           ...   \n",
       "16710  Samurai Warriors: Sanada Maru      PS3             2016        Action   \n",
       "16711               LMA Manager 2007     X360             2006        Sports   \n",
       "16712        Haitaka no Psychedelica      PSV             2016     Adventure   \n",
       "16713               Spirits & Spells      GBA             2003      Platform   \n",
       "16714            Winning Post 8 2016      PSV             2016    Simulation   \n",
       "\n",
       "       na_sales  eu_sales  jp_sales  other_sales  critic_score  user_score  \\\n",
       "0         41.36     28.96      3.77         8.45          76.0         8.0   \n",
       "1         29.08      3.58      6.81         0.77           NaN         NaN   \n",
       "2         15.68     12.76      3.79         3.29          82.0         8.3   \n",
       "3         15.61     10.93      3.28         2.95          80.0         8.0   \n",
       "4         11.27      8.89     10.22         1.00           NaN         NaN   \n",
       "...         ...       ...       ...          ...           ...         ...   \n",
       "16710      0.00      0.00      0.01         0.00           NaN         NaN   \n",
       "16711      0.00      0.01      0.00         0.00           NaN         NaN   \n",
       "16712      0.00      0.00      0.01         0.00           NaN         NaN   \n",
       "16713      0.01      0.00      0.00         0.00           NaN         NaN   \n",
       "16714      0.00      0.00      0.01         0.00           NaN         NaN   \n",
       "\n",
       "      rating    sum  \n",
       "0          E  82.54  \n",
       "1        NaN  40.24  \n",
       "2          E  35.52  \n",
       "3          E  32.77  \n",
       "4        NaN  31.38  \n",
       "...      ...    ...  \n",
       "16710    NaN   0.01  \n",
       "16711    NaN   0.01  \n",
       "16712    NaN   0.01  \n",
       "16713    NaN   0.01  \n",
       "16714    NaN   0.01  \n",
       "\n",
       "[16443 rows x 12 columns]"
      ]
     },
     "execution_count": 138,
     "metadata": {},
     "output_type": "execute_result"
    }
   ],
   "source": [
    "data['sum']=data['na_sales']+data['eu_sales']+data['jp_sales']+data['other_sales']\n",
    "data"
   ]
  },
  {
   "cell_type": "markdown",
   "metadata": {},
   "source": [
    "##  Проведение исследовательского анализ данных\n",
    "\n",
    "Посмотрим на количество выпускаемых игр в разные годы. Хорошо заметно что до 1994 года включительно игр выпускалось совсем не много, там почти нет информации о рейтинге, оценке критиков и оценке пользователей. Для дальнейшего исследования избавимся от этих данных."
   ]
  },
  {
   "cell_type": "code",
   "execution_count": 139,
   "metadata": {},
   "outputs": [
    {
     "data": {
      "text/html": [
       "<div>\n",
       "<style scoped>\n",
       "    .dataframe tbody tr th:only-of-type {\n",
       "        vertical-align: middle;\n",
       "    }\n",
       "\n",
       "    .dataframe tbody tr th {\n",
       "        vertical-align: top;\n",
       "    }\n",
       "\n",
       "    .dataframe thead th {\n",
       "        text-align: right;\n",
       "    }\n",
       "</style>\n",
       "<table border=\"1\" class=\"dataframe\">\n",
       "  <thead>\n",
       "    <tr style=\"text-align: right;\">\n",
       "      <th></th>\n",
       "      <th>name</th>\n",
       "      <th>platform</th>\n",
       "      <th>genre</th>\n",
       "      <th>na_sales</th>\n",
       "      <th>eu_sales</th>\n",
       "      <th>jp_sales</th>\n",
       "      <th>other_sales</th>\n",
       "      <th>critic_score</th>\n",
       "      <th>user_score</th>\n",
       "      <th>rating</th>\n",
       "      <th>sum</th>\n",
       "    </tr>\n",
       "    <tr>\n",
       "      <th>year_of_release</th>\n",
       "      <th></th>\n",
       "      <th></th>\n",
       "      <th></th>\n",
       "      <th></th>\n",
       "      <th></th>\n",
       "      <th></th>\n",
       "      <th></th>\n",
       "      <th></th>\n",
       "      <th></th>\n",
       "      <th></th>\n",
       "      <th></th>\n",
       "    </tr>\n",
       "  </thead>\n",
       "  <tbody>\n",
       "    <tr>\n",
       "      <th>1980</th>\n",
       "      <td>9</td>\n",
       "      <td>9</td>\n",
       "      <td>9</td>\n",
       "      <td>9</td>\n",
       "      <td>9</td>\n",
       "      <td>9</td>\n",
       "      <td>9</td>\n",
       "      <td>0</td>\n",
       "      <td>0</td>\n",
       "      <td>0</td>\n",
       "      <td>9</td>\n",
       "    </tr>\n",
       "    <tr>\n",
       "      <th>1981</th>\n",
       "      <td>46</td>\n",
       "      <td>46</td>\n",
       "      <td>46</td>\n",
       "      <td>46</td>\n",
       "      <td>46</td>\n",
       "      <td>46</td>\n",
       "      <td>46</td>\n",
       "      <td>0</td>\n",
       "      <td>0</td>\n",
       "      <td>0</td>\n",
       "      <td>46</td>\n",
       "    </tr>\n",
       "    <tr>\n",
       "      <th>1982</th>\n",
       "      <td>36</td>\n",
       "      <td>36</td>\n",
       "      <td>36</td>\n",
       "      <td>36</td>\n",
       "      <td>36</td>\n",
       "      <td>36</td>\n",
       "      <td>36</td>\n",
       "      <td>0</td>\n",
       "      <td>0</td>\n",
       "      <td>0</td>\n",
       "      <td>36</td>\n",
       "    </tr>\n",
       "    <tr>\n",
       "      <th>1983</th>\n",
       "      <td>17</td>\n",
       "      <td>17</td>\n",
       "      <td>17</td>\n",
       "      <td>17</td>\n",
       "      <td>17</td>\n",
       "      <td>17</td>\n",
       "      <td>17</td>\n",
       "      <td>0</td>\n",
       "      <td>0</td>\n",
       "      <td>0</td>\n",
       "      <td>17</td>\n",
       "    </tr>\n",
       "    <tr>\n",
       "      <th>1984</th>\n",
       "      <td>14</td>\n",
       "      <td>14</td>\n",
       "      <td>14</td>\n",
       "      <td>14</td>\n",
       "      <td>14</td>\n",
       "      <td>14</td>\n",
       "      <td>14</td>\n",
       "      <td>0</td>\n",
       "      <td>0</td>\n",
       "      <td>0</td>\n",
       "      <td>14</td>\n",
       "    </tr>\n",
       "    <tr>\n",
       "      <th>1985</th>\n",
       "      <td>14</td>\n",
       "      <td>14</td>\n",
       "      <td>14</td>\n",
       "      <td>14</td>\n",
       "      <td>14</td>\n",
       "      <td>14</td>\n",
       "      <td>14</td>\n",
       "      <td>1</td>\n",
       "      <td>1</td>\n",
       "      <td>1</td>\n",
       "      <td>14</td>\n",
       "    </tr>\n",
       "    <tr>\n",
       "      <th>1986</th>\n",
       "      <td>21</td>\n",
       "      <td>21</td>\n",
       "      <td>21</td>\n",
       "      <td>21</td>\n",
       "      <td>21</td>\n",
       "      <td>21</td>\n",
       "      <td>21</td>\n",
       "      <td>0</td>\n",
       "      <td>0</td>\n",
       "      <td>0</td>\n",
       "      <td>21</td>\n",
       "    </tr>\n",
       "    <tr>\n",
       "      <th>1987</th>\n",
       "      <td>16</td>\n",
       "      <td>16</td>\n",
       "      <td>16</td>\n",
       "      <td>16</td>\n",
       "      <td>16</td>\n",
       "      <td>16</td>\n",
       "      <td>16</td>\n",
       "      <td>0</td>\n",
       "      <td>0</td>\n",
       "      <td>0</td>\n",
       "      <td>16</td>\n",
       "    </tr>\n",
       "    <tr>\n",
       "      <th>1988</th>\n",
       "      <td>15</td>\n",
       "      <td>15</td>\n",
       "      <td>15</td>\n",
       "      <td>15</td>\n",
       "      <td>15</td>\n",
       "      <td>15</td>\n",
       "      <td>15</td>\n",
       "      <td>1</td>\n",
       "      <td>1</td>\n",
       "      <td>1</td>\n",
       "      <td>15</td>\n",
       "    </tr>\n",
       "    <tr>\n",
       "      <th>1989</th>\n",
       "      <td>17</td>\n",
       "      <td>17</td>\n",
       "      <td>17</td>\n",
       "      <td>17</td>\n",
       "      <td>17</td>\n",
       "      <td>17</td>\n",
       "      <td>17</td>\n",
       "      <td>0</td>\n",
       "      <td>0</td>\n",
       "      <td>0</td>\n",
       "      <td>17</td>\n",
       "    </tr>\n",
       "    <tr>\n",
       "      <th>1990</th>\n",
       "      <td>16</td>\n",
       "      <td>16</td>\n",
       "      <td>16</td>\n",
       "      <td>16</td>\n",
       "      <td>16</td>\n",
       "      <td>16</td>\n",
       "      <td>16</td>\n",
       "      <td>0</td>\n",
       "      <td>0</td>\n",
       "      <td>0</td>\n",
       "      <td>16</td>\n",
       "    </tr>\n",
       "    <tr>\n",
       "      <th>1991</th>\n",
       "      <td>41</td>\n",
       "      <td>41</td>\n",
       "      <td>41</td>\n",
       "      <td>41</td>\n",
       "      <td>41</td>\n",
       "      <td>41</td>\n",
       "      <td>41</td>\n",
       "      <td>0</td>\n",
       "      <td>0</td>\n",
       "      <td>0</td>\n",
       "      <td>41</td>\n",
       "    </tr>\n",
       "    <tr>\n",
       "      <th>1992</th>\n",
       "      <td>43</td>\n",
       "      <td>43</td>\n",
       "      <td>43</td>\n",
       "      <td>43</td>\n",
       "      <td>43</td>\n",
       "      <td>43</td>\n",
       "      <td>43</td>\n",
       "      <td>1</td>\n",
       "      <td>1</td>\n",
       "      <td>2</td>\n",
       "      <td>43</td>\n",
       "    </tr>\n",
       "    <tr>\n",
       "      <th>1993</th>\n",
       "      <td>60</td>\n",
       "      <td>60</td>\n",
       "      <td>60</td>\n",
       "      <td>60</td>\n",
       "      <td>60</td>\n",
       "      <td>60</td>\n",
       "      <td>60</td>\n",
       "      <td>0</td>\n",
       "      <td>0</td>\n",
       "      <td>0</td>\n",
       "      <td>60</td>\n",
       "    </tr>\n",
       "    <tr>\n",
       "      <th>1994</th>\n",
       "      <td>121</td>\n",
       "      <td>121</td>\n",
       "      <td>121</td>\n",
       "      <td>121</td>\n",
       "      <td>121</td>\n",
       "      <td>121</td>\n",
       "      <td>121</td>\n",
       "      <td>1</td>\n",
       "      <td>1</td>\n",
       "      <td>1</td>\n",
       "      <td>121</td>\n",
       "    </tr>\n",
       "    <tr>\n",
       "      <th>1995</th>\n",
       "      <td>219</td>\n",
       "      <td>219</td>\n",
       "      <td>219</td>\n",
       "      <td>219</td>\n",
       "      <td>219</td>\n",
       "      <td>219</td>\n",
       "      <td>219</td>\n",
       "      <td>0</td>\n",
       "      <td>0</td>\n",
       "      <td>0</td>\n",
       "      <td>219</td>\n",
       "    </tr>\n",
       "    <tr>\n",
       "      <th>1996</th>\n",
       "      <td>263</td>\n",
       "      <td>263</td>\n",
       "      <td>263</td>\n",
       "      <td>263</td>\n",
       "      <td>263</td>\n",
       "      <td>263</td>\n",
       "      <td>263</td>\n",
       "      <td>8</td>\n",
       "      <td>8</td>\n",
       "      <td>7</td>\n",
       "      <td>263</td>\n",
       "    </tr>\n",
       "    <tr>\n",
       "      <th>1997</th>\n",
       "      <td>289</td>\n",
       "      <td>289</td>\n",
       "      <td>289</td>\n",
       "      <td>289</td>\n",
       "      <td>289</td>\n",
       "      <td>289</td>\n",
       "      <td>289</td>\n",
       "      <td>17</td>\n",
       "      <td>19</td>\n",
       "      <td>19</td>\n",
       "      <td>289</td>\n",
       "    </tr>\n",
       "    <tr>\n",
       "      <th>1998</th>\n",
       "      <td>379</td>\n",
       "      <td>379</td>\n",
       "      <td>379</td>\n",
       "      <td>379</td>\n",
       "      <td>379</td>\n",
       "      <td>379</td>\n",
       "      <td>379</td>\n",
       "      <td>28</td>\n",
       "      <td>31</td>\n",
       "      <td>32</td>\n",
       "      <td>379</td>\n",
       "    </tr>\n",
       "    <tr>\n",
       "      <th>1999</th>\n",
       "      <td>338</td>\n",
       "      <td>338</td>\n",
       "      <td>338</td>\n",
       "      <td>338</td>\n",
       "      <td>338</td>\n",
       "      <td>338</td>\n",
       "      <td>338</td>\n",
       "      <td>39</td>\n",
       "      <td>39</td>\n",
       "      <td>42</td>\n",
       "      <td>338</td>\n",
       "    </tr>\n",
       "    <tr>\n",
       "      <th>2000</th>\n",
       "      <td>350</td>\n",
       "      <td>350</td>\n",
       "      <td>350</td>\n",
       "      <td>350</td>\n",
       "      <td>350</td>\n",
       "      <td>350</td>\n",
       "      <td>350</td>\n",
       "      <td>143</td>\n",
       "      <td>150</td>\n",
       "      <td>148</td>\n",
       "      <td>350</td>\n",
       "    </tr>\n",
       "    <tr>\n",
       "      <th>2001</th>\n",
       "      <td>482</td>\n",
       "      <td>482</td>\n",
       "      <td>482</td>\n",
       "      <td>482</td>\n",
       "      <td>482</td>\n",
       "      <td>482</td>\n",
       "      <td>482</td>\n",
       "      <td>326</td>\n",
       "      <td>339</td>\n",
       "      <td>339</td>\n",
       "      <td>482</td>\n",
       "    </tr>\n",
       "    <tr>\n",
       "      <th>2002</th>\n",
       "      <td>829</td>\n",
       "      <td>829</td>\n",
       "      <td>829</td>\n",
       "      <td>829</td>\n",
       "      <td>829</td>\n",
       "      <td>829</td>\n",
       "      <td>829</td>\n",
       "      <td>627</td>\n",
       "      <td>656</td>\n",
       "      <td>655</td>\n",
       "      <td>829</td>\n",
       "    </tr>\n",
       "    <tr>\n",
       "      <th>2003</th>\n",
       "      <td>775</td>\n",
       "      <td>775</td>\n",
       "      <td>775</td>\n",
       "      <td>775</td>\n",
       "      <td>775</td>\n",
       "      <td>775</td>\n",
       "      <td>775</td>\n",
       "      <td>585</td>\n",
       "      <td>611</td>\n",
       "      <td>613</td>\n",
       "      <td>775</td>\n",
       "    </tr>\n",
       "    <tr>\n",
       "      <th>2004</th>\n",
       "      <td>762</td>\n",
       "      <td>762</td>\n",
       "      <td>762</td>\n",
       "      <td>762</td>\n",
       "      <td>762</td>\n",
       "      <td>762</td>\n",
       "      <td>762</td>\n",
       "      <td>561</td>\n",
       "      <td>596</td>\n",
       "      <td>598</td>\n",
       "      <td>762</td>\n",
       "    </tr>\n",
       "    <tr>\n",
       "      <th>2005</th>\n",
       "      <td>939</td>\n",
       "      <td>939</td>\n",
       "      <td>939</td>\n",
       "      <td>939</td>\n",
       "      <td>939</td>\n",
       "      <td>939</td>\n",
       "      <td>939</td>\n",
       "      <td>655</td>\n",
       "      <td>704</td>\n",
       "      <td>706</td>\n",
       "      <td>939</td>\n",
       "    </tr>\n",
       "    <tr>\n",
       "      <th>2006</th>\n",
       "      <td>1006</td>\n",
       "      <td>1006</td>\n",
       "      <td>1006</td>\n",
       "      <td>1006</td>\n",
       "      <td>1006</td>\n",
       "      <td>1006</td>\n",
       "      <td>1006</td>\n",
       "      <td>620</td>\n",
       "      <td>676</td>\n",
       "      <td>678</td>\n",
       "      <td>1006</td>\n",
       "    </tr>\n",
       "    <tr>\n",
       "      <th>2007</th>\n",
       "      <td>1197</td>\n",
       "      <td>1197</td>\n",
       "      <td>1197</td>\n",
       "      <td>1197</td>\n",
       "      <td>1197</td>\n",
       "      <td>1197</td>\n",
       "      <td>1197</td>\n",
       "      <td>692</td>\n",
       "      <td>821</td>\n",
       "      <td>821</td>\n",
       "      <td>1197</td>\n",
       "    </tr>\n",
       "    <tr>\n",
       "      <th>2008</th>\n",
       "      <td>1427</td>\n",
       "      <td>1427</td>\n",
       "      <td>1427</td>\n",
       "      <td>1427</td>\n",
       "      <td>1427</td>\n",
       "      <td>1427</td>\n",
       "      <td>1427</td>\n",
       "      <td>715</td>\n",
       "      <td>987</td>\n",
       "      <td>981</td>\n",
       "      <td>1427</td>\n",
       "    </tr>\n",
       "    <tr>\n",
       "      <th>2009</th>\n",
       "      <td>1426</td>\n",
       "      <td>1426</td>\n",
       "      <td>1426</td>\n",
       "      <td>1426</td>\n",
       "      <td>1426</td>\n",
       "      <td>1426</td>\n",
       "      <td>1426</td>\n",
       "      <td>651</td>\n",
       "      <td>1019</td>\n",
       "      <td>1011</td>\n",
       "      <td>1426</td>\n",
       "    </tr>\n",
       "    <tr>\n",
       "      <th>2010</th>\n",
       "      <td>1255</td>\n",
       "      <td>1255</td>\n",
       "      <td>1255</td>\n",
       "      <td>1255</td>\n",
       "      <td>1255</td>\n",
       "      <td>1255</td>\n",
       "      <td>1255</td>\n",
       "      <td>500</td>\n",
       "      <td>798</td>\n",
       "      <td>799</td>\n",
       "      <td>1255</td>\n",
       "    </tr>\n",
       "    <tr>\n",
       "      <th>2011</th>\n",
       "      <td>1136</td>\n",
       "      <td>1136</td>\n",
       "      <td>1136</td>\n",
       "      <td>1136</td>\n",
       "      <td>1136</td>\n",
       "      <td>1136</td>\n",
       "      <td>1136</td>\n",
       "      <td>500</td>\n",
       "      <td>718</td>\n",
       "      <td>703</td>\n",
       "      <td>1136</td>\n",
       "    </tr>\n",
       "    <tr>\n",
       "      <th>2012</th>\n",
       "      <td>652</td>\n",
       "      <td>652</td>\n",
       "      <td>652</td>\n",
       "      <td>652</td>\n",
       "      <td>652</td>\n",
       "      <td>652</td>\n",
       "      <td>652</td>\n",
       "      <td>320</td>\n",
       "      <td>362</td>\n",
       "      <td>354</td>\n",
       "      <td>652</td>\n",
       "    </tr>\n",
       "    <tr>\n",
       "      <th>2013</th>\n",
       "      <td>544</td>\n",
       "      <td>544</td>\n",
       "      <td>544</td>\n",
       "      <td>544</td>\n",
       "      <td>544</td>\n",
       "      <td>544</td>\n",
       "      <td>544</td>\n",
       "      <td>273</td>\n",
       "      <td>319</td>\n",
       "      <td>316</td>\n",
       "      <td>544</td>\n",
       "    </tr>\n",
       "    <tr>\n",
       "      <th>2014</th>\n",
       "      <td>581</td>\n",
       "      <td>581</td>\n",
       "      <td>581</td>\n",
       "      <td>581</td>\n",
       "      <td>581</td>\n",
       "      <td>581</td>\n",
       "      <td>581</td>\n",
       "      <td>261</td>\n",
       "      <td>350</td>\n",
       "      <td>345</td>\n",
       "      <td>581</td>\n",
       "    </tr>\n",
       "    <tr>\n",
       "      <th>2015</th>\n",
       "      <td>606</td>\n",
       "      <td>606</td>\n",
       "      <td>606</td>\n",
       "      <td>606</td>\n",
       "      <td>606</td>\n",
       "      <td>606</td>\n",
       "      <td>606</td>\n",
       "      <td>225</td>\n",
       "      <td>335</td>\n",
       "      <td>315</td>\n",
       "      <td>606</td>\n",
       "    </tr>\n",
       "    <tr>\n",
       "      <th>2016</th>\n",
       "      <td>502</td>\n",
       "      <td>502</td>\n",
       "      <td>502</td>\n",
       "      <td>502</td>\n",
       "      <td>502</td>\n",
       "      <td>502</td>\n",
       "      <td>502</td>\n",
       "      <td>232</td>\n",
       "      <td>296</td>\n",
       "      <td>280</td>\n",
       "      <td>502</td>\n",
       "    </tr>\n",
       "  </tbody>\n",
       "</table>\n",
       "</div>"
      ],
      "text/plain": [
       "                 name  platform  genre  na_sales  eu_sales  jp_sales  \\\n",
       "year_of_release                                                        \n",
       "1980                9         9      9         9         9         9   \n",
       "1981               46        46     46        46        46        46   \n",
       "1982               36        36     36        36        36        36   \n",
       "1983               17        17     17        17        17        17   \n",
       "1984               14        14     14        14        14        14   \n",
       "1985               14        14     14        14        14        14   \n",
       "1986               21        21     21        21        21        21   \n",
       "1987               16        16     16        16        16        16   \n",
       "1988               15        15     15        15        15        15   \n",
       "1989               17        17     17        17        17        17   \n",
       "1990               16        16     16        16        16        16   \n",
       "1991               41        41     41        41        41        41   \n",
       "1992               43        43     43        43        43        43   \n",
       "1993               60        60     60        60        60        60   \n",
       "1994              121       121    121       121       121       121   \n",
       "1995              219       219    219       219       219       219   \n",
       "1996              263       263    263       263       263       263   \n",
       "1997              289       289    289       289       289       289   \n",
       "1998              379       379    379       379       379       379   \n",
       "1999              338       338    338       338       338       338   \n",
       "2000              350       350    350       350       350       350   \n",
       "2001              482       482    482       482       482       482   \n",
       "2002              829       829    829       829       829       829   \n",
       "2003              775       775    775       775       775       775   \n",
       "2004              762       762    762       762       762       762   \n",
       "2005              939       939    939       939       939       939   \n",
       "2006             1006      1006   1006      1006      1006      1006   \n",
       "2007             1197      1197   1197      1197      1197      1197   \n",
       "2008             1427      1427   1427      1427      1427      1427   \n",
       "2009             1426      1426   1426      1426      1426      1426   \n",
       "2010             1255      1255   1255      1255      1255      1255   \n",
       "2011             1136      1136   1136      1136      1136      1136   \n",
       "2012              652       652    652       652       652       652   \n",
       "2013              544       544    544       544       544       544   \n",
       "2014              581       581    581       581       581       581   \n",
       "2015              606       606    606       606       606       606   \n",
       "2016              502       502    502       502       502       502   \n",
       "\n",
       "                 other_sales  critic_score  user_score  rating   sum  \n",
       "year_of_release                                                       \n",
       "1980                       9             0           0       0     9  \n",
       "1981                      46             0           0       0    46  \n",
       "1982                      36             0           0       0    36  \n",
       "1983                      17             0           0       0    17  \n",
       "1984                      14             0           0       0    14  \n",
       "1985                      14             1           1       1    14  \n",
       "1986                      21             0           0       0    21  \n",
       "1987                      16             0           0       0    16  \n",
       "1988                      15             1           1       1    15  \n",
       "1989                      17             0           0       0    17  \n",
       "1990                      16             0           0       0    16  \n",
       "1991                      41             0           0       0    41  \n",
       "1992                      43             1           1       2    43  \n",
       "1993                      60             0           0       0    60  \n",
       "1994                     121             1           1       1   121  \n",
       "1995                     219             0           0       0   219  \n",
       "1996                     263             8           8       7   263  \n",
       "1997                     289            17          19      19   289  \n",
       "1998                     379            28          31      32   379  \n",
       "1999                     338            39          39      42   338  \n",
       "2000                     350           143         150     148   350  \n",
       "2001                     482           326         339     339   482  \n",
       "2002                     829           627         656     655   829  \n",
       "2003                     775           585         611     613   775  \n",
       "2004                     762           561         596     598   762  \n",
       "2005                     939           655         704     706   939  \n",
       "2006                    1006           620         676     678  1006  \n",
       "2007                    1197           692         821     821  1197  \n",
       "2008                    1427           715         987     981  1427  \n",
       "2009                    1426           651        1019    1011  1426  \n",
       "2010                    1255           500         798     799  1255  \n",
       "2011                    1136           500         718     703  1136  \n",
       "2012                     652           320         362     354   652  \n",
       "2013                     544           273         319     316   544  \n",
       "2014                     581           261         350     345   581  \n",
       "2015                     606           225         335     315   606  \n",
       "2016                     502           232         296     280   502  "
      ]
     },
     "metadata": {},
     "output_type": "display_data"
    },
    {
     "data": {
      "text/html": [
       "<div>\n",
       "<style scoped>\n",
       "    .dataframe tbody tr th:only-of-type {\n",
       "        vertical-align: middle;\n",
       "    }\n",
       "\n",
       "    .dataframe tbody tr th {\n",
       "        vertical-align: top;\n",
       "    }\n",
       "\n",
       "    .dataframe thead th {\n",
       "        text-align: right;\n",
       "    }\n",
       "</style>\n",
       "<table border=\"1\" class=\"dataframe\">\n",
       "  <thead>\n",
       "    <tr style=\"text-align: right;\">\n",
       "      <th></th>\n",
       "      <th>name</th>\n",
       "      <th>platform</th>\n",
       "      <th>genre</th>\n",
       "      <th>na_sales</th>\n",
       "      <th>eu_sales</th>\n",
       "      <th>jp_sales</th>\n",
       "      <th>other_sales</th>\n",
       "      <th>critic_score</th>\n",
       "      <th>user_score</th>\n",
       "      <th>rating</th>\n",
       "      <th>sum</th>\n",
       "    </tr>\n",
       "    <tr>\n",
       "      <th>year_of_release</th>\n",
       "      <th></th>\n",
       "      <th></th>\n",
       "      <th></th>\n",
       "      <th></th>\n",
       "      <th></th>\n",
       "      <th></th>\n",
       "      <th></th>\n",
       "      <th></th>\n",
       "      <th></th>\n",
       "      <th></th>\n",
       "      <th></th>\n",
       "    </tr>\n",
       "  </thead>\n",
       "  <tbody>\n",
       "    <tr>\n",
       "      <th>1995</th>\n",
       "      <td>219</td>\n",
       "      <td>219</td>\n",
       "      <td>219</td>\n",
       "      <td>219</td>\n",
       "      <td>219</td>\n",
       "      <td>219</td>\n",
       "      <td>219</td>\n",
       "      <td>0</td>\n",
       "      <td>0</td>\n",
       "      <td>0</td>\n",
       "      <td>219</td>\n",
       "    </tr>\n",
       "    <tr>\n",
       "      <th>1996</th>\n",
       "      <td>263</td>\n",
       "      <td>263</td>\n",
       "      <td>263</td>\n",
       "      <td>263</td>\n",
       "      <td>263</td>\n",
       "      <td>263</td>\n",
       "      <td>263</td>\n",
       "      <td>8</td>\n",
       "      <td>8</td>\n",
       "      <td>7</td>\n",
       "      <td>263</td>\n",
       "    </tr>\n",
       "    <tr>\n",
       "      <th>1997</th>\n",
       "      <td>289</td>\n",
       "      <td>289</td>\n",
       "      <td>289</td>\n",
       "      <td>289</td>\n",
       "      <td>289</td>\n",
       "      <td>289</td>\n",
       "      <td>289</td>\n",
       "      <td>17</td>\n",
       "      <td>19</td>\n",
       "      <td>19</td>\n",
       "      <td>289</td>\n",
       "    </tr>\n",
       "    <tr>\n",
       "      <th>1998</th>\n",
       "      <td>379</td>\n",
       "      <td>379</td>\n",
       "      <td>379</td>\n",
       "      <td>379</td>\n",
       "      <td>379</td>\n",
       "      <td>379</td>\n",
       "      <td>379</td>\n",
       "      <td>28</td>\n",
       "      <td>31</td>\n",
       "      <td>32</td>\n",
       "      <td>379</td>\n",
       "    </tr>\n",
       "    <tr>\n",
       "      <th>1999</th>\n",
       "      <td>338</td>\n",
       "      <td>338</td>\n",
       "      <td>338</td>\n",
       "      <td>338</td>\n",
       "      <td>338</td>\n",
       "      <td>338</td>\n",
       "      <td>338</td>\n",
       "      <td>39</td>\n",
       "      <td>39</td>\n",
       "      <td>42</td>\n",
       "      <td>338</td>\n",
       "    </tr>\n",
       "    <tr>\n",
       "      <th>2000</th>\n",
       "      <td>350</td>\n",
       "      <td>350</td>\n",
       "      <td>350</td>\n",
       "      <td>350</td>\n",
       "      <td>350</td>\n",
       "      <td>350</td>\n",
       "      <td>350</td>\n",
       "      <td>143</td>\n",
       "      <td>150</td>\n",
       "      <td>148</td>\n",
       "      <td>350</td>\n",
       "    </tr>\n",
       "    <tr>\n",
       "      <th>2001</th>\n",
       "      <td>482</td>\n",
       "      <td>482</td>\n",
       "      <td>482</td>\n",
       "      <td>482</td>\n",
       "      <td>482</td>\n",
       "      <td>482</td>\n",
       "      <td>482</td>\n",
       "      <td>326</td>\n",
       "      <td>339</td>\n",
       "      <td>339</td>\n",
       "      <td>482</td>\n",
       "    </tr>\n",
       "    <tr>\n",
       "      <th>2002</th>\n",
       "      <td>829</td>\n",
       "      <td>829</td>\n",
       "      <td>829</td>\n",
       "      <td>829</td>\n",
       "      <td>829</td>\n",
       "      <td>829</td>\n",
       "      <td>829</td>\n",
       "      <td>627</td>\n",
       "      <td>656</td>\n",
       "      <td>655</td>\n",
       "      <td>829</td>\n",
       "    </tr>\n",
       "    <tr>\n",
       "      <th>2003</th>\n",
       "      <td>775</td>\n",
       "      <td>775</td>\n",
       "      <td>775</td>\n",
       "      <td>775</td>\n",
       "      <td>775</td>\n",
       "      <td>775</td>\n",
       "      <td>775</td>\n",
       "      <td>585</td>\n",
       "      <td>611</td>\n",
       "      <td>613</td>\n",
       "      <td>775</td>\n",
       "    </tr>\n",
       "    <tr>\n",
       "      <th>2004</th>\n",
       "      <td>762</td>\n",
       "      <td>762</td>\n",
       "      <td>762</td>\n",
       "      <td>762</td>\n",
       "      <td>762</td>\n",
       "      <td>762</td>\n",
       "      <td>762</td>\n",
       "      <td>561</td>\n",
       "      <td>596</td>\n",
       "      <td>598</td>\n",
       "      <td>762</td>\n",
       "    </tr>\n",
       "    <tr>\n",
       "      <th>2005</th>\n",
       "      <td>939</td>\n",
       "      <td>939</td>\n",
       "      <td>939</td>\n",
       "      <td>939</td>\n",
       "      <td>939</td>\n",
       "      <td>939</td>\n",
       "      <td>939</td>\n",
       "      <td>655</td>\n",
       "      <td>704</td>\n",
       "      <td>706</td>\n",
       "      <td>939</td>\n",
       "    </tr>\n",
       "    <tr>\n",
       "      <th>2006</th>\n",
       "      <td>1006</td>\n",
       "      <td>1006</td>\n",
       "      <td>1006</td>\n",
       "      <td>1006</td>\n",
       "      <td>1006</td>\n",
       "      <td>1006</td>\n",
       "      <td>1006</td>\n",
       "      <td>620</td>\n",
       "      <td>676</td>\n",
       "      <td>678</td>\n",
       "      <td>1006</td>\n",
       "    </tr>\n",
       "    <tr>\n",
       "      <th>2007</th>\n",
       "      <td>1197</td>\n",
       "      <td>1197</td>\n",
       "      <td>1197</td>\n",
       "      <td>1197</td>\n",
       "      <td>1197</td>\n",
       "      <td>1197</td>\n",
       "      <td>1197</td>\n",
       "      <td>692</td>\n",
       "      <td>821</td>\n",
       "      <td>821</td>\n",
       "      <td>1197</td>\n",
       "    </tr>\n",
       "    <tr>\n",
       "      <th>2008</th>\n",
       "      <td>1427</td>\n",
       "      <td>1427</td>\n",
       "      <td>1427</td>\n",
       "      <td>1427</td>\n",
       "      <td>1427</td>\n",
       "      <td>1427</td>\n",
       "      <td>1427</td>\n",
       "      <td>715</td>\n",
       "      <td>987</td>\n",
       "      <td>981</td>\n",
       "      <td>1427</td>\n",
       "    </tr>\n",
       "    <tr>\n",
       "      <th>2009</th>\n",
       "      <td>1426</td>\n",
       "      <td>1426</td>\n",
       "      <td>1426</td>\n",
       "      <td>1426</td>\n",
       "      <td>1426</td>\n",
       "      <td>1426</td>\n",
       "      <td>1426</td>\n",
       "      <td>651</td>\n",
       "      <td>1019</td>\n",
       "      <td>1011</td>\n",
       "      <td>1426</td>\n",
       "    </tr>\n",
       "    <tr>\n",
       "      <th>2010</th>\n",
       "      <td>1255</td>\n",
       "      <td>1255</td>\n",
       "      <td>1255</td>\n",
       "      <td>1255</td>\n",
       "      <td>1255</td>\n",
       "      <td>1255</td>\n",
       "      <td>1255</td>\n",
       "      <td>500</td>\n",
       "      <td>798</td>\n",
       "      <td>799</td>\n",
       "      <td>1255</td>\n",
       "    </tr>\n",
       "    <tr>\n",
       "      <th>2011</th>\n",
       "      <td>1136</td>\n",
       "      <td>1136</td>\n",
       "      <td>1136</td>\n",
       "      <td>1136</td>\n",
       "      <td>1136</td>\n",
       "      <td>1136</td>\n",
       "      <td>1136</td>\n",
       "      <td>500</td>\n",
       "      <td>718</td>\n",
       "      <td>703</td>\n",
       "      <td>1136</td>\n",
       "    </tr>\n",
       "    <tr>\n",
       "      <th>2012</th>\n",
       "      <td>652</td>\n",
       "      <td>652</td>\n",
       "      <td>652</td>\n",
       "      <td>652</td>\n",
       "      <td>652</td>\n",
       "      <td>652</td>\n",
       "      <td>652</td>\n",
       "      <td>320</td>\n",
       "      <td>362</td>\n",
       "      <td>354</td>\n",
       "      <td>652</td>\n",
       "    </tr>\n",
       "    <tr>\n",
       "      <th>2013</th>\n",
       "      <td>544</td>\n",
       "      <td>544</td>\n",
       "      <td>544</td>\n",
       "      <td>544</td>\n",
       "      <td>544</td>\n",
       "      <td>544</td>\n",
       "      <td>544</td>\n",
       "      <td>273</td>\n",
       "      <td>319</td>\n",
       "      <td>316</td>\n",
       "      <td>544</td>\n",
       "    </tr>\n",
       "    <tr>\n",
       "      <th>2014</th>\n",
       "      <td>581</td>\n",
       "      <td>581</td>\n",
       "      <td>581</td>\n",
       "      <td>581</td>\n",
       "      <td>581</td>\n",
       "      <td>581</td>\n",
       "      <td>581</td>\n",
       "      <td>261</td>\n",
       "      <td>350</td>\n",
       "      <td>345</td>\n",
       "      <td>581</td>\n",
       "    </tr>\n",
       "    <tr>\n",
       "      <th>2015</th>\n",
       "      <td>606</td>\n",
       "      <td>606</td>\n",
       "      <td>606</td>\n",
       "      <td>606</td>\n",
       "      <td>606</td>\n",
       "      <td>606</td>\n",
       "      <td>606</td>\n",
       "      <td>225</td>\n",
       "      <td>335</td>\n",
       "      <td>315</td>\n",
       "      <td>606</td>\n",
       "    </tr>\n",
       "    <tr>\n",
       "      <th>2016</th>\n",
       "      <td>502</td>\n",
       "      <td>502</td>\n",
       "      <td>502</td>\n",
       "      <td>502</td>\n",
       "      <td>502</td>\n",
       "      <td>502</td>\n",
       "      <td>502</td>\n",
       "      <td>232</td>\n",
       "      <td>296</td>\n",
       "      <td>280</td>\n",
       "      <td>502</td>\n",
       "    </tr>\n",
       "  </tbody>\n",
       "</table>\n",
       "</div>"
      ],
      "text/plain": [
       "                 name  platform  genre  na_sales  eu_sales  jp_sales  \\\n",
       "year_of_release                                                        \n",
       "1995              219       219    219       219       219       219   \n",
       "1996              263       263    263       263       263       263   \n",
       "1997              289       289    289       289       289       289   \n",
       "1998              379       379    379       379       379       379   \n",
       "1999              338       338    338       338       338       338   \n",
       "2000              350       350    350       350       350       350   \n",
       "2001              482       482    482       482       482       482   \n",
       "2002              829       829    829       829       829       829   \n",
       "2003              775       775    775       775       775       775   \n",
       "2004              762       762    762       762       762       762   \n",
       "2005              939       939    939       939       939       939   \n",
       "2006             1006      1006   1006      1006      1006      1006   \n",
       "2007             1197      1197   1197      1197      1197      1197   \n",
       "2008             1427      1427   1427      1427      1427      1427   \n",
       "2009             1426      1426   1426      1426      1426      1426   \n",
       "2010             1255      1255   1255      1255      1255      1255   \n",
       "2011             1136      1136   1136      1136      1136      1136   \n",
       "2012              652       652    652       652       652       652   \n",
       "2013              544       544    544       544       544       544   \n",
       "2014              581       581    581       581       581       581   \n",
       "2015              606       606    606       606       606       606   \n",
       "2016              502       502    502       502       502       502   \n",
       "\n",
       "                 other_sales  critic_score  user_score  rating   sum  \n",
       "year_of_release                                                       \n",
       "1995                     219             0           0       0   219  \n",
       "1996                     263             8           8       7   263  \n",
       "1997                     289            17          19      19   289  \n",
       "1998                     379            28          31      32   379  \n",
       "1999                     338            39          39      42   338  \n",
       "2000                     350           143         150     148   350  \n",
       "2001                     482           326         339     339   482  \n",
       "2002                     829           627         656     655   829  \n",
       "2003                     775           585         611     613   775  \n",
       "2004                     762           561         596     598   762  \n",
       "2005                     939           655         704     706   939  \n",
       "2006                    1006           620         676     678  1006  \n",
       "2007                    1197           692         821     821  1197  \n",
       "2008                    1427           715         987     981  1427  \n",
       "2009                    1426           651        1019    1011  1426  \n",
       "2010                    1255           500         798     799  1255  \n",
       "2011                    1136           500         718     703  1136  \n",
       "2012                     652           320         362     354   652  \n",
       "2013                     544           273         319     316   544  \n",
       "2014                     581           261         350     345   581  \n",
       "2015                     606           225         335     315   606  \n",
       "2016                     502           232         296     280   502  "
      ]
     },
     "metadata": {},
     "output_type": "display_data"
    }
   ],
   "source": [
    "display(data.groupby(['year_of_release']).count())\n",
    "data=data[data['year_of_release'] > 1994]\n",
    "display(data.groupby(['year_of_release']).count())"
   ]
  },
  {
   "cell_type": "markdown",
   "metadata": {},
   "source": [
    "Посмотрим какие платформы которые имели самые высокие суммарные продажи. Можно выделить следующие шесть платформ с результатами:\n",
    "\n",
    "PS2\t- 1233.56\n",
    "\n",
    "X360 - 961.24\n",
    "\n",
    "PS3 - 931.34\n",
    "\n",
    "Wii - 891.18\n",
    "\n",
    "DS - 802.76\n",
    "\n",
    "PS - 721.55"
   ]
  },
  {
   "cell_type": "code",
   "execution_count": 140,
   "metadata": {},
   "outputs": [
    {
     "data": {
      "text/html": [
       "<div>\n",
       "<style scoped>\n",
       "    .dataframe tbody tr th:only-of-type {\n",
       "        vertical-align: middle;\n",
       "    }\n",
       "\n",
       "    .dataframe tbody tr th {\n",
       "        vertical-align: top;\n",
       "    }\n",
       "\n",
       "    .dataframe thead th {\n",
       "        text-align: right;\n",
       "    }\n",
       "</style>\n",
       "<table border=\"1\" class=\"dataframe\">\n",
       "  <thead>\n",
       "    <tr style=\"text-align: right;\">\n",
       "      <th></th>\n",
       "      <th>platform</th>\n",
       "      <th>sum</th>\n",
       "    </tr>\n",
       "  </thead>\n",
       "  <tbody>\n",
       "    <tr>\n",
       "      <th>12</th>\n",
       "      <td>PS2</td>\n",
       "      <td>1233.56</td>\n",
       "    </tr>\n",
       "    <tr>\n",
       "      <th>23</th>\n",
       "      <td>X360</td>\n",
       "      <td>961.24</td>\n",
       "    </tr>\n",
       "    <tr>\n",
       "      <th>13</th>\n",
       "      <td>PS3</td>\n",
       "      <td>931.33</td>\n",
       "    </tr>\n",
       "    <tr>\n",
       "      <th>21</th>\n",
       "      <td>Wii</td>\n",
       "      <td>891.18</td>\n",
       "    </tr>\n",
       "    <tr>\n",
       "      <th>3</th>\n",
       "      <td>DS</td>\n",
       "      <td>802.76</td>\n",
       "    </tr>\n",
       "    <tr>\n",
       "      <th>11</th>\n",
       "      <td>PS</td>\n",
       "      <td>721.55</td>\n",
       "    </tr>\n",
       "    <tr>\n",
       "      <th>14</th>\n",
       "      <td>PS4</td>\n",
       "      <td>314.14</td>\n",
       "    </tr>\n",
       "    <tr>\n",
       "      <th>5</th>\n",
       "      <td>GBA</td>\n",
       "      <td>312.88</td>\n",
       "    </tr>\n",
       "    <tr>\n",
       "      <th>15</th>\n",
       "      <td>PSP</td>\n",
       "      <td>289.53</td>\n",
       "    </tr>\n",
       "    <tr>\n",
       "      <th>1</th>\n",
       "      <td>3DS</td>\n",
       "      <td>257.81</td>\n",
       "    </tr>\n",
       "    <tr>\n",
       "      <th>24</th>\n",
       "      <td>XB</td>\n",
       "      <td>251.57</td>\n",
       "    </tr>\n",
       "    <tr>\n",
       "      <th>9</th>\n",
       "      <td>PC</td>\n",
       "      <td>239.79</td>\n",
       "    </tr>\n",
       "    <tr>\n",
       "      <th>7</th>\n",
       "      <td>N64</td>\n",
       "      <td>218.01</td>\n",
       "    </tr>\n",
       "    <tr>\n",
       "      <th>6</th>\n",
       "      <td>GC</td>\n",
       "      <td>196.73</td>\n",
       "    </tr>\n",
       "    <tr>\n",
       "      <th>25</th>\n",
       "      <td>XOne</td>\n",
       "      <td>159.32</td>\n",
       "    </tr>\n",
       "    <tr>\n",
       "      <th>4</th>\n",
       "      <td>GB</td>\n",
       "      <td>139.90</td>\n",
       "    </tr>\n",
       "    <tr>\n",
       "      <th>22</th>\n",
       "      <td>WiiU</td>\n",
       "      <td>82.19</td>\n",
       "    </tr>\n",
       "    <tr>\n",
       "      <th>16</th>\n",
       "      <td>PSV</td>\n",
       "      <td>53.81</td>\n",
       "    </tr>\n",
       "    <tr>\n",
       "      <th>18</th>\n",
       "      <td>SNES</td>\n",
       "      <td>49.59</td>\n",
       "    </tr>\n",
       "    <tr>\n",
       "      <th>17</th>\n",
       "      <td>SAT</td>\n",
       "      <td>29.94</td>\n",
       "    </tr>\n",
       "    <tr>\n",
       "      <th>2</th>\n",
       "      <td>DC</td>\n",
       "      <td>15.95</td>\n",
       "    </tr>\n",
       "    <tr>\n",
       "      <th>20</th>\n",
       "      <td>WS</td>\n",
       "      <td>1.42</td>\n",
       "    </tr>\n",
       "    <tr>\n",
       "      <th>8</th>\n",
       "      <td>NG</td>\n",
       "      <td>0.43</td>\n",
       "    </tr>\n",
       "    <tr>\n",
       "      <th>19</th>\n",
       "      <td>TG16</td>\n",
       "      <td>0.16</td>\n",
       "    </tr>\n",
       "    <tr>\n",
       "      <th>0</th>\n",
       "      <td>3DO</td>\n",
       "      <td>0.08</td>\n",
       "    </tr>\n",
       "    <tr>\n",
       "      <th>10</th>\n",
       "      <td>PCFX</td>\n",
       "      <td>0.03</td>\n",
       "    </tr>\n",
       "  </tbody>\n",
       "</table>\n",
       "</div>"
      ],
      "text/plain": [
       "   platform      sum\n",
       "12      PS2  1233.56\n",
       "23     X360   961.24\n",
       "13      PS3   931.33\n",
       "21      Wii   891.18\n",
       "3        DS   802.76\n",
       "11       PS   721.55\n",
       "14      PS4   314.14\n",
       "5       GBA   312.88\n",
       "15      PSP   289.53\n",
       "1       3DS   257.81\n",
       "24       XB   251.57\n",
       "9        PC   239.79\n",
       "7       N64   218.01\n",
       "6        GC   196.73\n",
       "25     XOne   159.32\n",
       "4        GB   139.90\n",
       "22     WiiU    82.19\n",
       "16      PSV    53.81\n",
       "18     SNES    49.59\n",
       "17      SAT    29.94\n",
       "2        DC    15.95\n",
       "20       WS     1.42\n",
       "8        NG     0.43\n",
       "19     TG16     0.16\n",
       "0       3DO     0.08\n",
       "10     PCFX     0.03"
      ]
     },
     "execution_count": 140,
     "metadata": {},
     "output_type": "execute_result"
    }
   ],
   "source": [
    "data_1=data.pivot_table(index='platform',values='sum',aggfunc='sum')\n",
    "data_1=data_1.reset_index(drop=False)\n",
    "data_1.sort_values(by='sum',ascending=False)"
   ]
  },
  {
   "cell_type": "markdown",
   "metadata": {},
   "source": [
    "Построим график распределения суммарного дохода на 6 самых прибыльных платформах по годам. Можно заметить что средний жизненный цикл платформы 3-4 года."
   ]
  },
  {
   "cell_type": "code",
   "execution_count": 141,
   "metadata": {},
   "outputs": [
    {
     "data": {
      "image/png": "[encoded data removed]",
      "text/plain": [
       "<Figure size 2160x720 with 1 Axes>"
      ]
     },
     "metadata": {
      "needs_background": "light"
     },
     "output_type": "display_data"
    }
   ],
   "source": [
    "data_2=data[(data['platform']=='PS2') | (data['platform']=='PS') | (data['platform']=='X360') | (data['platform']=='PS3') | (data['platform']=='Wii') | (data['platform']=='DS') ]\n",
    "data_2=data_2.pivot_table(index='year_of_release',columns='platform',values='sum',aggfunc='sum')\n",
    "data_2.plot.bar(figsize=(30,10),title='Распределение суммарных продаж на плотформах по годам')\n",
    "plt.show()"
   ]
  },
  {
   "cell_type": "markdown",
   "metadata": {},
   "source": [
    "Так как мы выяснили что средний срок жизни платформы около 4  лет, то для нашего исследования достаточно будет взять данные начиная с 2013 года."
   ]
  },
  {
   "cell_type": "code",
   "execution_count": 142,
   "metadata": {},
   "outputs": [
    {
     "name": "stdout",
     "output_type": "stream",
     "text": [
      "<class 'pandas.core.frame.DataFrame'>\n",
      "Int64Index: 2233 entries, 16 to 16714\n",
      "Data columns (total 12 columns):\n",
      " #   Column           Non-Null Count  Dtype  \n",
      "---  ------           --------------  -----  \n",
      " 0   name             2233 non-null   object \n",
      " 1   platform         2233 non-null   object \n",
      " 2   year_of_release  2233 non-null   int64  \n",
      " 3   genre            2233 non-null   object \n",
      " 4   na_sales         2233 non-null   float64\n",
      " 5   eu_sales         2233 non-null   float64\n",
      " 6   jp_sales         2233 non-null   float64\n",
      " 7   other_sales      2233 non-null   float64\n",
      " 8   critic_score     991 non-null    float64\n",
      " 9   user_score       1300 non-null   float64\n",
      " 10  rating           1256 non-null   object \n",
      " 11  sum              2233 non-null   float64\n",
      "dtypes: float64(7), int64(1), object(4)\n",
      "memory usage: 226.8+ KB\n"
     ]
    }
   ],
   "source": [
    "data_3=data[data['year_of_release']>=2013]\n",
    "data_3.info()"
   ]
  },
  {
   "cell_type": "markdown",
   "metadata": {},
   "source": [
    "Посмотрим какие платформы были в эти годы и как они развивались или угасали.\n",
    "\n",
    "В таблице видно что всего в эти годы было 11 платформ. Ряд из них перестали приносить доход к 2016 году. это такие платформы как : DC, PSP. Так же есть платформы находящиеся в конц своего жизненного цикла(затухание): PC, PS3, WiiU, X360. \n",
    "\n",
    "Среди потенциально прибульных платформ можно выделить: PS4 и XOne. Эти платформы находятся в середине своего жизненного цикла и пока приносят неплохие суммарные доходы."
   ]
  },
  {
   "cell_type": "code",
   "execution_count": 143,
   "metadata": {},
   "outputs": [
    {
     "data": {
      "text/html": [
       "<div>\n",
       "<style scoped>\n",
       "    .dataframe tbody tr th:only-of-type {\n",
       "        vertical-align: middle;\n",
       "    }\n",
       "\n",
       "    .dataframe tbody tr th {\n",
       "        vertical-align: top;\n",
       "    }\n",
       "\n",
       "    .dataframe thead th {\n",
       "        text-align: right;\n",
       "    }\n",
       "</style>\n",
       "<table border=\"1\" class=\"dataframe\">\n",
       "  <thead>\n",
       "    <tr style=\"text-align: right;\">\n",
       "      <th>year_of_release</th>\n",
       "      <th>2013</th>\n",
       "      <th>2014</th>\n",
       "      <th>2015</th>\n",
       "      <th>2016</th>\n",
       "    </tr>\n",
       "    <tr>\n",
       "      <th>platform</th>\n",
       "      <th></th>\n",
       "      <th></th>\n",
       "      <th></th>\n",
       "      <th></th>\n",
       "    </tr>\n",
       "  </thead>\n",
       "  <tbody>\n",
       "    <tr>\n",
       "      <th>3DS</th>\n",
       "      <td>56.57</td>\n",
       "      <td>43.76</td>\n",
       "      <td>27.78</td>\n",
       "      <td>15.14</td>\n",
       "    </tr>\n",
       "    <tr>\n",
       "      <th>DS</th>\n",
       "      <td>1.54</td>\n",
       "      <td>NaN</td>\n",
       "      <td>NaN</td>\n",
       "      <td>NaN</td>\n",
       "    </tr>\n",
       "    <tr>\n",
       "      <th>PC</th>\n",
       "      <td>12.38</td>\n",
       "      <td>13.28</td>\n",
       "      <td>8.52</td>\n",
       "      <td>5.25</td>\n",
       "    </tr>\n",
       "    <tr>\n",
       "      <th>PS3</th>\n",
       "      <td>113.25</td>\n",
       "      <td>47.76</td>\n",
       "      <td>16.82</td>\n",
       "      <td>3.60</td>\n",
       "    </tr>\n",
       "    <tr>\n",
       "      <th>PS4</th>\n",
       "      <td>25.99</td>\n",
       "      <td>100.00</td>\n",
       "      <td>118.90</td>\n",
       "      <td>69.25</td>\n",
       "    </tr>\n",
       "    <tr>\n",
       "      <th>PSP</th>\n",
       "      <td>3.14</td>\n",
       "      <td>0.24</td>\n",
       "      <td>0.12</td>\n",
       "      <td>NaN</td>\n",
       "    </tr>\n",
       "    <tr>\n",
       "      <th>PSV</th>\n",
       "      <td>10.59</td>\n",
       "      <td>11.90</td>\n",
       "      <td>6.25</td>\n",
       "      <td>4.25</td>\n",
       "    </tr>\n",
       "    <tr>\n",
       "      <th>Wii</th>\n",
       "      <td>8.59</td>\n",
       "      <td>3.75</td>\n",
       "      <td>1.14</td>\n",
       "      <td>0.18</td>\n",
       "    </tr>\n",
       "    <tr>\n",
       "      <th>WiiU</th>\n",
       "      <td>21.65</td>\n",
       "      <td>22.03</td>\n",
       "      <td>16.35</td>\n",
       "      <td>4.60</td>\n",
       "    </tr>\n",
       "    <tr>\n",
       "      <th>X360</th>\n",
       "      <td>88.58</td>\n",
       "      <td>34.74</td>\n",
       "      <td>11.96</td>\n",
       "      <td>1.52</td>\n",
       "    </tr>\n",
       "    <tr>\n",
       "      <th>XOne</th>\n",
       "      <td>18.96</td>\n",
       "      <td>54.07</td>\n",
       "      <td>60.14</td>\n",
       "      <td>26.15</td>\n",
       "    </tr>\n",
       "  </tbody>\n",
       "</table>\n",
       "</div>"
      ],
      "text/plain": [
       "year_of_release    2013    2014    2015   2016\n",
       "platform                                      \n",
       "3DS               56.57   43.76   27.78  15.14\n",
       "DS                 1.54     NaN     NaN    NaN\n",
       "PC                12.38   13.28    8.52   5.25\n",
       "PS3              113.25   47.76   16.82   3.60\n",
       "PS4               25.99  100.00  118.90  69.25\n",
       "PSP                3.14    0.24    0.12    NaN\n",
       "PSV               10.59   11.90    6.25   4.25\n",
       "Wii                8.59    3.75    1.14   0.18\n",
       "WiiU              21.65   22.03   16.35   4.60\n",
       "X360              88.58   34.74   11.96   1.52\n",
       "XOne              18.96   54.07   60.14  26.15"
      ]
     },
     "metadata": {},
     "output_type": "display_data"
    },
    {
     "data": {
      "image/png": "[encoded data removed]",
      "text/plain": [
       "<Figure size 720x720 with 2 Axes>"
      ]
     },
     "metadata": {
      "needs_background": "light"
     },
     "output_type": "display_data"
    }
   ],
   "source": [
    "data_platform_year=data_3.pivot_table(index='platform',columns='year_of_release',values='sum',aggfunc='sum')\n",
    "display(data_platform_year)\n",
    "fig, ax = plt.subplots(figsize=(10, 10))\n",
    "sns.heatmap(data_platform_year,annot = True) \n",
    "plt.show()"
   ]
  },
  {
   "cell_type": "markdown",
   "metadata": {},
   "source": [
    "Теперь построим ящик с усами по глобальным продажам игр в разбивке по платформам. Видно большие выбросы у ряда платформ. Возможно что это выпускались на этих платформах популярные игры (бестселлеры)"
   ]
  },
  {
   "cell_type": "code",
   "execution_count": 144,
   "metadata": {},
   "outputs": [
    {
     "data": {
      "text/html": [
       "<div>\n",
       "<style scoped>\n",
       "    .dataframe tbody tr th:only-of-type {\n",
       "        vertical-align: middle;\n",
       "    }\n",
       "\n",
       "    .dataframe tbody tr th {\n",
       "        vertical-align: top;\n",
       "    }\n",
       "\n",
       "    .dataframe thead th {\n",
       "        text-align: right;\n",
       "    }\n",
       "</style>\n",
       "<table border=\"1\" class=\"dataframe\">\n",
       "  <thead>\n",
       "    <tr style=\"text-align: right;\">\n",
       "      <th></th>\n",
       "      <th>platform</th>\n",
       "      <th>sum</th>\n",
       "    </tr>\n",
       "  </thead>\n",
       "  <tbody>\n",
       "    <tr>\n",
       "      <th>4</th>\n",
       "      <td>PS4</td>\n",
       "      <td>314.14</td>\n",
       "    </tr>\n",
       "    <tr>\n",
       "      <th>3</th>\n",
       "      <td>PS3</td>\n",
       "      <td>181.43</td>\n",
       "    </tr>\n",
       "    <tr>\n",
       "      <th>10</th>\n",
       "      <td>XOne</td>\n",
       "      <td>159.32</td>\n",
       "    </tr>\n",
       "    <tr>\n",
       "      <th>0</th>\n",
       "      <td>3DS</td>\n",
       "      <td>143.25</td>\n",
       "    </tr>\n",
       "    <tr>\n",
       "      <th>9</th>\n",
       "      <td>X360</td>\n",
       "      <td>136.80</td>\n",
       "    </tr>\n",
       "    <tr>\n",
       "      <th>8</th>\n",
       "      <td>WiiU</td>\n",
       "      <td>64.63</td>\n",
       "    </tr>\n",
       "    <tr>\n",
       "      <th>2</th>\n",
       "      <td>PC</td>\n",
       "      <td>39.43</td>\n",
       "    </tr>\n",
       "    <tr>\n",
       "      <th>6</th>\n",
       "      <td>PSV</td>\n",
       "      <td>32.99</td>\n",
       "    </tr>\n",
       "    <tr>\n",
       "      <th>7</th>\n",
       "      <td>Wii</td>\n",
       "      <td>13.66</td>\n",
       "    </tr>\n",
       "    <tr>\n",
       "      <th>5</th>\n",
       "      <td>PSP</td>\n",
       "      <td>3.50</td>\n",
       "    </tr>\n",
       "    <tr>\n",
       "      <th>1</th>\n",
       "      <td>DS</td>\n",
       "      <td>1.54</td>\n",
       "    </tr>\n",
       "  </tbody>\n",
       "</table>\n",
       "</div>"
      ],
      "text/plain": [
       "   platform     sum\n",
       "4       PS4  314.14\n",
       "3       PS3  181.43\n",
       "10     XOne  159.32\n",
       "0       3DS  143.25\n",
       "9      X360  136.80\n",
       "8      WiiU   64.63\n",
       "2        PC   39.43\n",
       "6       PSV   32.99\n",
       "7       Wii   13.66\n",
       "5       PSP    3.50\n",
       "1        DS    1.54"
      ]
     },
     "metadata": {},
     "output_type": "display_data"
    },
    {
     "data": {
      "image/png": "[encoded data removed]",
      "text/plain": [
       "<Figure size 1080x1800 with 1 Axes>"
      ]
     },
     "metadata": {
      "needs_background": "light"
     },
     "output_type": "display_data"
    }
   ],
   "source": [
    "data_platform=data_3.pivot_table(index='platform',values='sum',aggfunc='sum')\n",
    "data_platform=data_platform.reset_index(drop=False)\n",
    "display(data_platform.sort_values(by='sum',ascending=False))\n",
    "fig, ax = plt.subplots(figsize=(15, 25))\n",
    "sns.boxplot(x='platform',y='sum',data=data_3)\n",
    "plt.title('\"Ящик с усами\" по глобальным продажам игр в разбивке по платформам')\n",
    "plt.xlabel('Платформа')\n",
    "plt.ylabel('Общий доход')\n",
    "plt.show()"
   ]
  },
  {
   "cell_type": "code",
   "execution_count": 145,
   "metadata": {},
   "outputs": [
    {
     "data": {
      "text/html": [
       "<div>\n",
       "<style scoped>\n",
       "    .dataframe tbody tr th:only-of-type {\n",
       "        vertical-align: middle;\n",
       "    }\n",
       "\n",
       "    .dataframe tbody tr th {\n",
       "        vertical-align: top;\n",
       "    }\n",
       "\n",
       "    .dataframe thead th {\n",
       "        text-align: right;\n",
       "    }\n",
       "</style>\n",
       "<table border=\"1\" class=\"dataframe\">\n",
       "  <thead>\n",
       "    <tr style=\"text-align: right;\">\n",
       "      <th></th>\n",
       "      <th>platform</th>\n",
       "      <th>sum</th>\n",
       "    </tr>\n",
       "  </thead>\n",
       "  <tbody>\n",
       "    <tr>\n",
       "      <th>4</th>\n",
       "      <td>PS4</td>\n",
       "      <td>314.14</td>\n",
       "    </tr>\n",
       "    <tr>\n",
       "      <th>3</th>\n",
       "      <td>PS3</td>\n",
       "      <td>181.43</td>\n",
       "    </tr>\n",
       "    <tr>\n",
       "      <th>10</th>\n",
       "      <td>XOne</td>\n",
       "      <td>159.32</td>\n",
       "    </tr>\n",
       "    <tr>\n",
       "      <th>0</th>\n",
       "      <td>3DS</td>\n",
       "      <td>143.25</td>\n",
       "    </tr>\n",
       "    <tr>\n",
       "      <th>9</th>\n",
       "      <td>X360</td>\n",
       "      <td>136.80</td>\n",
       "    </tr>\n",
       "    <tr>\n",
       "      <th>8</th>\n",
       "      <td>WiiU</td>\n",
       "      <td>64.63</td>\n",
       "    </tr>\n",
       "    <tr>\n",
       "      <th>2</th>\n",
       "      <td>PC</td>\n",
       "      <td>39.43</td>\n",
       "    </tr>\n",
       "    <tr>\n",
       "      <th>6</th>\n",
       "      <td>PSV</td>\n",
       "      <td>32.99</td>\n",
       "    </tr>\n",
       "    <tr>\n",
       "      <th>7</th>\n",
       "      <td>Wii</td>\n",
       "      <td>13.66</td>\n",
       "    </tr>\n",
       "    <tr>\n",
       "      <th>5</th>\n",
       "      <td>PSP</td>\n",
       "      <td>3.50</td>\n",
       "    </tr>\n",
       "    <tr>\n",
       "      <th>1</th>\n",
       "      <td>DS</td>\n",
       "      <td>1.54</td>\n",
       "    </tr>\n",
       "  </tbody>\n",
       "</table>\n",
       "</div>"
      ],
      "text/plain": [
       "   platform     sum\n",
       "4       PS4  314.14\n",
       "3       PS3  181.43\n",
       "10     XOne  159.32\n",
       "0       3DS  143.25\n",
       "9      X360  136.80\n",
       "8      WiiU   64.63\n",
       "2        PC   39.43\n",
       "6       PSV   32.99\n",
       "7       Wii   13.66\n",
       "5       PSP    3.50\n",
       "1        DS    1.54"
      ]
     },
     "metadata": {},
     "output_type": "display_data"
    },
    {
     "data": {
      "image/png": "[encoded data removed]",
      "text/plain": [
       "<Figure size 1440x720 with 1 Axes>"
      ]
     },
     "metadata": {
      "needs_background": "light"
     },
     "output_type": "display_data"
    }
   ],
   "source": [
    "data_platform=data_3.pivot_table(index='platform',values='sum',aggfunc='sum')\n",
    "data_platform=data_platform.reset_index(drop=False)\n",
    "display(data_platform.sort_values(by='sum',ascending=False))\n",
    "fig, ax = plt.subplots(figsize=(20, 10))\n",
    "sns.boxplot(x='platform',y='sum',data=data_3)\n",
    "plt.title('\"Ящик с усами\" по глобальным продажам игр в разбивке по платформам')\n",
    "plt.xlabel('Платформа')\n",
    "plt.ylabel('Общий доход')\n",
    "\n",
    "plt.ylim(0, 0.85)\n",
    "\n",
    "plt.show()"
   ]
  },
  {
   "cell_type": "markdown",
   "metadata": {},
   "source": [
    "Посмотрим, как влияют на продажи отзывы пользователей и критиков, на одной самой популярной платформе."
   ]
  },
  {
   "cell_type": "code",
   "execution_count": 146,
   "metadata": {},
   "outputs": [
    {
     "data": {
      "text/html": [
       "<div>\n",
       "<style scoped>\n",
       "    .dataframe tbody tr th:only-of-type {\n",
       "        vertical-align: middle;\n",
       "    }\n",
       "\n",
       "    .dataframe tbody tr th {\n",
       "        vertical-align: top;\n",
       "    }\n",
       "\n",
       "    .dataframe thead th {\n",
       "        text-align: right;\n",
       "    }\n",
       "</style>\n",
       "<table border=\"1\" class=\"dataframe\">\n",
       "  <thead>\n",
       "    <tr style=\"text-align: right;\">\n",
       "      <th></th>\n",
       "      <th>na_sales</th>\n",
       "      <th>eu_sales</th>\n",
       "      <th>jp_sales</th>\n",
       "      <th>other_sales</th>\n",
       "      <th>critic_score</th>\n",
       "      <th>user_score</th>\n",
       "      <th>sum</th>\n",
       "    </tr>\n",
       "  </thead>\n",
       "  <tbody>\n",
       "    <tr>\n",
       "      <th>31</th>\n",
       "      <td>6.03</td>\n",
       "      <td>5.86</td>\n",
       "      <td>0.36</td>\n",
       "      <td>2.38</td>\n",
       "      <td>NaN</td>\n",
       "      <td>NaN</td>\n",
       "      <td>14.63</td>\n",
       "    </tr>\n",
       "    <tr>\n",
       "      <th>42</th>\n",
       "      <td>3.96</td>\n",
       "      <td>6.31</td>\n",
       "      <td>0.38</td>\n",
       "      <td>1.97</td>\n",
       "      <td>97.0</td>\n",
       "      <td>8.3</td>\n",
       "      <td>12.62</td>\n",
       "    </tr>\n",
       "    <tr>\n",
       "      <th>77</th>\n",
       "      <td>1.12</td>\n",
       "      <td>6.12</td>\n",
       "      <td>0.06</td>\n",
       "      <td>1.28</td>\n",
       "      <td>82.0</td>\n",
       "      <td>4.3</td>\n",
       "      <td>8.58</td>\n",
       "    </tr>\n",
       "    <tr>\n",
       "      <th>87</th>\n",
       "      <td>2.99</td>\n",
       "      <td>3.49</td>\n",
       "      <td>0.22</td>\n",
       "      <td>1.28</td>\n",
       "      <td>NaN</td>\n",
       "      <td>NaN</td>\n",
       "      <td>7.98</td>\n",
       "    </tr>\n",
       "    <tr>\n",
       "      <th>92</th>\n",
       "      <td>2.81</td>\n",
       "      <td>3.48</td>\n",
       "      <td>0.14</td>\n",
       "      <td>1.23</td>\n",
       "      <td>83.0</td>\n",
       "      <td>5.7</td>\n",
       "      <td>7.66</td>\n",
       "    </tr>\n",
       "    <tr>\n",
       "      <th>...</th>\n",
       "      <td>...</td>\n",
       "      <td>...</td>\n",
       "      <td>...</td>\n",
       "      <td>...</td>\n",
       "      <td>...</td>\n",
       "      <td>...</td>\n",
       "      <td>...</td>\n",
       "    </tr>\n",
       "    <tr>\n",
       "      <th>16500</th>\n",
       "      <td>0.00</td>\n",
       "      <td>0.00</td>\n",
       "      <td>0.01</td>\n",
       "      <td>0.00</td>\n",
       "      <td>69.0</td>\n",
       "      <td>7.5</td>\n",
       "      <td>0.01</td>\n",
       "    </tr>\n",
       "    <tr>\n",
       "      <th>16503</th>\n",
       "      <td>0.00</td>\n",
       "      <td>0.00</td>\n",
       "      <td>0.01</td>\n",
       "      <td>0.00</td>\n",
       "      <td>NaN</td>\n",
       "      <td>NaN</td>\n",
       "      <td>0.01</td>\n",
       "    </tr>\n",
       "    <tr>\n",
       "      <th>16526</th>\n",
       "      <td>0.01</td>\n",
       "      <td>0.00</td>\n",
       "      <td>0.00</td>\n",
       "      <td>0.00</td>\n",
       "      <td>61.0</td>\n",
       "      <td>7.9</td>\n",
       "      <td>0.01</td>\n",
       "    </tr>\n",
       "    <tr>\n",
       "      <th>16530</th>\n",
       "      <td>0.01</td>\n",
       "      <td>0.00</td>\n",
       "      <td>0.00</td>\n",
       "      <td>0.00</td>\n",
       "      <td>51.0</td>\n",
       "      <td>5.5</td>\n",
       "      <td>0.01</td>\n",
       "    </tr>\n",
       "    <tr>\n",
       "      <th>16585</th>\n",
       "      <td>0.00</td>\n",
       "      <td>0.01</td>\n",
       "      <td>0.00</td>\n",
       "      <td>0.00</td>\n",
       "      <td>NaN</td>\n",
       "      <td>NaN</td>\n",
       "      <td>0.01</td>\n",
       "    </tr>\n",
       "  </tbody>\n",
       "</table>\n",
       "<p>392 rows × 7 columns</p>\n",
       "</div>"
      ],
      "text/plain": [
       "       na_sales  eu_sales  jp_sales  other_sales  critic_score  user_score  \\\n",
       "31         6.03      5.86      0.36         2.38           NaN         NaN   \n",
       "42         3.96      6.31      0.38         1.97          97.0         8.3   \n",
       "77         1.12      6.12      0.06         1.28          82.0         4.3   \n",
       "87         2.99      3.49      0.22         1.28           NaN         NaN   \n",
       "92         2.81      3.48      0.14         1.23          83.0         5.7   \n",
       "...         ...       ...       ...          ...           ...         ...   \n",
       "16500      0.00      0.00      0.01         0.00          69.0         7.5   \n",
       "16503      0.00      0.00      0.01         0.00           NaN         NaN   \n",
       "16526      0.01      0.00      0.00         0.00          61.0         7.9   \n",
       "16530      0.01      0.00      0.00         0.00          51.0         5.5   \n",
       "16585      0.00      0.01      0.00         0.00           NaN         NaN   \n",
       "\n",
       "         sum  \n",
       "31     14.63  \n",
       "42     12.62  \n",
       "77      8.58  \n",
       "87      7.98  \n",
       "92      7.66  \n",
       "...      ...  \n",
       "16500   0.01  \n",
       "16503   0.01  \n",
       "16526   0.01  \n",
       "16530   0.01  \n",
       "16585   0.01  \n",
       "\n",
       "[392 rows x 7 columns]"
      ]
     },
     "metadata": {},
     "output_type": "display_data"
    }
   ],
   "source": [
    "data_ps4=data_3[data_3['platform']=='PS4']\n",
    "data_ps4=data_ps4.drop(['name','platform','year_of_release','genre','rating'], axis=1)\n",
    "display(data_ps4)"
   ]
  },
  {
   "cell_type": "markdown",
   "metadata": {},
   "source": [
    "Для начала построим диаграммы рассеивания для зависимости общей суммы продаж, а так же суммы продаж по регионам от оценки критиков.\n",
    "Видно что эта зависимость достаточно сильная для всех регионов, чем выше оценка критиков, тем выше сумма продаж. Некоторое нарушение зависимости можно отметить в Японии.Тут заметны некоторые выбросы(высокие продажи три низких оценках критиков)"
   ]
  },
  {
   "cell_type": "code",
   "execution_count": 147,
   "metadata": {},
   "outputs": [
    {
     "data": {
      "image/png": "[encoded data removed]",
      "text/plain": [
       "<Figure size 432x288 with 1 Axes>"
      ]
     },
     "metadata": {
      "needs_background": "light"
     },
     "output_type": "display_data"
    },
    {
     "data": {
      "image/png": "[encoded data removed]",
      "text/plain": [
       "<Figure size 432x288 with 1 Axes>"
      ]
     },
     "metadata": {
      "needs_background": "light"
     },
     "output_type": "display_data"
    },
    {
     "data": {
      "image/png": "[encoded data removed]",
      "text/plain": [
       "<Figure size 432x288 with 1 Axes>"
      ]
     },
     "metadata": {
      "needs_background": "light"
     },
     "output_type": "display_data"
    },
    {
     "data": {
      "image/png": "[encoded data removed]",
      "text/plain": [
       "<Figure size 432x288 with 1 Axes>"
      ]
     },
     "metadata": {
      "needs_background": "light"
     },
     "output_type": "display_data"
    },
    {
     "data": {
      "image/png": "[encoded data removed]",
      "text/plain": [
       "<Figure size 432x288 with 1 Axes>"
      ]
     },
     "metadata": {
      "needs_background": "light"
     },
     "output_type": "display_data"
    }
   ],
   "source": [
    "plt.scatter(x=data_ps4['critic_score'], y=data_ps4['sum'])\n",
    "plt.title('Зависимость между оценкой критиков и общей суммой продаж')\n",
    "plt.xlabel('critic_score')\n",
    "plt.ylabel('sum')\n",
    "plt.show()\n",
    "plt.scatter(x=data_ps4['critic_score'], y=data_ps4['na_sales'])\n",
    "plt.title('Зависимость между оценкой критиков и суммой продаж в Северной Америке')\n",
    "plt.xlabel('critic_score')\n",
    "plt.ylabel('na_sales')\n",
    "plt.show()\n",
    "plt.scatter(x=data_ps4['critic_score'], y=data_ps4['eu_sales'])\n",
    "plt.title('Зависимость между оценкой критиков и суммой продаж в Европе')\n",
    "plt.xlabel('critic_score')\n",
    "plt.ylabel('eu_sales')\n",
    "plt.show()\n",
    "plt.scatter(x=data_ps4['critic_score'], y=data_ps4['jp_sales'])\n",
    "plt.title('Зависимость между оценкой критиков и суммой продаж в Японии')\n",
    "plt.xlabel('critic_score')\n",
    "plt.ylabel('jp_sales')\n",
    "plt.show()\n",
    "plt.scatter(x=data_ps4['critic_score'], y=data_ps4['other_sales'])\n",
    "plt.title('Зависимость между оценкой критиков и суммой продаж в других странах')\n",
    "plt.xlabel('critic_score')\n",
    "plt.ylabel('other_sales')\n",
    "plt.show()"
   ]
  },
  {
   "cell_type": "markdown",
   "metadata": {},
   "source": [
    "Теперь посмотрим на зависимость продаж от оценки пользователей. Тут наблюдается меньшая зависимость и больше выбросов, как для отдельных регионов так и для общих продаж. Можно предположить что это связано и с тем, что пользователи сначала преобретают игру, а затем пишут отзыв. К тому же бывают сильно ожидаемые игры на которые делаются предзаказы, но в дальнейшем такие игры могут получить не самые высокии оценки пользователей."
   ]
  },
  {
   "cell_type": "code",
   "execution_count": 148,
   "metadata": {},
   "outputs": [
    {
     "data": {
      "image/png": "[encoded data removed]",
      "text/plain": [
       "<Figure size 432x288 with 1 Axes>"
      ]
     },
     "metadata": {
      "needs_background": "light"
     },
     "output_type": "display_data"
    },
    {
     "data": {
      "image/png": "[encoded data removed]",
      "text/plain": [
       "<Figure size 432x288 with 1 Axes>"
      ]
     },
     "metadata": {
      "needs_background": "light"
     },
     "output_type": "display_data"
    },
    {
     "data": {
      "image/png": "[encoded data removed]",
      "text/plain": [
       "<Figure size 432x288 with 1 Axes>"
      ]
     },
     "metadata": {
      "needs_background": "light"
     },
     "output_type": "display_data"
    },
    {
     "data": {
      "image/png": "[encoded data removed]",
      "text/plain": [
       "<Figure size 432x288 with 1 Axes>"
      ]
     },
     "metadata": {
      "needs_background": "light"
     },
     "output_type": "display_data"
    },
    {
     "data": {
      "image/png": "[encoded data removed]",
      "text/plain": [
       "<Figure size 432x288 with 1 Axes>"
      ]
     },
     "metadata": {
      "needs_background": "light"
     },
     "output_type": "display_data"
    }
   ],
   "source": [
    "plt.scatter(x=data_ps4['user_score'], y=data_ps4['sum'])\n",
    "plt.title('Зависимость между оценкой пользователей и общей суммой продаж')\n",
    "plt.xlabel('user_score')\n",
    "plt.ylabel('sum')\n",
    "plt.show()\n",
    "plt.scatter(x=data_ps4['user_score'], y=data_ps4['na_sales'])\n",
    "plt.title('Зависимость между оценкой пользователей и суммой продаж в Северной Америке')\n",
    "plt.xlabel('user_score')\n",
    "plt.ylabel('na_sales')\n",
    "plt.show()\n",
    "plt.scatter(x=data_ps4['user_score'], y=data_ps4['eu_sales'])\n",
    "plt.title('Зависимость между оценкой пользователей и суммой продаж в Европе')\n",
    "plt.xlabel('user_score')\n",
    "plt.ylabel('eu_sales')\n",
    "plt.show()\n",
    "plt.scatter(x=data_ps4['user_score'], y=data_ps4['jp_sales'])\n",
    "plt.title('Зависимость между оценкой пользователей и суммой продаж в Японии')\n",
    "plt.xlabel('user_score')\n",
    "plt.ylabel('jp_sales')\n",
    "plt.show()\n",
    "plt.scatter(x=data_ps4['user_score'], y=data_ps4['other_sales'])\n",
    "plt.title('Зависимость между оценкой пользователей и суммой продаж в других странах')\n",
    "plt.xlabel('user_score')\n",
    "plt.ylabel('other_sales')\n",
    "plt.show()"
   ]
  },
  {
   "cell_type": "markdown",
   "metadata": {},
   "source": [
    "А теперь посмотрим на корреляцию между оценками критиков, пользователей и суммами продаж.\n",
    "Так же заметно корреляция между оценкой критиков и продажами в Японии в меньшей степени чем в других регионах. \n",
    "Оценка пользователей имеет же совсем низкий коэффициент кореляции с общими продажами и продажами по регионам. зато заметка корреляция между оценкой критиков и оценкой пользователей."
   ]
  },
  {
   "cell_type": "code",
   "execution_count": 149,
   "metadata": {
    "scrolled": false
   },
   "outputs": [
    {
     "data": {
      "text/html": [
       "<div>\n",
       "<style scoped>\n",
       "    .dataframe tbody tr th:only-of-type {\n",
       "        vertical-align: middle;\n",
       "    }\n",
       "\n",
       "    .dataframe tbody tr th {\n",
       "        vertical-align: top;\n",
       "    }\n",
       "\n",
       "    .dataframe thead th {\n",
       "        text-align: right;\n",
       "    }\n",
       "</style>\n",
       "<table border=\"1\" class=\"dataframe\">\n",
       "  <thead>\n",
       "    <tr style=\"text-align: right;\">\n",
       "      <th></th>\n",
       "      <th>na_sales</th>\n",
       "      <th>eu_sales</th>\n",
       "      <th>jp_sales</th>\n",
       "      <th>other_sales</th>\n",
       "      <th>critic_score</th>\n",
       "      <th>user_score</th>\n",
       "      <th>sum</th>\n",
       "    </tr>\n",
       "  </thead>\n",
       "  <tbody>\n",
       "    <tr>\n",
       "      <th>na_sales</th>\n",
       "      <td>1.000000</td>\n",
       "      <td>0.785362</td>\n",
       "      <td>0.472981</td>\n",
       "      <td>0.944259</td>\n",
       "      <td>0.415008</td>\n",
       "      <td>0.030639</td>\n",
       "      <td>0.928160</td>\n",
       "    </tr>\n",
       "    <tr>\n",
       "      <th>eu_sales</th>\n",
       "      <td>0.785362</td>\n",
       "      <td>1.000000</td>\n",
       "      <td>0.464563</td>\n",
       "      <td>0.944698</td>\n",
       "      <td>0.346720</td>\n",
       "      <td>0.003444</td>\n",
       "      <td>0.958157</td>\n",
       "    </tr>\n",
       "    <tr>\n",
       "      <th>jp_sales</th>\n",
       "      <td>0.472981</td>\n",
       "      <td>0.464563</td>\n",
       "      <td>1.000000</td>\n",
       "      <td>0.496467</td>\n",
       "      <td>0.322358</td>\n",
       "      <td>0.187039</td>\n",
       "      <td>0.527129</td>\n",
       "    </tr>\n",
       "    <tr>\n",
       "      <th>other_sales</th>\n",
       "      <td>0.944259</td>\n",
       "      <td>0.944698</td>\n",
       "      <td>0.496467</td>\n",
       "      <td>1.000000</td>\n",
       "      <td>0.409191</td>\n",
       "      <td>0.020080</td>\n",
       "      <td>0.998051</td>\n",
       "    </tr>\n",
       "    <tr>\n",
       "      <th>critic_score</th>\n",
       "      <td>0.415008</td>\n",
       "      <td>0.346720</td>\n",
       "      <td>0.322358</td>\n",
       "      <td>0.409191</td>\n",
       "      <td>1.000000</td>\n",
       "      <td>0.520752</td>\n",
       "      <td>0.406568</td>\n",
       "    </tr>\n",
       "    <tr>\n",
       "      <th>user_score</th>\n",
       "      <td>0.030639</td>\n",
       "      <td>0.003444</td>\n",
       "      <td>0.187039</td>\n",
       "      <td>0.020080</td>\n",
       "      <td>0.520752</td>\n",
       "      <td>1.000000</td>\n",
       "      <td>0.023279</td>\n",
       "    </tr>\n",
       "    <tr>\n",
       "      <th>sum</th>\n",
       "      <td>0.928160</td>\n",
       "      <td>0.958157</td>\n",
       "      <td>0.527129</td>\n",
       "      <td>0.998051</td>\n",
       "      <td>0.406568</td>\n",
       "      <td>0.023279</td>\n",
       "      <td>1.000000</td>\n",
       "    </tr>\n",
       "  </tbody>\n",
       "</table>\n",
       "</div>"
      ],
      "text/plain": [
       "              na_sales  eu_sales  jp_sales  other_sales  critic_score  \\\n",
       "na_sales      1.000000  0.785362  0.472981     0.944259      0.415008   \n",
       "eu_sales      0.785362  1.000000  0.464563     0.944698      0.346720   \n",
       "jp_sales      0.472981  0.464563  1.000000     0.496467      0.322358   \n",
       "other_sales   0.944259  0.944698  0.496467     1.000000      0.409191   \n",
       "critic_score  0.415008  0.346720  0.322358     0.409191      1.000000   \n",
       "user_score    0.030639  0.003444  0.187039     0.020080      0.520752   \n",
       "sum           0.928160  0.958157  0.527129     0.998051      0.406568   \n",
       "\n",
       "              user_score       sum  \n",
       "na_sales        0.030639  0.928160  \n",
       "eu_sales        0.003444  0.958157  \n",
       "jp_sales        0.187039  0.527129  \n",
       "other_sales     0.020080  0.998051  \n",
       "critic_score    0.520752  0.406568  \n",
       "user_score      1.000000  0.023279  \n",
       "sum             0.023279  1.000000  "
      ]
     },
     "metadata": {},
     "output_type": "display_data"
    },
    {
     "data": {
      "image/png": "[encoded data removed]",
      "text/plain": [
       "<Figure size 720x720 with 2 Axes>"
      ]
     },
     "metadata": {
      "needs_background": "light"
     },
     "output_type": "display_data"
    }
   ],
   "source": [
    "display(data_ps4.corr())\n",
    "fig, ax = plt.subplots(figsize=(10, 10))\n",
    "sns.heatmap(data_ps4.corr(),annot = True)\n",
    "plt.show()"
   ]
  },
  {
   "cell_type": "markdown",
   "metadata": {},
   "source": [
    "Взглянем на корреляцию данных показателей для платформы XOne и PS3."
   ]
  },
  {
   "cell_type": "code",
   "execution_count": 150,
   "metadata": {},
   "outputs": [
    {
     "data": {
      "text/html": [
       "<div>\n",
       "<style scoped>\n",
       "    .dataframe tbody tr th:only-of-type {\n",
       "        vertical-align: middle;\n",
       "    }\n",
       "\n",
       "    .dataframe tbody tr th {\n",
       "        vertical-align: top;\n",
       "    }\n",
       "\n",
       "    .dataframe thead th {\n",
       "        text-align: right;\n",
       "    }\n",
       "</style>\n",
       "<table border=\"1\" class=\"dataframe\">\n",
       "  <thead>\n",
       "    <tr style=\"text-align: right;\">\n",
       "      <th></th>\n",
       "      <th>na_sales</th>\n",
       "      <th>eu_sales</th>\n",
       "      <th>jp_sales</th>\n",
       "      <th>other_sales</th>\n",
       "      <th>critic_score</th>\n",
       "      <th>user_score</th>\n",
       "      <th>sum</th>\n",
       "    </tr>\n",
       "  </thead>\n",
       "  <tbody>\n",
       "    <tr>\n",
       "      <th>na_sales</th>\n",
       "      <td>1.000000</td>\n",
       "      <td>0.874896</td>\n",
       "      <td>0.439867</td>\n",
       "      <td>0.932098</td>\n",
       "      <td>0.335205</td>\n",
       "      <td>0.099422</td>\n",
       "      <td>0.954921</td>\n",
       "    </tr>\n",
       "    <tr>\n",
       "      <th>eu_sales</th>\n",
       "      <td>0.874896</td>\n",
       "      <td>1.000000</td>\n",
       "      <td>0.443809</td>\n",
       "      <td>0.975743</td>\n",
       "      <td>0.309561</td>\n",
       "      <td>0.071753</td>\n",
       "      <td>0.974740</td>\n",
       "    </tr>\n",
       "    <tr>\n",
       "      <th>jp_sales</th>\n",
       "      <td>0.439867</td>\n",
       "      <td>0.443809</td>\n",
       "      <td>1.000000</td>\n",
       "      <td>0.459609</td>\n",
       "      <td>0.302327</td>\n",
       "      <td>0.273586</td>\n",
       "      <td>0.516258</td>\n",
       "    </tr>\n",
       "    <tr>\n",
       "      <th>other_sales</th>\n",
       "      <td>0.932098</td>\n",
       "      <td>0.975743</td>\n",
       "      <td>0.459609</td>\n",
       "      <td>1.000000</td>\n",
       "      <td>0.315748</td>\n",
       "      <td>0.091986</td>\n",
       "      <td>0.989812</td>\n",
       "    </tr>\n",
       "    <tr>\n",
       "      <th>critic_score</th>\n",
       "      <td>0.335205</td>\n",
       "      <td>0.309561</td>\n",
       "      <td>0.302327</td>\n",
       "      <td>0.315748</td>\n",
       "      <td>1.000000</td>\n",
       "      <td>0.622122</td>\n",
       "      <td>0.334285</td>\n",
       "    </tr>\n",
       "    <tr>\n",
       "      <th>user_score</th>\n",
       "      <td>0.099422</td>\n",
       "      <td>0.071753</td>\n",
       "      <td>0.273586</td>\n",
       "      <td>0.091986</td>\n",
       "      <td>0.622122</td>\n",
       "      <td>1.000000</td>\n",
       "      <td>0.103427</td>\n",
       "    </tr>\n",
       "    <tr>\n",
       "      <th>sum</th>\n",
       "      <td>0.954921</td>\n",
       "      <td>0.974740</td>\n",
       "      <td>0.516258</td>\n",
       "      <td>0.989812</td>\n",
       "      <td>0.334285</td>\n",
       "      <td>0.103427</td>\n",
       "      <td>1.000000</td>\n",
       "    </tr>\n",
       "  </tbody>\n",
       "</table>\n",
       "</div>"
      ],
      "text/plain": [
       "              na_sales  eu_sales  jp_sales  other_sales  critic_score  \\\n",
       "na_sales      1.000000  0.874896  0.439867     0.932098      0.335205   \n",
       "eu_sales      0.874896  1.000000  0.443809     0.975743      0.309561   \n",
       "jp_sales      0.439867  0.443809  1.000000     0.459609      0.302327   \n",
       "other_sales   0.932098  0.975743  0.459609     1.000000      0.315748   \n",
       "critic_score  0.335205  0.309561  0.302327     0.315748      1.000000   \n",
       "user_score    0.099422  0.071753  0.273586     0.091986      0.622122   \n",
       "sum           0.954921  0.974740  0.516258     0.989812      0.334285   \n",
       "\n",
       "              user_score       sum  \n",
       "na_sales        0.099422  0.954921  \n",
       "eu_sales        0.071753  0.974740  \n",
       "jp_sales        0.273586  0.516258  \n",
       "other_sales     0.091986  0.989812  \n",
       "critic_score    0.622122  0.334285  \n",
       "user_score      1.000000  0.103427  \n",
       "sum             0.103427  1.000000  "
      ]
     },
     "metadata": {},
     "output_type": "display_data"
    },
    {
     "data": {
      "image/png": "[encoded data removed]",
      "text/plain": [
       "<Figure size 720x720 with 2 Axes>"
      ]
     },
     "metadata": {
      "needs_background": "light"
     },
     "output_type": "display_data"
    },
    {
     "data": {
      "text/html": [
       "<div>\n",
       "<style scoped>\n",
       "    .dataframe tbody tr th:only-of-type {\n",
       "        vertical-align: middle;\n",
       "    }\n",
       "\n",
       "    .dataframe tbody tr th {\n",
       "        vertical-align: top;\n",
       "    }\n",
       "\n",
       "    .dataframe thead th {\n",
       "        text-align: right;\n",
       "    }\n",
       "</style>\n",
       "<table border=\"1\" class=\"dataframe\">\n",
       "  <thead>\n",
       "    <tr style=\"text-align: right;\">\n",
       "      <th></th>\n",
       "      <th>na_sales</th>\n",
       "      <th>eu_sales</th>\n",
       "      <th>jp_sales</th>\n",
       "      <th>other_sales</th>\n",
       "      <th>critic_score</th>\n",
       "      <th>user_score</th>\n",
       "      <th>sum</th>\n",
       "    </tr>\n",
       "  </thead>\n",
       "  <tbody>\n",
       "    <tr>\n",
       "      <th>na_sales</th>\n",
       "      <td>1.000000</td>\n",
       "      <td>0.765367</td>\n",
       "      <td>0.425725</td>\n",
       "      <td>0.988088</td>\n",
       "      <td>0.388636</td>\n",
       "      <td>0.068849</td>\n",
       "      <td>0.970433</td>\n",
       "    </tr>\n",
       "    <tr>\n",
       "      <th>eu_sales</th>\n",
       "      <td>0.765367</td>\n",
       "      <td>1.000000</td>\n",
       "      <td>0.421071</td>\n",
       "      <td>0.852986</td>\n",
       "      <td>0.379162</td>\n",
       "      <td>0.068502</td>\n",
       "      <td>0.898045</td>\n",
       "    </tr>\n",
       "    <tr>\n",
       "      <th>jp_sales</th>\n",
       "      <td>0.425725</td>\n",
       "      <td>0.421071</td>\n",
       "      <td>1.000000</td>\n",
       "      <td>0.441717</td>\n",
       "      <td>0.202954</td>\n",
       "      <td>0.096199</td>\n",
       "      <td>0.452701</td>\n",
       "    </tr>\n",
       "    <tr>\n",
       "      <th>other_sales</th>\n",
       "      <td>0.988088</td>\n",
       "      <td>0.852986</td>\n",
       "      <td>0.441717</td>\n",
       "      <td>1.000000</td>\n",
       "      <td>0.411825</td>\n",
       "      <td>0.073846</td>\n",
       "      <td>0.995238</td>\n",
       "    </tr>\n",
       "    <tr>\n",
       "      <th>critic_score</th>\n",
       "      <td>0.388636</td>\n",
       "      <td>0.379162</td>\n",
       "      <td>0.202954</td>\n",
       "      <td>0.411825</td>\n",
       "      <td>1.000000</td>\n",
       "      <td>0.465368</td>\n",
       "      <td>0.416998</td>\n",
       "    </tr>\n",
       "    <tr>\n",
       "      <th>user_score</th>\n",
       "      <td>0.068849</td>\n",
       "      <td>0.068502</td>\n",
       "      <td>0.096199</td>\n",
       "      <td>0.073846</td>\n",
       "      <td>0.465368</td>\n",
       "      <td>1.000000</td>\n",
       "      <td>0.074486</td>\n",
       "    </tr>\n",
       "    <tr>\n",
       "      <th>sum</th>\n",
       "      <td>0.970433</td>\n",
       "      <td>0.898045</td>\n",
       "      <td>0.452701</td>\n",
       "      <td>0.995238</td>\n",
       "      <td>0.416998</td>\n",
       "      <td>0.074486</td>\n",
       "      <td>1.000000</td>\n",
       "    </tr>\n",
       "  </tbody>\n",
       "</table>\n",
       "</div>"
      ],
      "text/plain": [
       "              na_sales  eu_sales  jp_sales  other_sales  critic_score  \\\n",
       "na_sales      1.000000  0.765367  0.425725     0.988088      0.388636   \n",
       "eu_sales      0.765367  1.000000  0.421071     0.852986      0.379162   \n",
       "jp_sales      0.425725  0.421071  1.000000     0.441717      0.202954   \n",
       "other_sales   0.988088  0.852986  0.441717     1.000000      0.411825   \n",
       "critic_score  0.388636  0.379162  0.202954     0.411825      1.000000   \n",
       "user_score    0.068849  0.068502  0.096199     0.073846      0.465368   \n",
       "sum           0.970433  0.898045  0.452701     0.995238      0.416998   \n",
       "\n",
       "              user_score       sum  \n",
       "na_sales        0.068849  0.970433  \n",
       "eu_sales        0.068502  0.898045  \n",
       "jp_sales        0.096199  0.452701  \n",
       "other_sales     0.073846  0.995238  \n",
       "critic_score    0.465368  0.416998  \n",
       "user_score      1.000000  0.074486  \n",
       "sum             0.074486  1.000000  "
      ]
     },
     "metadata": {},
     "output_type": "display_data"
    },
    {
     "data": {
      "image/png": "[encoded data removed]",
      "text/plain": [
       "<Figure size 720x720 with 2 Axes>"
      ]
     },
     "metadata": {
      "needs_background": "light"
     },
     "output_type": "display_data"
    }
   ],
   "source": [
    "data_ps3=data_3[data_3['platform']=='PS3']\n",
    "data_ps3=data_ps3.drop(['name','platform','year_of_release','genre','rating'], axis=1)\n",
    "display(data_ps3.corr())\n",
    "fig, ax = plt.subplots(figsize=(10, 10))\n",
    "sns.heatmap(data_ps3.corr(),annot = True)\n",
    "plt.show()\n",
    "data_xone=data_3[data_3['platform']=='XOne']\n",
    "data_xone=data_xone.drop(['name','platform','year_of_release','genre','rating'], axis=1)\n",
    "display(data_xone.corr())\n",
    "fig, ax = plt.subplots(figsize=(10, 10))\n",
    "sns.heatmap(data_xone.corr(),annot = True)\n",
    "plt.show()"
   ]
  },
  {
   "cell_type": "markdown",
   "metadata": {},
   "source": [
    "С уверенностью можно сказать что корреляция между оценкой критиков и продажами выше чем корреляция между оценка пользователей и продажами. Так же есть регионы где корреляция оценки критиков как и оценки пользователей с продажами гораздо меньше чем в других, такой регион Япония. Так же стоит отметить что продажи в Японии ниже чем в других регионах."
   ]
  },
  {
   "cell_type": "markdown",
   "metadata": {},
   "source": [
    "Посмотрим на распределение по жанрам. Самый популярный жанр в котором выпускается больше всего игр Action 766, доход составил 321.87. При этом самым прибыльным жанром можно назвать Shooter, в этом жанре выпущено 187 игры, но доходы ссоставил 232.98.\n",
    "\n",
    "Плохие показатели у игр в жанре Adventure, при выпуске 245 игр доход составил 23.64. Так же небольшие доходы наблюдаются в жанрах Strategy и Puzzle, 10.08 и 3.17 соответственно. Но этих игр и выпускается не много 56 и 17."
   ]
  },
  {
   "cell_type": "code",
   "execution_count": 151,
   "metadata": {},
   "outputs": [
    {
     "data": {
      "text/html": [
       "<div>\n",
       "<style scoped>\n",
       "    .dataframe tbody tr th:only-of-type {\n",
       "        vertical-align: middle;\n",
       "    }\n",
       "\n",
       "    .dataframe tbody tr th {\n",
       "        vertical-align: top;\n",
       "    }\n",
       "\n",
       "    .dataframe thead th {\n",
       "        text-align: right;\n",
       "    }\n",
       "</style>\n",
       "<table border=\"1\" class=\"dataframe\">\n",
       "  <thead>\n",
       "    <tr style=\"text-align: right;\">\n",
       "      <th></th>\n",
       "      <th>genre</th>\n",
       "      <th>count</th>\n",
       "      <th>sum</th>\n",
       "    </tr>\n",
       "  </thead>\n",
       "  <tbody>\n",
       "    <tr>\n",
       "      <th>0</th>\n",
       "      <td>Action</td>\n",
       "      <td>766</td>\n",
       "      <td>321.87</td>\n",
       "    </tr>\n",
       "    <tr>\n",
       "      <th>8</th>\n",
       "      <td>Shooter</td>\n",
       "      <td>187</td>\n",
       "      <td>232.98</td>\n",
       "    </tr>\n",
       "    <tr>\n",
       "      <th>10</th>\n",
       "      <td>Sports</td>\n",
       "      <td>214</td>\n",
       "      <td>150.65</td>\n",
       "    </tr>\n",
       "    <tr>\n",
       "      <th>7</th>\n",
       "      <td>Role-Playing</td>\n",
       "      <td>292</td>\n",
       "      <td>145.89</td>\n",
       "    </tr>\n",
       "    <tr>\n",
       "      <th>3</th>\n",
       "      <td>Misc</td>\n",
       "      <td>155</td>\n",
       "      <td>62.82</td>\n",
       "    </tr>\n",
       "    <tr>\n",
       "      <th>4</th>\n",
       "      <td>Platform</td>\n",
       "      <td>74</td>\n",
       "      <td>42.63</td>\n",
       "    </tr>\n",
       "    <tr>\n",
       "      <th>6</th>\n",
       "      <td>Racing</td>\n",
       "      <td>85</td>\n",
       "      <td>39.89</td>\n",
       "    </tr>\n",
       "    <tr>\n",
       "      <th>2</th>\n",
       "      <td>Fighting</td>\n",
       "      <td>80</td>\n",
       "      <td>35.31</td>\n",
       "    </tr>\n",
       "    <tr>\n",
       "      <th>1</th>\n",
       "      <td>Adventure</td>\n",
       "      <td>245</td>\n",
       "      <td>23.64</td>\n",
       "    </tr>\n",
       "    <tr>\n",
       "      <th>9</th>\n",
       "      <td>Simulation</td>\n",
       "      <td>62</td>\n",
       "      <td>21.76</td>\n",
       "    </tr>\n",
       "    <tr>\n",
       "      <th>11</th>\n",
       "      <td>Strategy</td>\n",
       "      <td>56</td>\n",
       "      <td>10.08</td>\n",
       "    </tr>\n",
       "    <tr>\n",
       "      <th>5</th>\n",
       "      <td>Puzzle</td>\n",
       "      <td>17</td>\n",
       "      <td>3.17</td>\n",
       "    </tr>\n",
       "  </tbody>\n",
       "</table>\n",
       "</div>"
      ],
      "text/plain": [
       "           genre  count     sum\n",
       "0         Action    766  321.87\n",
       "8        Shooter    187  232.98\n",
       "10        Sports    214  150.65\n",
       "7   Role-Playing    292  145.89\n",
       "3           Misc    155   62.82\n",
       "4       Platform     74   42.63\n",
       "6         Racing     85   39.89\n",
       "2       Fighting     80   35.31\n",
       "1      Adventure    245   23.64\n",
       "9     Simulation     62   21.76\n",
       "11      Strategy     56   10.08\n",
       "5         Puzzle     17    3.17"
      ]
     },
     "execution_count": 151,
     "metadata": {},
     "output_type": "execute_result"
    }
   ],
   "source": [
    "data_genre=data_3.pivot_table(index='genre',values='sum',aggfunc=('sum','count'))\n",
    "data_genre=data_genre.reset_index(drop=False)\n",
    "data_genre.sort_values('sum',ascending=False)"
   ]
  },
  {
   "cell_type": "markdown",
   "metadata": {},
   "source": [
    "## Составление портрета пользователя каждого региона\n",
    "\n",
    "Для начала создадим сводные таблицы по каждому региону, где будет указана платформа, рейтинг, жанр, сумма продаж в регионе и общая сумма продаж."
   ]
  },
  {
   "cell_type": "code",
   "execution_count": 152,
   "metadata": {},
   "outputs": [
    {
     "data": {
      "text/html": [
       "<div>\n",
       "<style scoped>\n",
       "    .dataframe tbody tr th:only-of-type {\n",
       "        vertical-align: middle;\n",
       "    }\n",
       "\n",
       "    .dataframe tbody tr th {\n",
       "        vertical-align: top;\n",
       "    }\n",
       "\n",
       "    .dataframe thead th {\n",
       "        text-align: right;\n",
       "    }\n",
       "</style>\n",
       "<table border=\"1\" class=\"dataframe\">\n",
       "  <thead>\n",
       "    <tr style=\"text-align: right;\">\n",
       "      <th></th>\n",
       "      <th>platform</th>\n",
       "      <th>genre</th>\n",
       "      <th>na_sales</th>\n",
       "      <th>rating</th>\n",
       "      <th>sum</th>\n",
       "    </tr>\n",
       "  </thead>\n",
       "  <tbody>\n",
       "    <tr>\n",
       "      <th>16</th>\n",
       "      <td>PS3</td>\n",
       "      <td>Action</td>\n",
       "      <td>7.02</td>\n",
       "      <td>M</td>\n",
       "      <td>21.05</td>\n",
       "    </tr>\n",
       "    <tr>\n",
       "      <th>23</th>\n",
       "      <td>X360</td>\n",
       "      <td>Action</td>\n",
       "      <td>9.66</td>\n",
       "      <td>M</td>\n",
       "      <td>16.27</td>\n",
       "    </tr>\n",
       "    <tr>\n",
       "      <th>31</th>\n",
       "      <td>PS4</td>\n",
       "      <td>Shooter</td>\n",
       "      <td>6.03</td>\n",
       "      <td>NaN</td>\n",
       "      <td>14.63</td>\n",
       "    </tr>\n",
       "    <tr>\n",
       "      <th>33</th>\n",
       "      <td>3DS</td>\n",
       "      <td>Role-Playing</td>\n",
       "      <td>5.28</td>\n",
       "      <td>NaN</td>\n",
       "      <td>14.60</td>\n",
       "    </tr>\n",
       "    <tr>\n",
       "      <th>42</th>\n",
       "      <td>PS4</td>\n",
       "      <td>Action</td>\n",
       "      <td>3.96</td>\n",
       "      <td>M</td>\n",
       "      <td>12.62</td>\n",
       "    </tr>\n",
       "    <tr>\n",
       "      <th>...</th>\n",
       "      <td>...</td>\n",
       "      <td>...</td>\n",
       "      <td>...</td>\n",
       "      <td>...</td>\n",
       "      <td>...</td>\n",
       "    </tr>\n",
       "    <tr>\n",
       "      <th>16703</th>\n",
       "      <td>PSV</td>\n",
       "      <td>Adventure</td>\n",
       "      <td>0.00</td>\n",
       "      <td>NaN</td>\n",
       "      <td>0.01</td>\n",
       "    </tr>\n",
       "    <tr>\n",
       "      <th>16707</th>\n",
       "      <td>PSV</td>\n",
       "      <td>Misc</td>\n",
       "      <td>0.00</td>\n",
       "      <td>NaN</td>\n",
       "      <td>0.01</td>\n",
       "    </tr>\n",
       "    <tr>\n",
       "      <th>16710</th>\n",
       "      <td>PS3</td>\n",
       "      <td>Action</td>\n",
       "      <td>0.00</td>\n",
       "      <td>NaN</td>\n",
       "      <td>0.01</td>\n",
       "    </tr>\n",
       "    <tr>\n",
       "      <th>16712</th>\n",
       "      <td>PSV</td>\n",
       "      <td>Adventure</td>\n",
       "      <td>0.00</td>\n",
       "      <td>NaN</td>\n",
       "      <td>0.01</td>\n",
       "    </tr>\n",
       "    <tr>\n",
       "      <th>16714</th>\n",
       "      <td>PSV</td>\n",
       "      <td>Simulation</td>\n",
       "      <td>0.00</td>\n",
       "      <td>NaN</td>\n",
       "      <td>0.01</td>\n",
       "    </tr>\n",
       "  </tbody>\n",
       "</table>\n",
       "<p>2233 rows × 5 columns</p>\n",
       "</div>"
      ],
      "text/plain": [
       "      platform         genre  na_sales rating    sum\n",
       "16         PS3        Action      7.02      M  21.05\n",
       "23        X360        Action      9.66      M  16.27\n",
       "31         PS4       Shooter      6.03    NaN  14.63\n",
       "33         3DS  Role-Playing      5.28    NaN  14.60\n",
       "42         PS4        Action      3.96      M  12.62\n",
       "...        ...           ...       ...    ...    ...\n",
       "16703      PSV     Adventure      0.00    NaN   0.01\n",
       "16707      PSV          Misc      0.00    NaN   0.01\n",
       "16710      PS3        Action      0.00    NaN   0.01\n",
       "16712      PSV     Adventure      0.00    NaN   0.01\n",
       "16714      PSV    Simulation      0.00    NaN   0.01\n",
       "\n",
       "[2233 rows x 5 columns]"
      ]
     },
     "metadata": {},
     "output_type": "display_data"
    },
    {
     "data": {
      "text/html": [
       "<div>\n",
       "<style scoped>\n",
       "    .dataframe tbody tr th:only-of-type {\n",
       "        vertical-align: middle;\n",
       "    }\n",
       "\n",
       "    .dataframe tbody tr th {\n",
       "        vertical-align: top;\n",
       "    }\n",
       "\n",
       "    .dataframe thead th {\n",
       "        text-align: right;\n",
       "    }\n",
       "</style>\n",
       "<table border=\"1\" class=\"dataframe\">\n",
       "  <thead>\n",
       "    <tr style=\"text-align: right;\">\n",
       "      <th></th>\n",
       "      <th>platform</th>\n",
       "      <th>genre</th>\n",
       "      <th>eu_sales</th>\n",
       "      <th>rating</th>\n",
       "      <th>sum</th>\n",
       "    </tr>\n",
       "  </thead>\n",
       "  <tbody>\n",
       "    <tr>\n",
       "      <th>16</th>\n",
       "      <td>PS3</td>\n",
       "      <td>Action</td>\n",
       "      <td>9.09</td>\n",
       "      <td>M</td>\n",
       "      <td>21.05</td>\n",
       "    </tr>\n",
       "    <tr>\n",
       "      <th>23</th>\n",
       "      <td>X360</td>\n",
       "      <td>Action</td>\n",
       "      <td>5.14</td>\n",
       "      <td>M</td>\n",
       "      <td>16.27</td>\n",
       "    </tr>\n",
       "    <tr>\n",
       "      <th>31</th>\n",
       "      <td>PS4</td>\n",
       "      <td>Shooter</td>\n",
       "      <td>5.86</td>\n",
       "      <td>NaN</td>\n",
       "      <td>14.63</td>\n",
       "    </tr>\n",
       "    <tr>\n",
       "      <th>33</th>\n",
       "      <td>3DS</td>\n",
       "      <td>Role-Playing</td>\n",
       "      <td>4.19</td>\n",
       "      <td>NaN</td>\n",
       "      <td>14.60</td>\n",
       "    </tr>\n",
       "    <tr>\n",
       "      <th>42</th>\n",
       "      <td>PS4</td>\n",
       "      <td>Action</td>\n",
       "      <td>6.31</td>\n",
       "      <td>M</td>\n",
       "      <td>12.62</td>\n",
       "    </tr>\n",
       "    <tr>\n",
       "      <th>...</th>\n",
       "      <td>...</td>\n",
       "      <td>...</td>\n",
       "      <td>...</td>\n",
       "      <td>...</td>\n",
       "      <td>...</td>\n",
       "    </tr>\n",
       "    <tr>\n",
       "      <th>16703</th>\n",
       "      <td>PSV</td>\n",
       "      <td>Adventure</td>\n",
       "      <td>0.00</td>\n",
       "      <td>NaN</td>\n",
       "      <td>0.01</td>\n",
       "    </tr>\n",
       "    <tr>\n",
       "      <th>16707</th>\n",
       "      <td>PSV</td>\n",
       "      <td>Misc</td>\n",
       "      <td>0.00</td>\n",
       "      <td>NaN</td>\n",
       "      <td>0.01</td>\n",
       "    </tr>\n",
       "    <tr>\n",
       "      <th>16710</th>\n",
       "      <td>PS3</td>\n",
       "      <td>Action</td>\n",
       "      <td>0.00</td>\n",
       "      <td>NaN</td>\n",
       "      <td>0.01</td>\n",
       "    </tr>\n",
       "    <tr>\n",
       "      <th>16712</th>\n",
       "      <td>PSV</td>\n",
       "      <td>Adventure</td>\n",
       "      <td>0.00</td>\n",
       "      <td>NaN</td>\n",
       "      <td>0.01</td>\n",
       "    </tr>\n",
       "    <tr>\n",
       "      <th>16714</th>\n",
       "      <td>PSV</td>\n",
       "      <td>Simulation</td>\n",
       "      <td>0.00</td>\n",
       "      <td>NaN</td>\n",
       "      <td>0.01</td>\n",
       "    </tr>\n",
       "  </tbody>\n",
       "</table>\n",
       "<p>2233 rows × 5 columns</p>\n",
       "</div>"
      ],
      "text/plain": [
       "      platform         genre  eu_sales rating    sum\n",
       "16         PS3        Action      9.09      M  21.05\n",
       "23        X360        Action      5.14      M  16.27\n",
       "31         PS4       Shooter      5.86    NaN  14.63\n",
       "33         3DS  Role-Playing      4.19    NaN  14.60\n",
       "42         PS4        Action      6.31      M  12.62\n",
       "...        ...           ...       ...    ...    ...\n",
       "16703      PSV     Adventure      0.00    NaN   0.01\n",
       "16707      PSV          Misc      0.00    NaN   0.01\n",
       "16710      PS3        Action      0.00    NaN   0.01\n",
       "16712      PSV     Adventure      0.00    NaN   0.01\n",
       "16714      PSV    Simulation      0.00    NaN   0.01\n",
       "\n",
       "[2233 rows x 5 columns]"
      ]
     },
     "metadata": {},
     "output_type": "display_data"
    },
    {
     "data": {
      "text/html": [
       "<div>\n",
       "<style scoped>\n",
       "    .dataframe tbody tr th:only-of-type {\n",
       "        vertical-align: middle;\n",
       "    }\n",
       "\n",
       "    .dataframe tbody tr th {\n",
       "        vertical-align: top;\n",
       "    }\n",
       "\n",
       "    .dataframe thead th {\n",
       "        text-align: right;\n",
       "    }\n",
       "</style>\n",
       "<table border=\"1\" class=\"dataframe\">\n",
       "  <thead>\n",
       "    <tr style=\"text-align: right;\">\n",
       "      <th></th>\n",
       "      <th>platform</th>\n",
       "      <th>genre</th>\n",
       "      <th>jp_sales</th>\n",
       "      <th>rating</th>\n",
       "      <th>sum</th>\n",
       "    </tr>\n",
       "  </thead>\n",
       "  <tbody>\n",
       "    <tr>\n",
       "      <th>16</th>\n",
       "      <td>PS3</td>\n",
       "      <td>Action</td>\n",
       "      <td>0.98</td>\n",
       "      <td>M</td>\n",
       "      <td>21.05</td>\n",
       "    </tr>\n",
       "    <tr>\n",
       "      <th>23</th>\n",
       "      <td>X360</td>\n",
       "      <td>Action</td>\n",
       "      <td>0.06</td>\n",
       "      <td>M</td>\n",
       "      <td>16.27</td>\n",
       "    </tr>\n",
       "    <tr>\n",
       "      <th>31</th>\n",
       "      <td>PS4</td>\n",
       "      <td>Shooter</td>\n",
       "      <td>0.36</td>\n",
       "      <td>NaN</td>\n",
       "      <td>14.63</td>\n",
       "    </tr>\n",
       "    <tr>\n",
       "      <th>33</th>\n",
       "      <td>3DS</td>\n",
       "      <td>Role-Playing</td>\n",
       "      <td>4.35</td>\n",
       "      <td>NaN</td>\n",
       "      <td>14.60</td>\n",
       "    </tr>\n",
       "    <tr>\n",
       "      <th>42</th>\n",
       "      <td>PS4</td>\n",
       "      <td>Action</td>\n",
       "      <td>0.38</td>\n",
       "      <td>M</td>\n",
       "      <td>12.62</td>\n",
       "    </tr>\n",
       "    <tr>\n",
       "      <th>...</th>\n",
       "      <td>...</td>\n",
       "      <td>...</td>\n",
       "      <td>...</td>\n",
       "      <td>...</td>\n",
       "      <td>...</td>\n",
       "    </tr>\n",
       "    <tr>\n",
       "      <th>16703</th>\n",
       "      <td>PSV</td>\n",
       "      <td>Adventure</td>\n",
       "      <td>0.01</td>\n",
       "      <td>NaN</td>\n",
       "      <td>0.01</td>\n",
       "    </tr>\n",
       "    <tr>\n",
       "      <th>16707</th>\n",
       "      <td>PSV</td>\n",
       "      <td>Misc</td>\n",
       "      <td>0.01</td>\n",
       "      <td>NaN</td>\n",
       "      <td>0.01</td>\n",
       "    </tr>\n",
       "    <tr>\n",
       "      <th>16710</th>\n",
       "      <td>PS3</td>\n",
       "      <td>Action</td>\n",
       "      <td>0.01</td>\n",
       "      <td>NaN</td>\n",
       "      <td>0.01</td>\n",
       "    </tr>\n",
       "    <tr>\n",
       "      <th>16712</th>\n",
       "      <td>PSV</td>\n",
       "      <td>Adventure</td>\n",
       "      <td>0.01</td>\n",
       "      <td>NaN</td>\n",
       "      <td>0.01</td>\n",
       "    </tr>\n",
       "    <tr>\n",
       "      <th>16714</th>\n",
       "      <td>PSV</td>\n",
       "      <td>Simulation</td>\n",
       "      <td>0.01</td>\n",
       "      <td>NaN</td>\n",
       "      <td>0.01</td>\n",
       "    </tr>\n",
       "  </tbody>\n",
       "</table>\n",
       "<p>2233 rows × 5 columns</p>\n",
       "</div>"
      ],
      "text/plain": [
       "      platform         genre  jp_sales rating    sum\n",
       "16         PS3        Action      0.98      M  21.05\n",
       "23        X360        Action      0.06      M  16.27\n",
       "31         PS4       Shooter      0.36    NaN  14.63\n",
       "33         3DS  Role-Playing      4.35    NaN  14.60\n",
       "42         PS4        Action      0.38      M  12.62\n",
       "...        ...           ...       ...    ...    ...\n",
       "16703      PSV     Adventure      0.01    NaN   0.01\n",
       "16707      PSV          Misc      0.01    NaN   0.01\n",
       "16710      PS3        Action      0.01    NaN   0.01\n",
       "16712      PSV     Adventure      0.01    NaN   0.01\n",
       "16714      PSV    Simulation      0.01    NaN   0.01\n",
       "\n",
       "[2233 rows x 5 columns]"
      ]
     },
     "metadata": {},
     "output_type": "display_data"
    },
    {
     "data": {
      "text/html": [
       "<div>\n",
       "<style scoped>\n",
       "    .dataframe tbody tr th:only-of-type {\n",
       "        vertical-align: middle;\n",
       "    }\n",
       "\n",
       "    .dataframe tbody tr th {\n",
       "        vertical-align: top;\n",
       "    }\n",
       "\n",
       "    .dataframe thead th {\n",
       "        text-align: right;\n",
       "    }\n",
       "</style>\n",
       "<table border=\"1\" class=\"dataframe\">\n",
       "  <thead>\n",
       "    <tr style=\"text-align: right;\">\n",
       "      <th></th>\n",
       "      <th>platform</th>\n",
       "      <th>genre</th>\n",
       "      <th>other_sales</th>\n",
       "      <th>rating</th>\n",
       "      <th>sum</th>\n",
       "    </tr>\n",
       "  </thead>\n",
       "  <tbody>\n",
       "    <tr>\n",
       "      <th>16</th>\n",
       "      <td>PS3</td>\n",
       "      <td>Action</td>\n",
       "      <td>3.96</td>\n",
       "      <td>M</td>\n",
       "      <td>21.05</td>\n",
       "    </tr>\n",
       "    <tr>\n",
       "      <th>23</th>\n",
       "      <td>X360</td>\n",
       "      <td>Action</td>\n",
       "      <td>1.41</td>\n",
       "      <td>M</td>\n",
       "      <td>16.27</td>\n",
       "    </tr>\n",
       "    <tr>\n",
       "      <th>31</th>\n",
       "      <td>PS4</td>\n",
       "      <td>Shooter</td>\n",
       "      <td>2.38</td>\n",
       "      <td>NaN</td>\n",
       "      <td>14.63</td>\n",
       "    </tr>\n",
       "    <tr>\n",
       "      <th>33</th>\n",
       "      <td>3DS</td>\n",
       "      <td>Role-Playing</td>\n",
       "      <td>0.78</td>\n",
       "      <td>NaN</td>\n",
       "      <td>14.60</td>\n",
       "    </tr>\n",
       "    <tr>\n",
       "      <th>42</th>\n",
       "      <td>PS4</td>\n",
       "      <td>Action</td>\n",
       "      <td>1.97</td>\n",
       "      <td>M</td>\n",
       "      <td>12.62</td>\n",
       "    </tr>\n",
       "    <tr>\n",
       "      <th>...</th>\n",
       "      <td>...</td>\n",
       "      <td>...</td>\n",
       "      <td>...</td>\n",
       "      <td>...</td>\n",
       "      <td>...</td>\n",
       "    </tr>\n",
       "    <tr>\n",
       "      <th>16703</th>\n",
       "      <td>PSV</td>\n",
       "      <td>Adventure</td>\n",
       "      <td>0.00</td>\n",
       "      <td>NaN</td>\n",
       "      <td>0.01</td>\n",
       "    </tr>\n",
       "    <tr>\n",
       "      <th>16707</th>\n",
       "      <td>PSV</td>\n",
       "      <td>Misc</td>\n",
       "      <td>0.00</td>\n",
       "      <td>NaN</td>\n",
       "      <td>0.01</td>\n",
       "    </tr>\n",
       "    <tr>\n",
       "      <th>16710</th>\n",
       "      <td>PS3</td>\n",
       "      <td>Action</td>\n",
       "      <td>0.00</td>\n",
       "      <td>NaN</td>\n",
       "      <td>0.01</td>\n",
       "    </tr>\n",
       "    <tr>\n",
       "      <th>16712</th>\n",
       "      <td>PSV</td>\n",
       "      <td>Adventure</td>\n",
       "      <td>0.00</td>\n",
       "      <td>NaN</td>\n",
       "      <td>0.01</td>\n",
       "    </tr>\n",
       "    <tr>\n",
       "      <th>16714</th>\n",
       "      <td>PSV</td>\n",
       "      <td>Simulation</td>\n",
       "      <td>0.00</td>\n",
       "      <td>NaN</td>\n",
       "      <td>0.01</td>\n",
       "    </tr>\n",
       "  </tbody>\n",
       "</table>\n",
       "<p>2233 rows × 5 columns</p>\n",
       "</div>"
      ],
      "text/plain": [
       "      platform         genre  other_sales rating    sum\n",
       "16         PS3        Action         3.96      M  21.05\n",
       "23        X360        Action         1.41      M  16.27\n",
       "31         PS4       Shooter         2.38    NaN  14.63\n",
       "33         3DS  Role-Playing         0.78    NaN  14.60\n",
       "42         PS4        Action         1.97      M  12.62\n",
       "...        ...           ...          ...    ...    ...\n",
       "16703      PSV     Adventure         0.00    NaN   0.01\n",
       "16707      PSV          Misc         0.00    NaN   0.01\n",
       "16710      PS3        Action         0.00    NaN   0.01\n",
       "16712      PSV     Adventure         0.00    NaN   0.01\n",
       "16714      PSV    Simulation         0.00    NaN   0.01\n",
       "\n",
       "[2233 rows x 5 columns]"
      ]
     },
     "metadata": {},
     "output_type": "display_data"
    }
   ],
   "source": [
    "data_na=data_3.drop(['name','year_of_release','eu_sales','jp_sales','other_sales','critic_score','user_score'], axis=1)\n",
    "display(data_na)\n",
    "data_eu=data_3.drop(['name','year_of_release','na_sales','jp_sales','other_sales','critic_score','user_score'], axis=1)\n",
    "display(data_eu)\n",
    "data_jp=data_3.drop(['name','year_of_release','na_sales','eu_sales','other_sales','critic_score','user_score'], axis=1)\n",
    "display(data_jp)\n",
    "data_other=data_3.drop(['name','year_of_release','na_sales','eu_sales','jp_sales','critic_score','user_score'], axis=1)\n",
    "display(data_other)"
   ]
  },
  {
   "cell_type": "markdown",
   "metadata": {},
   "source": [
    "Посмотрим на самые популярные платформы в Америке. Лидером оказался PS4. Так же в пятерку входят XOne, X360, 3DS, PS3.\n",
    "\n",
    "Если посмотреть на долю продаж в Америке от общих продаж. Тут лидером становится X360 с результатом 59,69 от общих продаж. \n",
    "А дальше на второе место выходит Wii, 48,02 от общих продаж. Дальше идут следующие результаты:\n",
    "\n",
    "DS 37.01\n",
    "\n",
    "PS3 34.99\n",
    "\n",
    "PS4 34.61\n",
    "\n",
    "Можно заметить что для этих 5 платформ значительная доля рынка находитмя в Америке. Для таких платформ как Wii, X360 эта доля более 50%."
   ]
  },
  {
   "cell_type": "code",
   "execution_count": 153,
   "metadata": {},
   "outputs": [
    {
     "data": {
      "text/html": [
       "<div>\n",
       "<style scoped>\n",
       "    .dataframe tbody tr th:only-of-type {\n",
       "        vertical-align: middle;\n",
       "    }\n",
       "\n",
       "    .dataframe tbody tr th {\n",
       "        vertical-align: top;\n",
       "    }\n",
       "\n",
       "    .dataframe thead th {\n",
       "        text-align: right;\n",
       "    }\n",
       "</style>\n",
       "<table border=\"1\" class=\"dataframe\">\n",
       "  <thead>\n",
       "    <tr style=\"text-align: right;\">\n",
       "      <th></th>\n",
       "      <th>na_sales</th>\n",
       "      <th>sum</th>\n",
       "    </tr>\n",
       "    <tr>\n",
       "      <th>platform</th>\n",
       "      <th></th>\n",
       "      <th></th>\n",
       "    </tr>\n",
       "  </thead>\n",
       "  <tbody>\n",
       "    <tr>\n",
       "      <th>PS4</th>\n",
       "      <td>108.74</td>\n",
       "      <td>314.14</td>\n",
       "    </tr>\n",
       "    <tr>\n",
       "      <th>XOne</th>\n",
       "      <td>93.12</td>\n",
       "      <td>159.32</td>\n",
       "    </tr>\n",
       "    <tr>\n",
       "      <th>X360</th>\n",
       "      <td>81.66</td>\n",
       "      <td>136.80</td>\n",
       "    </tr>\n",
       "    <tr>\n",
       "      <th>PS3</th>\n",
       "      <td>63.50</td>\n",
       "      <td>181.43</td>\n",
       "    </tr>\n",
       "    <tr>\n",
       "      <th>3DS</th>\n",
       "      <td>38.20</td>\n",
       "      <td>143.25</td>\n",
       "    </tr>\n",
       "    <tr>\n",
       "      <th>WiiU</th>\n",
       "      <td>29.21</td>\n",
       "      <td>64.63</td>\n",
       "    </tr>\n",
       "    <tr>\n",
       "      <th>PC</th>\n",
       "      <td>11.11</td>\n",
       "      <td>39.43</td>\n",
       "    </tr>\n",
       "    <tr>\n",
       "      <th>Wii</th>\n",
       "      <td>6.56</td>\n",
       "      <td>13.66</td>\n",
       "    </tr>\n",
       "    <tr>\n",
       "      <th>PSV</th>\n",
       "      <td>5.04</td>\n",
       "      <td>32.99</td>\n",
       "    </tr>\n",
       "    <tr>\n",
       "      <th>DS</th>\n",
       "      <td>0.57</td>\n",
       "      <td>1.54</td>\n",
       "    </tr>\n",
       "    <tr>\n",
       "      <th>PSP</th>\n",
       "      <td>0.00</td>\n",
       "      <td>3.50</td>\n",
       "    </tr>\n",
       "  </tbody>\n",
       "</table>\n",
       "</div>"
      ],
      "text/plain": [
       "          na_sales     sum\n",
       "platform                  \n",
       "PS4         108.74  314.14\n",
       "XOne         93.12  159.32\n",
       "X360         81.66  136.80\n",
       "PS3          63.50  181.43\n",
       "3DS          38.20  143.25\n",
       "WiiU         29.21   64.63\n",
       "PC           11.11   39.43\n",
       "Wii           6.56   13.66\n",
       "PSV           5.04   32.99\n",
       "DS            0.57    1.54\n",
       "PSP           0.00    3.50"
      ]
     },
     "metadata": {},
     "output_type": "display_data"
    },
    {
     "data": {
      "text/html": [
       "<div>\n",
       "<style scoped>\n",
       "    .dataframe tbody tr th:only-of-type {\n",
       "        vertical-align: middle;\n",
       "    }\n",
       "\n",
       "    .dataframe tbody tr th {\n",
       "        vertical-align: top;\n",
       "    }\n",
       "\n",
       "    .dataframe thead th {\n",
       "        text-align: right;\n",
       "    }\n",
       "</style>\n",
       "<table border=\"1\" class=\"dataframe\">\n",
       "  <thead>\n",
       "    <tr style=\"text-align: right;\">\n",
       "      <th></th>\n",
       "      <th>platform</th>\n",
       "      <th>na_sales</th>\n",
       "      <th>sum</th>\n",
       "      <th>share</th>\n",
       "    </tr>\n",
       "  </thead>\n",
       "  <tbody>\n",
       "    <tr>\n",
       "      <th>9</th>\n",
       "      <td>X360</td>\n",
       "      <td>81.66</td>\n",
       "      <td>136.80</td>\n",
       "      <td>59.692982</td>\n",
       "    </tr>\n",
       "    <tr>\n",
       "      <th>7</th>\n",
       "      <td>Wii</td>\n",
       "      <td>6.56</td>\n",
       "      <td>13.66</td>\n",
       "      <td>48.023426</td>\n",
       "    </tr>\n",
       "    <tr>\n",
       "      <th>1</th>\n",
       "      <td>DS</td>\n",
       "      <td>0.57</td>\n",
       "      <td>1.54</td>\n",
       "      <td>37.012987</td>\n",
       "    </tr>\n",
       "    <tr>\n",
       "      <th>3</th>\n",
       "      <td>PS3</td>\n",
       "      <td>63.50</td>\n",
       "      <td>181.43</td>\n",
       "      <td>34.999724</td>\n",
       "    </tr>\n",
       "    <tr>\n",
       "      <th>4</th>\n",
       "      <td>PS4</td>\n",
       "      <td>108.74</td>\n",
       "      <td>314.14</td>\n",
       "      <td>34.615140</td>\n",
       "    </tr>\n",
       "  </tbody>\n",
       "</table>\n",
       "</div>"
      ],
      "text/plain": [
       "  platform  na_sales     sum      share\n",
       "9     X360     81.66  136.80  59.692982\n",
       "7      Wii      6.56   13.66  48.023426\n",
       "1       DS      0.57    1.54  37.012987\n",
       "3      PS3     63.50  181.43  34.999724\n",
       "4      PS4    108.74  314.14  34.615140"
      ]
     },
     "metadata": {},
     "output_type": "display_data"
    }
   ],
   "source": [
    "data_na_platform=data_na.pivot_table(index='platform',values=['sum','na_sales'],aggfunc='sum')\n",
    "data_na_platform=data_na_platform.reset_index(drop=False)\n",
    "display(data_na.groupby(by='platform').sum().sort_values(by='na_sales',ascending=False))\n",
    "data_na_platform=data_na_platform[(data_na_platform['platform']=='DS') | (data_na_platform['platform']=='PS3') | (data_na_platform['platform']=='Wii') | (data_na_platform['platform']=='X360') | (data_na_platform['platform']=='PS4')]\n",
    "data_na_platform['share']=(data_na_platform['na_sales']*100)/data_na_platform['sum']\n",
    "display(data_na_platform.sort_values(by='share',ascending=False))"
   ]
  },
  {
   "cell_type": "markdown",
   "metadata": {},
   "source": [
    " Приступим к популярным платформам Европы. Лидером стал PS4. В пятерке X360, XOne, PS3, 3DS. Сразу заметим что лидер тот же что и  в Америке. Пятерка лидеров выглядит так же как в Америке. Правда в Европе популярнее PS3.\n",
    "\n",
    "Если посмотреть на долю продаж в Европе от общих продаж. Тут лидер PC с результатом 64,31 от общих продаж. А дальше на второе место выходит PS4, 44,91 от общих продаж. Дальше идут следующие результаты:\n",
    "\n",
    "Wii 43.41\n",
    "\n",
    "PS3 37.37\n",
    "\n",
    "X360 31.08\n",
    "\n",
    "\n",
    "Можно заметить что для РС на рынок Европы приходится больше половины от общей суммы продаж. И это не удивительно, ведь эта платформа не вошла в пятерку лидеров по доле продаж для другого большого региона, Америка."
   ]
  },
  {
   "cell_type": "code",
   "execution_count": 154,
   "metadata": {},
   "outputs": [
    {
     "data": {
      "text/html": [
       "<div>\n",
       "<style scoped>\n",
       "    .dataframe tbody tr th:only-of-type {\n",
       "        vertical-align: middle;\n",
       "    }\n",
       "\n",
       "    .dataframe tbody tr th {\n",
       "        vertical-align: top;\n",
       "    }\n",
       "\n",
       "    .dataframe thead th {\n",
       "        text-align: right;\n",
       "    }\n",
       "</style>\n",
       "<table border=\"1\" class=\"dataframe\">\n",
       "  <thead>\n",
       "    <tr style=\"text-align: right;\">\n",
       "      <th></th>\n",
       "      <th>eu_sales</th>\n",
       "      <th>sum</th>\n",
       "    </tr>\n",
       "    <tr>\n",
       "      <th>platform</th>\n",
       "      <th></th>\n",
       "      <th></th>\n",
       "    </tr>\n",
       "  </thead>\n",
       "  <tbody>\n",
       "    <tr>\n",
       "      <th>PS4</th>\n",
       "      <td>141.09</td>\n",
       "      <td>314.14</td>\n",
       "    </tr>\n",
       "    <tr>\n",
       "      <th>PS3</th>\n",
       "      <td>67.81</td>\n",
       "      <td>181.43</td>\n",
       "    </tr>\n",
       "    <tr>\n",
       "      <th>XOne</th>\n",
       "      <td>51.59</td>\n",
       "      <td>159.32</td>\n",
       "    </tr>\n",
       "    <tr>\n",
       "      <th>X360</th>\n",
       "      <td>42.52</td>\n",
       "      <td>136.80</td>\n",
       "    </tr>\n",
       "    <tr>\n",
       "      <th>3DS</th>\n",
       "      <td>30.96</td>\n",
       "      <td>143.25</td>\n",
       "    </tr>\n",
       "    <tr>\n",
       "      <th>PC</th>\n",
       "      <td>25.36</td>\n",
       "      <td>39.43</td>\n",
       "    </tr>\n",
       "    <tr>\n",
       "      <th>WiiU</th>\n",
       "      <td>19.85</td>\n",
       "      <td>64.63</td>\n",
       "    </tr>\n",
       "    <tr>\n",
       "      <th>PSV</th>\n",
       "      <td>6.10</td>\n",
       "      <td>32.99</td>\n",
       "    </tr>\n",
       "    <tr>\n",
       "      <th>Wii</th>\n",
       "      <td>5.93</td>\n",
       "      <td>13.66</td>\n",
       "    </tr>\n",
       "    <tr>\n",
       "      <th>DS</th>\n",
       "      <td>0.85</td>\n",
       "      <td>1.54</td>\n",
       "    </tr>\n",
       "    <tr>\n",
       "      <th>PSP</th>\n",
       "      <td>0.17</td>\n",
       "      <td>3.50</td>\n",
       "    </tr>\n",
       "  </tbody>\n",
       "</table>\n",
       "</div>"
      ],
      "text/plain": [
       "          eu_sales     sum\n",
       "platform                  \n",
       "PS4         141.09  314.14\n",
       "PS3          67.81  181.43\n",
       "XOne         51.59  159.32\n",
       "X360         42.52  136.80\n",
       "3DS          30.96  143.25\n",
       "PC           25.36   39.43\n",
       "WiiU         19.85   64.63\n",
       "PSV           6.10   32.99\n",
       "Wii           5.93   13.66\n",
       "DS            0.85    1.54\n",
       "PSP           0.17    3.50"
      ]
     },
     "metadata": {},
     "output_type": "display_data"
    },
    {
     "data": {
      "text/html": [
       "<div>\n",
       "<style scoped>\n",
       "    .dataframe tbody tr th:only-of-type {\n",
       "        vertical-align: middle;\n",
       "    }\n",
       "\n",
       "    .dataframe tbody tr th {\n",
       "        vertical-align: top;\n",
       "    }\n",
       "\n",
       "    .dataframe thead th {\n",
       "        text-align: right;\n",
       "    }\n",
       "</style>\n",
       "<table border=\"1\" class=\"dataframe\">\n",
       "  <thead>\n",
       "    <tr style=\"text-align: right;\">\n",
       "      <th></th>\n",
       "      <th>platform</th>\n",
       "      <th>eu_sales</th>\n",
       "      <th>sum</th>\n",
       "      <th>share</th>\n",
       "    </tr>\n",
       "  </thead>\n",
       "  <tbody>\n",
       "    <tr>\n",
       "      <th>2</th>\n",
       "      <td>PC</td>\n",
       "      <td>25.36</td>\n",
       "      <td>39.43</td>\n",
       "      <td>64.316510</td>\n",
       "    </tr>\n",
       "    <tr>\n",
       "      <th>4</th>\n",
       "      <td>PS4</td>\n",
       "      <td>141.09</td>\n",
       "      <td>314.14</td>\n",
       "      <td>44.913096</td>\n",
       "    </tr>\n",
       "    <tr>\n",
       "      <th>7</th>\n",
       "      <td>Wii</td>\n",
       "      <td>5.93</td>\n",
       "      <td>13.66</td>\n",
       "      <td>43.411420</td>\n",
       "    </tr>\n",
       "    <tr>\n",
       "      <th>3</th>\n",
       "      <td>PS3</td>\n",
       "      <td>67.81</td>\n",
       "      <td>181.43</td>\n",
       "      <td>37.375296</td>\n",
       "    </tr>\n",
       "    <tr>\n",
       "      <th>9</th>\n",
       "      <td>X360</td>\n",
       "      <td>42.52</td>\n",
       "      <td>136.80</td>\n",
       "      <td>31.081871</td>\n",
       "    </tr>\n",
       "  </tbody>\n",
       "</table>\n",
       "</div>"
      ],
      "text/plain": [
       "  platform  eu_sales     sum      share\n",
       "2       PC     25.36   39.43  64.316510\n",
       "4      PS4    141.09  314.14  44.913096\n",
       "7      Wii      5.93   13.66  43.411420\n",
       "3      PS3     67.81  181.43  37.375296\n",
       "9     X360     42.52  136.80  31.081871"
      ]
     },
     "metadata": {},
     "output_type": "display_data"
    }
   ],
   "source": [
    "data_eu_platform=data_eu.pivot_table(index='platform',values=['sum','eu_sales'],aggfunc='sum')\n",
    "data_eu_platform=data_eu_platform.reset_index(drop=False)\n",
    "display(data_eu.groupby(by='platform').sum().sort_values(by='eu_sales',ascending=False))\n",
    "data_eu_platform=data_eu_platform[(data_eu_platform['platform']=='PS') | (data_eu_platform['platform']=='PS3') | (data_eu_platform['platform']=='Wii') | (data_eu_platform['platform']=='X360') | (data_eu_platform['platform']=='PS4') | (data_eu_platform['platform']=='PC')]\n",
    "data_eu_platform['share']=(data_eu_platform['eu_sales']*100)/data_eu_platform['sum']\n",
    "display(data_eu_platform.sort_values(by='share',ascending=False))"
   ]
  },
  {
   "cell_type": "markdown",
   "metadata": {},
   "source": [
    "В Японии Лидером оказалась платформа 3DS. Так же в пятерке лидеров по Японии PS3, PSV, PS4, WiiU. Тут мы видим еще одну платформу обретшую популярность в Японии, но не попавшую в лидеры в других регионах, PSV.\n",
    "\n",
    "Что касается доли продаж, то лидер PSP. - 94.00. Далее идут\n",
    "\n",
    "3DS\t47.33\n",
    "\n",
    "PS3 12.86\n",
    "\n",
    "Wii 0.36\n",
    "\n",
    "DS 0\n",
    "\n",
    "Заметим что для платформы PSP рынов Японии является ключевым. Так же на рынке Японии всего четыре основных продаваемых платформы PSP, 3DS, PS3, Wii."
   ]
  },
  {
   "cell_type": "code",
   "execution_count": 155,
   "metadata": {},
   "outputs": [
    {
     "data": {
      "text/html": [
       "<div>\n",
       "<style scoped>\n",
       "    .dataframe tbody tr th:only-of-type {\n",
       "        vertical-align: middle;\n",
       "    }\n",
       "\n",
       "    .dataframe tbody tr th {\n",
       "        vertical-align: top;\n",
       "    }\n",
       "\n",
       "    .dataframe thead th {\n",
       "        text-align: right;\n",
       "    }\n",
       "</style>\n",
       "<table border=\"1\" class=\"dataframe\">\n",
       "  <thead>\n",
       "    <tr style=\"text-align: right;\">\n",
       "      <th></th>\n",
       "      <th>jp_sales</th>\n",
       "      <th>sum</th>\n",
       "    </tr>\n",
       "    <tr>\n",
       "      <th>platform</th>\n",
       "      <th></th>\n",
       "      <th></th>\n",
       "    </tr>\n",
       "  </thead>\n",
       "  <tbody>\n",
       "    <tr>\n",
       "      <th>3DS</th>\n",
       "      <td>67.81</td>\n",
       "      <td>143.25</td>\n",
       "    </tr>\n",
       "    <tr>\n",
       "      <th>PS3</th>\n",
       "      <td>23.35</td>\n",
       "      <td>181.43</td>\n",
       "    </tr>\n",
       "    <tr>\n",
       "      <th>PSV</th>\n",
       "      <td>18.59</td>\n",
       "      <td>32.99</td>\n",
       "    </tr>\n",
       "    <tr>\n",
       "      <th>PS4</th>\n",
       "      <td>15.96</td>\n",
       "      <td>314.14</td>\n",
       "    </tr>\n",
       "    <tr>\n",
       "      <th>WiiU</th>\n",
       "      <td>10.88</td>\n",
       "      <td>64.63</td>\n",
       "    </tr>\n",
       "    <tr>\n",
       "      <th>PSP</th>\n",
       "      <td>3.29</td>\n",
       "      <td>3.50</td>\n",
       "    </tr>\n",
       "    <tr>\n",
       "      <th>X360</th>\n",
       "      <td>0.51</td>\n",
       "      <td>136.80</td>\n",
       "    </tr>\n",
       "    <tr>\n",
       "      <th>XOne</th>\n",
       "      <td>0.34</td>\n",
       "      <td>159.32</td>\n",
       "    </tr>\n",
       "    <tr>\n",
       "      <th>Wii</th>\n",
       "      <td>0.05</td>\n",
       "      <td>13.66</td>\n",
       "    </tr>\n",
       "    <tr>\n",
       "      <th>DS</th>\n",
       "      <td>0.00</td>\n",
       "      <td>1.54</td>\n",
       "    </tr>\n",
       "    <tr>\n",
       "      <th>PC</th>\n",
       "      <td>0.00</td>\n",
       "      <td>39.43</td>\n",
       "    </tr>\n",
       "  </tbody>\n",
       "</table>\n",
       "</div>"
      ],
      "text/plain": [
       "          jp_sales     sum\n",
       "platform                  \n",
       "3DS          67.81  143.25\n",
       "PS3          23.35  181.43\n",
       "PSV          18.59   32.99\n",
       "PS4          15.96  314.14\n",
       "WiiU         10.88   64.63\n",
       "PSP           3.29    3.50\n",
       "X360          0.51  136.80\n",
       "XOne          0.34  159.32\n",
       "Wii           0.05   13.66\n",
       "DS            0.00    1.54\n",
       "PC            0.00   39.43"
      ]
     },
     "metadata": {},
     "output_type": "display_data"
    },
    {
     "data": {
      "text/html": [
       "<div>\n",
       "<style scoped>\n",
       "    .dataframe tbody tr th:only-of-type {\n",
       "        vertical-align: middle;\n",
       "    }\n",
       "\n",
       "    .dataframe tbody tr th {\n",
       "        vertical-align: top;\n",
       "    }\n",
       "\n",
       "    .dataframe thead th {\n",
       "        text-align: right;\n",
       "    }\n",
       "</style>\n",
       "<table border=\"1\" class=\"dataframe\">\n",
       "  <thead>\n",
       "    <tr style=\"text-align: right;\">\n",
       "      <th></th>\n",
       "      <th>platform</th>\n",
       "      <th>jp_sales</th>\n",
       "      <th>sum</th>\n",
       "      <th>share</th>\n",
       "    </tr>\n",
       "  </thead>\n",
       "  <tbody>\n",
       "    <tr>\n",
       "      <th>5</th>\n",
       "      <td>PSP</td>\n",
       "      <td>3.29</td>\n",
       "      <td>3.50</td>\n",
       "      <td>94.000000</td>\n",
       "    </tr>\n",
       "    <tr>\n",
       "      <th>0</th>\n",
       "      <td>3DS</td>\n",
       "      <td>67.81</td>\n",
       "      <td>143.25</td>\n",
       "      <td>47.336824</td>\n",
       "    </tr>\n",
       "    <tr>\n",
       "      <th>3</th>\n",
       "      <td>PS3</td>\n",
       "      <td>23.35</td>\n",
       "      <td>181.43</td>\n",
       "      <td>12.869977</td>\n",
       "    </tr>\n",
       "    <tr>\n",
       "      <th>7</th>\n",
       "      <td>Wii</td>\n",
       "      <td>0.05</td>\n",
       "      <td>13.66</td>\n",
       "      <td>0.366032</td>\n",
       "    </tr>\n",
       "    <tr>\n",
       "      <th>1</th>\n",
       "      <td>DS</td>\n",
       "      <td>0.00</td>\n",
       "      <td>1.54</td>\n",
       "      <td>0.000000</td>\n",
       "    </tr>\n",
       "  </tbody>\n",
       "</table>\n",
       "</div>"
      ],
      "text/plain": [
       "  platform  jp_sales     sum      share\n",
       "5      PSP      3.29    3.50  94.000000\n",
       "0      3DS     67.81  143.25  47.336824\n",
       "3      PS3     23.35  181.43  12.869977\n",
       "7      Wii      0.05   13.66   0.366032\n",
       "1       DS      0.00    1.54   0.000000"
      ]
     },
     "metadata": {},
     "output_type": "display_data"
    }
   ],
   "source": [
    "data_jp_platform=data_jp.pivot_table(index='platform',values=['sum','jp_sales'],aggfunc='sum')\n",
    "data_jp_platform=data_jp_platform.reset_index(drop=False)\n",
    "display(data_jp.groupby(by='platform').sum().sort_values(by='jp_sales',ascending=False))\n",
    "data_jp_platform=data_jp_platform[(data_jp_platform['platform']=='3DS') | (data_jp_platform['platform']=='DS') | (data_jp_platform['platform']=='Wii') | (data_jp_platform['platform']=='PS3') | (data_jp_platform['platform']=='PSP')]\n",
    "data_jp_platform['share']=(data_jp_platform['jp_sales']*100)/data_jp_platform['sum']\n",
    "display(data_jp_platform.sort_values(by='share',ascending=False))"
   ]
  },
  {
   "cell_type": "markdown",
   "metadata": {},
   "source": [
    "Пятерка лидеров других регионов такова: PS4, PS3, XOne, X360, DS3 \n",
    "\n",
    "Доля на общем рынке выглядит так:\n",
    "\n",
    "PS4\t 15.39\n",
    "\n",
    "PS3\t14.75 \n",
    "\n",
    "X360 8.85\n",
    "\n",
    "Wii\t8.19"
   ]
  },
  {
   "cell_type": "code",
   "execution_count": 156,
   "metadata": {},
   "outputs": [
    {
     "data": {
      "text/html": [
       "<div>\n",
       "<style scoped>\n",
       "    .dataframe tbody tr th:only-of-type {\n",
       "        vertical-align: middle;\n",
       "    }\n",
       "\n",
       "    .dataframe tbody tr th {\n",
       "        vertical-align: top;\n",
       "    }\n",
       "\n",
       "    .dataframe thead th {\n",
       "        text-align: right;\n",
       "    }\n",
       "</style>\n",
       "<table border=\"1\" class=\"dataframe\">\n",
       "  <thead>\n",
       "    <tr style=\"text-align: right;\">\n",
       "      <th></th>\n",
       "      <th>other_sales</th>\n",
       "      <th>sum</th>\n",
       "    </tr>\n",
       "    <tr>\n",
       "      <th>platform</th>\n",
       "      <th></th>\n",
       "      <th></th>\n",
       "    </tr>\n",
       "  </thead>\n",
       "  <tbody>\n",
       "    <tr>\n",
       "      <th>PS4</th>\n",
       "      <td>48.35</td>\n",
       "      <td>314.14</td>\n",
       "    </tr>\n",
       "    <tr>\n",
       "      <th>PS3</th>\n",
       "      <td>26.77</td>\n",
       "      <td>181.43</td>\n",
       "    </tr>\n",
       "    <tr>\n",
       "      <th>XOne</th>\n",
       "      <td>14.27</td>\n",
       "      <td>159.32</td>\n",
       "    </tr>\n",
       "    <tr>\n",
       "      <th>X360</th>\n",
       "      <td>12.11</td>\n",
       "      <td>136.80</td>\n",
       "    </tr>\n",
       "    <tr>\n",
       "      <th>3DS</th>\n",
       "      <td>6.28</td>\n",
       "      <td>143.25</td>\n",
       "    </tr>\n",
       "    <tr>\n",
       "      <th>WiiU</th>\n",
       "      <td>4.69</td>\n",
       "      <td>64.63</td>\n",
       "    </tr>\n",
       "    <tr>\n",
       "      <th>PSV</th>\n",
       "      <td>3.26</td>\n",
       "      <td>32.99</td>\n",
       "    </tr>\n",
       "    <tr>\n",
       "      <th>PC</th>\n",
       "      <td>2.96</td>\n",
       "      <td>39.43</td>\n",
       "    </tr>\n",
       "    <tr>\n",
       "      <th>Wii</th>\n",
       "      <td>1.12</td>\n",
       "      <td>13.66</td>\n",
       "    </tr>\n",
       "    <tr>\n",
       "      <th>DS</th>\n",
       "      <td>0.12</td>\n",
       "      <td>1.54</td>\n",
       "    </tr>\n",
       "    <tr>\n",
       "      <th>PSP</th>\n",
       "      <td>0.04</td>\n",
       "      <td>3.50</td>\n",
       "    </tr>\n",
       "  </tbody>\n",
       "</table>\n",
       "</div>"
      ],
      "text/plain": [
       "          other_sales     sum\n",
       "platform                     \n",
       "PS4             48.35  314.14\n",
       "PS3             26.77  181.43\n",
       "XOne            14.27  159.32\n",
       "X360            12.11  136.80\n",
       "3DS              6.28  143.25\n",
       "WiiU             4.69   64.63\n",
       "PSV              3.26   32.99\n",
       "PC               2.96   39.43\n",
       "Wii              1.12   13.66\n",
       "DS               0.12    1.54\n",
       "PSP              0.04    3.50"
      ]
     },
     "metadata": {},
     "output_type": "display_data"
    },
    {
     "data": {
      "text/html": [
       "<div>\n",
       "<style scoped>\n",
       "    .dataframe tbody tr th:only-of-type {\n",
       "        vertical-align: middle;\n",
       "    }\n",
       "\n",
       "    .dataframe tbody tr th {\n",
       "        vertical-align: top;\n",
       "    }\n",
       "\n",
       "    .dataframe thead th {\n",
       "        text-align: right;\n",
       "    }\n",
       "</style>\n",
       "<table border=\"1\" class=\"dataframe\">\n",
       "  <thead>\n",
       "    <tr style=\"text-align: right;\">\n",
       "      <th></th>\n",
       "      <th>platform</th>\n",
       "      <th>other_sales</th>\n",
       "      <th>sum</th>\n",
       "      <th>share</th>\n",
       "    </tr>\n",
       "  </thead>\n",
       "  <tbody>\n",
       "    <tr>\n",
       "      <th>4</th>\n",
       "      <td>PS4</td>\n",
       "      <td>48.35</td>\n",
       "      <td>314.14</td>\n",
       "      <td>15.391227</td>\n",
       "    </tr>\n",
       "    <tr>\n",
       "      <th>3</th>\n",
       "      <td>PS3</td>\n",
       "      <td>26.77</td>\n",
       "      <td>181.43</td>\n",
       "      <td>14.755002</td>\n",
       "    </tr>\n",
       "    <tr>\n",
       "      <th>9</th>\n",
       "      <td>X360</td>\n",
       "      <td>12.11</td>\n",
       "      <td>136.80</td>\n",
       "      <td>8.852339</td>\n",
       "    </tr>\n",
       "    <tr>\n",
       "      <th>7</th>\n",
       "      <td>Wii</td>\n",
       "      <td>1.12</td>\n",
       "      <td>13.66</td>\n",
       "      <td>8.199122</td>\n",
       "    </tr>\n",
       "  </tbody>\n",
       "</table>\n",
       "</div>"
      ],
      "text/plain": [
       "  platform  other_sales     sum      share\n",
       "4      PS4        48.35  314.14  15.391227\n",
       "3      PS3        26.77  181.43  14.755002\n",
       "9     X360        12.11  136.80   8.852339\n",
       "7      Wii         1.12   13.66   8.199122"
      ]
     },
     "metadata": {},
     "output_type": "display_data"
    }
   ],
   "source": [
    "data_other_platform=data_other.pivot_table(index='platform',values=['sum','other_sales'],aggfunc='sum')\n",
    "data_other_platform=data_other_platform.reset_index(drop=False)\n",
    "display(data_other.groupby(by='platform').sum().sort_values(by='other_sales',ascending=False))\n",
    "data_other_platform=data_other_platform[(data_other_platform['platform']=='PS3') | (data_other_platform['platform']=='X360') | (data_other_platform['platform']=='Wii') | (data_other_platform['platform']=='PS4') | (data_other_platform['platform']=='PS2')]\n",
    "data_other_platform['share']=(data_other_platform['other_sales']*100)/data_other_platform['sum']\n",
    "display(data_other_platform.sort_values(by='share',ascending=False))"
   ]
  },
  {
   "cell_type": "markdown",
   "metadata": {},
   "source": [
    "Рейтинг пяти самых популярных жанров в Америке и других регионах выглядит одинаково: Action, Shooter, Sports, Role-Playing, Misc. Для Европы отличается лишь пятая последняя строка. Там находятся игры жанра Racing.\n",
    "\n",
    "Иначе выглядит пятерка по Японии: Role-Playing, Action, Misc, Fighting, Shooter. Вместо Sports появились Fighting. А жанр Role-Playing лидирует."
   ]
  },
  {
   "cell_type": "code",
   "execution_count": 157,
   "metadata": {},
   "outputs": [
    {
     "data": {
      "text/html": [
       "<div>\n",
       "<style scoped>\n",
       "    .dataframe tbody tr th:only-of-type {\n",
       "        vertical-align: middle;\n",
       "    }\n",
       "\n",
       "    .dataframe tbody tr th {\n",
       "        vertical-align: top;\n",
       "    }\n",
       "\n",
       "    .dataframe thead th {\n",
       "        text-align: right;\n",
       "    }\n",
       "</style>\n",
       "<table border=\"1\" class=\"dataframe\">\n",
       "  <thead>\n",
       "    <tr style=\"text-align: right;\">\n",
       "      <th></th>\n",
       "      <th>genre</th>\n",
       "      <th>na_sales</th>\n",
       "    </tr>\n",
       "  </thead>\n",
       "  <tbody>\n",
       "    <tr>\n",
       "      <th>0</th>\n",
       "      <td>Action</td>\n",
       "      <td>126.05</td>\n",
       "    </tr>\n",
       "    <tr>\n",
       "      <th>8</th>\n",
       "      <td>Shooter</td>\n",
       "      <td>109.74</td>\n",
       "    </tr>\n",
       "    <tr>\n",
       "      <th>10</th>\n",
       "      <td>Sports</td>\n",
       "      <td>65.27</td>\n",
       "    </tr>\n",
       "    <tr>\n",
       "      <th>7</th>\n",
       "      <td>Role-Playing</td>\n",
       "      <td>46.40</td>\n",
       "    </tr>\n",
       "    <tr>\n",
       "      <th>3</th>\n",
       "      <td>Misc</td>\n",
       "      <td>27.49</td>\n",
       "    </tr>\n",
       "  </tbody>\n",
       "</table>\n",
       "</div>"
      ],
      "text/plain": [
       "           genre  na_sales\n",
       "0         Action    126.05\n",
       "8        Shooter    109.74\n",
       "10        Sports     65.27\n",
       "7   Role-Playing     46.40\n",
       "3           Misc     27.49"
      ]
     },
     "metadata": {},
     "output_type": "display_data"
    },
    {
     "data": {
      "text/html": [
       "<div>\n",
       "<style scoped>\n",
       "    .dataframe tbody tr th:only-of-type {\n",
       "        vertical-align: middle;\n",
       "    }\n",
       "\n",
       "    .dataframe tbody tr th {\n",
       "        vertical-align: top;\n",
       "    }\n",
       "\n",
       "    .dataframe thead th {\n",
       "        text-align: right;\n",
       "    }\n",
       "</style>\n",
       "<table border=\"1\" class=\"dataframe\">\n",
       "  <thead>\n",
       "    <tr style=\"text-align: right;\">\n",
       "      <th></th>\n",
       "      <th>genre</th>\n",
       "      <th>eu_sales</th>\n",
       "    </tr>\n",
       "  </thead>\n",
       "  <tbody>\n",
       "    <tr>\n",
       "      <th>0</th>\n",
       "      <td>Action</td>\n",
       "      <td>118.13</td>\n",
       "    </tr>\n",
       "    <tr>\n",
       "      <th>8</th>\n",
       "      <td>Shooter</td>\n",
       "      <td>87.86</td>\n",
       "    </tr>\n",
       "    <tr>\n",
       "      <th>10</th>\n",
       "      <td>Sports</td>\n",
       "      <td>60.52</td>\n",
       "    </tr>\n",
       "    <tr>\n",
       "      <th>7</th>\n",
       "      <td>Role-Playing</td>\n",
       "      <td>36.97</td>\n",
       "    </tr>\n",
       "    <tr>\n",
       "      <th>6</th>\n",
       "      <td>Racing</td>\n",
       "      <td>20.19</td>\n",
       "    </tr>\n",
       "  </tbody>\n",
       "</table>\n",
       "</div>"
      ],
      "text/plain": [
       "           genre  eu_sales\n",
       "0         Action    118.13\n",
       "8        Shooter     87.86\n",
       "10        Sports     60.52\n",
       "7   Role-Playing     36.97\n",
       "6         Racing     20.19"
      ]
     },
     "metadata": {},
     "output_type": "display_data"
    },
    {
     "data": {
      "text/html": [
       "<div>\n",
       "<style scoped>\n",
       "    .dataframe tbody tr th:only-of-type {\n",
       "        vertical-align: middle;\n",
       "    }\n",
       "\n",
       "    .dataframe tbody tr th {\n",
       "        vertical-align: top;\n",
       "    }\n",
       "\n",
       "    .dataframe thead th {\n",
       "        text-align: right;\n",
       "    }\n",
       "</style>\n",
       "<table border=\"1\" class=\"dataframe\">\n",
       "  <thead>\n",
       "    <tr style=\"text-align: right;\">\n",
       "      <th></th>\n",
       "      <th>genre</th>\n",
       "      <th>jp_sales</th>\n",
       "    </tr>\n",
       "  </thead>\n",
       "  <tbody>\n",
       "    <tr>\n",
       "      <th>7</th>\n",
       "      <td>Role-Playing</td>\n",
       "      <td>51.04</td>\n",
       "    </tr>\n",
       "    <tr>\n",
       "      <th>0</th>\n",
       "      <td>Action</td>\n",
       "      <td>40.49</td>\n",
       "    </tr>\n",
       "    <tr>\n",
       "      <th>3</th>\n",
       "      <td>Misc</td>\n",
       "      <td>9.20</td>\n",
       "    </tr>\n",
       "    <tr>\n",
       "      <th>2</th>\n",
       "      <td>Fighting</td>\n",
       "      <td>7.65</td>\n",
       "    </tr>\n",
       "    <tr>\n",
       "      <th>8</th>\n",
       "      <td>Shooter</td>\n",
       "      <td>6.61</td>\n",
       "    </tr>\n",
       "  </tbody>\n",
       "</table>\n",
       "</div>"
      ],
      "text/plain": [
       "          genre  jp_sales\n",
       "7  Role-Playing     51.04\n",
       "0        Action     40.49\n",
       "3          Misc      9.20\n",
       "2      Fighting      7.65\n",
       "8       Shooter      6.61"
      ]
     },
     "metadata": {},
     "output_type": "display_data"
    },
    {
     "data": {
      "text/html": [
       "<div>\n",
       "<style scoped>\n",
       "    .dataframe tbody tr th:only-of-type {\n",
       "        vertical-align: middle;\n",
       "    }\n",
       "\n",
       "    .dataframe tbody tr th {\n",
       "        vertical-align: top;\n",
       "    }\n",
       "\n",
       "    .dataframe thead th {\n",
       "        text-align: right;\n",
       "    }\n",
       "</style>\n",
       "<table border=\"1\" class=\"dataframe\">\n",
       "  <thead>\n",
       "    <tr style=\"text-align: right;\">\n",
       "      <th></th>\n",
       "      <th>genre</th>\n",
       "      <th>other_sales</th>\n",
       "    </tr>\n",
       "  </thead>\n",
       "  <tbody>\n",
       "    <tr>\n",
       "      <th>0</th>\n",
       "      <td>Action</td>\n",
       "      <td>37.20</td>\n",
       "    </tr>\n",
       "    <tr>\n",
       "      <th>8</th>\n",
       "      <td>Shooter</td>\n",
       "      <td>28.77</td>\n",
       "    </tr>\n",
       "    <tr>\n",
       "      <th>10</th>\n",
       "      <td>Sports</td>\n",
       "      <td>19.45</td>\n",
       "    </tr>\n",
       "    <tr>\n",
       "      <th>7</th>\n",
       "      <td>Role-Playing</td>\n",
       "      <td>11.48</td>\n",
       "    </tr>\n",
       "    <tr>\n",
       "      <th>3</th>\n",
       "      <td>Misc</td>\n",
       "      <td>6.09</td>\n",
       "    </tr>\n",
       "  </tbody>\n",
       "</table>\n",
       "</div>"
      ],
      "text/plain": [
       "           genre  other_sales\n",
       "0         Action        37.20\n",
       "8        Shooter        28.77\n",
       "10        Sports        19.45\n",
       "7   Role-Playing        11.48\n",
       "3           Misc         6.09"
      ]
     },
     "metadata": {},
     "output_type": "display_data"
    }
   ],
   "source": [
    "data_na_genre=data_na.pivot_table(index='genre',values=['na_sales'],aggfunc='sum')\n",
    "data_na_genre=data_na_genre.reset_index(drop=False)\n",
    "display(data_na_genre.sort_values(by='na_sales',ascending=False).head(5))\n",
    "data_eu_genre=data_eu.pivot_table(index='genre',values=['eu_sales'],aggfunc='sum')\n",
    "data_eu_genre=data_eu_genre.reset_index(drop=False)\n",
    "display(data_eu_genre.sort_values(by='eu_sales',ascending=False).head(5))\n",
    "data_jp_genre=data_jp.pivot_table(index='genre',values=['jp_sales'],aggfunc='sum')\n",
    "data_jp_genre=data_jp_genre.reset_index(drop=False)\n",
    "display(data_jp_genre.sort_values(by='jp_sales',ascending=False).head(5))\n",
    "data_other_genre=data_other.pivot_table(index='genre',values=['other_sales'],aggfunc='sum')\n",
    "data_other_genre=data_other_genre.reset_index(drop=False)\n",
    "display(data_other_genre.sort_values(by='other_sales',ascending=False).head(5))"
   ]
  },
  {
   "cell_type": "markdown",
   "metadata": {},
   "source": [
    "<div class=\"alert alert-success\">\n",
    "<b>ОТЛИЧНО! 👍</b>\n",
    "\n",
    "В этих 2х подразделах всё отлично! Предпочтения геймеров 3х регионов в отношении игровых платформ и жанров определены. Ну и выводы соответственно описывают эти отличия.</div>"
   ]
  },
  {
   "cell_type": "markdown",
   "metadata": {},
   "source": [
    "Значения рейтингов:\n",
    "\n",
    "EC\tДля детей младшего возраста. Подходит для детей от 3 лет.\n",
    "\n",
    "E\tПодходит для всех возрастных категорий. \n",
    "\n",
    "E 10+\tПодходит для лиц старше 10 лет. \n",
    "\n",
    "T\tПодходит для лиц старше 13 лет. \n",
    "\n",
    "M\tПодходит для лиц старше 17 лет. \n",
    "\n",
    "AO\tПодходит для взрослых старше 18 лет. \n",
    "\n",
    "RP\tКатегория ещё не присвоена. Играм с категорией RP еще не присвоен окончательный рейтинг ESRB.\n",
    "\n",
    "Прежде чем начать изучать рейтинги вспомним о пропускаж. Так как эти значения будут важны, заменим пропуски на BR(это и будет значить без рейтинга)\n",
    "\n",
    "Посмотрим что происходит с рейтингами игр и влиянием рейтирнга на продажи. В Америке, Европе и других регионах наибольшей популярностью пользуются нигры рейтинга М(для лиц старше 17 лет). В Японии лидируют игры без рейтинга. Можно предположить что это связано с тем, что в Японии имеют популярность игры отличные от Америки, а данный рейтинг все же имеет популярность именно в регионе Америки. Возможно популярным играм Японии просто не присваевается рейтинг распространенный в Америке."
   ]
  },
  {
   "cell_type": "code",
   "execution_count": 160,
   "metadata": {},
   "outputs": [
    {
     "data": {
      "text/html": [
       "<div>\n",
       "<style scoped>\n",
       "    .dataframe tbody tr th:only-of-type {\n",
       "        vertical-align: middle;\n",
       "    }\n",
       "\n",
       "    .dataframe tbody tr th {\n",
       "        vertical-align: top;\n",
       "    }\n",
       "\n",
       "    .dataframe thead th {\n",
       "        text-align: right;\n",
       "    }\n",
       "</style>\n",
       "<table border=\"1\" class=\"dataframe\">\n",
       "  <thead>\n",
       "    <tr style=\"text-align: right;\">\n",
       "      <th></th>\n",
       "      <th>rating</th>\n",
       "      <th>na_sales</th>\n",
       "    </tr>\n",
       "  </thead>\n",
       "  <tbody>\n",
       "    <tr>\n",
       "      <th>3</th>\n",
       "      <td>M</td>\n",
       "      <td>165.21</td>\n",
       "    </tr>\n",
       "    <tr>\n",
       "      <th>0</th>\n",
       "      <td>BR</td>\n",
       "      <td>89.42</td>\n",
       "    </tr>\n",
       "    <tr>\n",
       "      <th>1</th>\n",
       "      <td>E</td>\n",
       "      <td>79.05</td>\n",
       "    </tr>\n",
       "    <tr>\n",
       "      <th>2</th>\n",
       "      <td>E10+</td>\n",
       "      <td>54.24</td>\n",
       "    </tr>\n",
       "    <tr>\n",
       "      <th>4</th>\n",
       "      <td>T</td>\n",
       "      <td>49.79</td>\n",
       "    </tr>\n",
       "  </tbody>\n",
       "</table>\n",
       "</div>"
      ],
      "text/plain": [
       "  rating  na_sales\n",
       "3      M    165.21\n",
       "0     BR     89.42\n",
       "1      E     79.05\n",
       "2   E10+     54.24\n",
       "4      T     49.79"
      ]
     },
     "metadata": {},
     "output_type": "display_data"
    },
    {
     "data": {
      "text/html": [
       "<div>\n",
       "<style scoped>\n",
       "    .dataframe tbody tr th:only-of-type {\n",
       "        vertical-align: middle;\n",
       "    }\n",
       "\n",
       "    .dataframe tbody tr th {\n",
       "        vertical-align: top;\n",
       "    }\n",
       "\n",
       "    .dataframe thead th {\n",
       "        text-align: right;\n",
       "    }\n",
       "</style>\n",
       "<table border=\"1\" class=\"dataframe\">\n",
       "  <thead>\n",
       "    <tr style=\"text-align: right;\">\n",
       "      <th></th>\n",
       "      <th>rating</th>\n",
       "      <th>eu_sales</th>\n",
       "    </tr>\n",
       "  </thead>\n",
       "  <tbody>\n",
       "    <tr>\n",
       "      <th>3</th>\n",
       "      <td>M</td>\n",
       "      <td>145.32</td>\n",
       "    </tr>\n",
       "    <tr>\n",
       "      <th>1</th>\n",
       "      <td>E</td>\n",
       "      <td>83.36</td>\n",
       "    </tr>\n",
       "    <tr>\n",
       "      <th>0</th>\n",
       "      <td>BR</td>\n",
       "      <td>78.91</td>\n",
       "    </tr>\n",
       "    <tr>\n",
       "      <th>2</th>\n",
       "      <td>E10+</td>\n",
       "      <td>42.69</td>\n",
       "    </tr>\n",
       "    <tr>\n",
       "      <th>4</th>\n",
       "      <td>T</td>\n",
       "      <td>41.95</td>\n",
       "    </tr>\n",
       "  </tbody>\n",
       "</table>\n",
       "</div>"
      ],
      "text/plain": [
       "  rating  eu_sales\n",
       "3      M    145.32\n",
       "1      E     83.36\n",
       "0     BR     78.91\n",
       "2   E10+     42.69\n",
       "4      T     41.95"
      ]
     },
     "metadata": {},
     "output_type": "display_data"
    },
    {
     "data": {
      "text/html": [
       "<div>\n",
       "<style scoped>\n",
       "    .dataframe tbody tr th:only-of-type {\n",
       "        vertical-align: middle;\n",
       "    }\n",
       "\n",
       "    .dataframe tbody tr th {\n",
       "        vertical-align: top;\n",
       "    }\n",
       "\n",
       "    .dataframe thead th {\n",
       "        text-align: right;\n",
       "    }\n",
       "</style>\n",
       "<table border=\"1\" class=\"dataframe\">\n",
       "  <thead>\n",
       "    <tr style=\"text-align: right;\">\n",
       "      <th></th>\n",
       "      <th>rating</th>\n",
       "      <th>jp_sales</th>\n",
       "    </tr>\n",
       "  </thead>\n",
       "  <tbody>\n",
       "    <tr>\n",
       "      <th>0</th>\n",
       "      <td>BR</td>\n",
       "      <td>85.05</td>\n",
       "    </tr>\n",
       "    <tr>\n",
       "      <th>4</th>\n",
       "      <td>T</td>\n",
       "      <td>20.59</td>\n",
       "    </tr>\n",
       "    <tr>\n",
       "      <th>1</th>\n",
       "      <td>E</td>\n",
       "      <td>15.14</td>\n",
       "    </tr>\n",
       "    <tr>\n",
       "      <th>3</th>\n",
       "      <td>M</td>\n",
       "      <td>14.11</td>\n",
       "    </tr>\n",
       "    <tr>\n",
       "      <th>2</th>\n",
       "      <td>E10+</td>\n",
       "      <td>5.89</td>\n",
       "    </tr>\n",
       "  </tbody>\n",
       "</table>\n",
       "</div>"
      ],
      "text/plain": [
       "  rating  jp_sales\n",
       "0     BR     85.05\n",
       "4      T     20.59\n",
       "1      E     15.14\n",
       "3      M     14.11\n",
       "2   E10+      5.89"
      ]
     },
     "metadata": {},
     "output_type": "display_data"
    },
    {
     "data": {
      "text/html": [
       "<div>\n",
       "<style scoped>\n",
       "    .dataframe tbody tr th:only-of-type {\n",
       "        vertical-align: middle;\n",
       "    }\n",
       "\n",
       "    .dataframe tbody tr th {\n",
       "        vertical-align: top;\n",
       "    }\n",
       "\n",
       "    .dataframe thead th {\n",
       "        text-align: right;\n",
       "    }\n",
       "</style>\n",
       "<table border=\"1\" class=\"dataframe\">\n",
       "  <thead>\n",
       "    <tr style=\"text-align: right;\">\n",
       "      <th></th>\n",
       "      <th>rating</th>\n",
       "      <th>other_sales</th>\n",
       "    </tr>\n",
       "  </thead>\n",
       "  <tbody>\n",
       "    <tr>\n",
       "      <th>3</th>\n",
       "      <td>M</td>\n",
       "      <td>47.04</td>\n",
       "    </tr>\n",
       "    <tr>\n",
       "      <th>0</th>\n",
       "      <td>BR</td>\n",
       "      <td>23.46</td>\n",
       "    </tr>\n",
       "    <tr>\n",
       "      <th>1</th>\n",
       "      <td>E</td>\n",
       "      <td>22.61</td>\n",
       "    </tr>\n",
       "    <tr>\n",
       "      <th>4</th>\n",
       "      <td>T</td>\n",
       "      <td>14.29</td>\n",
       "    </tr>\n",
       "    <tr>\n",
       "      <th>2</th>\n",
       "      <td>E10+</td>\n",
       "      <td>12.57</td>\n",
       "    </tr>\n",
       "  </tbody>\n",
       "</table>\n",
       "</div>"
      ],
      "text/plain": [
       "  rating  other_sales\n",
       "3      M        47.04\n",
       "0     BR        23.46\n",
       "1      E        22.61\n",
       "4      T        14.29\n",
       "2   E10+        12.57"
      ]
     },
     "metadata": {},
     "output_type": "display_data"
    }
   ],
   "source": [
    "data_na['rating'] = data_na['rating']. fillna('BR')\n",
    "data_eu['rating'] = data_eu['rating']. fillna('BR')\n",
    "data_jp['rating'] = data_jp['rating']. fillna('BR')\n",
    "data_other['rating'] = data_other['rating']. fillna('BR')\n",
    "data_other['rating'].value_counts(dropna=False)\n",
    "data_na_rating=data_na.pivot_table(index='rating',values=['na_sales'],aggfunc='sum')\n",
    "data_na_rating=data_na_rating.reset_index(drop=False)\n",
    "display(data_na_rating.sort_values(by='na_sales',ascending=False))\n",
    "data_eu_rating=data_eu.pivot_table(index='rating',values=['eu_sales'],aggfunc='sum')\n",
    "data_eu_rating=data_eu_rating.reset_index(drop=False)\n",
    "display(data_eu_rating.sort_values(by='eu_sales',ascending=False))\n",
    "data_jp_rating=data_jp.pivot_table(index='rating',values=['jp_sales'],aggfunc='sum')\n",
    "data_jp_rating=data_jp_rating.reset_index(drop=False)\n",
    "display(data_jp_rating.sort_values(by='jp_sales',ascending=False))\n",
    "data_other_rating=data_other.pivot_table(index='rating',values=['other_sales'],aggfunc='sum')\n",
    "data_other_rating=data_other_rating.reset_index(drop=False)\n",
    "display(data_other_rating.sort_values(by='other_sales',ascending=False))"
   ]
  },
  {
   "cell_type": "markdown",
   "metadata": {},
   "source": [
    "Вывод: попродуем описать краткий портрет пользователя каждого региона.\n",
    "\n",
    "Америка: Это пользователь играющий на платформе ХOne или PS4 в игры жанра Action, Shooter, Sports рейтинга М или без рейтинга.\n",
    "\n",
    "Европа: Это пользователь играющий на платформе PS4 или PS3 в игры жанра Action, Shooter, Sports рейтинга М,Е.\n",
    "\n",
    "Япония: Это пользователь играющий на платформе 3DS или PS3 в игры жанра Role-Playing,Action, Misc без рейтинга или рейтинга Т.\n",
    "\n",
    "Другие регионы: Это пользователь играющий на платформе PS4 или PS3 в игры жанра Action, Shooter, Sports рейтинга М или без рейтинга."
   ]
  },
  {
   "cell_type": "markdown",
   "metadata": {},
   "source": [
    " ## Проверка гипотез\n",
    " \n",
    " Для проверки обеих гипотез мы использует t-тест, метод scipy.stats.ttest_ind с параметром equal_var=False, так как размеры выборок у нас различны."
   ]
  },
  {
   "cell_type": "markdown",
   "metadata": {},
   "source": [
    "### Средние пользовательские рейтинги платформ Xbox One и PC одинаковые\n",
    "\n",
    "Нулевая гипотеза: средние пользовательские рейтинги платформ Xbox One равен средним пользовательским рейтингам платформы PC.\n",
    "\n",
    "Альтернативная гипотеза: средние пользовательские рейтинги платформ Xbox One не равен средним пользовательским рейтингам платформы PC."
   ]
  },
  {
   "cell_type": "markdown",
   "metadata": {},
   "source": [
    "Подготовим данные. Создадим для каждой платформы таблицу с оценками пользователей. Так как нас интересуют только оценки пользователей, избавимся от пропусков."
   ]
  },
  {
   "cell_type": "code",
   "execution_count": 32,
   "metadata": {},
   "outputs": [
    {
     "data": {
      "text/html": [
       "<div>\n",
       "<style scoped>\n",
       "    .dataframe tbody tr th:only-of-type {\n",
       "        vertical-align: middle;\n",
       "    }\n",
       "\n",
       "    .dataframe tbody tr th {\n",
       "        vertical-align: top;\n",
       "    }\n",
       "\n",
       "    .dataframe thead th {\n",
       "        text-align: right;\n",
       "    }\n",
       "</style>\n",
       "<table border=\"1\" class=\"dataframe\">\n",
       "  <thead>\n",
       "    <tr style=\"text-align: right;\">\n",
       "      <th></th>\n",
       "      <th>platform</th>\n",
       "      <th>user_score</th>\n",
       "    </tr>\n",
       "  </thead>\n",
       "  <tbody>\n",
       "    <tr>\n",
       "      <th>165</th>\n",
       "      <td>XOne</td>\n",
       "      <td>7.9</td>\n",
       "    </tr>\n",
       "    <tr>\n",
       "      <th>179</th>\n",
       "      <td>XOne</td>\n",
       "      <td>5.4</td>\n",
       "    </tr>\n",
       "    <tr>\n",
       "      <th>242</th>\n",
       "      <td>XOne</td>\n",
       "      <td>6.4</td>\n",
       "    </tr>\n",
       "    <tr>\n",
       "      <th>270</th>\n",
       "      <td>XOne</td>\n",
       "      <td>6.2</td>\n",
       "    </tr>\n",
       "    <tr>\n",
       "      <th>373</th>\n",
       "      <td>XOne</td>\n",
       "      <td>4.1</td>\n",
       "    </tr>\n",
       "    <tr>\n",
       "      <th>...</th>\n",
       "      <td>...</td>\n",
       "      <td>...</td>\n",
       "    </tr>\n",
       "    <tr>\n",
       "      <th>16597</th>\n",
       "      <td>XOne</td>\n",
       "      <td>6.0</td>\n",
       "    </tr>\n",
       "    <tr>\n",
       "      <th>16630</th>\n",
       "      <td>XOne</td>\n",
       "      <td>8.2</td>\n",
       "    </tr>\n",
       "    <tr>\n",
       "      <th>16643</th>\n",
       "      <td>XOne</td>\n",
       "      <td>6.6</td>\n",
       "    </tr>\n",
       "    <tr>\n",
       "      <th>16660</th>\n",
       "      <td>XOne</td>\n",
       "      <td>6.7</td>\n",
       "    </tr>\n",
       "    <tr>\n",
       "      <th>16672</th>\n",
       "      <td>XOne</td>\n",
       "      <td>0.0</td>\n",
       "    </tr>\n",
       "  </tbody>\n",
       "</table>\n",
       "<p>193 rows × 2 columns</p>\n",
       "</div>"
      ],
      "text/plain": [
       "      platform  user_score\n",
       "165       XOne         7.9\n",
       "179       XOne         5.4\n",
       "242       XOne         6.4\n",
       "270       XOne         6.2\n",
       "373       XOne         4.1\n",
       "...        ...         ...\n",
       "16597     XOne         6.0\n",
       "16630     XOne         8.2\n",
       "16643     XOne         6.6\n",
       "16660     XOne         6.7\n",
       "16672     XOne         0.0\n",
       "\n",
       "[193 rows x 2 columns]"
      ]
     },
     "metadata": {},
     "output_type": "display_data"
    },
    {
     "data": {
      "text/html": [
       "<div>\n",
       "<style scoped>\n",
       "    .dataframe tbody tr th:only-of-type {\n",
       "        vertical-align: middle;\n",
       "    }\n",
       "\n",
       "    .dataframe tbody tr th {\n",
       "        vertical-align: top;\n",
       "    }\n",
       "\n",
       "    .dataframe thead th {\n",
       "        text-align: right;\n",
       "    }\n",
       "</style>\n",
       "<table border=\"1\" class=\"dataframe\">\n",
       "  <thead>\n",
       "    <tr style=\"text-align: right;\">\n",
       "      <th></th>\n",
       "      <th>platform</th>\n",
       "      <th>user_score</th>\n",
       "    </tr>\n",
       "  </thead>\n",
       "  <tbody>\n",
       "    <tr>\n",
       "      <th>458</th>\n",
       "      <td>PC</td>\n",
       "      <td>3.9</td>\n",
       "    </tr>\n",
       "    <tr>\n",
       "      <th>1095</th>\n",
       "      <td>PC</td>\n",
       "      <td>7.9</td>\n",
       "    </tr>\n",
       "    <tr>\n",
       "      <th>1351</th>\n",
       "      <td>PC</td>\n",
       "      <td>2.2</td>\n",
       "    </tr>\n",
       "    <tr>\n",
       "      <th>1437</th>\n",
       "      <td>PC</td>\n",
       "      <td>6.0</td>\n",
       "    </tr>\n",
       "    <tr>\n",
       "      <th>1530</th>\n",
       "      <td>PC</td>\n",
       "      <td>5.4</td>\n",
       "    </tr>\n",
       "    <tr>\n",
       "      <th>...</th>\n",
       "      <td>...</td>\n",
       "      <td>...</td>\n",
       "    </tr>\n",
       "    <tr>\n",
       "      <th>16456</th>\n",
       "      <td>PC</td>\n",
       "      <td>8.3</td>\n",
       "    </tr>\n",
       "    <tr>\n",
       "      <th>16463</th>\n",
       "      <td>PC</td>\n",
       "      <td>6.8</td>\n",
       "    </tr>\n",
       "    <tr>\n",
       "      <th>16509</th>\n",
       "      <td>PC</td>\n",
       "      <td>7.9</td>\n",
       "    </tr>\n",
       "    <tr>\n",
       "      <th>16518</th>\n",
       "      <td>PC</td>\n",
       "      <td>1.4</td>\n",
       "    </tr>\n",
       "    <tr>\n",
       "      <th>16692</th>\n",
       "      <td>PC</td>\n",
       "      <td>7.6</td>\n",
       "    </tr>\n",
       "  </tbody>\n",
       "</table>\n",
       "<p>160 rows × 2 columns</p>\n",
       "</div>"
      ],
      "text/plain": [
       "      platform  user_score\n",
       "458         PC         3.9\n",
       "1095        PC         7.9\n",
       "1351        PC         2.2\n",
       "1437        PC         6.0\n",
       "1530        PC         5.4\n",
       "...        ...         ...\n",
       "16456       PC         8.3\n",
       "16463       PC         6.8\n",
       "16509       PC         7.9\n",
       "16518       PC         1.4\n",
       "16692       PC         7.6\n",
       "\n",
       "[160 rows x 2 columns]"
      ]
     },
     "metadata": {},
     "output_type": "display_data"
    },
    {
     "data": {
      "text/plain": [
       "6.149740932642487"
      ]
     },
     "metadata": {},
     "output_type": "display_data"
    },
    {
     "data": {
      "text/plain": [
       "6.0737499999999995"
      ]
     },
     "metadata": {},
     "output_type": "display_data"
    }
   ],
   "source": [
    "data_xone=data_3[data_3['platform']=='XOne']\n",
    "data_xone=data_xone[['platform','user_score']].copy()\n",
    "data_xone=data_xone.dropna()\n",
    "display(data_xone)\n",
    "data_pc=data_3[data_3['platform']=='PC']\n",
    "data_pc=data_pc[['platform','user_score']].copy()\n",
    "data_pc=data_pc.dropna()\n",
    "display(data_pc)\n",
    "display(data_xone['user_score'].sum()/data_xone['user_score'].count())\n",
    "display(data_pc['user_score'].sum()/data_pc['user_score'].count())"
   ]
  },
  {
   "cell_type": "markdown",
   "metadata": {},
   "source": [
    "Проверим данные с оценками на выбросы. По графикам видно что оценки пользователей обеих платформ находятся в допустимых пределах (оценка может быть от 0 до 10)."
   ]
  },
  {
   "cell_type": "code",
   "execution_count": 33,
   "metadata": {},
   "outputs": [
    {
     "data": {
      "image/png": "[encoded data removed]",
      "text/plain": [
       "<Figure size 432x288 with 1 Axes>"
      ]
     },
     "metadata": {
      "needs_background": "light"
     },
     "output_type": "display_data"
    },
    {
     "data": {
      "image/png": "[encoded data removed]",
      "text/plain": [
       "<Figure size 432x288 with 1 Axes>"
      ]
     },
     "metadata": {
      "needs_background": "light"
     },
     "output_type": "display_data"
    }
   ],
   "source": [
    "plt.scatter(x=data_xone['platform'], y=data_xone['user_score'])\n",
    "plt.title('Выбросы среди оценок пользователей платформы XOne')\n",
    "plt.xlabel('Платформа')\n",
    "plt.ylabel('Оценка')\n",
    "plt.show()\n",
    "plt.scatter(x=data_pc['platform'], y=data_pc['user_score'])\n",
    "plt.title('Выбросы среди оценок пользователей платформы PC')\n",
    "plt.xlabel('Платформа')\n",
    "plt.ylabel('Оценка')\n",
    "plt.show()"
   ]
  },
  {
   "cell_type": "markdown",
   "metadata": {},
   "source": [
    "Проверим гипотезу. По результатам проверки мы  не смогли отвергнуть нулевую гипотезу. Получается что средняя оценка пользователей платформы XOne равна средней оценке пользователей платформы PC."
   ]
  },
  {
   "cell_type": "code",
   "execution_count": 34,
   "metadata": {},
   "outputs": [
    {
     "name": "stdout",
     "output_type": "stream",
     "text": [
      "0.7263951389486794\n",
      "Не получилось отвергнуть нулевую гипотезу\n"
     ]
    }
   ],
   "source": [
    "results =st.ttest_ind(data_xone['user_score'], data_pc['user_score'],equal_var=False)\n",
    "\n",
    "alpha=0.5 \n",
    "print(results.pvalue)\n",
    "\n",
    "if results.pvalue < alpha:\n",
    "    print(\"Отвергаем нулевую гипотезу\")\n",
    "else:\n",
    "    print(\"Не получилось отвергнуть нулевую гипотезу\")"
   ]
  },
  {
   "cell_type": "markdown",
   "metadata": {},
   "source": [
    "### Средние пользовательские рейтинги жанров Action и Sports разные\n",
    "\n",
    "Нулевая гипотеза: средний пользовательский рейтинг жанра Action равен среднему пользовательскому рейтингу жанра Sports.\n",
    "\n",
    "Альтернативная гипотеза: средний пользовательский рейтинг жанра Action не равен среднему пользовательскому рейтингу пжанра Sports."
   ]
  },
  {
   "cell_type": "markdown",
   "metadata": {},
   "source": [
    "Подготовим данные. Создадим для каждог жанра таблицу с оценками пользователей. Так как нас интересуют только оценки пользователей, избавимся от пропусков."
   ]
  },
  {
   "cell_type": "code",
   "execution_count": 35,
   "metadata": {},
   "outputs": [
    {
     "data": {
      "text/html": [
       "<div>\n",
       "<style scoped>\n",
       "    .dataframe tbody tr th:only-of-type {\n",
       "        vertical-align: middle;\n",
       "    }\n",
       "\n",
       "    .dataframe tbody tr th {\n",
       "        vertical-align: top;\n",
       "    }\n",
       "\n",
       "    .dataframe thead th {\n",
       "        text-align: right;\n",
       "    }\n",
       "</style>\n",
       "<table border=\"1\" class=\"dataframe\">\n",
       "  <thead>\n",
       "    <tr style=\"text-align: right;\">\n",
       "      <th></th>\n",
       "      <th>genre</th>\n",
       "      <th>user_score</th>\n",
       "    </tr>\n",
       "  </thead>\n",
       "  <tbody>\n",
       "    <tr>\n",
       "      <th>16</th>\n",
       "      <td>Action</td>\n",
       "      <td>8.2</td>\n",
       "    </tr>\n",
       "    <tr>\n",
       "      <th>23</th>\n",
       "      <td>Action</td>\n",
       "      <td>8.1</td>\n",
       "    </tr>\n",
       "    <tr>\n",
       "      <th>42</th>\n",
       "      <td>Action</td>\n",
       "      <td>8.3</td>\n",
       "    </tr>\n",
       "    <tr>\n",
       "      <th>149</th>\n",
       "      <td>Action</td>\n",
       "      <td>9.1</td>\n",
       "    </tr>\n",
       "    <tr>\n",
       "      <th>165</th>\n",
       "      <td>Action</td>\n",
       "      <td>7.9</td>\n",
       "    </tr>\n",
       "    <tr>\n",
       "      <th>...</th>\n",
       "      <td>...</td>\n",
       "      <td>...</td>\n",
       "    </tr>\n",
       "    <tr>\n",
       "      <th>16652</th>\n",
       "      <td>Action</td>\n",
       "      <td>8.5</td>\n",
       "    </tr>\n",
       "    <tr>\n",
       "      <th>16654</th>\n",
       "      <td>Action</td>\n",
       "      <td>5.1</td>\n",
       "    </tr>\n",
       "    <tr>\n",
       "      <th>16660</th>\n",
       "      <td>Action</td>\n",
       "      <td>6.7</td>\n",
       "    </tr>\n",
       "    <tr>\n",
       "      <th>16672</th>\n",
       "      <td>Action</td>\n",
       "      <td>0.0</td>\n",
       "    </tr>\n",
       "    <tr>\n",
       "      <th>16692</th>\n",
       "      <td>Action</td>\n",
       "      <td>7.6</td>\n",
       "    </tr>\n",
       "  </tbody>\n",
       "</table>\n",
       "<p>432 rows × 2 columns</p>\n",
       "</div>"
      ],
      "text/plain": [
       "        genre  user_score\n",
       "16     Action         8.2\n",
       "23     Action         8.1\n",
       "42     Action         8.3\n",
       "149    Action         9.1\n",
       "165    Action         7.9\n",
       "...       ...         ...\n",
       "16652  Action         8.5\n",
       "16654  Action         5.1\n",
       "16660  Action         6.7\n",
       "16672  Action         0.0\n",
       "16692  Action         7.6\n",
       "\n",
       "[432 rows x 2 columns]"
      ]
     },
     "metadata": {},
     "output_type": "display_data"
    },
    {
     "data": {
      "text/html": [
       "<div>\n",
       "<style scoped>\n",
       "    .dataframe tbody tr th:only-of-type {\n",
       "        vertical-align: middle;\n",
       "    }\n",
       "\n",
       "    .dataframe tbody tr th {\n",
       "        vertical-align: top;\n",
       "    }\n",
       "\n",
       "    .dataframe thead th {\n",
       "        text-align: right;\n",
       "    }\n",
       "</style>\n",
       "<table border=\"1\" class=\"dataframe\">\n",
       "  <thead>\n",
       "    <tr style=\"text-align: right;\">\n",
       "      <th></th>\n",
       "      <th>genre</th>\n",
       "      <th>user_score</th>\n",
       "    </tr>\n",
       "  </thead>\n",
       "  <tbody>\n",
       "    <tr>\n",
       "      <th>77</th>\n",
       "      <td>Sports</td>\n",
       "      <td>4.3</td>\n",
       "    </tr>\n",
       "    <tr>\n",
       "      <th>94</th>\n",
       "      <td>Sports</td>\n",
       "      <td>5.0</td>\n",
       "    </tr>\n",
       "    <tr>\n",
       "      <th>126</th>\n",
       "      <td>Sports</td>\n",
       "      <td>4.3</td>\n",
       "    </tr>\n",
       "    <tr>\n",
       "      <th>143</th>\n",
       "      <td>Sports</td>\n",
       "      <td>5.7</td>\n",
       "    </tr>\n",
       "    <tr>\n",
       "      <th>264</th>\n",
       "      <td>Sports</td>\n",
       "      <td>4.5</td>\n",
       "    </tr>\n",
       "    <tr>\n",
       "      <th>...</th>\n",
       "      <td>...</td>\n",
       "      <td>...</td>\n",
       "    </tr>\n",
       "    <tr>\n",
       "      <th>16146</th>\n",
       "      <td>Sports</td>\n",
       "      <td>6.9</td>\n",
       "    </tr>\n",
       "    <tr>\n",
       "      <th>16450</th>\n",
       "      <td>Sports</td>\n",
       "      <td>4.5</td>\n",
       "    </tr>\n",
       "    <tr>\n",
       "      <th>16518</th>\n",
       "      <td>Sports</td>\n",
       "      <td>1.4</td>\n",
       "    </tr>\n",
       "    <tr>\n",
       "      <th>16638</th>\n",
       "      <td>Sports</td>\n",
       "      <td>0.0</td>\n",
       "    </tr>\n",
       "    <tr>\n",
       "      <th>16643</th>\n",
       "      <td>Sports</td>\n",
       "      <td>6.6</td>\n",
       "    </tr>\n",
       "  </tbody>\n",
       "</table>\n",
       "<p>173 rows × 2 columns</p>\n",
       "</div>"
      ],
      "text/plain": [
       "        genre  user_score\n",
       "77     Sports         4.3\n",
       "94     Sports         5.0\n",
       "126    Sports         4.3\n",
       "143    Sports         5.7\n",
       "264    Sports         4.5\n",
       "...       ...         ...\n",
       "16146  Sports         6.9\n",
       "16450  Sports         4.5\n",
       "16518  Sports         1.4\n",
       "16638  Sports         0.0\n",
       "16643  Sports         6.6\n",
       "\n",
       "[173 rows x 2 columns]"
      ]
     },
     "metadata": {},
     "output_type": "display_data"
    },
    {
     "data": {
      "text/plain": [
       "6.156944444444445"
      ]
     },
     "metadata": {},
     "output_type": "display_data"
    },
    {
     "data": {
      "text/plain": [
       "4.844508670520231"
      ]
     },
     "metadata": {},
     "output_type": "display_data"
    }
   ],
   "source": [
    "data_action=data_3[data_3['genre']=='Action']\n",
    "data_action=data_action[['genre','user_score']].copy()\n",
    "data_action=data_action.dropna()\n",
    "display(data_action)\n",
    "data_sports=data_3[data_3['genre']=='Sports']\n",
    "data_sports=data_sports[['genre','user_score']].copy()\n",
    "data_sports=data_sports.dropna()\n",
    "display(data_sports)\n",
    "display(data_action['user_score'].sum()/data_action['user_score'].count())\n",
    "display(data_sports['user_score'].sum()/data_sports['user_score'].count())"
   ]
  },
  {
   "cell_type": "markdown",
   "metadata": {},
   "source": [
    "Проверим данные с оценками на выбросы. По графикам видно что оценки пользователей обоих жанров находятся в допустимых пределах (оценка может быть от 0 до 10)."
   ]
  },
  {
   "cell_type": "code",
   "execution_count": 36,
   "metadata": {},
   "outputs": [
    {
     "data": {
      "image/png": "[encoded data removed]",
      "text/plain": [
       "<Figure size 432x288 with 1 Axes>"
      ]
     },
     "metadata": {
      "needs_background": "light"
     },
     "output_type": "display_data"
    },
    {
     "data": {
      "image/png": "[encoded data removed]",
      "text/plain": [
       "<Figure size 432x288 with 1 Axes>"
      ]
     },
     "metadata": {
      "needs_background": "light"
     },
     "output_type": "display_data"
    }
   ],
   "source": [
    "plt.scatter(x=data_action['genre'], y=data_action['user_score'])\n",
    "plt.title('Выбросы среди оценок пользователей жанра Action')\n",
    "plt.xlabel('Жанр')\n",
    "plt.ylabel('Оценка')\n",
    "plt.show()\n",
    "plt.scatter(x=data_sports['genre'], y=data_sports['user_score'])\n",
    "plt.title('Выбросы среди оценок пользователей жанра Sports')\n",
    "plt.xlabel('Жанр')\n",
    "plt.ylabel('Оценка')\n",
    "plt.show()"
   ]
  },
  {
   "cell_type": "markdown",
   "metadata": {},
   "source": [
    "Проверим гипотезу. По рузультатам проверки стоит отвергнуть нулевую гипотезу. Т.е. можно сказать что средний пользовательский рейтинг жанра Action не равен среднему пользовательскому рейтингу жанра Sports."
   ]
  },
  {
   "cell_type": "code",
   "execution_count": 37,
   "metadata": {},
   "outputs": [
    {
     "name": "stdout",
     "output_type": "stream",
     "text": [
      "3.947118399375673e-10\n",
      "Отвергаем нулевую гипотезу\n"
     ]
    }
   ],
   "source": [
    "results =st.ttest_ind(data_action['user_score'], data_sports['user_score'],equal_var=False)\n",
    "\n",
    "alpha=0.5 \n",
    "print(results.pvalue)\n",
    "\n",
    "if results.pvalue < alpha:\n",
    "    print(\"Отвергаем нулевую гипотезу\")\n",
    "else:\n",
    "    print(\"Не получилось отвергнуть нулевую гипотезу\")"
   ]
  },
  {
   "cell_type": "markdown",
   "metadata": {},
   "source": [
    "## Вывод:"
   ]
  },
  {
   "cell_type": "markdown",
   "metadata": {},
   "source": [
    "Рассмотрим различия между регионами подробнее. Самыми популярными жанрами в Америке, Европе и других регионах оказались: Action, Shooter, Sports, Role-Playing, Misc. Тогда как в Японии этот список выглядит иначе: Role-Role-Playing, Action, Misc, Fighting, Shooter. Что касается самых популярных платформ, то тут различны все регионы. Тройка лидеров Америки: PS4, XOne, X360. Европа: PS4, PS3, Xone. Япония: 3DS, PS3, PSV. Другие регионы: PS4, PS3, Xone. Обратите внимание что рынок Японии вновь отличается больше других. Самые популярные рейтинги в Америке и других регионах М и игры без рейтинга. В Японии игры без рейтинга и ре\n",
    "\n",
    "Портреты пользователей для разных регионов получились такими:\n",
    "\n",
    "Америка: Это пользователь играющий на платформе ХOne или PS4 в игры жанра Action, Shooter, Sports рейтинга М или без рейтинга.\n",
    "\n",
    "Европа: Это пользователь играющий на платформе PS4 или PS3 в игры жанра Action, Shooter, Sports рейтинга М,Е.\n",
    "\n",
    "Япония: Это пользователь играющий на платформе 3DS или PS3 в игры жанра Role-Playing,Action, Misc без рейтинга или рейтинга Т.\n",
    "\n",
    "Другие регионы: Это пользователь играющий на платформе PS4 или PS3 в игры жанра Action, Shooter, Sports рейтинга М или без рейтинга.\n",
    "\n",
    "Что касается корреляции оценки критиков и продаж.Прямая зависимость не слишком высокая, но все же имеет место быть. При этом снова отличилась Япония. Эта зависимость в данном регионе намного ниже чем в прочих регионаж продажи.\n",
    "\n",
    "Корреляция оценка пользователей же гораздо меньше, можно сказать совсем не значительно.\n",
    "\n",
    "Так же нам удалось выяснить что средний цикл жизни платформы составляет около 4 лет. Сейчас самые перспективные платформы PS4 и XOne, они находятся в середине своего жизненного цикла.\n",
    "\n",
    "Все полученные результаты стоит учесть при планировании продаж. Необходимо обратить внимание на популярные жанры игр в нашем регионе, на каких платформах чаще играют и какой рейтинг игр покупается чаще. В соответствии с этим стоит сделать выбор в пользу более активных продаж именно тех игр которые подходят под критерии."
   ]
  }
 ],
 "metadata": {
  "ExecuteTimeLog": [
   {
    "duration": 76,
    "start_time": "2023-03-31T10:09:58.847Z"
   },
   {
    "duration": 404,
    "start_time": "2023-03-31T10:12:02.646Z"
   },
   {
    "duration": 151,
    "start_time": "2023-03-31T10:12:03.052Z"
   },
   {
    "duration": 68,
    "start_time": "2023-03-31T10:12:19.204Z"
   },
   {
    "duration": 123,
    "start_time": "2023-03-31T10:12:49.457Z"
   },
   {
    "duration": 127,
    "start_time": "2023-03-31T10:12:56.328Z"
   },
   {
    "duration": 115,
    "start_time": "2023-03-31T10:15:02.823Z"
   },
   {
    "duration": 48,
    "start_time": "2023-03-31T10:22:57.626Z"
   },
   {
    "duration": 68,
    "start_time": "2023-03-31T10:23:01.203Z"
   },
   {
    "duration": 10,
    "start_time": "2023-03-31T10:41:36.162Z"
   },
   {
    "duration": 24,
    "start_time": "2023-03-31T10:41:42.431Z"
   },
   {
    "duration": 16,
    "start_time": "2023-03-31T10:42:08.509Z"
   },
   {
    "duration": 16,
    "start_time": "2023-03-31T10:51:19.058Z"
   },
   {
    "duration": 20,
    "start_time": "2023-03-31T10:55:27.599Z"
   },
   {
    "duration": 32,
    "start_time": "2023-03-31T10:56:22.571Z"
   },
   {
    "duration": 21,
    "start_time": "2023-03-31T10:56:30.302Z"
   },
   {
    "duration": 101,
    "start_time": "2023-03-31T10:58:21.959Z"
   },
   {
    "duration": 23,
    "start_time": "2023-03-31T10:58:26.409Z"
   },
   {
    "duration": 21,
    "start_time": "2023-03-31T10:59:17.143Z"
   },
   {
    "duration": 24,
    "start_time": "2023-03-31T10:59:22.955Z"
   },
   {
    "duration": 30,
    "start_time": "2023-03-31T10:59:24.285Z"
   },
   {
    "duration": 23,
    "start_time": "2023-03-31T11:01:02.905Z"
   },
   {
    "duration": 31,
    "start_time": "2023-03-31T11:01:12.272Z"
   },
   {
    "duration": 97,
    "start_time": "2023-03-31T11:06:41.685Z"
   },
   {
    "duration": 18,
    "start_time": "2023-03-31T11:06:42.809Z"
   },
   {
    "duration": 22,
    "start_time": "2023-03-31T11:06:46.615Z"
   },
   {
    "duration": 3,
    "start_time": "2023-03-31T11:07:03.457Z"
   },
   {
    "duration": 63,
    "start_time": "2023-03-31T11:07:03.705Z"
   },
   {
    "duration": 81,
    "start_time": "2023-03-31T11:07:04.291Z"
   },
   {
    "duration": 24,
    "start_time": "2023-03-31T11:07:04.702Z"
   },
   {
    "duration": 24,
    "start_time": "2023-03-31T11:07:05.330Z"
   },
   {
    "duration": 29,
    "start_time": "2023-03-31T11:08:40.906Z"
   },
   {
    "duration": 34,
    "start_time": "2023-03-31T11:10:14.976Z"
   },
   {
    "duration": 30,
    "start_time": "2023-03-31T11:11:36.161Z"
   },
   {
    "duration": 31,
    "start_time": "2023-03-31T11:11:43.753Z"
   },
   {
    "duration": 45,
    "start_time": "2023-03-31T11:12:06.768Z"
   },
   {
    "duration": 23,
    "start_time": "2023-03-31T11:12:46.651Z"
   },
   {
    "duration": 50,
    "start_time": "2023-03-31T11:12:47.865Z"
   },
   {
    "duration": 23,
    "start_time": "2023-03-31T11:13:24.312Z"
   },
   {
    "duration": 44,
    "start_time": "2023-03-31T11:14:31.107Z"
   },
   {
    "duration": 32,
    "start_time": "2023-03-31T11:16:25.806Z"
   },
   {
    "duration": 40,
    "start_time": "2023-03-31T11:16:40.464Z"
   },
   {
    "duration": 42,
    "start_time": "2023-03-31T11:17:26.493Z"
   },
   {
    "duration": 14,
    "start_time": "2023-03-31T11:17:36.952Z"
   },
   {
    "duration": 41,
    "start_time": "2023-03-31T11:17:37.691Z"
   },
   {
    "duration": 34,
    "start_time": "2023-03-31T11:19:13.303Z"
   },
   {
    "duration": 2,
    "start_time": "2023-03-31T11:20:23.763Z"
   },
   {
    "duration": 72,
    "start_time": "2023-03-31T11:20:24.184Z"
   },
   {
    "duration": 55,
    "start_time": "2023-03-31T11:20:24.712Z"
   },
   {
    "duration": 16,
    "start_time": "2023-03-31T11:20:25.698Z"
   },
   {
    "duration": 43,
    "start_time": "2023-03-31T11:20:26.216Z"
   },
   {
    "duration": 55,
    "start_time": "2023-03-31T11:34:51.482Z"
   },
   {
    "duration": 2,
    "start_time": "2023-03-31T11:35:08.829Z"
   },
   {
    "duration": 51,
    "start_time": "2023-03-31T11:35:09.104Z"
   },
   {
    "duration": 65,
    "start_time": "2023-03-31T11:35:09.735Z"
   },
   {
    "duration": 15,
    "start_time": "2023-03-31T11:35:11.038Z"
   },
   {
    "duration": 42,
    "start_time": "2023-03-31T11:35:13.671Z"
   },
   {
    "duration": 41,
    "start_time": "2023-03-31T11:37:57.250Z"
   },
   {
    "duration": 3,
    "start_time": "2023-03-31T11:38:10.556Z"
   },
   {
    "duration": 52,
    "start_time": "2023-03-31T11:38:10.900Z"
   },
   {
    "duration": 61,
    "start_time": "2023-03-31T11:38:11.622Z"
   },
   {
    "duration": 19,
    "start_time": "2023-03-31T11:38:12.302Z"
   },
   {
    "duration": 37,
    "start_time": "2023-03-31T11:38:13.512Z"
   },
   {
    "duration": 67,
    "start_time": "2023-03-31T11:42:03.140Z"
   },
   {
    "duration": 2,
    "start_time": "2023-03-31T11:51:39.326Z"
   },
   {
    "duration": 69,
    "start_time": "2023-03-31T11:51:39.565Z"
   },
   {
    "duration": 60,
    "start_time": "2023-03-31T11:51:40.202Z"
   },
   {
    "duration": 24,
    "start_time": "2023-03-31T11:51:40.904Z"
   },
   {
    "duration": 48,
    "start_time": "2023-03-31T11:51:42.005Z"
   },
   {
    "duration": 34,
    "start_time": "2023-03-31T11:52:05.027Z"
   },
   {
    "duration": 3,
    "start_time": "2023-03-31T11:52:09.235Z"
   },
   {
    "duration": 52,
    "start_time": "2023-03-31T11:52:09.500Z"
   },
   {
    "duration": 82,
    "start_time": "2023-03-31T11:52:10.257Z"
   },
   {
    "duration": 15,
    "start_time": "2023-03-31T11:52:10.804Z"
   },
   {
    "duration": 36,
    "start_time": "2023-03-31T11:52:11.702Z"
   },
   {
    "duration": 5,
    "start_time": "2023-03-31T11:54:12.887Z"
   },
   {
    "duration": 61,
    "start_time": "2023-03-31T11:54:12.906Z"
   },
   {
    "duration": 71,
    "start_time": "2023-03-31T11:54:14.319Z"
   },
   {
    "duration": 29,
    "start_time": "2023-03-31T11:54:14.976Z"
   },
   {
    "duration": 33,
    "start_time": "2023-03-31T11:54:15.507Z"
   },
   {
    "duration": 473,
    "start_time": "2023-04-02T10:51:34.715Z"
   },
   {
    "duration": 572,
    "start_time": "2023-04-02T10:51:35.190Z"
   },
   {
    "duration": 55,
    "start_time": "2023-04-02T10:51:35.764Z"
   },
   {
    "duration": 13,
    "start_time": "2023-04-02T10:51:36.083Z"
   },
   {
    "duration": 29,
    "start_time": "2023-04-02T10:51:36.689Z"
   },
   {
    "duration": 3,
    "start_time": "2023-04-02T10:58:12.852Z"
   },
   {
    "duration": 50,
    "start_time": "2023-04-02T10:58:13.072Z"
   },
   {
    "duration": 63,
    "start_time": "2023-04-02T10:58:13.720Z"
   },
   {
    "duration": 14,
    "start_time": "2023-04-02T10:58:14.109Z"
   },
   {
    "duration": 31,
    "start_time": "2023-04-02T10:58:14.546Z"
   },
   {
    "duration": 11,
    "start_time": "2023-04-02T10:58:48.154Z"
   },
   {
    "duration": 18,
    "start_time": "2023-04-02T10:58:56.678Z"
   },
   {
    "duration": 78,
    "start_time": "2023-04-02T11:14:30.978Z"
   },
   {
    "duration": 30,
    "start_time": "2023-04-02T11:14:34.931Z"
   },
   {
    "duration": 3,
    "start_time": "2023-04-02T11:15:15.019Z"
   },
   {
    "duration": 56,
    "start_time": "2023-04-02T11:15:15.321Z"
   },
   {
    "duration": 50,
    "start_time": "2023-04-02T11:15:15.947Z"
   },
   {
    "duration": 15,
    "start_time": "2023-04-02T11:15:16.362Z"
   },
   {
    "duration": 36,
    "start_time": "2023-04-02T11:15:16.798Z"
   },
   {
    "duration": 30,
    "start_time": "2023-04-02T11:15:17.467Z"
   },
   {
    "duration": 20,
    "start_time": "2023-04-02T11:15:17.813Z"
   },
   {
    "duration": 16,
    "start_time": "2023-04-02T11:15:51.884Z"
   },
   {
    "duration": 693,
    "start_time": "2023-04-02T11:15:59.562Z"
   },
   {
    "duration": 3,
    "start_time": "2023-04-02T11:16:18.129Z"
   },
   {
    "duration": 54,
    "start_time": "2023-04-02T11:16:18.376Z"
   },
   {
    "duration": 59,
    "start_time": "2023-04-02T11:16:18.999Z"
   },
   {
    "duration": 14,
    "start_time": "2023-04-02T11:16:19.652Z"
   },
   {
    "duration": 33,
    "start_time": "2023-04-02T11:16:20.752Z"
   },
   {
    "duration": 17,
    "start_time": "2023-04-02T11:16:25.875Z"
   },
   {
    "duration": 19,
    "start_time": "2023-04-02T11:16:26.788Z"
   },
   {
    "duration": 20,
    "start_time": "2023-04-02T11:17:34.161Z"
   },
   {
    "duration": 18,
    "start_time": "2023-04-02T11:18:39.110Z"
   },
   {
    "duration": 30,
    "start_time": "2023-04-02T11:18:45.200Z"
   },
   {
    "duration": 25,
    "start_time": "2023-04-02T11:18:53.140Z"
   },
   {
    "duration": 28,
    "start_time": "2023-04-02T11:18:58.069Z"
   },
   {
    "duration": 25,
    "start_time": "2023-04-02T11:20:47.263Z"
   },
   {
    "duration": 35,
    "start_time": "2023-04-02T11:21:17.979Z"
   },
   {
    "duration": 53,
    "start_time": "2023-04-02T11:21:34.158Z"
   },
   {
    "duration": 15,
    "start_time": "2023-04-02T11:25:22.658Z"
   },
   {
    "duration": 21,
    "start_time": "2023-04-02T11:29:50.828Z"
   },
   {
    "duration": 14,
    "start_time": "2023-04-02T11:30:07.177Z"
   },
   {
    "duration": 16,
    "start_time": "2023-04-02T11:30:17.153Z"
   },
   {
    "duration": 20,
    "start_time": "2023-04-02T11:30:25.931Z"
   },
   {
    "duration": 14,
    "start_time": "2023-04-02T11:30:37.455Z"
   },
   {
    "duration": 20,
    "start_time": "2023-04-02T11:30:50.147Z"
   },
   {
    "duration": 15,
    "start_time": "2023-04-02T11:31:01.900Z"
   },
   {
    "duration": 16,
    "start_time": "2023-04-02T11:31:10.098Z"
   },
   {
    "duration": 14,
    "start_time": "2023-04-02T11:31:29.312Z"
   },
   {
    "duration": 15,
    "start_time": "2023-04-02T11:31:38.392Z"
   },
   {
    "duration": 15,
    "start_time": "2023-04-02T11:31:51.154Z"
   },
   {
    "duration": 1366,
    "start_time": "2023-04-02T11:36:07.449Z"
   },
   {
    "duration": 1485,
    "start_time": "2023-04-02T11:36:30.512Z"
   },
   {
    "duration": 23,
    "start_time": "2023-04-02T11:37:05.626Z"
   },
   {
    "duration": 22,
    "start_time": "2023-04-02T11:39:19.178Z"
   },
   {
    "duration": 19,
    "start_time": "2023-04-02T11:39:30.618Z"
   },
   {
    "duration": 29,
    "start_time": "2023-04-02T11:40:30.588Z"
   },
   {
    "duration": 56,
    "start_time": "2023-04-02T11:42:11.295Z"
   },
   {
    "duration": 13,
    "start_time": "2023-04-02T11:42:11.977Z"
   },
   {
    "duration": 32,
    "start_time": "2023-04-02T11:42:12.841Z"
   },
   {
    "duration": 23,
    "start_time": "2023-04-02T11:42:27.640Z"
   },
   {
    "duration": 17,
    "start_time": "2023-04-02T11:42:33.481Z"
   },
   {
    "duration": 17,
    "start_time": "2023-04-02T11:42:35.357Z"
   },
   {
    "duration": 21,
    "start_time": "2023-04-02T11:42:40.722Z"
   },
   {
    "duration": 28,
    "start_time": "2023-04-02T11:42:44.649Z"
   },
   {
    "duration": 2,
    "start_time": "2023-04-02T11:42:53.796Z"
   },
   {
    "duration": 50,
    "start_time": "2023-04-02T11:42:54.089Z"
   },
   {
    "duration": 49,
    "start_time": "2023-04-02T11:42:55.143Z"
   },
   {
    "duration": 12,
    "start_time": "2023-04-02T11:42:56.612Z"
   },
   {
    "duration": 24,
    "start_time": "2023-04-02T11:42:57.901Z"
   },
   {
    "duration": 17,
    "start_time": "2023-04-02T11:43:01.496Z"
   },
   {
    "duration": 14,
    "start_time": "2023-04-02T11:43:03.864Z"
   },
   {
    "duration": 22,
    "start_time": "2023-04-02T11:43:05.550Z"
   },
   {
    "duration": 18,
    "start_time": "2023-04-02T11:43:06.698Z"
   },
   {
    "duration": 16,
    "start_time": "2023-04-02T11:45:47.595Z"
   },
   {
    "duration": 17,
    "start_time": "2023-04-02T11:48:49.143Z"
   },
   {
    "duration": 14,
    "start_time": "2023-04-02T11:55:13.042Z"
   },
   {
    "duration": 25,
    "start_time": "2023-04-02T11:55:36.528Z"
   },
   {
    "duration": 41,
    "start_time": "2023-04-02T11:56:27.728Z"
   },
   {
    "duration": 46,
    "start_time": "2023-04-02T11:56:50.090Z"
   },
   {
    "duration": 47,
    "start_time": "2023-04-02T11:56:57.973Z"
   },
   {
    "duration": 3,
    "start_time": "2023-04-02T11:57:03.032Z"
   },
   {
    "duration": 51,
    "start_time": "2023-04-02T11:57:03.301Z"
   },
   {
    "duration": 49,
    "start_time": "2023-04-02T11:57:03.845Z"
   },
   {
    "duration": 14,
    "start_time": "2023-04-02T11:57:04.197Z"
   },
   {
    "duration": 30,
    "start_time": "2023-04-02T11:57:04.512Z"
   },
   {
    "duration": 16,
    "start_time": "2023-04-02T11:57:05.185Z"
   },
   {
    "duration": 16,
    "start_time": "2023-04-02T11:57:05.439Z"
   },
   {
    "duration": 22,
    "start_time": "2023-04-02T11:57:06.591Z"
   },
   {
    "duration": 52,
    "start_time": "2023-04-02T11:57:06.928Z"
   },
   {
    "duration": 54,
    "start_time": "2023-04-02T11:58:05.636Z"
   },
   {
    "duration": 81,
    "start_time": "2023-04-02T11:58:28.552Z"
   },
   {
    "duration": 50,
    "start_time": "2023-04-02T11:58:32.172Z"
   },
   {
    "duration": 3,
    "start_time": "2023-04-02T11:58:37.219Z"
   },
   {
    "duration": 54,
    "start_time": "2023-04-02T11:58:37.446Z"
   },
   {
    "duration": 46,
    "start_time": "2023-04-02T11:58:38.062Z"
   },
   {
    "duration": 13,
    "start_time": "2023-04-02T11:58:38.431Z"
   },
   {
    "duration": 25,
    "start_time": "2023-04-02T11:58:38.815Z"
   },
   {
    "duration": 16,
    "start_time": "2023-04-02T11:58:39.202Z"
   },
   {
    "duration": 17,
    "start_time": "2023-04-02T11:58:39.403Z"
   },
   {
    "duration": 22,
    "start_time": "2023-04-02T11:58:40.617Z"
   },
   {
    "duration": 72,
    "start_time": "2023-04-02T11:58:41.106Z"
   },
   {
    "duration": 32,
    "start_time": "2023-04-02T12:10:43.134Z"
   },
   {
    "duration": 16,
    "start_time": "2023-04-02T12:11:35.140Z"
   },
   {
    "duration": 16,
    "start_time": "2023-04-02T12:15:42.393Z"
   },
   {
    "duration": 19,
    "start_time": "2023-04-02T12:16:20.066Z"
   },
   {
    "duration": 10,
    "start_time": "2023-04-02T12:16:36.344Z"
   },
   {
    "duration": 21,
    "start_time": "2023-04-02T12:16:48.877Z"
   },
   {
    "duration": 17,
    "start_time": "2023-04-02T12:17:03.570Z"
   },
   {
    "duration": 19,
    "start_time": "2023-04-02T12:17:24.541Z"
   },
   {
    "duration": 15,
    "start_time": "2023-04-02T12:17:40.936Z"
   },
   {
    "duration": 17,
    "start_time": "2023-04-02T12:18:57.880Z"
   },
   {
    "duration": 301,
    "start_time": "2023-04-02T12:19:26.051Z"
   },
   {
    "duration": 103,
    "start_time": "2023-04-02T12:19:31.810Z"
   },
   {
    "duration": 19,
    "start_time": "2023-04-02T12:19:39.188Z"
   },
   {
    "duration": 43,
    "start_time": "2023-04-02T12:22:53.872Z"
   },
   {
    "duration": 44,
    "start_time": "2023-04-02T12:23:50.773Z"
   },
   {
    "duration": 45,
    "start_time": "2023-04-02T12:24:04.942Z"
   },
   {
    "duration": 21,
    "start_time": "2023-04-02T12:26:09.065Z"
   },
   {
    "duration": 21,
    "start_time": "2023-04-02T12:26:19.801Z"
   },
   {
    "duration": 20,
    "start_time": "2023-04-02T12:26:34.003Z"
   },
   {
    "duration": 45,
    "start_time": "2023-04-02T12:26:46.956Z"
   },
   {
    "duration": 67,
    "start_time": "2023-04-02T12:27:42.527Z"
   },
   {
    "duration": 18,
    "start_time": "2023-04-02T12:28:24.955Z"
   },
   {
    "duration": 74,
    "start_time": "2023-04-02T12:28:39.044Z"
   },
   {
    "duration": 21,
    "start_time": "2023-04-02T12:30:25.621Z"
   },
   {
    "duration": 16,
    "start_time": "2023-04-02T12:30:38.640Z"
   },
   {
    "duration": 16,
    "start_time": "2023-04-02T12:30:48.121Z"
   },
   {
    "duration": 9,
    "start_time": "2023-04-02T12:37:37.490Z"
   },
   {
    "duration": 10,
    "start_time": "2023-04-02T12:37:44.837Z"
   },
   {
    "duration": 80,
    "start_time": "2023-04-02T12:52:27.159Z"
   },
   {
    "duration": 86,
    "start_time": "2023-04-02T12:52:32.193Z"
   },
   {
    "duration": 83,
    "start_time": "2023-04-02T12:52:54.020Z"
   },
   {
    "duration": 23,
    "start_time": "2023-04-02T12:55:35.166Z"
   },
   {
    "duration": 11,
    "start_time": "2023-04-02T12:56:07.758Z"
   },
   {
    "duration": 579,
    "start_time": "2023-04-02T12:56:27.867Z"
   },
   {
    "duration": 10,
    "start_time": "2023-04-02T13:06:14.172Z"
   },
   {
    "duration": 9,
    "start_time": "2023-04-02T13:06:21.657Z"
   },
   {
    "duration": 24,
    "start_time": "2023-04-02T13:06:51.049Z"
   },
   {
    "duration": 4,
    "start_time": "2023-04-02T13:08:28.316Z"
   },
   {
    "duration": 26,
    "start_time": "2023-04-02T13:08:55.622Z"
   },
   {
    "duration": 17,
    "start_time": "2023-04-02T13:11:10.946Z"
   },
   {
    "duration": 1567,
    "start_time": "2023-04-02T13:11:16.996Z"
   },
   {
    "duration": 31,
    "start_time": "2023-04-02T13:12:26.158Z"
   },
   {
    "duration": 27,
    "start_time": "2023-04-02T13:12:46.142Z"
   },
   {
    "duration": 15,
    "start_time": "2023-04-02T13:15:26.275Z"
   },
   {
    "duration": 22,
    "start_time": "2023-04-02T13:15:53.514Z"
   },
   {
    "duration": 36,
    "start_time": "2023-04-02T13:15:59.660Z"
   },
   {
    "duration": 29,
    "start_time": "2023-04-02T13:17:18.790Z"
   },
   {
    "duration": 21,
    "start_time": "2023-04-02T13:20:37.154Z"
   },
   {
    "duration": 874,
    "start_time": "2023-04-02T13:20:41.500Z"
   },
   {
    "duration": 72,
    "start_time": "2023-04-02T13:22:26.559Z"
   },
   {
    "duration": 43,
    "start_time": "2023-04-02T13:22:32.914Z"
   },
   {
    "duration": 2,
    "start_time": "2023-04-02T13:24:01.175Z"
   },
   {
    "duration": 53,
    "start_time": "2023-04-02T13:24:01.450Z"
   },
   {
    "duration": 102,
    "start_time": "2023-04-02T13:24:02.055Z"
   },
   {
    "duration": 14,
    "start_time": "2023-04-02T13:24:02.456Z"
   },
   {
    "duration": 26,
    "start_time": "2023-04-02T13:24:02.992Z"
   },
   {
    "duration": 16,
    "start_time": "2023-04-02T13:24:03.940Z"
   },
   {
    "duration": 15,
    "start_time": "2023-04-02T13:24:04.391Z"
   },
   {
    "duration": 24,
    "start_time": "2023-04-02T13:24:07.008Z"
   },
   {
    "duration": 51,
    "start_time": "2023-04-02T13:24:09.313Z"
   },
   {
    "duration": 17,
    "start_time": "2023-04-02T13:24:12.649Z"
   },
   {
    "duration": 484,
    "start_time": "2023-04-02T13:24:17.991Z"
   },
   {
    "duration": 25,
    "start_time": "2023-04-02T13:26:24.585Z"
   },
   {
    "duration": 572,
    "start_time": "2023-04-02T13:26:43.623Z"
   },
   {
    "duration": 489,
    "start_time": "2023-04-02T13:26:51.552Z"
   },
   {
    "duration": 567,
    "start_time": "2023-04-02T13:27:02.705Z"
   },
   {
    "duration": 525,
    "start_time": "2023-04-02T13:27:29.099Z"
   },
   {
    "duration": 570,
    "start_time": "2023-04-02T13:27:38.104Z"
   },
   {
    "duration": 507,
    "start_time": "2023-04-02T13:27:47.512Z"
   },
   {
    "duration": 29,
    "start_time": "2023-04-02T13:28:55.738Z"
   },
   {
    "duration": 621,
    "start_time": "2023-04-02T13:30:49.281Z"
   },
   {
    "duration": 530,
    "start_time": "2023-04-04T06:52:37.615Z"
   },
   {
    "duration": 213,
    "start_time": "2023-04-04T06:52:38.147Z"
   },
   {
    "duration": 78,
    "start_time": "2023-04-04T06:52:38.798Z"
   },
   {
    "duration": 15,
    "start_time": "2023-04-04T06:52:39.421Z"
   },
   {
    "duration": 35,
    "start_time": "2023-04-04T06:52:39.978Z"
   },
   {
    "duration": 36,
    "start_time": "2023-04-04T06:52:40.544Z"
   },
   {
    "duration": 16,
    "start_time": "2023-04-04T06:52:40.945Z"
   },
   {
    "duration": 58,
    "start_time": "2023-04-04T06:52:43.116Z"
   },
   {
    "duration": 84,
    "start_time": "2023-04-04T06:52:44.122Z"
   },
   {
    "duration": 23,
    "start_time": "2023-04-04T06:52:45.443Z"
   },
   {
    "duration": 946,
    "start_time": "2023-04-04T06:52:46.901Z"
   },
   {
    "duration": 80,
    "start_time": "2023-04-04T06:55:50.797Z"
   },
   {
    "duration": 35,
    "start_time": "2023-04-04T06:56:01.978Z"
   },
   {
    "duration": 3,
    "start_time": "2023-04-04T06:56:29.689Z"
   },
   {
    "duration": 54,
    "start_time": "2023-04-04T06:56:29.867Z"
   },
   {
    "duration": 72,
    "start_time": "2023-04-04T06:56:30.501Z"
   },
   {
    "duration": 17,
    "start_time": "2023-04-04T06:56:31.414Z"
   },
   {
    "duration": 42,
    "start_time": "2023-04-04T06:56:32.233Z"
   },
   {
    "duration": 16,
    "start_time": "2023-04-04T06:56:37.161Z"
   },
   {
    "duration": 15,
    "start_time": "2023-04-04T06:56:38.602Z"
   },
   {
    "duration": 26,
    "start_time": "2023-04-04T06:58:14.512Z"
   },
   {
    "duration": 3,
    "start_time": "2023-04-04T06:58:25.564Z"
   },
   {
    "duration": 48,
    "start_time": "2023-04-04T06:58:25.827Z"
   },
   {
    "duration": 62,
    "start_time": "2023-04-04T06:58:26.837Z"
   },
   {
    "duration": 14,
    "start_time": "2023-04-04T06:58:27.391Z"
   },
   {
    "duration": 22,
    "start_time": "2023-04-04T06:58:28.600Z"
   },
   {
    "duration": 20,
    "start_time": "2023-04-04T06:58:42.151Z"
   },
   {
    "duration": 3,
    "start_time": "2023-04-04T06:58:57.629Z"
   },
   {
    "duration": 47,
    "start_time": "2023-04-04T06:58:57.818Z"
   },
   {
    "duration": 55,
    "start_time": "2023-04-04T06:58:58.494Z"
   },
   {
    "duration": 14,
    "start_time": "2023-04-04T06:58:58.921Z"
   },
   {
    "duration": 25,
    "start_time": "2023-04-04T06:58:59.773Z"
   },
   {
    "duration": 24,
    "start_time": "2023-04-04T06:59:08.376Z"
   },
   {
    "duration": 3,
    "start_time": "2023-04-04T06:59:14.540Z"
   },
   {
    "duration": 65,
    "start_time": "2023-04-04T06:59:14.742Z"
   },
   {
    "duration": 75,
    "start_time": "2023-04-04T06:59:15.225Z"
   },
   {
    "duration": 16,
    "start_time": "2023-04-04T06:59:16.035Z"
   },
   {
    "duration": 32,
    "start_time": "2023-04-04T06:59:16.661Z"
   },
   {
    "duration": 24,
    "start_time": "2023-04-04T06:59:21.019Z"
   },
   {
    "duration": 16,
    "start_time": "2023-04-04T06:59:21.799Z"
   },
   {
    "duration": 23,
    "start_time": "2023-04-04T07:03:02.331Z"
   },
   {
    "duration": 56,
    "start_time": "2023-04-04T07:03:04.503Z"
   },
   {
    "duration": 21,
    "start_time": "2023-04-04T07:03:04.960Z"
   },
   {
    "duration": 9,
    "start_time": "2023-04-04T07:09:28.732Z"
   },
   {
    "duration": 26,
    "start_time": "2023-04-04T07:09:42.349Z"
   },
   {
    "duration": 14,
    "start_time": "2023-04-04T07:10:07.025Z"
   },
   {
    "duration": 28,
    "start_time": "2023-04-04T07:10:17.701Z"
   },
   {
    "duration": 22,
    "start_time": "2023-04-04T07:10:27.925Z"
   },
   {
    "duration": 20,
    "start_time": "2023-04-04T07:13:07.711Z"
   },
   {
    "duration": 10,
    "start_time": "2023-04-04T07:16:15.281Z"
   },
   {
    "duration": 7,
    "start_time": "2023-04-04T07:16:19.349Z"
   },
   {
    "duration": 8,
    "start_time": "2023-04-04T07:16:22.270Z"
   },
   {
    "duration": 18,
    "start_time": "2023-04-04T07:16:30.383Z"
   },
   {
    "duration": 20,
    "start_time": "2023-04-04T07:16:35.021Z"
   },
   {
    "duration": 23,
    "start_time": "2023-04-04T07:16:43.080Z"
   },
   {
    "duration": 37,
    "start_time": "2023-04-04T07:17:01.145Z"
   },
   {
    "duration": 28,
    "start_time": "2023-04-04T07:25:11.062Z"
   },
   {
    "duration": 18,
    "start_time": "2023-04-04T07:27:53.431Z"
   },
   {
    "duration": 18,
    "start_time": "2023-04-04T07:28:53.623Z"
   },
   {
    "duration": 572,
    "start_time": "2023-04-04T07:30:30.376Z"
   },
   {
    "duration": 77,
    "start_time": "2023-04-04T07:30:30.950Z"
   },
   {
    "duration": 53,
    "start_time": "2023-04-04T07:30:31.308Z"
   },
   {
    "duration": 14,
    "start_time": "2023-04-04T07:30:31.723Z"
   },
   {
    "duration": 30,
    "start_time": "2023-04-04T07:30:32.344Z"
   },
   {
    "duration": 24,
    "start_time": "2023-04-04T07:30:33.582Z"
   },
   {
    "duration": 30,
    "start_time": "2023-04-04T07:30:34.823Z"
   },
   {
    "duration": 56,
    "start_time": "2023-04-04T07:30:36.189Z"
   },
   {
    "duration": 19,
    "start_time": "2023-04-04T07:30:37.515Z"
   },
   {
    "duration": 673,
    "start_time": "2023-04-04T07:30:38.625Z"
   },
   {
    "duration": 21,
    "start_time": "2023-04-04T07:30:41.318Z"
   },
   {
    "duration": 21,
    "start_time": "2023-04-04T07:30:43.360Z"
   },
   {
    "duration": 58,
    "start_time": "2023-04-04T07:31:34.300Z"
   },
   {
    "duration": 309,
    "start_time": "2023-04-04T07:31:52.373Z"
   },
   {
    "duration": 20,
    "start_time": "2023-04-04T07:32:06.443Z"
   },
   {
    "duration": 3,
    "start_time": "2023-04-04T07:34:08.261Z"
   },
   {
    "duration": 46,
    "start_time": "2023-04-04T07:34:08.516Z"
   },
   {
    "duration": 81,
    "start_time": "2023-04-04T07:34:09.049Z"
   },
   {
    "duration": 14,
    "start_time": "2023-04-04T07:34:09.459Z"
   },
   {
    "duration": 50,
    "start_time": "2023-04-04T07:34:09.782Z"
   },
   {
    "duration": 27,
    "start_time": "2023-04-04T07:34:10.116Z"
   },
   {
    "duration": 25,
    "start_time": "2023-04-04T07:34:10.813Z"
   },
   {
    "duration": 78,
    "start_time": "2023-04-04T07:34:11.188Z"
   },
   {
    "duration": 29,
    "start_time": "2023-04-04T07:34:11.589Z"
   },
   {
    "duration": 714,
    "start_time": "2023-04-04T07:34:11.953Z"
   },
   {
    "duration": 29,
    "start_time": "2023-04-04T07:34:12.669Z"
   },
   {
    "duration": 21,
    "start_time": "2023-04-04T07:34:12.740Z"
   },
   {
    "duration": 29,
    "start_time": "2023-04-04T07:37:29.948Z"
   },
   {
    "duration": 57,
    "start_time": "2023-04-04T07:37:43.230Z"
   },
   {
    "duration": 29,
    "start_time": "2023-04-04T07:37:50.441Z"
   },
   {
    "duration": 39,
    "start_time": "2023-04-04T07:38:00.823Z"
   },
   {
    "duration": 443,
    "start_time": "2023-04-04T07:38:23.380Z"
   },
   {
    "duration": 152,
    "start_time": "2023-04-04T07:38:46.771Z"
   },
   {
    "duration": 24,
    "start_time": "2023-04-04T07:39:46.360Z"
   },
   {
    "duration": 25,
    "start_time": "2023-04-04T07:39:55.045Z"
   },
   {
    "duration": 150,
    "start_time": "2023-04-04T07:40:14.611Z"
   },
   {
    "duration": 429,
    "start_time": "2023-04-04T07:40:25.013Z"
   },
   {
    "duration": 569,
    "start_time": "2023-04-04T07:41:18.658Z"
   },
   {
    "duration": 468,
    "start_time": "2023-04-04T07:41:29.302Z"
   },
   {
    "duration": 440,
    "start_time": "2023-04-04T07:41:39.105Z"
   },
   {
    "duration": 431,
    "start_time": "2023-04-04T07:41:57.140Z"
   },
   {
    "duration": 441,
    "start_time": "2023-04-04T07:45:38.978Z"
   },
   {
    "duration": 24,
    "start_time": "2023-04-04T07:47:48.409Z"
   },
   {
    "duration": 22,
    "start_time": "2023-04-04T07:48:12.521Z"
   },
   {
    "duration": 545,
    "start_time": "2023-04-04T07:50:05.110Z"
   },
   {
    "duration": 394,
    "start_time": "2023-04-04T07:50:17.572Z"
   },
   {
    "duration": 421,
    "start_time": "2023-04-04T07:50:29.409Z"
   },
   {
    "duration": 433,
    "start_time": "2023-04-04T07:50:37.740Z"
   },
   {
    "duration": 396,
    "start_time": "2023-04-04T07:53:22.109Z"
   },
   {
    "duration": 1938,
    "start_time": "2023-04-04T07:54:48.967Z"
   },
   {
    "duration": 125,
    "start_time": "2023-04-04T07:56:08.445Z"
   },
   {
    "duration": 1413,
    "start_time": "2023-04-04T07:56:37.160Z"
   },
   {
    "duration": 25,
    "start_time": "2023-04-04T07:57:19.211Z"
   },
   {
    "duration": 115,
    "start_time": "2023-04-04T07:59:07.308Z"
   },
   {
    "duration": 167,
    "start_time": "2023-04-04T08:01:05.205Z"
   },
   {
    "duration": 114,
    "start_time": "2023-04-04T10:48:38.619Z"
   },
   {
    "duration": 125,
    "start_time": "2023-04-04T10:49:16.933Z"
   },
   {
    "duration": 26,
    "start_time": "2023-04-04T10:53:09.597Z"
   },
   {
    "duration": 14,
    "start_time": "2023-04-04T10:53:21.383Z"
   },
   {
    "duration": 30,
    "start_time": "2023-04-04T10:54:24.977Z"
   },
   {
    "duration": 15,
    "start_time": "2023-04-04T10:58:23.070Z"
   },
   {
    "duration": 16,
    "start_time": "2023-04-04T10:58:43.515Z"
   },
   {
    "duration": 72,
    "start_time": "2023-04-04T10:59:13.382Z"
   },
   {
    "duration": 78,
    "start_time": "2023-04-04T10:59:27.750Z"
   },
   {
    "duration": 20,
    "start_time": "2023-04-04T10:59:43.266Z"
   },
   {
    "duration": 18,
    "start_time": "2023-04-04T11:00:00.570Z"
   },
   {
    "duration": 21,
    "start_time": "2023-04-04T11:00:11.465Z"
   },
   {
    "duration": 18,
    "start_time": "2023-04-04T11:00:53.342Z"
   },
   {
    "duration": 99,
    "start_time": "2023-04-04T11:01:22.321Z"
   },
   {
    "duration": 20,
    "start_time": "2023-04-04T11:01:27.119Z"
   },
   {
    "duration": 17,
    "start_time": "2023-04-04T11:04:53.120Z"
   },
   {
    "duration": 156,
    "start_time": "2023-04-04T11:05:54.695Z"
   },
   {
    "duration": 97,
    "start_time": "2023-04-04T11:06:20.222Z"
   },
   {
    "duration": 106,
    "start_time": "2023-04-04T11:06:26.210Z"
   },
   {
    "duration": 122,
    "start_time": "2023-04-04T11:06:46.682Z"
   },
   {
    "duration": 418,
    "start_time": "2023-04-04T11:07:01.292Z"
   },
   {
    "duration": 624,
    "start_time": "2023-04-04T11:07:15.603Z"
   },
   {
    "duration": 404,
    "start_time": "2023-04-04T11:11:29.793Z"
   },
   {
    "duration": 245,
    "start_time": "2023-04-04T11:11:55.348Z"
   },
   {
    "duration": 273,
    "start_time": "2023-04-04T11:13:39.902Z"
   },
   {
    "duration": 269,
    "start_time": "2023-04-04T11:13:59.710Z"
   },
   {
    "duration": 283,
    "start_time": "2023-04-04T11:14:16.110Z"
   },
   {
    "duration": 304,
    "start_time": "2023-04-04T11:14:53.916Z"
   },
   {
    "duration": 349,
    "start_time": "2023-04-04T11:19:57.988Z"
   },
   {
    "duration": 243,
    "start_time": "2023-04-04T11:20:33.869Z"
   },
   {
    "duration": 144,
    "start_time": "2023-04-04T11:20:39.941Z"
   },
   {
    "duration": 288,
    "start_time": "2023-04-04T11:21:09.581Z"
   },
   {
    "duration": 642,
    "start_time": "2023-04-04T11:23:02.384Z"
   },
   {
    "duration": 666,
    "start_time": "2023-04-04T11:25:31.395Z"
   },
   {
    "duration": 13,
    "start_time": "2023-04-04T11:26:28.744Z"
   },
   {
    "duration": 8,
    "start_time": "2023-04-04T11:27:44.528Z"
   },
   {
    "duration": 8,
    "start_time": "2023-04-04T11:27:57.524Z"
   },
   {
    "duration": 12,
    "start_time": "2023-04-04T11:28:07.446Z"
   },
   {
    "duration": 489,
    "start_time": "2023-04-04T11:28:32.348Z"
   },
   {
    "duration": 312,
    "start_time": "2023-04-04T11:28:47.111Z"
   },
   {
    "duration": 318,
    "start_time": "2023-04-04T11:28:58.083Z"
   },
   {
    "duration": 619,
    "start_time": "2023-04-04T11:30:16.902Z"
   },
   {
    "duration": 131,
    "start_time": "2023-04-04T11:30:40.777Z"
   },
   {
    "duration": 642,
    "start_time": "2023-04-04T11:30:47.167Z"
   },
   {
    "duration": 73,
    "start_time": "2023-04-04T11:31:07.478Z"
   },
   {
    "duration": 957,
    "start_time": "2023-04-04T11:31:11.213Z"
   },
   {
    "duration": 891,
    "start_time": "2023-04-04T11:31:33.526Z"
   },
   {
    "duration": 810,
    "start_time": "2023-04-04T11:31:56.111Z"
   },
   {
    "duration": 896,
    "start_time": "2023-04-04T11:32:09.191Z"
   },
   {
    "duration": 907,
    "start_time": "2023-04-04T11:32:24.096Z"
   },
   {
    "duration": 128,
    "start_time": "2023-04-04T11:36:09.852Z"
   },
   {
    "duration": 613,
    "start_time": "2023-04-04T11:47:15.373Z"
   },
   {
    "duration": 4,
    "start_time": "2023-04-04T11:48:52.214Z"
   },
   {
    "duration": 587,
    "start_time": "2023-04-04T11:49:22.796Z"
   },
   {
    "duration": 19,
    "start_time": "2023-04-04T11:51:00.517Z"
   },
   {
    "duration": 757,
    "start_time": "2023-04-04T11:51:08.191Z"
   },
   {
    "duration": 618,
    "start_time": "2023-04-04T11:51:14.005Z"
   },
   {
    "duration": 648,
    "start_time": "2023-04-04T11:51:15.735Z"
   },
   {
    "duration": 638,
    "start_time": "2023-04-04T11:51:18.249Z"
   },
   {
    "duration": 640,
    "start_time": "2023-04-04T11:51:27.079Z"
   },
   {
    "duration": 104,
    "start_time": "2023-04-04T11:58:54.234Z"
   },
   {
    "duration": 22,
    "start_time": "2023-04-04T11:59:10.028Z"
   },
   {
    "duration": 85,
    "start_time": "2023-04-04T12:01:14.685Z"
   },
   {
    "duration": 53,
    "start_time": "2023-04-04T12:03:25.863Z"
   },
   {
    "duration": 1096,
    "start_time": "2023-04-04T12:03:35.117Z"
   },
   {
    "duration": 185,
    "start_time": "2023-04-04T12:03:36.214Z"
   },
   {
    "duration": 59,
    "start_time": "2023-04-04T12:03:36.401Z"
   },
   {
    "duration": 14,
    "start_time": "2023-04-04T12:03:36.462Z"
   },
   {
    "duration": 27,
    "start_time": "2023-04-04T12:03:36.736Z"
   },
   {
    "duration": 20,
    "start_time": "2023-04-04T12:03:37.135Z"
   },
   {
    "duration": 25,
    "start_time": "2023-04-04T12:03:37.755Z"
   },
   {
    "duration": 59,
    "start_time": "2023-04-04T12:03:38.184Z"
   },
   {
    "duration": 18,
    "start_time": "2023-04-04T12:03:38.887Z"
   },
   {
    "duration": 571,
    "start_time": "2023-04-04T12:03:39.792Z"
   },
   {
    "duration": 18,
    "start_time": "2023-04-04T12:03:41.278Z"
   },
   {
    "duration": 805,
    "start_time": "2023-04-04T12:03:41.745Z"
   },
   {
    "duration": 110,
    "start_time": "2023-04-04T12:03:42.552Z"
   },
   {
    "duration": 19,
    "start_time": "2023-04-04T12:03:42.911Z"
   },
   {
    "duration": 755,
    "start_time": "2023-04-04T12:03:43.394Z"
   },
   {
    "duration": 682,
    "start_time": "2023-04-04T12:03:44.150Z"
   },
   {
    "duration": 648,
    "start_time": "2023-04-04T12:03:44.834Z"
   },
   {
    "duration": 640,
    "start_time": "2023-04-04T12:03:45.742Z"
   },
   {
    "duration": 1136,
    "start_time": "2023-04-04T12:04:17.810Z"
   },
   {
    "duration": 191,
    "start_time": "2023-04-04T12:04:18.948Z"
   },
   {
    "duration": 59,
    "start_time": "2023-04-04T12:04:19.141Z"
   },
   {
    "duration": 15,
    "start_time": "2023-04-04T12:04:19.202Z"
   },
   {
    "duration": 31,
    "start_time": "2023-04-04T12:04:19.425Z"
   },
   {
    "duration": 20,
    "start_time": "2023-04-04T12:04:19.779Z"
   },
   {
    "duration": 28,
    "start_time": "2023-04-04T12:04:20.439Z"
   },
   {
    "duration": 50,
    "start_time": "2023-04-04T12:04:20.832Z"
   },
   {
    "duration": 18,
    "start_time": "2023-04-04T12:04:21.207Z"
   },
   {
    "duration": 554,
    "start_time": "2023-04-04T12:04:21.702Z"
   },
   {
    "duration": 25,
    "start_time": "2023-04-04T12:04:22.258Z"
   },
   {
    "duration": 765,
    "start_time": "2023-04-04T12:04:22.499Z"
   },
   {
    "duration": 104,
    "start_time": "2023-04-04T12:04:23.266Z"
   },
   {
    "duration": 17,
    "start_time": "2023-04-04T12:04:23.395Z"
   },
   {
    "duration": 683,
    "start_time": "2023-04-04T12:04:23.824Z"
   },
   {
    "duration": 680,
    "start_time": "2023-04-04T12:04:24.508Z"
   },
   {
    "duration": 610,
    "start_time": "2023-04-04T12:04:25.190Z"
   },
   {
    "duration": 599,
    "start_time": "2023-04-04T12:04:25.802Z"
   },
   {
    "duration": 21,
    "start_time": "2023-04-04T12:04:27.598Z"
   },
   {
    "duration": 23,
    "start_time": "2023-04-04T12:05:08.809Z"
   },
   {
    "duration": 22,
    "start_time": "2023-04-04T12:05:55.497Z"
   },
   {
    "duration": 82,
    "start_time": "2023-04-04T12:06:16.535Z"
   },
   {
    "duration": 25,
    "start_time": "2023-04-04T12:06:19.836Z"
   },
   {
    "duration": 21,
    "start_time": "2023-04-04T12:08:37.689Z"
   },
   {
    "duration": 20,
    "start_time": "2023-04-04T12:16:14.530Z"
   },
   {
    "duration": 2544,
    "start_time": "2023-04-06T12:03:40.481Z"
   },
   {
    "duration": 477,
    "start_time": "2023-04-06T12:03:43.039Z"
   },
   {
    "duration": 257,
    "start_time": "2023-04-06T12:03:43.530Z"
   },
   {
    "duration": 39,
    "start_time": "2023-04-06T12:03:43.793Z"
   },
   {
    "duration": 62,
    "start_time": "2023-04-06T12:03:43.838Z"
   },
   {
    "duration": 39,
    "start_time": "2023-04-06T12:03:44.985Z"
   },
   {
    "duration": 73,
    "start_time": "2023-04-06T12:03:46.275Z"
   },
   {
    "duration": 166,
    "start_time": "2023-04-06T12:03:46.674Z"
   },
   {
    "duration": 45,
    "start_time": "2023-04-06T12:03:47.089Z"
   },
   {
    "duration": 1213,
    "start_time": "2023-04-06T12:03:47.609Z"
   },
   {
    "duration": 65,
    "start_time": "2023-04-06T12:03:48.824Z"
   },
   {
    "duration": 1572,
    "start_time": "2023-04-06T12:03:49.246Z"
   },
   {
    "duration": 305,
    "start_time": "2023-04-06T12:03:50.821Z"
   },
   {
    "duration": 55,
    "start_time": "2023-04-06T12:03:51.138Z"
   },
   {
    "duration": 1412,
    "start_time": "2023-04-06T12:03:52.656Z"
   },
   {
    "duration": 1201,
    "start_time": "2023-04-06T12:03:54.312Z"
   },
   {
    "duration": 919,
    "start_time": "2023-04-06T12:03:56.105Z"
   },
   {
    "duration": 958,
    "start_time": "2023-04-06T12:03:57.108Z"
   },
   {
    "duration": 56,
    "start_time": "2023-04-06T12:03:58.505Z"
   },
   {
    "duration": 184,
    "start_time": "2023-04-06T12:09:49.968Z"
   },
   {
    "duration": 35,
    "start_time": "2023-04-06T12:09:52.990Z"
   },
   {
    "duration": 36,
    "start_time": "2023-04-06T12:14:32.570Z"
   },
   {
    "duration": 66,
    "start_time": "2023-04-06T12:14:48.371Z"
   },
   {
    "duration": 29,
    "start_time": "2023-04-06T12:20:14.509Z"
   },
   {
    "duration": 22,
    "start_time": "2023-04-06T12:21:33.726Z"
   },
   {
    "duration": 159,
    "start_time": "2023-04-06T12:23:15.257Z"
   },
   {
    "duration": 63,
    "start_time": "2023-04-06T12:24:54.133Z"
   },
   {
    "duration": 167,
    "start_time": "2023-04-06T12:26:15.029Z"
   },
   {
    "duration": 14,
    "start_time": "2023-04-06T12:29:44.562Z"
   },
   {
    "duration": 40,
    "start_time": "2023-04-06T12:30:56.898Z"
   },
   {
    "duration": 55,
    "start_time": "2023-04-06T12:31:11.381Z"
   },
   {
    "duration": 80,
    "start_time": "2023-04-06T12:32:07.676Z"
   },
   {
    "duration": 68,
    "start_time": "2023-04-06T12:33:09.291Z"
   },
   {
    "duration": 83,
    "start_time": "2023-04-06T12:33:22.403Z"
   },
   {
    "duration": 58,
    "start_time": "2023-04-06T12:34:27.965Z"
   },
   {
    "duration": 60,
    "start_time": "2023-04-06T12:34:53.352Z"
   },
   {
    "duration": 63,
    "start_time": "2023-04-06T12:36:07.774Z"
   },
   {
    "duration": 86,
    "start_time": "2023-04-06T12:36:46.095Z"
   },
   {
    "duration": 69,
    "start_time": "2023-04-06T12:38:08.063Z"
   },
   {
    "duration": 61,
    "start_time": "2023-04-06T12:41:02.432Z"
   },
   {
    "duration": 25,
    "start_time": "2023-04-06T12:43:21.493Z"
   },
   {
    "duration": 78,
    "start_time": "2023-04-06T12:43:36.458Z"
   },
   {
    "duration": 52,
    "start_time": "2023-04-06T12:43:43.836Z"
   },
   {
    "duration": 55,
    "start_time": "2023-04-06T12:45:06.769Z"
   },
   {
    "duration": 30,
    "start_time": "2023-04-06T12:45:46.693Z"
   },
   {
    "duration": 58,
    "start_time": "2023-04-06T12:46:32.162Z"
   },
   {
    "duration": 27,
    "start_time": "2023-04-06T12:48:50.582Z"
   },
   {
    "duration": 5,
    "start_time": "2023-04-06T12:49:59.701Z"
   },
   {
    "duration": 120,
    "start_time": "2023-04-06T12:49:59.930Z"
   },
   {
    "duration": 102,
    "start_time": "2023-04-06T12:50:00.706Z"
   },
   {
    "duration": 20,
    "start_time": "2023-04-06T12:50:00.875Z"
   },
   {
    "duration": 74,
    "start_time": "2023-04-06T12:50:01.231Z"
   },
   {
    "duration": 31,
    "start_time": "2023-04-06T12:50:01.765Z"
   },
   {
    "duration": 50,
    "start_time": "2023-04-06T12:50:02.167Z"
   },
   {
    "duration": 108,
    "start_time": "2023-04-06T12:50:02.530Z"
   },
   {
    "duration": 29,
    "start_time": "2023-04-06T12:50:02.923Z"
   },
   {
    "duration": 1132,
    "start_time": "2023-04-06T12:50:03.588Z"
   },
   {
    "duration": 28,
    "start_time": "2023-04-06T12:50:04.722Z"
   },
   {
    "duration": 1201,
    "start_time": "2023-04-06T12:50:04.910Z"
   },
   {
    "duration": 175,
    "start_time": "2023-04-06T12:50:06.114Z"
   },
   {
    "duration": 33,
    "start_time": "2023-04-06T12:50:06.291Z"
   },
   {
    "duration": 1037,
    "start_time": "2023-04-06T12:50:06.327Z"
   },
   {
    "duration": 1152,
    "start_time": "2023-04-06T12:50:07.366Z"
   },
   {
    "duration": 1128,
    "start_time": "2023-04-06T12:50:08.521Z"
   },
   {
    "duration": 1016,
    "start_time": "2023-04-06T12:50:09.651Z"
   },
   {
    "duration": 37,
    "start_time": "2023-04-06T12:50:10.669Z"
   },
   {
    "duration": 96,
    "start_time": "2023-04-06T12:50:10.713Z"
   },
   {
    "duration": 68,
    "start_time": "2023-04-06T12:50:11.058Z"
   },
   {
    "duration": 43,
    "start_time": "2023-04-06T12:50:14.110Z"
   },
   {
    "duration": 36,
    "start_time": "2023-04-06T12:50:34.513Z"
   },
   {
    "duration": 43,
    "start_time": "2023-04-06T12:50:46.379Z"
   },
   {
    "duration": 30,
    "start_time": "2023-04-06T12:50:47.623Z"
   },
   {
    "duration": 50,
    "start_time": "2023-04-06T12:53:09.380Z"
   },
   {
    "duration": 43,
    "start_time": "2023-04-06T12:53:49.992Z"
   },
   {
    "duration": 37,
    "start_time": "2023-04-06T12:54:26.193Z"
   },
   {
    "duration": 33,
    "start_time": "2023-04-06T12:55:14.503Z"
   },
   {
    "duration": 43,
    "start_time": "2023-04-06T12:55:32.369Z"
   },
   {
    "duration": 13,
    "start_time": "2023-04-06T12:58:44.508Z"
   },
   {
    "duration": 44,
    "start_time": "2023-04-06T12:59:21.377Z"
   },
   {
    "duration": 39,
    "start_time": "2023-04-06T13:00:21.464Z"
   },
   {
    "duration": 23,
    "start_time": "2023-04-06T13:02:14.459Z"
   },
   {
    "duration": 45,
    "start_time": "2023-04-06T13:03:00.444Z"
   },
   {
    "duration": 41,
    "start_time": "2023-04-06T13:16:31.421Z"
   },
   {
    "duration": 30,
    "start_time": "2023-04-06T13:27:31.776Z"
   },
   {
    "duration": 29,
    "start_time": "2023-04-06T13:27:32.283Z"
   },
   {
    "duration": 17,
    "start_time": "2023-04-06T13:39:49.697Z"
   },
   {
    "duration": 20,
    "start_time": "2023-04-06T13:39:59.070Z"
   },
   {
    "duration": 14,
    "start_time": "2023-04-06T13:40:08.108Z"
   },
   {
    "duration": 16,
    "start_time": "2023-04-06T13:40:35.527Z"
   },
   {
    "duration": 17,
    "start_time": "2023-04-06T13:41:11.180Z"
   },
   {
    "duration": 17,
    "start_time": "2023-04-06T13:41:18.257Z"
   },
   {
    "duration": 14,
    "start_time": "2023-04-06T13:41:38.785Z"
   },
   {
    "duration": 51,
    "start_time": "2023-04-06T13:43:15.999Z"
   },
   {
    "duration": 11,
    "start_time": "2023-04-06T13:49:41.748Z"
   },
   {
    "duration": 15,
    "start_time": "2023-04-06T13:50:52.176Z"
   },
   {
    "duration": 24,
    "start_time": "2023-04-06T13:53:23.222Z"
   },
   {
    "duration": 37,
    "start_time": "2023-04-06T13:54:06.070Z"
   },
   {
    "duration": 53,
    "start_time": "2023-04-06T13:55:15.350Z"
   },
   {
    "duration": 8,
    "start_time": "2023-04-06T13:56:57.446Z"
   },
   {
    "duration": 5,
    "start_time": "2023-04-06T14:32:43.172Z"
   },
   {
    "duration": 1309,
    "start_time": "2023-04-10T13:43:02.478Z"
   },
   {
    "duration": 93,
    "start_time": "2023-04-10T13:43:03.789Z"
   },
   {
    "duration": 57,
    "start_time": "2023-04-10T13:43:03.883Z"
   },
   {
    "duration": 13,
    "start_time": "2023-04-10T13:43:03.942Z"
   },
   {
    "duration": 34,
    "start_time": "2023-04-10T13:43:04.050Z"
   },
   {
    "duration": 25,
    "start_time": "2023-04-10T13:43:04.282Z"
   },
   {
    "duration": 22,
    "start_time": "2023-04-10T13:43:05.107Z"
   },
   {
    "duration": 56,
    "start_time": "2023-04-10T13:43:05.374Z"
   },
   {
    "duration": 15,
    "start_time": "2023-04-10T13:43:05.855Z"
   },
   {
    "duration": 552,
    "start_time": "2023-04-10T13:43:06.320Z"
   },
   {
    "duration": 29,
    "start_time": "2023-04-10T13:43:06.875Z"
   },
   {
    "duration": 818,
    "start_time": "2023-04-10T13:43:07.424Z"
   },
   {
    "duration": 97,
    "start_time": "2023-04-10T13:43:08.265Z"
   },
   {
    "duration": 27,
    "start_time": "2023-04-10T13:43:08.892Z"
   },
   {
    "duration": 689,
    "start_time": "2023-04-10T13:43:09.519Z"
   },
   {
    "duration": 607,
    "start_time": "2023-04-10T13:43:10.346Z"
   },
   {
    "duration": 617,
    "start_time": "2023-04-10T13:43:10.954Z"
   },
   {
    "duration": 594,
    "start_time": "2023-04-10T13:43:11.573Z"
   },
   {
    "duration": 39,
    "start_time": "2023-04-10T13:43:12.169Z"
   },
   {
    "duration": 47,
    "start_time": "2023-04-10T13:43:12.441Z"
   },
   {
    "duration": 26,
    "start_time": "2023-04-10T13:43:12.859Z"
   },
   {
    "duration": 32,
    "start_time": "2023-04-10T13:43:13.402Z"
   },
   {
    "duration": 33,
    "start_time": "2023-04-10T13:43:14.092Z"
   },
   {
    "duration": 26,
    "start_time": "2023-04-10T13:43:14.908Z"
   },
   {
    "duration": 43,
    "start_time": "2023-04-10T13:43:15.723Z"
   },
   {
    "duration": 45,
    "start_time": "2023-04-10T13:43:16.213Z"
   },
   {
    "duration": 22,
    "start_time": "2023-04-10T13:43:18.591Z"
   },
   {
    "duration": 3,
    "start_time": "2023-04-10T13:45:05.645Z"
   },
   {
    "duration": 10,
    "start_time": "2023-04-10T13:45:17.074Z"
   },
   {
    "duration": 9,
    "start_time": "2023-04-10T13:45:30.023Z"
   },
   {
    "duration": 5,
    "start_time": "2023-04-10T13:46:02.528Z"
   },
   {
    "duration": 33,
    "start_time": "2023-04-10T13:46:46.578Z"
   },
   {
    "duration": 7,
    "start_time": "2023-04-10T13:47:11.416Z"
   },
   {
    "duration": 25,
    "start_time": "2023-04-10T13:47:36.544Z"
   },
   {
    "duration": 964,
    "start_time": "2023-04-10T13:48:17.984Z"
   },
   {
    "duration": 1034,
    "start_time": "2023-04-10T13:48:29.586Z"
   },
   {
    "duration": 15,
    "start_time": "2023-04-10T13:50:12.716Z"
   },
   {
    "duration": 26,
    "start_time": "2023-04-10T13:51:07.843Z"
   },
   {
    "duration": 23,
    "start_time": "2023-04-10T13:51:59.149Z"
   },
   {
    "duration": 36,
    "start_time": "2023-04-10T13:52:34.850Z"
   },
   {
    "duration": 747,
    "start_time": "2023-04-10T13:52:56.349Z"
   },
   {
    "duration": 15,
    "start_time": "2023-04-10T13:53:22.771Z"
   },
   {
    "duration": 18,
    "start_time": "2023-04-10T13:53:35.005Z"
   },
   {
    "duration": 21,
    "start_time": "2023-04-10T13:55:10.407Z"
   },
   {
    "duration": 298,
    "start_time": "2023-04-10T14:02:49.090Z"
   },
   {
    "duration": 28,
    "start_time": "2023-04-10T14:05:09.436Z"
   },
   {
    "duration": 302,
    "start_time": "2023-04-10T14:05:59.181Z"
   },
   {
    "duration": 25,
    "start_time": "2023-04-10T14:07:42.989Z"
   },
   {
    "duration": 29,
    "start_time": "2023-04-10T14:08:45.847Z"
   },
   {
    "duration": 25,
    "start_time": "2023-04-10T14:09:23.639Z"
   },
   {
    "duration": 20,
    "start_time": "2023-04-10T14:11:17.606Z"
   },
   {
    "duration": 80,
    "start_time": "2023-04-10T14:11:57.871Z"
   },
   {
    "duration": 769,
    "start_time": "2023-04-10T14:12:34.645Z"
   },
   {
    "duration": 118,
    "start_time": "2023-04-10T14:13:04.263Z"
   },
   {
    "duration": 102,
    "start_time": "2023-04-10T14:13:29.299Z"
   },
   {
    "duration": 162,
    "start_time": "2023-04-10T14:14:46.932Z"
   },
   {
    "duration": 74,
    "start_time": "2023-04-10T14:15:35.154Z"
   },
   {
    "duration": 76,
    "start_time": "2023-04-10T14:17:35.442Z"
   },
   {
    "duration": 192,
    "start_time": "2023-04-10T14:19:03.328Z"
   },
   {
    "duration": 194,
    "start_time": "2023-04-10T14:20:05.376Z"
   },
   {
    "duration": 26,
    "start_time": "2023-04-10T14:24:03.515Z"
   },
   {
    "duration": 186,
    "start_time": "2023-04-10T14:24:10.827Z"
   },
   {
    "duration": 5,
    "start_time": "2023-04-10T14:30:24.095Z"
   },
   {
    "duration": 3,
    "start_time": "2023-04-10T14:31:17.687Z"
   },
   {
    "duration": 6,
    "start_time": "2023-04-10T14:31:25.254Z"
   },
   {
    "duration": 5,
    "start_time": "2023-04-10T14:31:31.030Z"
   },
   {
    "duration": 5,
    "start_time": "2023-04-10T14:32:06.532Z"
   },
   {
    "duration": 7,
    "start_time": "2023-04-10T14:32:22.912Z"
   },
   {
    "duration": 3,
    "start_time": "2023-04-10T14:44:22.033Z"
   },
   {
    "duration": 51,
    "start_time": "2023-04-10T14:44:22.224Z"
   },
   {
    "duration": 48,
    "start_time": "2023-04-10T14:44:22.812Z"
   },
   {
    "duration": 13,
    "start_time": "2023-04-10T14:44:23.167Z"
   },
   {
    "duration": 34,
    "start_time": "2023-04-10T14:44:23.590Z"
   },
   {
    "duration": 16,
    "start_time": "2023-04-10T14:44:23.966Z"
   },
   {
    "duration": 20,
    "start_time": "2023-04-10T14:44:24.918Z"
   },
   {
    "duration": 48,
    "start_time": "2023-04-10T14:44:25.344Z"
   },
   {
    "duration": 16,
    "start_time": "2023-04-10T14:44:25.764Z"
   },
   {
    "duration": 586,
    "start_time": "2023-04-10T14:44:26.259Z"
   },
   {
    "duration": 16,
    "start_time": "2023-04-10T14:44:26.847Z"
   },
   {
    "duration": 754,
    "start_time": "2023-04-10T14:44:27.188Z"
   },
   {
    "duration": 110,
    "start_time": "2023-04-10T14:44:27.944Z"
   },
   {
    "duration": 17,
    "start_time": "2023-04-10T14:44:28.108Z"
   },
   {
    "duration": 639,
    "start_time": "2023-04-10T14:44:28.590Z"
   },
   {
    "duration": 761,
    "start_time": "2023-04-10T14:44:29.231Z"
   },
   {
    "duration": 594,
    "start_time": "2023-04-10T14:44:29.994Z"
   },
   {
    "duration": 615,
    "start_time": "2023-04-10T14:44:30.589Z"
   },
   {
    "duration": 24,
    "start_time": "2023-04-10T14:44:31.206Z"
   },
   {
    "duration": 82,
    "start_time": "2023-04-10T14:44:31.232Z"
   },
   {
    "duration": 32,
    "start_time": "2023-04-10T14:44:31.478Z"
   },
   {
    "duration": 27,
    "start_time": "2023-04-10T14:44:31.958Z"
   },
   {
    "duration": 29,
    "start_time": "2023-04-10T14:44:32.496Z"
   },
   {
    "duration": 25,
    "start_time": "2023-04-10T14:44:33.010Z"
   },
   {
    "duration": 58,
    "start_time": "2023-04-10T14:44:34.226Z"
   },
   {
    "duration": 51,
    "start_time": "2023-04-10T14:44:34.881Z"
   },
   {
    "duration": 25,
    "start_time": "2023-04-10T14:44:36.322Z"
   },
   {
    "duration": 180,
    "start_time": "2023-04-10T14:44:36.760Z"
   },
   {
    "duration": 7,
    "start_time": "2023-04-10T14:44:38.108Z"
   },
   {
    "duration": 5,
    "start_time": "2023-04-10T14:47:39.013Z"
   },
   {
    "duration": 39,
    "start_time": "2023-04-10T15:08:03.947Z"
   },
   {
    "duration": 113,
    "start_time": "2023-04-10T15:14:34.193Z"
   },
   {
    "duration": 125,
    "start_time": "2023-04-10T15:15:23.374Z"
   },
   {
    "duration": 322,
    "start_time": "2023-04-10T15:15:31.763Z"
   },
   {
    "duration": 6,
    "start_time": "2023-04-10T15:17:11.785Z"
   },
   {
    "duration": 5,
    "start_time": "2023-04-10T15:29:20.570Z"
   },
   {
    "duration": 6,
    "start_time": "2023-04-10T15:29:24.460Z"
   },
   {
    "duration": 5,
    "start_time": "2023-04-10T15:29:35.178Z"
   },
   {
    "duration": 5,
    "start_time": "2023-04-10T15:30:19.582Z"
   },
   {
    "duration": 5,
    "start_time": "2023-04-10T15:30:23.411Z"
   },
   {
    "duration": 1399,
    "start_time": "2023-04-11T09:20:27.699Z"
   },
   {
    "duration": 185,
    "start_time": "2023-04-11T09:20:29.100Z"
   },
   {
    "duration": 63,
    "start_time": "2023-04-11T09:20:37.959Z"
   },
   {
    "duration": 16,
    "start_time": "2023-04-11T09:20:38.620Z"
   },
   {
    "duration": 37,
    "start_time": "2023-04-11T09:20:39.121Z"
   },
   {
    "duration": 20,
    "start_time": "2023-04-11T09:20:40.862Z"
   },
   {
    "duration": 25,
    "start_time": "2023-04-11T09:20:41.822Z"
   },
   {
    "duration": 57,
    "start_time": "2023-04-11T09:20:42.550Z"
   },
   {
    "duration": 19,
    "start_time": "2023-04-11T09:20:47.327Z"
   },
   {
    "duration": 602,
    "start_time": "2023-04-11T09:20:54.002Z"
   },
   {
    "duration": 28,
    "start_time": "2023-04-11T09:20:54.606Z"
   },
   {
    "duration": 865,
    "start_time": "2023-04-11T09:20:54.823Z"
   },
   {
    "duration": 120,
    "start_time": "2023-04-11T09:20:55.690Z"
   },
   {
    "duration": 23,
    "start_time": "2023-04-11T09:20:55.812Z"
   },
   {
    "duration": 896,
    "start_time": "2023-04-11T09:20:56.072Z"
   },
   {
    "duration": 773,
    "start_time": "2023-04-11T09:20:56.970Z"
   },
   {
    "duration": 645,
    "start_time": "2023-04-11T09:20:57.745Z"
   },
   {
    "duration": 684,
    "start_time": "2023-04-11T09:20:58.392Z"
   },
   {
    "duration": 24,
    "start_time": "2023-04-11T09:20:59.077Z"
   },
   {
    "duration": 73,
    "start_time": "2023-04-11T09:20:59.103Z"
   },
   {
    "duration": 57,
    "start_time": "2023-04-11T09:20:59.178Z"
   },
   {
    "duration": 37,
    "start_time": "2023-04-11T09:20:59.558Z"
   },
   {
    "duration": 31,
    "start_time": "2023-04-11T09:20:59.974Z"
   },
   {
    "duration": 32,
    "start_time": "2023-04-11T09:21:00.441Z"
   },
   {
    "duration": 54,
    "start_time": "2023-04-11T09:21:01.060Z"
   },
   {
    "duration": 53,
    "start_time": "2023-04-11T09:21:01.470Z"
   },
   {
    "duration": 26,
    "start_time": "2023-04-11T09:21:02.839Z"
   },
   {
    "duration": 285,
    "start_time": "2023-04-11T09:21:03.267Z"
   },
   {
    "duration": 6,
    "start_time": "2023-04-11T09:21:03.638Z"
   },
   {
    "duration": 31,
    "start_time": "2023-04-11T09:21:04.279Z"
   },
   {
    "duration": 247,
    "start_time": "2023-04-11T09:21:05.026Z"
   },
   {
    "duration": 5,
    "start_time": "2023-04-11T09:21:06.176Z"
   },
   {
    "duration": 34,
    "start_time": "2023-04-11T09:26:26.202Z"
   },
   {
    "duration": 35,
    "start_time": "2023-04-11T09:27:08.899Z"
   },
   {
    "duration": 135,
    "start_time": "2023-04-11T09:40:51.638Z"
   },
   {
    "duration": 38,
    "start_time": "2023-04-11T09:41:04.059Z"
   },
   {
    "duration": 36,
    "start_time": "2023-04-11T09:41:17.419Z"
   },
   {
    "duration": 32,
    "start_time": "2023-04-11T09:41:41.207Z"
   },
   {
    "duration": 31,
    "start_time": "2023-04-11T09:41:57.919Z"
   },
   {
    "duration": 35,
    "start_time": "2023-04-11T09:42:07.123Z"
   },
   {
    "duration": 39,
    "start_time": "2023-04-11T09:42:38.507Z"
   },
   {
    "duration": 75,
    "start_time": "2023-04-11T09:43:18.848Z"
   },
   {
    "duration": 39,
    "start_time": "2023-04-11T09:43:33.313Z"
   },
   {
    "duration": 1165,
    "start_time": "2023-04-11T11:59:23.462Z"
   },
   {
    "duration": 55,
    "start_time": "2023-04-11T11:59:24.629Z"
   },
   {
    "duration": 68,
    "start_time": "2023-04-11T11:59:24.685Z"
   },
   {
    "duration": 14,
    "start_time": "2023-04-11T11:59:24.755Z"
   },
   {
    "duration": 51,
    "start_time": "2023-04-11T11:59:24.771Z"
   },
   {
    "duration": 24,
    "start_time": "2023-04-11T11:59:24.824Z"
   },
   {
    "duration": 35,
    "start_time": "2023-04-11T11:59:24.849Z"
   },
   {
    "duration": 69,
    "start_time": "2023-04-11T11:59:24.886Z"
   },
   {
    "duration": 17,
    "start_time": "2023-04-11T11:59:24.957Z"
   },
   {
    "duration": 627,
    "start_time": "2023-04-11T11:59:24.976Z"
   },
   {
    "duration": 31,
    "start_time": "2023-04-11T11:59:25.605Z"
   },
   {
    "duration": 955,
    "start_time": "2023-04-11T11:59:25.639Z"
   },
   {
    "duration": 153,
    "start_time": "2023-04-11T11:59:26.596Z"
   },
   {
    "duration": 24,
    "start_time": "2023-04-11T11:59:26.753Z"
   },
   {
    "duration": 834,
    "start_time": "2023-04-11T11:59:26.779Z"
   },
   {
    "duration": 728,
    "start_time": "2023-04-11T11:59:27.614Z"
   },
   {
    "duration": 622,
    "start_time": "2023-04-11T11:59:28.344Z"
   },
   {
    "duration": 670,
    "start_time": "2023-04-11T11:59:28.967Z"
   },
   {
    "duration": 23,
    "start_time": "2023-04-11T11:59:29.639Z"
   },
   {
    "duration": 75,
    "start_time": "2023-04-11T11:59:29.664Z"
   },
   {
    "duration": 28,
    "start_time": "2023-04-11T11:59:29.741Z"
   },
   {
    "duration": 28,
    "start_time": "2023-04-11T11:59:29.771Z"
   },
   {
    "duration": 56,
    "start_time": "2023-04-11T11:59:29.800Z"
   },
   {
    "duration": 29,
    "start_time": "2023-04-11T11:59:29.857Z"
   },
   {
    "duration": 75,
    "start_time": "2023-04-11T11:59:29.888Z"
   },
   {
    "duration": 81,
    "start_time": "2023-04-11T11:59:29.965Z"
   },
   {
    "duration": 36,
    "start_time": "2023-04-11T11:59:30.048Z"
   },
   {
    "duration": 327,
    "start_time": "2023-04-11T11:59:30.086Z"
   },
   {
    "duration": 6,
    "start_time": "2023-04-11T11:59:30.414Z"
   },
   {
    "duration": 80,
    "start_time": "2023-04-11T11:59:30.421Z"
   },
   {
    "duration": 230,
    "start_time": "2023-04-11T11:59:30.502Z"
   },
   {
    "duration": 6,
    "start_time": "2023-04-11T11:59:30.734Z"
   },
   {
    "duration": 46,
    "start_time": "2023-04-12T07:31:05.922Z"
   },
   {
    "duration": 1546,
    "start_time": "2023-04-12T07:31:23.482Z"
   },
   {
    "duration": 102,
    "start_time": "2023-04-12T07:31:25.030Z"
   },
   {
    "duration": 27,
    "start_time": "2023-04-12T07:31:25.579Z"
   },
   {
    "duration": 50,
    "start_time": "2023-04-12T07:31:28.316Z"
   },
   {
    "duration": 18,
    "start_time": "2023-04-12T07:31:38.372Z"
   },
   {
    "duration": 28,
    "start_time": "2023-04-12T07:31:40.948Z"
   },
   {
    "duration": 35,
    "start_time": "2023-04-12T07:32:24.037Z"
   },
   {
    "duration": 17,
    "start_time": "2023-04-12T07:58:55.041Z"
   },
   {
    "duration": 3,
    "start_time": "2023-04-12T07:59:24.945Z"
   },
   {
    "duration": 48,
    "start_time": "2023-04-12T07:59:25.377Z"
   },
   {
    "duration": 16,
    "start_time": "2023-04-12T07:59:26.422Z"
   },
   {
    "duration": 18,
    "start_time": "2023-04-12T07:59:26.440Z"
   },
   {
    "duration": 31,
    "start_time": "2023-04-12T07:59:26.952Z"
   },
   {
    "duration": 14,
    "start_time": "2023-04-12T07:59:28.652Z"
   },
   {
    "duration": 60,
    "start_time": "2023-04-12T07:59:31.602Z"
   },
   {
    "duration": 16,
    "start_time": "2023-04-12T07:59:36.214Z"
   },
   {
    "duration": 15,
    "start_time": "2023-04-12T07:59:41.430Z"
   },
   {
    "duration": 22,
    "start_time": "2023-04-12T07:59:46.937Z"
   },
   {
    "duration": 17,
    "start_time": "2023-04-12T08:02:20.175Z"
   },
   {
    "duration": 17,
    "start_time": "2023-04-12T08:02:30.622Z"
   },
   {
    "duration": 19,
    "start_time": "2023-04-12T08:06:22.735Z"
   },
   {
    "duration": 15,
    "start_time": "2023-04-12T08:07:21.492Z"
   },
   {
    "duration": 14,
    "start_time": "2023-04-12T08:07:56.925Z"
   },
   {
    "duration": 8,
    "start_time": "2023-04-12T08:13:16.559Z"
   },
   {
    "duration": 1038,
    "start_time": "2023-04-12T08:13:59.534Z"
   },
   {
    "duration": 99,
    "start_time": "2023-04-12T08:14:30.768Z"
   },
   {
    "duration": 9,
    "start_time": "2023-04-12T08:14:47.315Z"
   },
   {
    "duration": 11,
    "start_time": "2023-04-12T08:15:06.266Z"
   },
   {
    "duration": 11,
    "start_time": "2023-04-12T08:15:15.176Z"
   },
   {
    "duration": 14,
    "start_time": "2023-04-12T08:15:58.989Z"
   },
   {
    "duration": 825,
    "start_time": "2023-04-12T08:17:46.019Z"
   },
   {
    "duration": 14,
    "start_time": "2023-04-12T08:18:09.711Z"
   },
   {
    "duration": 9,
    "start_time": "2023-04-12T08:18:20.794Z"
   },
   {
    "duration": 25,
    "start_time": "2023-04-12T08:27:24.100Z"
   },
   {
    "duration": 9,
    "start_time": "2023-04-12T08:28:06.295Z"
   },
   {
    "duration": 9,
    "start_time": "2023-04-12T08:28:31.102Z"
   },
   {
    "duration": 26,
    "start_time": "2023-04-12T08:29:03.166Z"
   },
   {
    "duration": 28,
    "start_time": "2023-04-12T08:30:36.947Z"
   },
   {
    "duration": 30,
    "start_time": "2023-04-12T08:30:49.654Z"
   },
   {
    "duration": 2,
    "start_time": "2023-04-12T08:30:57.081Z"
   },
   {
    "duration": 50,
    "start_time": "2023-04-12T08:30:57.358Z"
   },
   {
    "duration": 16,
    "start_time": "2023-04-12T08:30:57.943Z"
   },
   {
    "duration": 16,
    "start_time": "2023-04-12T08:30:58.144Z"
   },
   {
    "duration": 31,
    "start_time": "2023-04-12T08:30:58.354Z"
   },
   {
    "duration": 15,
    "start_time": "2023-04-12T08:30:59.527Z"
   },
   {
    "duration": 30,
    "start_time": "2023-04-12T08:31:00.678Z"
   },
   {
    "duration": 19,
    "start_time": "2023-04-12T08:31:02.165Z"
   },
   {
    "duration": 16,
    "start_time": "2023-04-12T08:31:03.999Z"
   },
   {
    "duration": 32,
    "start_time": "2023-04-12T08:31:06.045Z"
   },
   {
    "duration": 19,
    "start_time": "2023-04-12T08:31:56.676Z"
   },
   {
    "duration": 3,
    "start_time": "2023-04-12T08:32:16.515Z"
   },
   {
    "duration": 46,
    "start_time": "2023-04-12T08:32:16.757Z"
   },
   {
    "duration": 16,
    "start_time": "2023-04-12T08:32:17.334Z"
   },
   {
    "duration": 16,
    "start_time": "2023-04-12T08:32:17.540Z"
   },
   {
    "duration": 29,
    "start_time": "2023-04-12T08:32:17.754Z"
   },
   {
    "duration": 15,
    "start_time": "2023-04-12T08:32:19.178Z"
   },
   {
    "duration": 27,
    "start_time": "2023-04-12T08:32:20.633Z"
   },
   {
    "duration": 21,
    "start_time": "2023-04-12T08:32:22.522Z"
   },
   {
    "duration": 17,
    "start_time": "2023-04-12T08:32:24.583Z"
   },
   {
    "duration": 26,
    "start_time": "2023-04-12T08:32:26.024Z"
   },
   {
    "duration": 24,
    "start_time": "2023-04-12T08:32:42.649Z"
   },
   {
    "duration": 34,
    "start_time": "2023-04-12T08:35:33.516Z"
   },
   {
    "duration": 36,
    "start_time": "2023-04-12T08:36:33.445Z"
   },
   {
    "duration": 34,
    "start_time": "2023-04-12T08:36:57.005Z"
   },
   {
    "duration": 3,
    "start_time": "2023-04-12T08:37:10.638Z"
   },
   {
    "duration": 46,
    "start_time": "2023-04-12T08:37:10.877Z"
   },
   {
    "duration": 15,
    "start_time": "2023-04-12T08:37:12.060Z"
   },
   {
    "duration": 15,
    "start_time": "2023-04-12T08:37:12.540Z"
   },
   {
    "duration": 28,
    "start_time": "2023-04-12T08:37:12.842Z"
   },
   {
    "duration": 18,
    "start_time": "2023-04-12T08:37:14.095Z"
   },
   {
    "duration": 28,
    "start_time": "2023-04-12T08:37:15.039Z"
   },
   {
    "duration": 19,
    "start_time": "2023-04-12T08:37:16.759Z"
   },
   {
    "duration": 18,
    "start_time": "2023-04-12T08:37:18.750Z"
   },
   {
    "duration": 34,
    "start_time": "2023-04-12T08:37:20.282Z"
   },
   {
    "duration": 23,
    "start_time": "2023-04-12T08:37:22.351Z"
   },
   {
    "duration": 38,
    "start_time": "2023-04-12T08:37:25.823Z"
   },
   {
    "duration": 18,
    "start_time": "2023-04-12T08:40:18.396Z"
   },
   {
    "duration": 582,
    "start_time": "2023-04-12T08:40:19.629Z"
   },
   {
    "duration": 64,
    "start_time": "2023-04-12T08:41:10.372Z"
   },
   {
    "duration": 12,
    "start_time": "2023-04-12T08:41:52.078Z"
   },
   {
    "duration": 14,
    "start_time": "2023-04-12T08:42:12.359Z"
   },
   {
    "duration": 21,
    "start_time": "2023-04-12T08:46:31.431Z"
   },
   {
    "duration": 2827,
    "start_time": "2023-04-12T08:47:23.753Z"
   },
   {
    "duration": 13,
    "start_time": "2023-04-12T08:47:51.841Z"
   },
   {
    "duration": 47,
    "start_time": "2023-04-12T08:48:00.811Z"
   },
   {
    "duration": 32,
    "start_time": "2023-04-12T08:48:35.585Z"
   },
   {
    "duration": 18,
    "start_time": "2023-04-12T08:48:42.731Z"
   },
   {
    "duration": 17,
    "start_time": "2023-04-12T08:49:24.360Z"
   },
   {
    "duration": 598,
    "start_time": "2023-04-12T08:49:26.860Z"
   },
   {
    "duration": 18,
    "start_time": "2023-04-12T08:51:30.224Z"
   },
   {
    "duration": 36,
    "start_time": "2023-04-12T08:51:40.363Z"
   },
   {
    "duration": 34,
    "start_time": "2023-04-12T08:51:47.704Z"
   },
   {
    "duration": 664,
    "start_time": "2023-04-12T08:57:23.717Z"
   },
   {
    "duration": 127,
    "start_time": "2023-04-12T08:59:57.248Z"
   },
   {
    "duration": 128,
    "start_time": "2023-04-12T09:02:01.809Z"
   },
   {
    "duration": 124,
    "start_time": "2023-04-12T09:05:21.621Z"
   },
   {
    "duration": 13,
    "start_time": "2023-04-12T09:05:37.354Z"
   },
   {
    "duration": 539,
    "start_time": "2023-04-12T09:05:42.542Z"
   },
   {
    "duration": 124,
    "start_time": "2023-04-12T09:05:57.627Z"
   },
   {
    "duration": 202,
    "start_time": "2023-04-12T09:07:09.998Z"
   },
   {
    "duration": 358,
    "start_time": "2023-04-12T09:07:36.806Z"
   },
   {
    "duration": 858,
    "start_time": "2023-04-12T09:07:56.705Z"
   },
   {
    "duration": 358,
    "start_time": "2023-04-12T09:08:05.944Z"
   },
   {
    "duration": 5,
    "start_time": "2023-04-12T09:08:42.117Z"
   },
   {
    "duration": 361,
    "start_time": "2023-04-12T09:08:48.822Z"
   },
   {
    "duration": 557,
    "start_time": "2023-04-12T09:09:22.183Z"
   },
   {
    "duration": 580,
    "start_time": "2023-04-12T09:09:34.340Z"
   },
   {
    "duration": 520,
    "start_time": "2023-04-12T09:09:45.912Z"
   },
   {
    "duration": 436,
    "start_time": "2023-04-12T09:09:56.331Z"
   },
   {
    "duration": 393,
    "start_time": "2023-04-12T09:11:11.456Z"
   },
   {
    "duration": 361,
    "start_time": "2023-04-12T09:15:39.385Z"
   },
   {
    "duration": 328,
    "start_time": "2023-04-12T09:16:13.502Z"
   },
   {
    "duration": 19,
    "start_time": "2023-04-12T09:17:17.704Z"
   },
   {
    "duration": 693,
    "start_time": "2023-04-12T09:17:26.383Z"
   },
   {
    "duration": 782,
    "start_time": "2023-04-12T09:17:31.298Z"
   },
   {
    "duration": 17,
    "start_time": "2023-04-12T09:26:29.495Z"
   },
   {
    "duration": 724,
    "start_time": "2023-04-12T09:27:09.995Z"
   },
   {
    "duration": 878,
    "start_time": "2023-04-12T09:27:54.491Z"
   },
   {
    "duration": 17,
    "start_time": "2023-04-12T09:29:01.296Z"
   },
   {
    "duration": 46,
    "start_time": "2023-04-12T09:29:52.399Z"
   },
   {
    "duration": 584,
    "start_time": "2023-04-12T09:30:48.410Z"
   },
   {
    "duration": 1237,
    "start_time": "2023-04-12T09:31:31.458Z"
   },
   {
    "duration": 1295,
    "start_time": "2023-04-12T09:32:30.997Z"
   },
   {
    "duration": 799,
    "start_time": "2023-04-12T09:32:39.805Z"
   },
   {
    "duration": 635,
    "start_time": "2023-04-12T09:33:35.993Z"
   },
   {
    "duration": 1255,
    "start_time": "2023-04-12T09:33:38.448Z"
   },
   {
    "duration": 24,
    "start_time": "2023-04-12T09:34:05.227Z"
   },
   {
    "duration": 23,
    "start_time": "2023-04-12T09:36:49.099Z"
   },
   {
    "duration": 48,
    "start_time": "2023-04-12T09:36:55.027Z"
   },
   {
    "duration": 26,
    "start_time": "2023-04-12T09:37:09.137Z"
   },
   {
    "duration": 53,
    "start_time": "2023-04-12T09:40:25.596Z"
   },
   {
    "duration": 28,
    "start_time": "2023-04-12T09:40:37.898Z"
   },
   {
    "duration": 26,
    "start_time": "2023-04-12T09:42:46.999Z"
   },
   {
    "duration": 29,
    "start_time": "2023-04-12T09:44:45.755Z"
   },
   {
    "duration": 27,
    "start_time": "2023-04-12T09:44:50.915Z"
   },
   {
    "duration": 28,
    "start_time": "2023-04-12T09:45:00.342Z"
   },
   {
    "duration": 26,
    "start_time": "2023-04-12T09:50:22.517Z"
   },
   {
    "duration": 34,
    "start_time": "2023-04-12T09:50:24.218Z"
   },
   {
    "duration": 30,
    "start_time": "2023-04-12T09:52:20.052Z"
   },
   {
    "duration": 30,
    "start_time": "2023-04-12T09:56:13.809Z"
   },
   {
    "duration": 31,
    "start_time": "2023-04-12T09:56:27.041Z"
   },
   {
    "duration": 27,
    "start_time": "2023-04-12T09:58:05.718Z"
   },
   {
    "duration": 55,
    "start_time": "2023-04-12T09:59:02.746Z"
   },
   {
    "duration": 47,
    "start_time": "2023-04-12T10:02:40.841Z"
   },
   {
    "duration": 52,
    "start_time": "2023-04-12T10:04:27.722Z"
   },
   {
    "duration": 3,
    "start_time": "2023-04-12T10:08:43.607Z"
   },
   {
    "duration": 54,
    "start_time": "2023-04-12T10:08:43.612Z"
   },
   {
    "duration": 20,
    "start_time": "2023-04-12T10:08:44.480Z"
   },
   {
    "duration": 15,
    "start_time": "2023-04-12T10:08:44.548Z"
   },
   {
    "duration": 32,
    "start_time": "2023-04-12T10:08:45.005Z"
   },
   {
    "duration": 15,
    "start_time": "2023-04-12T10:08:46.271Z"
   },
   {
    "duration": 30,
    "start_time": "2023-04-12T10:08:47.313Z"
   },
   {
    "duration": 20,
    "start_time": "2023-04-12T10:08:48.657Z"
   },
   {
    "duration": 14,
    "start_time": "2023-04-12T10:08:50.231Z"
   },
   {
    "duration": 35,
    "start_time": "2023-04-12T10:08:50.755Z"
   },
   {
    "duration": 23,
    "start_time": "2023-04-12T10:08:51.385Z"
   },
   {
    "duration": 35,
    "start_time": "2023-04-12T10:08:53.777Z"
   },
   {
    "duration": 18,
    "start_time": "2023-04-12T10:08:55.522Z"
   },
   {
    "duration": 583,
    "start_time": "2023-04-12T10:08:56.017Z"
   },
   {
    "duration": 14,
    "start_time": "2023-04-12T10:08:58.352Z"
   },
   {
    "duration": 654,
    "start_time": "2023-04-12T10:09:00.082Z"
   },
   {
    "duration": 348,
    "start_time": "2023-04-12T10:09:01.238Z"
   },
   {
    "duration": 20,
    "start_time": "2023-04-12T10:09:02.317Z"
   },
   {
    "duration": 767,
    "start_time": "2023-04-12T10:09:02.948Z"
   },
   {
    "duration": 859,
    "start_time": "2023-04-12T10:09:03.717Z"
   },
   {
    "duration": 587,
    "start_time": "2023-04-12T10:09:05.110Z"
   },
   {
    "duration": 1207,
    "start_time": "2023-04-12T10:09:05.959Z"
   },
   {
    "duration": 29,
    "start_time": "2023-04-12T10:09:09.119Z"
   },
   {
    "duration": 78,
    "start_time": "2023-04-12T10:09:10.154Z"
   },
   {
    "duration": 42,
    "start_time": "2023-04-12T10:09:10.783Z"
   },
   {
    "duration": 35,
    "start_time": "2023-04-12T10:09:12.250Z"
   },
   {
    "duration": 26,
    "start_time": "2023-04-12T10:09:13.031Z"
   },
   {
    "duration": 31,
    "start_time": "2023-04-12T10:09:14.022Z"
   },
   {
    "duration": 53,
    "start_time": "2023-04-12T10:09:15.132Z"
   },
   {
    "duration": 63,
    "start_time": "2023-04-12T10:09:18.518Z"
   },
   {
    "duration": 63,
    "start_time": "2023-04-12T10:09:45.315Z"
   },
   {
    "duration": 29,
    "start_time": "2023-04-12T10:13:56.486Z"
   },
   {
    "duration": 190,
    "start_time": "2023-04-12T10:14:25.620Z"
   },
   {
    "duration": 5,
    "start_time": "2023-04-12T10:14:29.657Z"
   },
   {
    "duration": 6,
    "start_time": "2023-04-12T10:15:08.451Z"
   },
   {
    "duration": 30,
    "start_time": "2023-04-12T10:15:12.122Z"
   },
   {
    "duration": 41,
    "start_time": "2023-04-12T10:15:34.652Z"
   },
   {
    "duration": 290,
    "start_time": "2023-04-12T10:15:39.317Z"
   },
   {
    "duration": 5,
    "start_time": "2023-04-12T10:15:40.910Z"
   },
   {
    "duration": 4,
    "start_time": "2023-04-12T11:03:53.206Z"
   },
   {
    "duration": 49,
    "start_time": "2023-04-12T11:03:54.028Z"
   },
   {
    "duration": 16,
    "start_time": "2023-04-12T11:03:55.306Z"
   },
   {
    "duration": 16,
    "start_time": "2023-04-12T11:03:55.915Z"
   },
   {
    "duration": 40,
    "start_time": "2023-04-12T11:03:56.330Z"
   },
   {
    "duration": 16,
    "start_time": "2023-04-12T11:03:58.735Z"
   },
   {
    "duration": 29,
    "start_time": "2023-04-12T11:04:03.382Z"
   },
   {
    "duration": 18,
    "start_time": "2023-04-12T11:04:05.807Z"
   },
   {
    "duration": 15,
    "start_time": "2023-04-12T11:04:08.402Z"
   },
   {
    "duration": 47,
    "start_time": "2023-04-12T11:04:13.007Z"
   },
   {
    "duration": 25,
    "start_time": "2023-04-12T11:04:14.324Z"
   },
   {
    "duration": 38,
    "start_time": "2023-04-12T11:04:16.309Z"
   },
   {
    "duration": 17,
    "start_time": "2023-04-12T11:04:19.973Z"
   },
   {
    "duration": 556,
    "start_time": "2023-04-12T11:04:21.574Z"
   },
   {
    "duration": 14,
    "start_time": "2023-04-12T11:04:23.329Z"
   },
   {
    "duration": 565,
    "start_time": "2023-04-12T11:04:24.769Z"
   },
   {
    "duration": 315,
    "start_time": "2023-04-12T11:04:40.211Z"
   },
   {
    "duration": 369,
    "start_time": "2023-04-12T11:05:13.046Z"
   },
   {
    "duration": 1325,
    "start_time": "2023-04-12T17:04:22.564Z"
   },
   {
    "duration": 112,
    "start_time": "2023-04-12T17:04:23.892Z"
   },
   {
    "duration": 27,
    "start_time": "2023-04-12T17:04:24.006Z"
   },
   {
    "duration": 23,
    "start_time": "2023-04-12T17:04:24.036Z"
   },
   {
    "duration": 43,
    "start_time": "2023-04-12T17:04:24.062Z"
   },
   {
    "duration": 22,
    "start_time": "2023-04-12T17:04:24.107Z"
   },
   {
    "duration": 68,
    "start_time": "2023-04-12T17:04:24.134Z"
   },
   {
    "duration": 19,
    "start_time": "2023-04-12T17:04:24.205Z"
   },
   {
    "duration": 36,
    "start_time": "2023-04-12T17:04:24.225Z"
   },
   {
    "duration": 36,
    "start_time": "2023-04-12T17:04:24.263Z"
   },
   {
    "duration": 25,
    "start_time": "2023-04-12T17:04:24.300Z"
   },
   {
    "duration": 71,
    "start_time": "2023-04-12T17:04:24.327Z"
   },
   {
    "duration": 19,
    "start_time": "2023-04-12T17:04:24.399Z"
   },
   {
    "duration": 617,
    "start_time": "2023-04-12T17:04:24.422Z"
   },
   {
    "duration": 19,
    "start_time": "2023-04-12T17:04:25.041Z"
   },
   {
    "duration": 607,
    "start_time": "2023-04-12T17:04:25.062Z"
   },
   {
    "duration": 392,
    "start_time": "2023-04-12T17:04:25.672Z"
   },
   {
    "duration": 420,
    "start_time": "2023-04-12T17:04:26.066Z"
   },
   {
    "duration": 18,
    "start_time": "2023-04-12T17:04:26.488Z"
   },
   {
    "duration": 867,
    "start_time": "2023-04-12T17:04:26.507Z"
   },
   {
    "duration": 689,
    "start_time": "2023-04-12T17:04:27.375Z"
   },
   {
    "duration": 656,
    "start_time": "2023-04-12T17:04:28.067Z"
   },
   {
    "duration": 1198,
    "start_time": "2023-04-12T17:04:28.725Z"
   },
   {
    "duration": 36,
    "start_time": "2023-04-12T17:04:29.925Z"
   },
   {
    "duration": 60,
    "start_time": "2023-04-12T17:04:29.963Z"
   },
   {
    "duration": 49,
    "start_time": "2023-04-12T17:04:30.025Z"
   },
   {
    "duration": 28,
    "start_time": "2023-04-12T17:04:30.076Z"
   },
   {
    "duration": 59,
    "start_time": "2023-04-12T17:04:30.106Z"
   },
   {
    "duration": 29,
    "start_time": "2023-04-12T17:04:30.167Z"
   },
   {
    "duration": 80,
    "start_time": "2023-04-12T17:04:30.198Z"
   },
   {
    "duration": 78,
    "start_time": "2023-04-12T17:04:30.280Z"
   },
   {
    "duration": 31,
    "start_time": "2023-04-12T17:04:30.359Z"
   },
   {
    "duration": 241,
    "start_time": "2023-04-12T17:04:30.392Z"
   },
   {
    "duration": 6,
    "start_time": "2023-04-12T17:04:30.636Z"
   },
   {
    "duration": 50,
    "start_time": "2023-04-12T17:04:30.655Z"
   },
   {
    "duration": 240,
    "start_time": "2023-04-12T17:04:30.707Z"
   },
   {
    "duration": 6,
    "start_time": "2023-04-12T17:04:30.956Z"
   },
   {
    "duration": 318,
    "start_time": "2023-04-12T17:05:22.259Z"
   },
   {
    "duration": 1161,
    "start_time": "2023-04-12T17:09:55.105Z"
   },
   {
    "duration": 49,
    "start_time": "2023-04-12T17:09:56.268Z"
   },
   {
    "duration": 21,
    "start_time": "2023-04-12T17:09:56.319Z"
   },
   {
    "duration": 19,
    "start_time": "2023-04-12T17:09:56.342Z"
   },
   {
    "duration": 30,
    "start_time": "2023-04-12T17:09:56.363Z"
   },
   {
    "duration": 15,
    "start_time": "2023-04-12T17:09:56.394Z"
   },
   {
    "duration": 61,
    "start_time": "2023-04-12T17:09:56.411Z"
   },
   {
    "duration": 21,
    "start_time": "2023-04-12T17:09:56.474Z"
   },
   {
    "duration": 19,
    "start_time": "2023-04-12T17:09:56.497Z"
   },
   {
    "duration": 64,
    "start_time": "2023-04-12T17:09:56.520Z"
   },
   {
    "duration": 24,
    "start_time": "2023-04-12T17:09:56.586Z"
   },
   {
    "duration": 59,
    "start_time": "2023-04-12T17:09:56.613Z"
   },
   {
    "duration": 18,
    "start_time": "2023-04-12T17:09:56.674Z"
   },
   {
    "duration": 614,
    "start_time": "2023-04-12T17:09:56.695Z"
   },
   {
    "duration": 13,
    "start_time": "2023-04-12T17:09:57.311Z"
   },
   {
    "duration": 537,
    "start_time": "2023-04-12T17:09:57.326Z"
   },
   {
    "duration": 407,
    "start_time": "2023-04-12T17:09:57.865Z"
   },
   {
    "duration": 338,
    "start_time": "2023-04-12T17:09:58.274Z"
   },
   {
    "duration": 17,
    "start_time": "2023-04-12T17:09:58.614Z"
   },
   {
    "duration": 949,
    "start_time": "2023-04-12T17:09:58.633Z"
   },
   {
    "duration": 837,
    "start_time": "2023-04-12T17:09:59.584Z"
   },
   {
    "duration": 746,
    "start_time": "2023-04-12T17:10:00.422Z"
   },
   {
    "duration": 1201,
    "start_time": "2023-04-12T17:10:01.170Z"
   },
   {
    "duration": 23,
    "start_time": "2023-04-12T17:10:02.373Z"
   },
   {
    "duration": 73,
    "start_time": "2023-04-12T17:10:02.398Z"
   },
   {
    "duration": 30,
    "start_time": "2023-04-12T17:10:02.472Z"
   },
   {
    "duration": 45,
    "start_time": "2023-04-12T17:10:02.503Z"
   },
   {
    "duration": 29,
    "start_time": "2023-04-12T17:10:02.558Z"
   },
   {
    "duration": 59,
    "start_time": "2023-04-12T17:10:02.589Z"
   },
   {
    "duration": 48,
    "start_time": "2023-04-12T17:10:02.650Z"
   },
   {
    "duration": 80,
    "start_time": "2023-04-12T17:10:02.699Z"
   },
   {
    "duration": 28,
    "start_time": "2023-04-12T17:10:02.780Z"
   },
   {
    "duration": 224,
    "start_time": "2023-04-12T17:10:02.810Z"
   },
   {
    "duration": 6,
    "start_time": "2023-04-12T17:10:03.035Z"
   },
   {
    "duration": 66,
    "start_time": "2023-04-12T17:10:03.043Z"
   },
   {
    "duration": 214,
    "start_time": "2023-04-12T17:10:03.111Z"
   },
   {
    "duration": 5,
    "start_time": "2023-04-12T17:10:03.327Z"
   },
   {
    "duration": 1381,
    "start_time": "2023-04-13T08:23:20.509Z"
   },
   {
    "duration": 91,
    "start_time": "2023-04-13T08:23:21.892Z"
   },
   {
    "duration": 21,
    "start_time": "2023-04-13T08:23:23.211Z"
   },
   {
    "duration": 16,
    "start_time": "2023-04-13T08:23:23.766Z"
   },
   {
    "duration": 29,
    "start_time": "2023-04-13T08:23:24.323Z"
   },
   {
    "duration": 15,
    "start_time": "2023-04-13T08:23:42.119Z"
   },
   {
    "duration": 33,
    "start_time": "2023-04-13T08:24:10.279Z"
   },
   {
    "duration": 18,
    "start_time": "2023-04-13T08:24:14.292Z"
   },
   {
    "duration": 15,
    "start_time": "2023-04-13T08:24:22.799Z"
   },
   {
    "duration": 37,
    "start_time": "2023-04-13T08:24:23.283Z"
   },
   {
    "duration": 25,
    "start_time": "2023-04-13T08:24:23.942Z"
   },
   {
    "duration": 37,
    "start_time": "2023-04-13T08:24:44.436Z"
   },
   {
    "duration": 19,
    "start_time": "2023-04-13T08:24:46.533Z"
   },
   {
    "duration": 651,
    "start_time": "2023-04-13T08:24:48.143Z"
   },
   {
    "duration": 18,
    "start_time": "2023-04-13T08:25:03.709Z"
   },
   {
    "duration": 595,
    "start_time": "2023-04-13T08:25:07.548Z"
   },
   {
    "duration": 394,
    "start_time": "2023-04-13T08:25:08.568Z"
   },
   {
    "duration": 358,
    "start_time": "2023-04-13T08:26:07.540Z"
   },
   {
    "duration": 22,
    "start_time": "2023-04-13T08:26:09.084Z"
   },
   {
    "duration": 911,
    "start_time": "2023-04-13T08:26:10.064Z"
   },
   {
    "duration": 793,
    "start_time": "2023-04-13T08:26:11.470Z"
   },
   {
    "duration": 720,
    "start_time": "2023-04-13T08:27:43.841Z"
   },
   {
    "duration": 1206,
    "start_time": "2023-04-13T08:27:44.723Z"
   },
   {
    "duration": 4,
    "start_time": "2023-04-13T08:32:08.763Z"
   },
   {
    "duration": 53,
    "start_time": "2023-04-13T08:32:08.769Z"
   },
   {
    "duration": 16,
    "start_time": "2023-04-13T08:32:09.462Z"
   },
   {
    "duration": 15,
    "start_time": "2023-04-13T08:32:09.827Z"
   },
   {
    "duration": 30,
    "start_time": "2023-04-13T08:32:09.844Z"
   },
   {
    "duration": 16,
    "start_time": "2023-04-13T08:32:11.528Z"
   },
   {
    "duration": 34,
    "start_time": "2023-04-13T08:32:12.586Z"
   },
   {
    "duration": 18,
    "start_time": "2023-04-13T08:32:13.954Z"
   },
   {
    "duration": 16,
    "start_time": "2023-04-13T08:32:15.123Z"
   },
   {
    "duration": 42,
    "start_time": "2023-04-13T08:32:15.576Z"
   },
   {
    "duration": 23,
    "start_time": "2023-04-13T08:32:16.051Z"
   },
   {
    "duration": 37,
    "start_time": "2023-04-13T08:32:17.829Z"
   },
   {
    "duration": 17,
    "start_time": "2023-04-13T08:32:18.840Z"
   },
   {
    "duration": 705,
    "start_time": "2023-04-13T08:32:19.274Z"
   },
   {
    "duration": 18,
    "start_time": "2023-04-13T08:32:21.331Z"
   },
   {
    "duration": 585,
    "start_time": "2023-04-13T08:32:22.724Z"
   },
   {
    "duration": 514,
    "start_time": "2023-04-13T08:32:23.381Z"
   },
   {
    "duration": 362,
    "start_time": "2023-04-13T08:32:24.639Z"
   },
   {
    "duration": 22,
    "start_time": "2023-04-13T08:32:25.684Z"
   },
   {
    "duration": 875,
    "start_time": "2023-04-13T08:32:27.040Z"
   },
   {
    "duration": 888,
    "start_time": "2023-04-13T08:32:27.917Z"
   },
   {
    "duration": 670,
    "start_time": "2023-04-13T08:32:30.640Z"
   },
   {
    "duration": 1309,
    "start_time": "2023-04-13T08:32:31.623Z"
   },
   {
    "duration": 21,
    "start_time": "2023-04-13T08:32:37.051Z"
   },
   {
    "duration": 56,
    "start_time": "2023-04-13T08:32:38.686Z"
   },
   {
    "duration": 39,
    "start_time": "2023-04-13T08:32:39.933Z"
   },
   {
    "duration": 39,
    "start_time": "2023-04-13T08:32:42.020Z"
   },
   {
    "duration": 44,
    "start_time": "2023-04-13T08:32:44.384Z"
   },
   {
    "duration": 30,
    "start_time": "2023-04-13T08:32:47.039Z"
   },
   {
    "duration": 57,
    "start_time": "2023-04-13T08:32:48.868Z"
   },
   {
    "duration": 56,
    "start_time": "2023-04-13T08:32:53.331Z"
   },
   {
    "duration": 60,
    "start_time": "2023-04-13T08:33:28.650Z"
   },
   {
    "duration": 121,
    "start_time": "2023-04-13T08:33:44.175Z"
   },
   {
    "duration": 75,
    "start_time": "2023-04-13T08:33:49.532Z"
   },
   {
    "duration": 90,
    "start_time": "2023-04-13T08:34:54.633Z"
   },
   {
    "duration": 90,
    "start_time": "2023-04-13T08:37:58.160Z"
   },
   {
    "duration": 78,
    "start_time": "2023-04-13T08:39:00.964Z"
   },
   {
    "duration": 3,
    "start_time": "2023-04-13T08:39:20.515Z"
   },
   {
    "duration": 44,
    "start_time": "2023-04-13T08:39:20.739Z"
   },
   {
    "duration": 16,
    "start_time": "2023-04-13T08:39:21.362Z"
   },
   {
    "duration": 15,
    "start_time": "2023-04-13T08:39:21.553Z"
   },
   {
    "duration": 37,
    "start_time": "2023-04-13T08:39:21.743Z"
   },
   {
    "duration": 15,
    "start_time": "2023-04-13T08:39:22.973Z"
   },
   {
    "duration": 31,
    "start_time": "2023-04-13T08:39:23.938Z"
   },
   {
    "duration": 18,
    "start_time": "2023-04-13T08:39:24.948Z"
   },
   {
    "duration": 13,
    "start_time": "2023-04-13T08:39:25.843Z"
   },
   {
    "duration": 38,
    "start_time": "2023-04-13T08:39:26.238Z"
   },
   {
    "duration": 25,
    "start_time": "2023-04-13T08:39:26.638Z"
   },
   {
    "duration": 38,
    "start_time": "2023-04-13T08:39:28.066Z"
   },
   {
    "duration": 17,
    "start_time": "2023-04-13T08:39:28.998Z"
   },
   {
    "duration": 577,
    "start_time": "2023-04-13T08:39:29.416Z"
   },
   {
    "duration": 16,
    "start_time": "2023-04-13T08:39:31.120Z"
   },
   {
    "duration": 554,
    "start_time": "2023-04-13T08:39:32.444Z"
   },
   {
    "duration": 495,
    "start_time": "2023-04-13T08:39:33.000Z"
   },
   {
    "duration": 341,
    "start_time": "2023-04-13T08:39:34.119Z"
   },
   {
    "duration": 17,
    "start_time": "2023-04-13T08:39:34.746Z"
   },
   {
    "duration": 778,
    "start_time": "2023-04-13T08:39:35.223Z"
   },
   {
    "duration": 808,
    "start_time": "2023-04-13T08:39:36.003Z"
   },
   {
    "duration": 597,
    "start_time": "2023-04-13T08:39:36.928Z"
   },
   {
    "duration": 1209,
    "start_time": "2023-04-13T08:39:37.528Z"
   },
   {
    "duration": 23,
    "start_time": "2023-04-13T08:39:40.644Z"
   },
   {
    "duration": 57,
    "start_time": "2023-04-13T08:39:41.637Z"
   },
   {
    "duration": 32,
    "start_time": "2023-04-13T08:39:42.148Z"
   },
   {
    "duration": 31,
    "start_time": "2023-04-13T08:39:42.831Z"
   },
   {
    "duration": 35,
    "start_time": "2023-04-13T08:39:43.282Z"
   },
   {
    "duration": 30,
    "start_time": "2023-04-13T08:39:43.734Z"
   },
   {
    "duration": 59,
    "start_time": "2023-04-13T08:39:44.262Z"
   },
   {
    "duration": 94,
    "start_time": "2023-04-13T08:39:45.460Z"
   },
   {
    "duration": 31,
    "start_time": "2023-04-13T08:42:32.176Z"
   },
   {
    "duration": 1083,
    "start_time": "2023-04-13T08:42:45.678Z"
   },
   {
    "duration": 3,
    "start_time": "2023-04-13T08:43:24.907Z"
   },
   {
    "duration": 46,
    "start_time": "2023-04-13T08:43:25.127Z"
   },
   {
    "duration": 21,
    "start_time": "2023-04-13T08:43:25.880Z"
   },
   {
    "duration": 34,
    "start_time": "2023-04-13T08:43:25.904Z"
   },
   {
    "duration": 34,
    "start_time": "2023-04-13T08:43:26.035Z"
   },
   {
    "duration": 20,
    "start_time": "2023-04-13T08:43:27.447Z"
   },
   {
    "duration": 29,
    "start_time": "2023-04-13T08:43:28.528Z"
   },
   {
    "duration": 19,
    "start_time": "2023-04-13T08:43:29.626Z"
   },
   {
    "duration": 15,
    "start_time": "2023-04-13T08:43:30.672Z"
   },
   {
    "duration": 38,
    "start_time": "2023-04-13T08:43:31.122Z"
   },
   {
    "duration": 28,
    "start_time": "2023-04-13T08:43:31.645Z"
   },
   {
    "duration": 45,
    "start_time": "2023-04-13T08:43:33.358Z"
   },
   {
    "duration": 19,
    "start_time": "2023-04-13T08:43:34.544Z"
   },
   {
    "duration": 693,
    "start_time": "2023-04-13T08:43:35.021Z"
   },
   {
    "duration": 13,
    "start_time": "2023-04-13T08:43:37.056Z"
   },
   {
    "duration": 575,
    "start_time": "2023-04-13T08:43:38.522Z"
   },
   {
    "duration": 397,
    "start_time": "2023-04-13T08:43:39.098Z"
   },
   {
    "duration": 371,
    "start_time": "2023-04-13T08:43:40.122Z"
   },
   {
    "duration": 20,
    "start_time": "2023-04-13T08:43:40.875Z"
   },
   {
    "duration": 1035,
    "start_time": "2023-04-13T08:43:41.815Z"
   },
   {
    "duration": 789,
    "start_time": "2023-04-13T08:43:42.852Z"
   },
   {
    "duration": 663,
    "start_time": "2023-04-13T08:43:44.073Z"
   },
   {
    "duration": 1258,
    "start_time": "2023-04-13T08:43:44.763Z"
   },
   {
    "duration": 22,
    "start_time": "2023-04-13T08:43:47.319Z"
   },
   {
    "duration": 81,
    "start_time": "2023-04-13T08:43:48.080Z"
   },
   {
    "duration": 134,
    "start_time": "2023-04-13T08:43:49.023Z"
   },
   {
    "duration": 29,
    "start_time": "2023-04-13T08:43:50.460Z"
   },
   {
    "duration": 30,
    "start_time": "2023-04-13T08:43:50.984Z"
   },
   {
    "duration": 32,
    "start_time": "2023-04-13T08:43:51.515Z"
   },
   {
    "duration": 54,
    "start_time": "2023-04-13T08:43:52.555Z"
   },
   {
    "duration": 32,
    "start_time": "2023-04-13T08:43:54.653Z"
   },
   {
    "duration": 815,
    "start_time": "2023-04-13T08:44:05.620Z"
   },
   {
    "duration": 13,
    "start_time": "2023-04-13T08:44:14.443Z"
   },
   {
    "duration": 782,
    "start_time": "2023-04-13T08:46:10.421Z"
   },
   {
    "duration": 3,
    "start_time": "2023-04-13T08:46:25.334Z"
   },
   {
    "duration": 45,
    "start_time": "2023-04-13T08:46:25.716Z"
   },
   {
    "duration": 18,
    "start_time": "2023-04-13T08:46:26.228Z"
   },
   {
    "duration": 17,
    "start_time": "2023-04-13T08:46:26.330Z"
   },
   {
    "duration": 31,
    "start_time": "2023-04-13T08:46:26.519Z"
   },
   {
    "duration": 15,
    "start_time": "2023-04-13T08:46:27.960Z"
   },
   {
    "duration": 30,
    "start_time": "2023-04-13T08:46:28.928Z"
   },
   {
    "duration": 19,
    "start_time": "2023-04-13T08:46:30.120Z"
   },
   {
    "duration": 15,
    "start_time": "2023-04-13T08:46:31.168Z"
   },
   {
    "duration": 39,
    "start_time": "2023-04-13T08:46:31.545Z"
   },
   {
    "duration": 30,
    "start_time": "2023-04-13T08:46:31.918Z"
   },
   {
    "duration": 37,
    "start_time": "2023-04-13T08:46:33.523Z"
   },
   {
    "duration": 18,
    "start_time": "2023-04-13T08:46:34.711Z"
   },
   {
    "duration": 606,
    "start_time": "2023-04-13T08:46:35.130Z"
   },
   {
    "duration": 12,
    "start_time": "2023-04-13T08:46:37.122Z"
   },
   {
    "duration": 545,
    "start_time": "2023-04-13T08:46:38.631Z"
   },
   {
    "duration": 422,
    "start_time": "2023-04-13T08:46:39.179Z"
   },
   {
    "duration": 356,
    "start_time": "2023-04-13T08:46:40.135Z"
   },
   {
    "duration": 18,
    "start_time": "2023-04-13T08:46:40.771Z"
   },
   {
    "duration": 964,
    "start_time": "2023-04-13T08:46:41.211Z"
   },
   {
    "duration": 817,
    "start_time": "2023-04-13T08:46:42.178Z"
   },
   {
    "duration": 653,
    "start_time": "2023-04-13T08:46:42.998Z"
   },
   {
    "duration": 1359,
    "start_time": "2023-04-13T08:46:43.653Z"
   },
   {
    "duration": 23,
    "start_time": "2023-04-13T08:46:45.884Z"
   },
   {
    "duration": 66,
    "start_time": "2023-04-13T08:46:46.680Z"
   },
   {
    "duration": 36,
    "start_time": "2023-04-13T08:46:47.266Z"
   },
   {
    "duration": 30,
    "start_time": "2023-04-13T08:46:47.993Z"
   },
   {
    "duration": 30,
    "start_time": "2023-04-13T08:46:48.519Z"
   },
   {
    "duration": 30,
    "start_time": "2023-04-13T08:46:49.407Z"
   },
   {
    "duration": 49,
    "start_time": "2023-04-13T08:46:50.976Z"
   },
   {
    "duration": 76,
    "start_time": "2023-04-13T08:46:54.481Z"
   },
   {
    "duration": 66,
    "start_time": "2023-04-13T08:47:47.323Z"
   },
   {
    "duration": 57,
    "start_time": "2023-04-13T08:47:56.919Z"
   }
  ],
  "kernelspec": {
   "display_name": "Python 3 (ipykernel)",
   "language": "python",
   "name": "python3"
  },
  "language_info": {
   "codemirror_mode": {
    "name": "ipython",
    "version": 3
   },
   "file_extension": ".py",
   "mimetype": "text/x-python",
   "name": "python",
   "nbconvert_exporter": "python",
   "pygments_lexer": "ipython3",
   "version": "3.9.12"
  },
  "toc": {
   "base_numbering": 1,
   "nav_menu": {},
   "number_sections": true,
   "sideBar": true,
   "skip_h1_title": true,
   "title_cell": "Table of Contents",
   "title_sidebar": "Contents",
   "toc_cell": false,
   "toc_position": {},
   "toc_section_display": true,
   "toc_window_display": true
  }
 },
 "nbformat": 4,
 "nbformat_minor": 2
}
