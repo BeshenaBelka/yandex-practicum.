{
 "cells": [
  {
   "cell_type": "markdown",
   "id": "6d8ecb30",
   "metadata": {
    "deletable": false,
    "editable": false,
    "id": "c81daeeb"
   },
   "source": [
    "# Исследование надежности заемщиков"
   ]
  },
  {
   "cell_type": "markdown",
   "id": "e3ee6cb0",
   "metadata": {
    "deletable": false,
    "editable": false,
    "id": "-G3EJWzf62s6"
   },
   "source": [
    "Это первая часть проекта, она будет проверена автоматически. Вторую часть проверит ревьюер. "
   ]
  },
  {
   "cell_type": "markdown",
   "id": "b9023d5e",
   "metadata": {
    "deletable": false,
    "editable": false,
    "id": "744d7639"
   },
   "source": [
    "## Откройте таблицу и изучите общую информацию о данных"
   ]
  },
  {
   "cell_type": "markdown",
   "id": "35841cb3",
   "metadata": {
    "deletable": false,
    "editable": false,
    "id": "e7a14c31",
    "tags": [
     "start_task"
    ]
   },
   "source": [
    "**Задание 1. Импортируйте библиотеку pandas. Считайте данные из csv-файла в датафрейм и сохраните в переменную `data`. Путь к файлу:**\n",
    "\n",
    "`/datasets/data.csv`"
   ]
  },
  {
   "cell_type": "code",
   "execution_count": 1,
   "id": "c2963bb2",
   "metadata": {
    "id": "7bcf75c9"
   },
   "outputs": [],
   "source": [
    "import pandas as pd"
   ]
  },
  {
   "cell_type": "code",
   "execution_count": 2,
   "id": "3099d100",
   "metadata": {
    "id": "4d240ee2"
   },
   "outputs": [],
   "source": [
    "data=pd.read_csv('/datasets/data.csv')"
   ]
  },
  {
   "cell_type": "markdown",
   "id": "e11b7639",
   "metadata": {
    "deletable": false,
    "editable": false,
    "id": "b8038fe3",
    "tags": [
     "start_task"
    ]
   },
   "source": [
    "**Задание 2. Выведите первые 20 строчек датафрейма `data` на экран.**"
   ]
  },
  {
   "cell_type": "code",
   "execution_count": 4,
   "id": "324db219",
   "metadata": {
    "id": "2a7cab99"
   },
   "outputs": [
    {
     "name": "stdout",
     "output_type": "stream",
     "text": [
      "    children  days_employed  dob_years            education  education_id  \\\n",
      "0          1   -8437.673028         42               высшее             0   \n",
      "1          1   -4024.803754         36              среднее             1   \n",
      "2          0   -5623.422610         33              Среднее             1   \n",
      "3          3   -4124.747207         32              среднее             1   \n",
      "4          0  340266.072047         53              среднее             1   \n",
      "5          0    -926.185831         27               высшее             0   \n",
      "6          0   -2879.202052         43               высшее             0   \n",
      "7          0    -152.779569         50              СРЕДНЕЕ             1   \n",
      "8          2   -6929.865299         35               ВЫСШЕЕ             0   \n",
      "9          0   -2188.756445         41              среднее             1   \n",
      "10         2   -4171.483647         36               высшее             0   \n",
      "11         0    -792.701887         40              среднее             1   \n",
      "12         0            NaN         65              среднее             1   \n",
      "13         0   -1846.641941         54  неоконченное высшее             2   \n",
      "14         0   -1844.956182         56               высшее             0   \n",
      "15         1    -972.364419         26              среднее             1   \n",
      "16         0   -1719.934226         35              среднее             1   \n",
      "17         0   -2369.999720         33               высшее             0   \n",
      "18         0  400281.136913         53              среднее             1   \n",
      "19         0  -10038.818549         48              СРЕДНЕЕ             1   \n",
      "\n",
      "       family_status  family_status_id gender income_type  debt  \\\n",
      "0    женат / замужем                 0      F   сотрудник     0   \n",
      "1    женат / замужем                 0      F   сотрудник     0   \n",
      "2    женат / замужем                 0      M   сотрудник     0   \n",
      "3    женат / замужем                 0      M   сотрудник     0   \n",
      "4   гражданский брак                 1      F   пенсионер     0   \n",
      "5   гражданский брак                 1      M   компаньон     0   \n",
      "6    женат / замужем                 0      F   компаньон     0   \n",
      "7    женат / замужем                 0      M   сотрудник     0   \n",
      "8   гражданский брак                 1      F   сотрудник     0   \n",
      "9    женат / замужем                 0      M   сотрудник     0   \n",
      "10   женат / замужем                 0      M   компаньон     0   \n",
      "11   женат / замужем                 0      F   сотрудник     0   \n",
      "12  гражданский брак                 1      M   пенсионер     0   \n",
      "13   женат / замужем                 0      F   сотрудник     0   \n",
      "14  гражданский брак                 1      F   компаньон     1   \n",
      "15   женат / замужем                 0      F   сотрудник     0   \n",
      "16   женат / замужем                 0      F   сотрудник     0   \n",
      "17  гражданский брак                 1      M   сотрудник     0   \n",
      "18    вдовец / вдова                 2      F   пенсионер     0   \n",
      "19         в разводе                 3      F   сотрудник     0   \n",
      "\n",
      "     total_income                                 purpose  \n",
      "0   253875.639453                           покупка жилья  \n",
      "1   112080.014102                 приобретение автомобиля  \n",
      "2   145885.952297                           покупка жилья  \n",
      "3   267628.550329              дополнительное образование  \n",
      "4   158616.077870                         сыграть свадьбу  \n",
      "5   255763.565419                           покупка жилья  \n",
      "6   240525.971920                       операции с жильем  \n",
      "7   135823.934197                             образование  \n",
      "8    95856.832424                   на проведение свадьбы  \n",
      "9   144425.938277                 покупка жилья для семьи  \n",
      "10  113943.491460                    покупка недвижимости  \n",
      "11   77069.234271       покупка коммерческой недвижимости  \n",
      "12            NaN                         сыграть свадьбу  \n",
      "13  130458.228857                 приобретение автомобиля  \n",
      "14  165127.911772              покупка жилой недвижимости  \n",
      "15  116820.904450  строительство собственной недвижимости  \n",
      "16  289202.704229                            недвижимость  \n",
      "17   90410.586745              строительство недвижимости  \n",
      "18   56823.777243      на покупку подержанного автомобиля  \n",
      "19  242831.107982            на покупку своего автомобиля  \n"
     ]
    }
   ],
   "source": [
    "print(data.head(20))"
   ]
  },
  {
   "cell_type": "markdown",
   "id": "71455c95",
   "metadata": {
    "deletable": false,
    "editable": false,
    "id": "1c12e233",
    "tags": [
     "start_task"
    ]
   },
   "source": [
    "**Задание 3. Выведите основную информацию о датафрейме с помощью метода `info()`.**"
   ]
  },
  {
   "cell_type": "code",
   "execution_count": 16,
   "id": "b3abba91",
   "metadata": {
    "id": "2b757bca"
   },
   "outputs": [
    {
     "name": "stdout",
     "output_type": "stream",
     "text": [
      "<class 'pandas.core.frame.DataFrame'>\n",
      "RangeIndex: 21525 entries, 0 to 21524\n",
      "Data columns (total 12 columns):\n",
      " #   Column            Non-Null Count  Dtype  \n",
      "---  ------            --------------  -----  \n",
      " 0   children          21525 non-null  int64  \n",
      " 1   days_employed     19351 non-null  float64\n",
      " 2   dob_years         21525 non-null  int64  \n",
      " 3   education         21525 non-null  object \n",
      " 4   education_id      21525 non-null  int64  \n",
      " 5   family_status     21525 non-null  object \n",
      " 6   family_status_id  21525 non-null  int64  \n",
      " 7   gender            21525 non-null  object \n",
      " 8   income_type       21525 non-null  object \n",
      " 9   debt              21525 non-null  int64  \n",
      " 10  total_income      19351 non-null  float64\n",
      " 11  purpose           21525 non-null  object \n",
      "dtypes: float64(2), int64(5), object(5)\n",
      "memory usage: 2.0+ MB\n"
     ]
    }
   ],
   "source": [
    "data.info()"
   ]
  },
  {
   "cell_type": "markdown",
   "id": "115fbf66",
   "metadata": {
    "deletable": false,
    "editable": false,
    "id": "333ec665"
   },
   "source": [
    "## Предобработка данных"
   ]
  },
  {
   "cell_type": "markdown",
   "id": "a75ee39b",
   "metadata": {
    "deletable": false,
    "editable": false,
    "id": "02d92d53"
   },
   "source": [
    "### Удаление пропусков"
   ]
  },
  {
   "cell_type": "markdown",
   "id": "e81dc683",
   "metadata": {
    "deletable": false,
    "editable": false,
    "id": "cd84967c",
    "tags": [
     "start_task"
    ]
   },
   "source": [
    "**Задание 4. Выведите количество пропущенных значений для каждого столбца. Используйте комбинацию двух методов.**"
   ]
  },
  {
   "cell_type": "code",
   "execution_count": 10,
   "id": "00d49849",
   "metadata": {
    "id": "7f9b2309"
   },
   "outputs": [
    {
     "name": "stdout",
     "output_type": "stream",
     "text": [
      "children               0\n",
      "days_employed       2174\n",
      "dob_years              0\n",
      "education              0\n",
      "education_id           0\n",
      "family_status          0\n",
      "family_status_id       0\n",
      "gender                 0\n",
      "income_type            0\n",
      "debt                   0\n",
      "total_income        2174\n",
      "purpose                0\n",
      "dtype: int64\n"
     ]
    }
   ],
   "source": [
    "print(data.isna().sum())"
   ]
  },
  {
   "cell_type": "markdown",
   "id": "8259aed7",
   "metadata": {
    "deletable": false,
    "editable": false,
    "id": "db86e27b",
    "tags": [
     "start_task"
    ]
   },
   "source": [
    "**Задание 5. В двух столбцах есть пропущенные значения. Один из них — `days_employed`. Пропуски в этом столбце вы обработаете на следующем этапе. Другой столбец с пропущенными значениями — `total_income` — хранит данные о доходах. На сумму дохода сильнее всего влияет тип занятости, поэтому заполнить пропуски в этом столбце нужно медианным значением по каждому типу из столбца `income_type`. Например, у человека с типом занятости `сотрудник` пропуск в столбце `total_income` должен быть заполнен медианным доходом среди всех записей с тем же типом.**"
   ]
  },
  {
   "cell_type": "code",
   "execution_count": 9,
   "id": "c874904f",
   "metadata": {
    "id": "42006a93"
   },
   "outputs": [],
   "source": [
    "df = data.groupby('income_type')['total_income'].median()\n",
    "data.loc[data['income_type']=='пенсионер','total_income']=data['total_income'].fillna(df['пенсионер'])\n",
    "data.loc[data['income_type']=='сотрудник','total_income']=data['total_income'].fillna(df['сотрудник'])\n",
    "data.loc[data['income_type']=='компаньон','total_income']=data['total_income'].fillna(df['компаньон'])\n",
    "data.loc[data['income_type']=='госслужащий','total_income']=data['total_income'].fillna(df['госслужащий'])\n",
    "data.loc[data['income_type']=='безработный','total_income']=data['total_income'].fillna(df['безработный'])\n",
    "data.loc[data['income_type']=='предприниматель','total_income']=data['total_income'].fillna(df['предприниматель'])\n",
    "data.loc[data['income_type']=='студент','total_income']=data['total_income'].fillna(df['студент'])\n",
    "data.loc[data['income_type']=='в декрете','total_income']=data['total_income'].fillna(df['в декрете'])"
   ]
  },
  {
   "cell_type": "markdown",
   "id": "d2bcf120",
   "metadata": {
    "deletable": false,
    "editable": false,
    "id": "89da5ece"
   },
   "source": [
    "### Обработка аномальных значений"
   ]
  },
  {
   "cell_type": "markdown",
   "id": "c554bfb3",
   "metadata": {
    "deletable": false,
    "editable": false,
    "id": "57964554",
    "tags": [
     "start_task"
    ]
   },
   "source": [
    "**Задание 6. В данных могут встречаться артефакты (аномалии) — значения, которые не отражают действительность и появились по какой-то ошибке. Таким артефактом будет отрицательное количество дней трудового стажа в столбце `days_employed`. Для реальных данных это нормально. Обработайте значения в этом столбце: замените все отрицательные значения положительными с помощью метода `abs()`.**"
   ]
  },
  {
   "cell_type": "code",
   "execution_count": 5,
   "id": "eb91608e",
   "metadata": {
    "id": "f6f055bf"
   },
   "outputs": [],
   "source": [
    "data['days_employed']=data['days_employed'].apply(abs)"
   ]
  },
  {
   "cell_type": "markdown",
   "id": "357a63da",
   "metadata": {
    "deletable": false,
    "editable": false,
    "id": "6107dd2f",
    "tags": [
     "start_task"
    ]
   },
   "source": [
    "**Задание 7. Для каждого типа занятости выведите медианное значение трудового стажа `days_employed` в днях.**"
   ]
  },
  {
   "cell_type": "code",
   "execution_count": 6,
   "id": "f6745a0d",
   "metadata": {
    "id": "85a5faf6"
   },
   "outputs": [
    {
     "data": {
      "text/plain": [
       "income_type\n",
       "безработный        366413.652744\n",
       "в декрете            3296.759962\n",
       "госслужащий          2689.368353\n",
       "компаньон            1547.382223\n",
       "пенсионер          365213.306266\n",
       "предприниматель       520.848083\n",
       "сотрудник            1574.202821\n",
       "студент               578.751554\n",
       "Name: days_employed, dtype: float64"
      ]
     },
     "execution_count": 6,
     "metadata": {},
     "output_type": "execute_result"
    }
   ],
   "source": [
    "data.groupby('income_type').agg('median')['days_employed']"
   ]
  },
  {
   "cell_type": "markdown",
   "id": "59d2e4a8",
   "metadata": {
    "deletable": false,
    "editable": false,
    "id": "38d1a030"
   },
   "source": [
    "У двух типов (безработные и пенсионеры) получатся аномально большие значения. Исправить такие значения сложно, поэтому оставьте их как есть. Тем более этот столбец не понадобится вам для исследования."
   ]
  },
  {
   "cell_type": "markdown",
   "id": "300ac6f6",
   "metadata": {
    "deletable": false,
    "editable": false,
    "id": "d8a9f147",
    "tags": [
     "start_task"
    ]
   },
   "source": [
    "**Задание 8. Выведите перечень уникальных значений столбца `children`.**"
   ]
  },
  {
   "cell_type": "code",
   "execution_count": 33,
   "id": "3b2a7450",
   "metadata": {
    "id": "ef5056eb"
   },
   "outputs": [
    {
     "name": "stdout",
     "output_type": "stream",
     "text": [
      "[ 1  0  3  2 -1  4 20  5]\n"
     ]
    }
   ],
   "source": [
    "print(data['children'].unique())"
   ]
  },
  {
   "cell_type": "markdown",
   "id": "50601760",
   "metadata": {
    "deletable": false,
    "editable": false,
    "id": "40b9ebf2",
    "tags": [
     "start_task"
    ]
   },
   "source": [
    "**Задание 9. В столбце `children` есть два аномальных значения. Удалите строки, в которых встречаются такие аномальные значения из датафрейма `data`.**"
   ]
  },
  {
   "cell_type": "code",
   "execution_count": 6,
   "id": "0bc52e53",
   "metadata": {
    "id": "3ff9801d"
   },
   "outputs": [],
   "source": [
    "data=data.loc[(data['children']!= 20)& (data['children']!= -1)]"
   ]
  },
  {
   "cell_type": "markdown",
   "id": "071123d2",
   "metadata": {
    "deletable": false,
    "editable": false,
    "id": "bbc4d0ce",
    "tags": [
     "start_task"
    ]
   },
   "source": [
    "**Задание 10. Ещё раз выведите перечень уникальных значений столбца `children`, чтобы убедиться, что артефакты удалены.**"
   ]
  },
  {
   "cell_type": "code",
   "execution_count": 7,
   "id": "ac8fe947",
   "metadata": {
    "id": "ad4fa8b7"
   },
   "outputs": [
    {
     "name": "stdout",
     "output_type": "stream",
     "text": [
      "[1 0 3 2 4 5]\n"
     ]
    }
   ],
   "source": [
    "print(data['children'].unique())"
   ]
  },
  {
   "cell_type": "markdown",
   "id": "40a39cc8",
   "metadata": {
    "deletable": false,
    "editable": false,
    "id": "75440b63"
   },
   "source": [
    "### Удаление пропусков (продолжение)"
   ]
  },
  {
   "cell_type": "markdown",
   "id": "893c4e41",
   "metadata": {
    "deletable": false,
    "editable": false,
    "id": "f4ea573f",
    "tags": [
     "start_task"
    ]
   },
   "source": [
    "**Задание 11. Заполните пропуски в столбце `days_employed` медианными значениями по каждому типу занятости `income_type`.**"
   ]
  },
  {
   "cell_type": "code",
   "execution_count": 11,
   "id": "662c2125",
   "metadata": {
    "id": "af6b1a7e"
   },
   "outputs": [],
   "source": [
    "dm = data.groupby('income_type')['days_employed'].median()\n",
    "data.loc[data['income_type']=='пенсионер','days_employed']=data['days_employed'].fillna(dm['пенсионер'])\n",
    "data.loc[data['income_type']=='сотрудник','days_employed']=data['days_employed'].fillna(dm['сотрудник'])\n",
    "data.loc[data['income_type']=='компаньон','days_employed']=data['days_employed'].fillna(dm['компаньон'])\n",
    "data.loc[data['income_type']=='госслужащий','days_employed']=data['days_employed'].fillna(dm['госслужащий'])\n",
    "data.loc[data['income_type']=='безработный','days_employed']=data['days_employed'].fillna(dm['безработный'])\n",
    "data.loc[data['income_type']=='предприниматель','days_employed']=data['days_employed'].fillna(dm['предприниматель'])\n",
    "data.loc[data['income_type']=='студент','days_employed']=data['days_employed'].fillna(dm['студент'])\n",
    "data.loc[data['income_type']=='в декрете','days_employed']=data['days_employed'].fillna(dm['в декрете'])"
   ]
  },
  {
   "cell_type": "markdown",
   "id": "15a4d07e",
   "metadata": {
    "deletable": false,
    "editable": false,
    "id": "2753f40d",
    "tags": [
     "start_task"
    ]
   },
   "source": [
    "**Задание 12. Убедитесь, что все пропуски заполнены. Проверьте себя и ещё раз выведите количество пропущенных значений для каждого столбца с помощью двух методов.**"
   ]
  },
  {
   "cell_type": "code",
   "execution_count": 12,
   "id": "61bab704",
   "metadata": {
    "id": "55f78bc2"
   },
   "outputs": [
    {
     "name": "stdout",
     "output_type": "stream",
     "text": [
      "children            0\n",
      "days_employed       0\n",
      "dob_years           0\n",
      "education           0\n",
      "education_id        0\n",
      "family_status       0\n",
      "family_status_id    0\n",
      "gender              0\n",
      "income_type         0\n",
      "debt                0\n",
      "total_income        0\n",
      "purpose             0\n",
      "dtype: int64\n"
     ]
    }
   ],
   "source": [
    "print(data.isna().sum())"
   ]
  },
  {
   "cell_type": "markdown",
   "id": "179529c7",
   "metadata": {
    "deletable": false,
    "editable": false,
    "id": "ddc81e43"
   },
   "source": [
    "### Изменение типов данных"
   ]
  },
  {
   "cell_type": "markdown",
   "id": "2708da30",
   "metadata": {
    "deletable": false,
    "editable": false,
    "id": "42d19d24",
    "tags": [
     "start_task"
    ]
   },
   "source": [
    "**Задание 13. Замените вещественный тип данных в столбце `total_income` на целочисленный с помощью метода `astype()`.**"
   ]
  },
  {
   "cell_type": "code",
   "execution_count": 13,
   "id": "9356c779",
   "metadata": {
    "id": "920b65ad"
   },
   "outputs": [],
   "source": [
    "data['total_income']=data['total_income'].astype('int')"
   ]
  },
  {
   "cell_type": "markdown",
   "id": "6775f17d",
   "metadata": {
    "deletable": false,
    "editable": false,
    "id": "80c420ba"
   },
   "source": [
    "### Обработка дубликатов"
   ]
  },
  {
   "cell_type": "markdown",
   "id": "81901a75",
   "metadata": {
    "deletable": false,
    "editable": false,
    "id": "dc587695",
    "tags": [
     "start_task"
    ]
   },
   "source": [
    "**Задание 14. Выведите на экран количество строк-дубликатов в данных. Если такие строки присутствуют, удалите их.**"
   ]
  },
  {
   "cell_type": "code",
   "execution_count": 15,
   "id": "2754ee2b",
   "metadata": {
    "id": "3ee445e4"
   },
   "outputs": [
    {
     "name": "stdout",
     "output_type": "stream",
     "text": [
      "54\n"
     ]
    }
   ],
   "source": [
    "print(data.duplicated().sum())"
   ]
  },
  {
   "cell_type": "code",
   "execution_count": 16,
   "id": "49e886c0",
   "metadata": {
    "id": "8575fe05"
   },
   "outputs": [],
   "source": [
    "data=data.drop_duplicates().reset_index(drop=True)"
   ]
  },
  {
   "cell_type": "markdown",
   "id": "812e735e",
   "metadata": {
    "deletable": false,
    "editable": false,
    "id": "9771a76c",
    "tags": [
     "start_task"
    ]
   },
   "source": [
    "**Задание 15. Обработайте неявные дубликаты в столбце `education`. В этом столбце есть одни и те же значения, но записанные по-разному: с использованием заглавных и строчных букв. Приведите их к нижнему регистру. Проверьте остальные столбцы.**"
   ]
  },
  {
   "cell_type": "code",
   "execution_count": 26,
   "id": "13c0f8ba",
   "metadata": {
    "id": "a9f8e2bf"
   },
   "outputs": [],
   "source": [
    "data['education']=data['education'].str.lower()"
   ]
  },
  {
   "cell_type": "markdown",
   "id": "32a1fd29",
   "metadata": {
    "deletable": false,
    "editable": false,
    "id": "9904cf55"
   },
   "source": [
    "### Категоризация данных"
   ]
  },
  {
   "cell_type": "markdown",
   "id": "a6342155",
   "metadata": {
    "deletable": false,
    "editable": false,
    "id": "72fcc8a2",
    "tags": [
     "start_task"
    ]
   },
   "source": [
    "**Задание 16. На основании диапазонов, указанных ниже, создайте в датафрейме `data` столбец `total_income_category` с категориями:**\n",
    "\n",
    "- 0–30000 — `'E'`;\n",
    "- 30001–50000 — `'D'`;\n",
    "- 50001–200000 — `'C'`;\n",
    "- 200001–1000000 — `'B'`;\n",
    "- 1000001 и выше — `'A'`.\n",
    "\n",
    "\n",
    "**Например, кредитополучателю с доходом 25000 нужно назначить категорию `'E'`, а клиенту, получающему 235000, — `'B'`. Используйте собственную функцию с именем `categorize_income()` и метод `apply()`.**"
   ]
  },
  {
   "cell_type": "code",
   "execution_count": 28,
   "id": "b011aa64",
   "metadata": {
    "id": "e1771346"
   },
   "outputs": [],
   "source": [
    "def categorize_income(total_income):\n",
    "    if total_income<=30000:\n",
    "        return 'E'\n",
    "    if total_income<=50000:\n",
    "        return 'D'\n",
    "    if total_income<=200000:\n",
    "        return 'C'\n",
    "    if total_income<=1000000:\n",
    "        return 'B'\n",
    "    return 'A'"
   ]
  },
  {
   "cell_type": "code",
   "execution_count": 29,
   "id": "13c09bc4",
   "metadata": {
    "id": "d5f3586d"
   },
   "outputs": [],
   "source": [
    "data['total_income_category']=data['total_income'].apply(categorize_income)"
   ]
  },
  {
   "cell_type": "markdown",
   "id": "bad71008",
   "metadata": {
    "deletable": false,
    "editable": false,
    "id": "dde49b5c",
    "tags": [
     "start_task"
    ]
   },
   "source": [
    "**Задание 17. Выведите на экран перечень уникальных целей взятия кредита из столбца `purpose`.**"
   ]
  },
  {
   "cell_type": "code",
   "execution_count": 30,
   "id": "0f7cae65",
   "metadata": {
    "id": "f67ce9b3"
   },
   "outputs": [
    {
     "name": "stdout",
     "output_type": "stream",
     "text": [
      "['покупка жилья' 'приобретение автомобиля' 'дополнительное образование'\n",
      " 'сыграть свадьбу' 'операции с жильем' 'образование'\n",
      " 'на проведение свадьбы' 'покупка жилья для семьи' 'покупка недвижимости'\n",
      " 'покупка коммерческой недвижимости' 'покупка жилой недвижимости'\n",
      " 'строительство собственной недвижимости' 'недвижимость'\n",
      " 'строительство недвижимости' 'на покупку подержанного автомобиля'\n",
      " 'на покупку своего автомобиля' 'операции с коммерческой недвижимостью'\n",
      " 'строительство жилой недвижимости' 'жилье'\n",
      " 'операции со своей недвижимостью' 'автомобили' 'заняться образованием'\n",
      " 'сделка с подержанным автомобилем' 'получение образования' 'автомобиль'\n",
      " 'свадьба' 'получение дополнительного образования' 'покупка своего жилья'\n",
      " 'операции с недвижимостью' 'получение высшего образования'\n",
      " 'свой автомобиль' 'сделка с автомобилем' 'профильное образование'\n",
      " 'высшее образование' 'покупка жилья для сдачи' 'на покупку автомобиля'\n",
      " 'ремонт жилью' 'заняться высшим образованием']\n"
     ]
    }
   ],
   "source": [
    "print(data['purpose'].unique())"
   ]
  },
  {
   "cell_type": "markdown",
   "id": "fbc155ba",
   "metadata": {
    "deletable": false,
    "editable": false,
    "id": "85d0aef0",
    "tags": [
     "start_task"
    ]
   },
   "source": [
    "**Задание 18. Создайте функцию, которая на основании данных из столбца `purpose` сформирует новый столбец `purpose_category`, в который войдут следующие категории:**\n",
    "\n",
    "- `'операции с автомобилем'`,\n",
    "- `'операции с недвижимостью'`,\n",
    "- `'проведение свадьбы'`,\n",
    "- `'получение образования'`.\n",
    "\n",
    "**Например, если в столбце `purpose` находится подстрока `'на покупку автомобиля'`, то в столбце `purpose_category` должна появиться строка `'операции с автомобилем'`.**\n",
    "\n",
    "**Используйте собственную функцию с именем `categorize_purpose()` и метод `apply()`. Изучите данные в столбце `purpose` и определите, какие подстроки помогут вам правильно определить категорию.**"
   ]
  },
  {
   "cell_type": "code",
   "execution_count": 5,
   "id": "838ea122",
   "metadata": {
    "id": "e149fab4"
   },
   "outputs": [],
   "source": [
    "def categorize_purpose(purpose):\n",
    "    if 'жиль' in purpose:\n",
    "        return 'операции с недвижимостью'\n",
    "    if 'недвижим' in purpose:\n",
    "        return 'операции с недвижимостью'\n",
    "    if 'автомоб' in purpose:\n",
    "        return 'операции с автомобилем'\n",
    "    if 'образован' in purpose:\n",
    "        return 'получение образования'\n",
    "    return 'проведение свадьбы'"
   ]
  },
  {
   "cell_type": "code",
   "execution_count": 7,
   "id": "8a486ff4",
   "metadata": {
    "id": "bf36e69b"
   },
   "outputs": [],
   "source": [
    "data['purpose_category']=data['purpose'].apply(categorize_purpose)"
   ]
  },
  {
   "cell_type": "code",
   "execution_count": null,
   "id": "c160d722",
   "metadata": {},
   "outputs": [],
   "source": []
  }
 ],
 "metadata": {
  "ExecuteTimeLog": [
   {
    "duration": 377,
    "start_time": "2022-06-11T08:59:28.430Z"
   },
   {
    "duration": 119,
    "start_time": "2022-06-11T08:59:29.865Z"
   },
   {
    "duration": 9,
    "start_time": "2022-06-11T09:00:10.289Z"
   },
   {
    "duration": 55,
    "start_time": "2022-06-11T09:01:02.274Z"
   },
   {
    "duration": 15,
    "start_time": "2022-06-11T09:01:11.968Z"
   },
   {
    "duration": 52,
    "start_time": "2022-06-14T12:34:52.948Z"
   },
   {
    "duration": 43,
    "start_time": "2022-06-14T12:37:58.102Z"
   },
   {
    "duration": 6,
    "start_time": "2022-06-14T12:38:49.151Z"
   },
   {
    "duration": 8,
    "start_time": "2022-06-14T12:57:11.293Z"
   },
   {
    "duration": 7,
    "start_time": "2022-06-14T13:22:07.181Z"
   },
   {
    "duration": 120,
    "start_time": "2022-06-14T13:24:01.535Z"
   },
   {
    "duration": 10,
    "start_time": "2022-06-14T13:24:05.979Z"
   },
   {
    "duration": 9,
    "start_time": "2022-06-14T13:24:11.758Z"
   },
   {
    "duration": 34,
    "start_time": "2022-06-14T13:24:18.076Z"
   },
   {
    "duration": 13,
    "start_time": "2022-06-14T13:25:08.399Z"
   },
   {
    "duration": 24,
    "start_time": "2022-06-14T13:31:49.957Z"
   },
   {
    "duration": 19,
    "start_time": "2022-06-14T13:38:04.684Z"
   },
   {
    "duration": 4,
    "start_time": "2022-06-14T13:44:04.811Z"
   },
   {
    "duration": 6,
    "start_time": "2022-06-14T13:48:39.349Z"
   },
   {
    "duration": 5,
    "start_time": "2022-06-14T13:49:13.939Z"
   },
   {
    "duration": 30,
    "start_time": "2022-06-14T13:51:04.892Z"
   },
   {
    "duration": 21,
    "start_time": "2022-06-14T14:27:14.172Z"
   },
   {
    "duration": 4,
    "start_time": "2022-06-14T15:40:32.687Z"
   },
   {
    "duration": 4,
    "start_time": "2022-06-14T15:40:36.734Z"
   },
   {
    "duration": 4712,
    "start_time": "2022-06-14T15:47:26.158Z"
   },
   {
    "duration": 3,
    "start_time": "2022-06-14T15:53:17.126Z"
   },
   {
    "duration": 3,
    "start_time": "2022-06-14T15:54:11.020Z"
   },
   {
    "duration": 5,
    "start_time": "2022-06-14T16:33:46.510Z"
   },
   {
    "duration": 5,
    "start_time": "2022-06-14T16:38:10.158Z"
   },
   {
    "duration": 25,
    "start_time": "2022-06-14T16:52:25.537Z"
   },
   {
    "duration": 33,
    "start_time": "2022-06-14T17:00:09.810Z"
   },
   {
    "duration": 5,
    "start_time": "2022-06-14T17:11:20.038Z"
   },
   {
    "duration": 7,
    "start_time": "2022-06-14T17:15:05.463Z"
   },
   {
    "duration": 11,
    "start_time": "2022-06-14T17:16:02.707Z"
   },
   {
    "duration": 21,
    "start_time": "2022-06-14T17:18:36.462Z"
   },
   {
    "duration": 4,
    "start_time": "2022-06-14T17:20:37.203Z"
   },
   {
    "duration": 11,
    "start_time": "2022-06-14T20:41:29.284Z"
   },
   {
    "duration": 48,
    "start_time": "2022-06-14T20:43:29.313Z"
   },
   {
    "duration": 7,
    "start_time": "2022-06-14T20:43:39.585Z"
   },
   {
    "duration": 442,
    "start_time": "2022-06-14T20:43:43.616Z"
   },
   {
    "duration": 129,
    "start_time": "2022-06-14T20:43:45.839Z"
   },
   {
    "duration": 8,
    "start_time": "2022-06-14T20:43:54.728Z"
   },
   {
    "duration": 5,
    "start_time": "2022-06-14T20:44:53.024Z"
   },
   {
    "duration": 34,
    "start_time": "2022-06-14T20:46:40.117Z"
   },
   {
    "duration": 13,
    "start_time": "2022-06-14T20:47:36.832Z"
   },
   {
    "duration": 11,
    "start_time": "2022-06-14T20:47:39.732Z"
   },
   {
    "duration": 25,
    "start_time": "2022-06-14T20:47:47.733Z"
   },
   {
    "duration": 19,
    "start_time": "2022-06-14T20:48:20.852Z"
   },
   {
    "duration": 11,
    "start_time": "2022-06-14T20:50:48.884Z"
   },
   {
    "duration": 71,
    "start_time": "2022-06-14T20:52:57.457Z"
   },
   {
    "duration": 13,
    "start_time": "2022-06-14T20:53:01.424Z"
   },
   {
    "duration": 17,
    "start_time": "2022-06-14T20:53:03.339Z"
   },
   {
    "duration": 28,
    "start_time": "2022-06-14T20:53:13.528Z"
   },
   {
    "duration": 10,
    "start_time": "2022-06-14T20:54:13.331Z"
   },
   {
    "duration": 28,
    "start_time": "2022-06-14T20:54:37.337Z"
   },
   {
    "duration": 29,
    "start_time": "2022-06-14T20:56:19.704Z"
   },
   {
    "duration": 11,
    "start_time": "2022-06-14T20:57:34.374Z"
   },
   {
    "duration": 31,
    "start_time": "2022-06-14T20:58:50.737Z"
   },
   {
    "duration": 9,
    "start_time": "2022-06-14T20:58:54.439Z"
   },
   {
    "duration": 13,
    "start_time": "2022-06-14T20:59:37.826Z"
   },
   {
    "duration": 4,
    "start_time": "2022-06-14T20:59:51.157Z"
   },
   {
    "duration": 4,
    "start_time": "2022-06-14T21:00:05.282Z"
   },
   {
    "duration": 40,
    "start_time": "2022-06-14T21:03:08.504Z"
   },
   {
    "duration": 13,
    "start_time": "2022-06-14T21:03:12.108Z"
   },
   {
    "duration": 52,
    "start_time": "2022-06-15T05:06:31.912Z"
   },
   {
    "duration": 360,
    "start_time": "2022-06-15T05:06:48.004Z"
   },
   {
    "duration": 296,
    "start_time": "2022-06-15T05:06:48.792Z"
   },
   {
    "duration": 14,
    "start_time": "2022-06-15T05:06:56.949Z"
   },
   {
    "duration": 10,
    "start_time": "2022-06-15T05:07:13.245Z"
   },
   {
    "duration": 23,
    "start_time": "2022-06-15T05:07:29.365Z"
   },
   {
    "duration": 9,
    "start_time": "2022-06-15T05:07:56.074Z"
   },
   {
    "duration": 12,
    "start_time": "2022-06-15T05:08:11.426Z"
   },
   {
    "duration": 29,
    "start_time": "2022-06-15T05:08:39.143Z"
   },
   {
    "duration": 9,
    "start_time": "2022-06-15T05:08:45.537Z"
   },
   {
    "duration": 30,
    "start_time": "2022-06-15T05:08:50.429Z"
   },
   {
    "duration": 10,
    "start_time": "2022-06-15T05:08:54.653Z"
   },
   {
    "duration": 5,
    "start_time": "2022-06-15T05:12:19.741Z"
   },
   {
    "duration": 41,
    "start_time": "2022-06-15T05:13:23.018Z"
   },
   {
    "duration": 18,
    "start_time": "2022-06-15T05:14:18.252Z"
   },
   {
    "duration": 19,
    "start_time": "2022-06-15T05:16:46.784Z"
   },
   {
    "duration": 7,
    "start_time": "2022-06-15T05:18:30.793Z"
   },
   {
    "duration": 9,
    "start_time": "2022-06-15T05:29:16.330Z"
   },
   {
    "duration": 8,
    "start_time": "2022-06-15T05:29:34.908Z"
   },
   {
    "duration": 10,
    "start_time": "2022-06-15T05:29:40.772Z"
   },
   {
    "duration": 9,
    "start_time": "2022-06-15T05:29:53.634Z"
   },
   {
    "duration": 8,
    "start_time": "2022-06-15T05:32:19.258Z"
   },
   {
    "duration": 12,
    "start_time": "2022-06-15T06:25:44.065Z"
   },
   {
    "duration": 3,
    "start_time": "2022-06-15T06:26:13.571Z"
   },
   {
    "duration": 67,
    "start_time": "2022-06-15T06:26:14.530Z"
   },
   {
    "duration": 12,
    "start_time": "2022-06-15T06:26:22.092Z"
   },
   {
    "duration": 26,
    "start_time": "2022-06-15T06:36:04.849Z"
   },
   {
    "duration": 3,
    "start_time": "2022-06-15T06:36:46.206Z"
   },
   {
    "duration": 9,
    "start_time": "2022-06-15T06:38:09.016Z"
   },
   {
    "duration": 5,
    "start_time": "2022-06-15T06:39:14.995Z"
   },
   {
    "duration": 429,
    "start_time": "2022-06-15T08:16:06.824Z"
   },
   {
    "duration": 185,
    "start_time": "2022-06-15T08:16:07.303Z"
   },
   {
    "duration": 380,
    "start_time": "2022-06-15T09:42:28.214Z"
   },
   {
    "duration": 161,
    "start_time": "2022-06-15T09:42:28.658Z"
   },
   {
    "duration": 43,
    "start_time": "2022-06-15T09:47:27.690Z"
   },
   {
    "duration": 40,
    "start_time": "2022-06-15T09:47:40.488Z"
   },
   {
    "duration": 3,
    "start_time": "2022-06-15T09:48:01.507Z"
   },
   {
    "duration": 14,
    "start_time": "2022-06-15T09:49:17.474Z"
   },
   {
    "duration": 9,
    "start_time": "2022-06-15T09:49:24.743Z"
   }
  ],
  "colab": {
   "name": "dpp_template_part1.ipynb",
   "provenance": []
  },
  "kernelspec": {
   "display_name": "Python 3 (ipykernel)",
   "language": "python",
   "name": "python3"
  },
  "language_info": {
   "codemirror_mode": {
    "name": "ipython",
    "version": 3
   },
   "file_extension": ".py",
   "mimetype": "text/x-python",
   "name": "python",
   "nbconvert_exporter": "python",
   "pygments_lexer": "ipython3",
   "version": "3.9.12"
  },
  "toc": {
   "base_numbering": 1,
   "nav_menu": {},
   "number_sections": true,
   "sideBar": true,
   "skip_h1_title": true,
   "title_cell": "Table of Contents",
   "title_sidebar": "Contents",
   "toc_cell": false,
   "toc_position": {},
   "toc_section_display": true,
   "toc_window_display": false
  }
 },
 "nbformat": 4,
 "nbformat_minor": 5
}
