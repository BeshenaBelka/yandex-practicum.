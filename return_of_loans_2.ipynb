{
 "cells": [
  {
   "cell_type": "markdown",
   "id": "c81daeeb",
   "metadata": {
    "deletable": false,
    "id": "c81daeeb"
   },
   "source": [
    "# Исследование надежности заемщиков\n"
   ]
  },
  {
   "cell_type": "markdown",
   "id": "827c20bf",
   "metadata": {
    "id": "827c20bf"
   },
   "source": [
    "Во второй части проекта вы выполните шаги 3 и 4. Их вручную проверит ревьюер.\n",
    "Чтобы вам не пришлось писать код заново для шагов 1 и 2, мы добавили авторские решения в ячейки с кодом. \n",
    "\n"
   ]
  },
  {
   "cell_type": "markdown",
   "id": "744d7639",
   "metadata": {
    "deletable": false,
    "id": "744d7639"
   },
   "source": [
    "## Откройте таблицу и изучите общую информацию о данных"
   ]
  },
  {
   "cell_type": "markdown",
   "id": "e7a14c31",
   "metadata": {
    "deletable": false,
    "id": "e7a14c31"
   },
   "source": [
    "**Задание 1. Импортируйте библиотеку pandas. Считайте данные из csv-файла в датафрейм и сохраните в переменную `data`. Путь к файлу:**\n",
    "\n",
    "`/datasets/data.csv`"
   ]
  },
  {
   "cell_type": "code",
   "execution_count": 1,
   "id": "7bcf75c9",
   "metadata": {
    "deletable": false,
    "id": "7bcf75c9"
   },
   "outputs": [],
   "source": [
    "import pandas as pd\n",
    "\n",
    "try:\n",
    "    data = pd.read_csv('/datasets/data.csv')\n",
    "except:\n",
    "    data = pd.read_csv('https://code.s3.yandex.net/datasets/data.csv')"
   ]
  },
  {
   "cell_type": "markdown",
   "id": "b8038fe3",
   "metadata": {
    "deletable": false,
    "id": "b8038fe3"
   },
   "source": [
    "**Задание 2. Выведите первые 20 строчек датафрейма `data` на экран.**"
   ]
  },
  {
   "cell_type": "code",
   "execution_count": 2,
   "id": "2a7cab99",
   "metadata": {
    "deletable": false,
    "id": "2a7cab99",
    "outputId": "1a8f3ef2-d323-4ec2-ddf7-89670b5944c4"
   },
   "outputs": [
    {
     "data": {
      "text/html": [
       "<div>\n",
       "<style scoped>\n",
       "    .dataframe tbody tr th:only-of-type {\n",
       "        vertical-align: middle;\n",
       "    }\n",
       "\n",
       "    .dataframe tbody tr th {\n",
       "        vertical-align: top;\n",
       "    }\n",
       "\n",
       "    .dataframe thead th {\n",
       "        text-align: right;\n",
       "    }\n",
       "</style>\n",
       "<table border=\"1\" class=\"dataframe\">\n",
       "  <thead>\n",
       "    <tr style=\"text-align: right;\">\n",
       "      <th></th>\n",
       "      <th>children</th>\n",
       "      <th>days_employed</th>\n",
       "      <th>dob_years</th>\n",
       "      <th>education</th>\n",
       "      <th>education_id</th>\n",
       "      <th>family_status</th>\n",
       "      <th>family_status_id</th>\n",
       "      <th>gender</th>\n",
       "      <th>income_type</th>\n",
       "      <th>debt</th>\n",
       "      <th>total_income</th>\n",
       "      <th>purpose</th>\n",
       "    </tr>\n",
       "  </thead>\n",
       "  <tbody>\n",
       "    <tr>\n",
       "      <th>0</th>\n",
       "      <td>1</td>\n",
       "      <td>-8437.673028</td>\n",
       "      <td>42</td>\n",
       "      <td>высшее</td>\n",
       "      <td>0</td>\n",
       "      <td>женат / замужем</td>\n",
       "      <td>0</td>\n",
       "      <td>F</td>\n",
       "      <td>сотрудник</td>\n",
       "      <td>0</td>\n",
       "      <td>253875.639453</td>\n",
       "      <td>покупка жилья</td>\n",
       "    </tr>\n",
       "    <tr>\n",
       "      <th>1</th>\n",
       "      <td>1</td>\n",
       "      <td>-4024.803754</td>\n",
       "      <td>36</td>\n",
       "      <td>среднее</td>\n",
       "      <td>1</td>\n",
       "      <td>женат / замужем</td>\n",
       "      <td>0</td>\n",
       "      <td>F</td>\n",
       "      <td>сотрудник</td>\n",
       "      <td>0</td>\n",
       "      <td>112080.014102</td>\n",
       "      <td>приобретение автомобиля</td>\n",
       "    </tr>\n",
       "    <tr>\n",
       "      <th>2</th>\n",
       "      <td>0</td>\n",
       "      <td>-5623.422610</td>\n",
       "      <td>33</td>\n",
       "      <td>Среднее</td>\n",
       "      <td>1</td>\n",
       "      <td>женат / замужем</td>\n",
       "      <td>0</td>\n",
       "      <td>M</td>\n",
       "      <td>сотрудник</td>\n",
       "      <td>0</td>\n",
       "      <td>145885.952297</td>\n",
       "      <td>покупка жилья</td>\n",
       "    </tr>\n",
       "    <tr>\n",
       "      <th>3</th>\n",
       "      <td>3</td>\n",
       "      <td>-4124.747207</td>\n",
       "      <td>32</td>\n",
       "      <td>среднее</td>\n",
       "      <td>1</td>\n",
       "      <td>женат / замужем</td>\n",
       "      <td>0</td>\n",
       "      <td>M</td>\n",
       "      <td>сотрудник</td>\n",
       "      <td>0</td>\n",
       "      <td>267628.550329</td>\n",
       "      <td>дополнительное образование</td>\n",
       "    </tr>\n",
       "    <tr>\n",
       "      <th>4</th>\n",
       "      <td>0</td>\n",
       "      <td>340266.072047</td>\n",
       "      <td>53</td>\n",
       "      <td>среднее</td>\n",
       "      <td>1</td>\n",
       "      <td>гражданский брак</td>\n",
       "      <td>1</td>\n",
       "      <td>F</td>\n",
       "      <td>пенсионер</td>\n",
       "      <td>0</td>\n",
       "      <td>158616.077870</td>\n",
       "      <td>сыграть свадьбу</td>\n",
       "    </tr>\n",
       "    <tr>\n",
       "      <th>5</th>\n",
       "      <td>0</td>\n",
       "      <td>-926.185831</td>\n",
       "      <td>27</td>\n",
       "      <td>высшее</td>\n",
       "      <td>0</td>\n",
       "      <td>гражданский брак</td>\n",
       "      <td>1</td>\n",
       "      <td>M</td>\n",
       "      <td>компаньон</td>\n",
       "      <td>0</td>\n",
       "      <td>255763.565419</td>\n",
       "      <td>покупка жилья</td>\n",
       "    </tr>\n",
       "    <tr>\n",
       "      <th>6</th>\n",
       "      <td>0</td>\n",
       "      <td>-2879.202052</td>\n",
       "      <td>43</td>\n",
       "      <td>высшее</td>\n",
       "      <td>0</td>\n",
       "      <td>женат / замужем</td>\n",
       "      <td>0</td>\n",
       "      <td>F</td>\n",
       "      <td>компаньон</td>\n",
       "      <td>0</td>\n",
       "      <td>240525.971920</td>\n",
       "      <td>операции с жильем</td>\n",
       "    </tr>\n",
       "    <tr>\n",
       "      <th>7</th>\n",
       "      <td>0</td>\n",
       "      <td>-152.779569</td>\n",
       "      <td>50</td>\n",
       "      <td>СРЕДНЕЕ</td>\n",
       "      <td>1</td>\n",
       "      <td>женат / замужем</td>\n",
       "      <td>0</td>\n",
       "      <td>M</td>\n",
       "      <td>сотрудник</td>\n",
       "      <td>0</td>\n",
       "      <td>135823.934197</td>\n",
       "      <td>образование</td>\n",
       "    </tr>\n",
       "    <tr>\n",
       "      <th>8</th>\n",
       "      <td>2</td>\n",
       "      <td>-6929.865299</td>\n",
       "      <td>35</td>\n",
       "      <td>ВЫСШЕЕ</td>\n",
       "      <td>0</td>\n",
       "      <td>гражданский брак</td>\n",
       "      <td>1</td>\n",
       "      <td>F</td>\n",
       "      <td>сотрудник</td>\n",
       "      <td>0</td>\n",
       "      <td>95856.832424</td>\n",
       "      <td>на проведение свадьбы</td>\n",
       "    </tr>\n",
       "    <tr>\n",
       "      <th>9</th>\n",
       "      <td>0</td>\n",
       "      <td>-2188.756445</td>\n",
       "      <td>41</td>\n",
       "      <td>среднее</td>\n",
       "      <td>1</td>\n",
       "      <td>женат / замужем</td>\n",
       "      <td>0</td>\n",
       "      <td>M</td>\n",
       "      <td>сотрудник</td>\n",
       "      <td>0</td>\n",
       "      <td>144425.938277</td>\n",
       "      <td>покупка жилья для семьи</td>\n",
       "    </tr>\n",
       "    <tr>\n",
       "      <th>10</th>\n",
       "      <td>2</td>\n",
       "      <td>-4171.483647</td>\n",
       "      <td>36</td>\n",
       "      <td>высшее</td>\n",
       "      <td>0</td>\n",
       "      <td>женат / замужем</td>\n",
       "      <td>0</td>\n",
       "      <td>M</td>\n",
       "      <td>компаньон</td>\n",
       "      <td>0</td>\n",
       "      <td>113943.491460</td>\n",
       "      <td>покупка недвижимости</td>\n",
       "    </tr>\n",
       "    <tr>\n",
       "      <th>11</th>\n",
       "      <td>0</td>\n",
       "      <td>-792.701887</td>\n",
       "      <td>40</td>\n",
       "      <td>среднее</td>\n",
       "      <td>1</td>\n",
       "      <td>женат / замужем</td>\n",
       "      <td>0</td>\n",
       "      <td>F</td>\n",
       "      <td>сотрудник</td>\n",
       "      <td>0</td>\n",
       "      <td>77069.234271</td>\n",
       "      <td>покупка коммерческой недвижимости</td>\n",
       "    </tr>\n",
       "    <tr>\n",
       "      <th>12</th>\n",
       "      <td>0</td>\n",
       "      <td>NaN</td>\n",
       "      <td>65</td>\n",
       "      <td>среднее</td>\n",
       "      <td>1</td>\n",
       "      <td>гражданский брак</td>\n",
       "      <td>1</td>\n",
       "      <td>M</td>\n",
       "      <td>пенсионер</td>\n",
       "      <td>0</td>\n",
       "      <td>NaN</td>\n",
       "      <td>сыграть свадьбу</td>\n",
       "    </tr>\n",
       "    <tr>\n",
       "      <th>13</th>\n",
       "      <td>0</td>\n",
       "      <td>-1846.641941</td>\n",
       "      <td>54</td>\n",
       "      <td>неоконченное высшее</td>\n",
       "      <td>2</td>\n",
       "      <td>женат / замужем</td>\n",
       "      <td>0</td>\n",
       "      <td>F</td>\n",
       "      <td>сотрудник</td>\n",
       "      <td>0</td>\n",
       "      <td>130458.228857</td>\n",
       "      <td>приобретение автомобиля</td>\n",
       "    </tr>\n",
       "    <tr>\n",
       "      <th>14</th>\n",
       "      <td>0</td>\n",
       "      <td>-1844.956182</td>\n",
       "      <td>56</td>\n",
       "      <td>высшее</td>\n",
       "      <td>0</td>\n",
       "      <td>гражданский брак</td>\n",
       "      <td>1</td>\n",
       "      <td>F</td>\n",
       "      <td>компаньон</td>\n",
       "      <td>1</td>\n",
       "      <td>165127.911772</td>\n",
       "      <td>покупка жилой недвижимости</td>\n",
       "    </tr>\n",
       "    <tr>\n",
       "      <th>15</th>\n",
       "      <td>1</td>\n",
       "      <td>-972.364419</td>\n",
       "      <td>26</td>\n",
       "      <td>среднее</td>\n",
       "      <td>1</td>\n",
       "      <td>женат / замужем</td>\n",
       "      <td>0</td>\n",
       "      <td>F</td>\n",
       "      <td>сотрудник</td>\n",
       "      <td>0</td>\n",
       "      <td>116820.904450</td>\n",
       "      <td>строительство собственной недвижимости</td>\n",
       "    </tr>\n",
       "    <tr>\n",
       "      <th>16</th>\n",
       "      <td>0</td>\n",
       "      <td>-1719.934226</td>\n",
       "      <td>35</td>\n",
       "      <td>среднее</td>\n",
       "      <td>1</td>\n",
       "      <td>женат / замужем</td>\n",
       "      <td>0</td>\n",
       "      <td>F</td>\n",
       "      <td>сотрудник</td>\n",
       "      <td>0</td>\n",
       "      <td>289202.704229</td>\n",
       "      <td>недвижимость</td>\n",
       "    </tr>\n",
       "    <tr>\n",
       "      <th>17</th>\n",
       "      <td>0</td>\n",
       "      <td>-2369.999720</td>\n",
       "      <td>33</td>\n",
       "      <td>высшее</td>\n",
       "      <td>0</td>\n",
       "      <td>гражданский брак</td>\n",
       "      <td>1</td>\n",
       "      <td>M</td>\n",
       "      <td>сотрудник</td>\n",
       "      <td>0</td>\n",
       "      <td>90410.586745</td>\n",
       "      <td>строительство недвижимости</td>\n",
       "    </tr>\n",
       "    <tr>\n",
       "      <th>18</th>\n",
       "      <td>0</td>\n",
       "      <td>400281.136913</td>\n",
       "      <td>53</td>\n",
       "      <td>среднее</td>\n",
       "      <td>1</td>\n",
       "      <td>вдовец / вдова</td>\n",
       "      <td>2</td>\n",
       "      <td>F</td>\n",
       "      <td>пенсионер</td>\n",
       "      <td>0</td>\n",
       "      <td>56823.777243</td>\n",
       "      <td>на покупку подержанного автомобиля</td>\n",
       "    </tr>\n",
       "    <tr>\n",
       "      <th>19</th>\n",
       "      <td>0</td>\n",
       "      <td>-10038.818549</td>\n",
       "      <td>48</td>\n",
       "      <td>СРЕДНЕЕ</td>\n",
       "      <td>1</td>\n",
       "      <td>в разводе</td>\n",
       "      <td>3</td>\n",
       "      <td>F</td>\n",
       "      <td>сотрудник</td>\n",
       "      <td>0</td>\n",
       "      <td>242831.107982</td>\n",
       "      <td>на покупку своего автомобиля</td>\n",
       "    </tr>\n",
       "  </tbody>\n",
       "</table>\n",
       "</div>"
      ],
      "text/plain": [
       "    children  days_employed  dob_years            education  education_id  \\\n",
       "0          1   -8437.673028         42               высшее             0   \n",
       "1          1   -4024.803754         36              среднее             1   \n",
       "2          0   -5623.422610         33              Среднее             1   \n",
       "3          3   -4124.747207         32              среднее             1   \n",
       "4          0  340266.072047         53              среднее             1   \n",
       "5          0    -926.185831         27               высшее             0   \n",
       "6          0   -2879.202052         43               высшее             0   \n",
       "7          0    -152.779569         50              СРЕДНЕЕ             1   \n",
       "8          2   -6929.865299         35               ВЫСШЕЕ             0   \n",
       "9          0   -2188.756445         41              среднее             1   \n",
       "10         2   -4171.483647         36               высшее             0   \n",
       "11         0    -792.701887         40              среднее             1   \n",
       "12         0            NaN         65              среднее             1   \n",
       "13         0   -1846.641941         54  неоконченное высшее             2   \n",
       "14         0   -1844.956182         56               высшее             0   \n",
       "15         1    -972.364419         26              среднее             1   \n",
       "16         0   -1719.934226         35              среднее             1   \n",
       "17         0   -2369.999720         33               высшее             0   \n",
       "18         0  400281.136913         53              среднее             1   \n",
       "19         0  -10038.818549         48              СРЕДНЕЕ             1   \n",
       "\n",
       "       family_status  family_status_id gender income_type  debt  \\\n",
       "0    женат / замужем                 0      F   сотрудник     0   \n",
       "1    женат / замужем                 0      F   сотрудник     0   \n",
       "2    женат / замужем                 0      M   сотрудник     0   \n",
       "3    женат / замужем                 0      M   сотрудник     0   \n",
       "4   гражданский брак                 1      F   пенсионер     0   \n",
       "5   гражданский брак                 1      M   компаньон     0   \n",
       "6    женат / замужем                 0      F   компаньон     0   \n",
       "7    женат / замужем                 0      M   сотрудник     0   \n",
       "8   гражданский брак                 1      F   сотрудник     0   \n",
       "9    женат / замужем                 0      M   сотрудник     0   \n",
       "10   женат / замужем                 0      M   компаньон     0   \n",
       "11   женат / замужем                 0      F   сотрудник     0   \n",
       "12  гражданский брак                 1      M   пенсионер     0   \n",
       "13   женат / замужем                 0      F   сотрудник     0   \n",
       "14  гражданский брак                 1      F   компаньон     1   \n",
       "15   женат / замужем                 0      F   сотрудник     0   \n",
       "16   женат / замужем                 0      F   сотрудник     0   \n",
       "17  гражданский брак                 1      M   сотрудник     0   \n",
       "18    вдовец / вдова                 2      F   пенсионер     0   \n",
       "19         в разводе                 3      F   сотрудник     0   \n",
       "\n",
       "     total_income                                 purpose  \n",
       "0   253875.639453                           покупка жилья  \n",
       "1   112080.014102                 приобретение автомобиля  \n",
       "2   145885.952297                           покупка жилья  \n",
       "3   267628.550329              дополнительное образование  \n",
       "4   158616.077870                         сыграть свадьбу  \n",
       "5   255763.565419                           покупка жилья  \n",
       "6   240525.971920                       операции с жильем  \n",
       "7   135823.934197                             образование  \n",
       "8    95856.832424                   на проведение свадьбы  \n",
       "9   144425.938277                 покупка жилья для семьи  \n",
       "10  113943.491460                    покупка недвижимости  \n",
       "11   77069.234271       покупка коммерческой недвижимости  \n",
       "12            NaN                         сыграть свадьбу  \n",
       "13  130458.228857                 приобретение автомобиля  \n",
       "14  165127.911772              покупка жилой недвижимости  \n",
       "15  116820.904450  строительство собственной недвижимости  \n",
       "16  289202.704229                            недвижимость  \n",
       "17   90410.586745              строительство недвижимости  \n",
       "18   56823.777243      на покупку подержанного автомобиля  \n",
       "19  242831.107982            на покупку своего автомобиля  "
      ]
     },
     "execution_count": 2,
     "metadata": {},
     "output_type": "execute_result"
    }
   ],
   "source": [
    "data.head(20)"
   ]
  },
  {
   "cell_type": "markdown",
   "id": "1c12e233",
   "metadata": {
    "deletable": false,
    "id": "1c12e233"
   },
   "source": [
    "**Задание 3. Выведите основную информацию о датафрейме с помощью метода `info()`.**"
   ]
  },
  {
   "cell_type": "code",
   "execution_count": 3,
   "id": "2b757bca",
   "metadata": {
    "deletable": false,
    "id": "2b757bca",
    "outputId": "15376089-8dad-46c9-b520-c05248d43158"
   },
   "outputs": [
    {
     "name": "stdout",
     "output_type": "stream",
     "text": [
      "<class 'pandas.core.frame.DataFrame'>\n",
      "RangeIndex: 21525 entries, 0 to 21524\n",
      "Data columns (total 12 columns):\n",
      " #   Column            Non-Null Count  Dtype  \n",
      "---  ------            --------------  -----  \n",
      " 0   children          21525 non-null  int64  \n",
      " 1   days_employed     19351 non-null  float64\n",
      " 2   dob_years         21525 non-null  int64  \n",
      " 3   education         21525 non-null  object \n",
      " 4   education_id      21525 non-null  int64  \n",
      " 5   family_status     21525 non-null  object \n",
      " 6   family_status_id  21525 non-null  int64  \n",
      " 7   gender            21525 non-null  object \n",
      " 8   income_type       21525 non-null  object \n",
      " 9   debt              21525 non-null  int64  \n",
      " 10  total_income      19351 non-null  float64\n",
      " 11  purpose           21525 non-null  object \n",
      "dtypes: float64(2), int64(5), object(5)\n",
      "memory usage: 2.0+ MB\n"
     ]
    }
   ],
   "source": [
    "data.info()"
   ]
  },
  {
   "cell_type": "markdown",
   "id": "333ec665",
   "metadata": {
    "deletable": false,
    "id": "333ec665"
   },
   "source": [
    "## Предобработка данных"
   ]
  },
  {
   "cell_type": "markdown",
   "id": "02d92d53",
   "metadata": {
    "deletable": false,
    "id": "02d92d53"
   },
   "source": [
    "### Удаление пропусков"
   ]
  },
  {
   "cell_type": "markdown",
   "id": "cd84967c",
   "metadata": {
    "deletable": false,
    "id": "cd84967c"
   },
   "source": [
    "**Задание 4. Выведите количество пропущенных значений для каждого столбца. Используйте комбинацию двух методов.**"
   ]
  },
  {
   "cell_type": "code",
   "execution_count": 4,
   "id": "7f9b2309",
   "metadata": {
    "deletable": false,
    "id": "7f9b2309",
    "outputId": "81f4d817-781c-465c-ed15-91ce4446810d"
   },
   "outputs": [
    {
     "data": {
      "text/plain": [
       "children               0\n",
       "days_employed       2174\n",
       "dob_years              0\n",
       "education              0\n",
       "education_id           0\n",
       "family_status          0\n",
       "family_status_id       0\n",
       "gender                 0\n",
       "income_type            0\n",
       "debt                   0\n",
       "total_income        2174\n",
       "purpose                0\n",
       "dtype: int64"
      ]
     },
     "execution_count": 4,
     "metadata": {},
     "output_type": "execute_result"
    }
   ],
   "source": [
    "data.isna().sum()"
   ]
  },
  {
   "cell_type": "markdown",
   "id": "db86e27b",
   "metadata": {
    "deletable": false,
    "id": "db86e27b"
   },
   "source": [
    "**Задание 5. В двух столбцах есть пропущенные значения. Один из них — `days_employed`. Пропуски в этом столбце вы обработаете на следующем этапе. Другой столбец с пропущенными значениями — `total_income` — хранит данные о доходах. На сумму дохода сильнее всего влияет тип занятости, поэтому заполнить пропуски в этом столбце нужно медианным значением по каждому типу из столбца `income_type`. Например, у человека с типом занятости `сотрудник` пропуск в столбце `total_income` должен быть заполнен медианным доходом среди всех записей с тем же типом.**"
   ]
  },
  {
   "cell_type": "code",
   "execution_count": 5,
   "id": "42006a93",
   "metadata": {
    "deletable": false,
    "id": "42006a93"
   },
   "outputs": [],
   "source": [
    "for t in data['income_type'].unique():\n",
    "    data.loc[(data['income_type'] == t) & (data['total_income'].isna()), 'total_income'] = \\\n",
    "    data.loc[(data['income_type'] == t), 'total_income'].median()"
   ]
  },
  {
   "cell_type": "markdown",
   "id": "89da5ece",
   "metadata": {
    "deletable": false,
    "id": "89da5ece"
   },
   "source": [
    "### Обработка аномальных значений"
   ]
  },
  {
   "cell_type": "markdown",
   "id": "57964554",
   "metadata": {
    "deletable": false,
    "id": "57964554"
   },
   "source": [
    "**Задание 6. В данных могут встречаться артефакты (аномалии) — значения, которые не отражают действительность и появились по какой-то ошибке. таким артефактом будет отрицательное количество дней трудового стажа в столбце `days_employed`. Для реальных данных это нормально. Обработайте значения в этом столбце: замените все отрицательные значения положительными с помощью метода `abs()`.**"
   ]
  },
  {
   "cell_type": "code",
   "execution_count": 6,
   "id": "f6f055bf",
   "metadata": {
    "deletable": false,
    "id": "f6f055bf"
   },
   "outputs": [],
   "source": [
    "data['days_employed'] = data['days_employed'].abs()"
   ]
  },
  {
   "cell_type": "markdown",
   "id": "6107dd2f",
   "metadata": {
    "deletable": false,
    "id": "6107dd2f"
   },
   "source": [
    "**Задание 7. Для каждого типа занятости выведите медианное значение трудового стажа `days_employed` в днях.**"
   ]
  },
  {
   "cell_type": "code",
   "execution_count": 7,
   "id": "85a5faf6",
   "metadata": {
    "deletable": false,
    "id": "85a5faf6",
    "outputId": "801ef80e-522b-4668-f34e-565af7432bcf"
   },
   "outputs": [
    {
     "data": {
      "text/plain": [
       "income_type\n",
       "безработный        366413.652744\n",
       "в декрете            3296.759962\n",
       "госслужащий          2689.368353\n",
       "компаньон            1547.382223\n",
       "пенсионер          365213.306266\n",
       "предприниматель       520.848083\n",
       "сотрудник            1574.202821\n",
       "студент               578.751554\n",
       "Name: days_employed, dtype: float64"
      ]
     },
     "execution_count": 7,
     "metadata": {},
     "output_type": "execute_result"
    }
   ],
   "source": [
    "data.groupby('income_type')['days_employed'].agg('median')"
   ]
  },
  {
   "cell_type": "markdown",
   "id": "38d1a030",
   "metadata": {
    "deletable": false,
    "id": "38d1a030"
   },
   "source": [
    "У двух типов (безработные и пенсионеры) получатся аномально большие значения. Исправить такие значения сложно, поэтому оставьте их как есть. Тем более этот столбец не понадобится вам для исследования."
   ]
  },
  {
   "cell_type": "markdown",
   "id": "d8a9f147",
   "metadata": {
    "deletable": false,
    "id": "d8a9f147"
   },
   "source": [
    "**Задание 8. Выведите перечень уникальных значений столбца `children`.**"
   ]
  },
  {
   "cell_type": "code",
   "execution_count": 8,
   "id": "ef5056eb",
   "metadata": {
    "deletable": false,
    "id": "ef5056eb",
    "outputId": "6975b15c-7f95-4697-d16d-a0c79b657b03"
   },
   "outputs": [
    {
     "data": {
      "text/plain": [
       "array([ 1,  0,  3,  2, -1,  4, 20,  5])"
      ]
     },
     "execution_count": 8,
     "metadata": {},
     "output_type": "execute_result"
    }
   ],
   "source": [
    "data['children'].unique()"
   ]
  },
  {
   "cell_type": "markdown",
   "id": "40b9ebf2",
   "metadata": {
    "deletable": false,
    "id": "40b9ebf2"
   },
   "source": [
    "**Задание 9. В столбце `children` есть два аномальных значения. Удалите строки, в которых встречаются такие аномальные значения из датафрейма `data`.**"
   ]
  },
  {
   "cell_type": "code",
   "execution_count": 9,
   "id": "3ff9801d",
   "metadata": {
    "deletable": false,
    "id": "3ff9801d"
   },
   "outputs": [],
   "source": [
    "data = data[(data['children'] != -1) & (data['children'] != 20)]"
   ]
  },
  {
   "cell_type": "markdown",
   "id": "bbc4d0ce",
   "metadata": {
    "deletable": false,
    "id": "bbc4d0ce"
   },
   "source": [
    "**Задание 10. Ещё раз выведите перечень уникальных значений столбца `children`, чтобы убедиться, что артефакты удалены.**"
   ]
  },
  {
   "cell_type": "code",
   "execution_count": 10,
   "id": "ad4fa8b7",
   "metadata": {
    "deletable": false,
    "id": "ad4fa8b7",
    "outputId": "b2097101-d49d-44d9-901b-32a65c9463d1"
   },
   "outputs": [
    {
     "data": {
      "text/plain": [
       "array([1, 0, 3, 2, 4, 5])"
      ]
     },
     "execution_count": 10,
     "metadata": {},
     "output_type": "execute_result"
    }
   ],
   "source": [
    "data['children'].unique()"
   ]
  },
  {
   "cell_type": "markdown",
   "id": "75440b63",
   "metadata": {
    "deletable": false,
    "id": "75440b63"
   },
   "source": [
    "### Удаление пропусков (продолжение)"
   ]
  },
  {
   "cell_type": "markdown",
   "id": "f4ea573f",
   "metadata": {
    "deletable": false,
    "id": "f4ea573f"
   },
   "source": [
    "**Задание 11. Заполните пропуски в столбце `days_employed` медианными значениями по каждого типа занятости `income_type`.**"
   ]
  },
  {
   "cell_type": "code",
   "execution_count": 11,
   "id": "af6b1a7e",
   "metadata": {
    "deletable": false,
    "id": "af6b1a7e"
   },
   "outputs": [],
   "source": [
    "for t in data['income_type'].unique():\n",
    "    data.loc[(data['income_type'] == t) & (data['days_employed'].isna()), 'days_employed'] = \\\n",
    "    data.loc[(data['income_type'] == t), 'days_employed'].median()"
   ]
  },
  {
   "cell_type": "markdown",
   "id": "2753f40d",
   "metadata": {
    "deletable": false,
    "id": "2753f40d"
   },
   "source": [
    "**Задание 12. Убедитесь, что все пропуски заполнены. Проверьте себя и ещё раз выведите количество пропущенных значений для каждого столбца с помощью двух методов.**"
   ]
  },
  {
   "cell_type": "code",
   "execution_count": 12,
   "id": "55f78bc2",
   "metadata": {
    "deletable": false,
    "id": "55f78bc2",
    "outputId": "8da1e4e1-358e-4e87-98c9-f261bce0a7b2"
   },
   "outputs": [
    {
     "data": {
      "text/plain": [
       "children            0\n",
       "days_employed       0\n",
       "dob_years           0\n",
       "education           0\n",
       "education_id        0\n",
       "family_status       0\n",
       "family_status_id    0\n",
       "gender              0\n",
       "income_type         0\n",
       "debt                0\n",
       "total_income        0\n",
       "purpose             0\n",
       "dtype: int64"
      ]
     },
     "execution_count": 12,
     "metadata": {},
     "output_type": "execute_result"
    }
   ],
   "source": [
    "data.isna().sum()"
   ]
  },
  {
   "cell_type": "markdown",
   "id": "ddc81e43",
   "metadata": {
    "deletable": false,
    "id": "ddc81e43"
   },
   "source": [
    "### Изменение типов данных"
   ]
  },
  {
   "cell_type": "markdown",
   "id": "42d19d24",
   "metadata": {
    "deletable": false,
    "id": "42d19d24"
   },
   "source": [
    "**Задание 13. Замените вещественный тип данных в столбце `total_income` на целочисленный с помощью метода `astype()`.**"
   ]
  },
  {
   "cell_type": "code",
   "execution_count": 13,
   "id": "920b65ad",
   "metadata": {
    "deletable": false,
    "id": "920b65ad"
   },
   "outputs": [],
   "source": [
    "data['total_income'] = data['total_income'].astype(int)"
   ]
  },
  {
   "cell_type": "markdown",
   "id": "80c420ba",
   "metadata": {
    "deletable": false,
    "id": "80c420ba"
   },
   "source": [
    "### Обработка дубликатов"
   ]
  },
  {
   "cell_type": "markdown",
   "id": "dc587695",
   "metadata": {
    "deletable": false,
    "id": "dc587695"
   },
   "source": [
    "**Задание 14. Выведите на экран количество строк-дубликатов в данных. Если такие строки присутствуют, удалите их.**"
   ]
  },
  {
   "cell_type": "code",
   "execution_count": 14,
   "id": "3ee445e4",
   "metadata": {
    "deletable": false,
    "id": "3ee445e4",
    "outputId": "9684deba-1934-42d1-99e1-cda61740f822"
   },
   "outputs": [
    {
     "data": {
      "text/plain": [
       "54"
      ]
     },
     "execution_count": 14,
     "metadata": {},
     "output_type": "execute_result"
    }
   ],
   "source": [
    "data.duplicated().sum()"
   ]
  },
  {
   "cell_type": "code",
   "execution_count": 15,
   "id": "8575fe05",
   "metadata": {
    "deletable": false,
    "id": "8575fe05"
   },
   "outputs": [],
   "source": [
    "data = data.drop_duplicates()"
   ]
  },
  {
   "cell_type": "markdown",
   "id": "9771a76c",
   "metadata": {
    "deletable": false,
    "id": "9771a76c"
   },
   "source": [
    "**Задание 15. Обработайте неявные дубликаты в столбце `education`. В этом столбце есть одни и те же значения, но записанные по-разному: с использованием заглавных и строчных букв. Приведите их к нижнему регистру. Проверьте остальные столбцы.**"
   ]
  },
  {
   "cell_type": "code",
   "execution_count": 16,
   "id": "a9f8e2bf",
   "metadata": {
    "deletable": false,
    "id": "a9f8e2bf"
   },
   "outputs": [],
   "source": [
    "data['education'] = data['education'].str.lower()"
   ]
  },
  {
   "cell_type": "markdown",
   "id": "9904cf55",
   "metadata": {
    "deletable": false,
    "id": "9904cf55"
   },
   "source": [
    "### Категоризация данных"
   ]
  },
  {
   "cell_type": "markdown",
   "id": "72fcc8a2",
   "metadata": {
    "deletable": false,
    "id": "72fcc8a2"
   },
   "source": [
    "**Задание 16. На основании диапазонов, указанных ниже, создайте в датафрейме `data` столбец `total_income_category` с категориями:**\n",
    "\n",
    "- 0–30000 — `'E'`;\n",
    "- 30001–50000 — `'D'`;\n",
    "- 50001–200000 — `'C'`;\n",
    "- 200001–1000000 — `'B'`;\n",
    "- 1000001 и выше — `'A'`.\n",
    "\n",
    "\n",
    "**Например, кредитополучателю с доходом 25000 нужно назначить категорию `'E'`, а клиенту, получающему 235000, — `'B'`. Используйте собственную функцию с именем `categorize_income()` и метод `apply()`.**"
   ]
  },
  {
   "cell_type": "code",
   "execution_count": 17,
   "id": "e1771346",
   "metadata": {
    "deletable": false,
    "id": "e1771346"
   },
   "outputs": [],
   "source": [
    "def categorize_income(income):\n",
    "    try:\n",
    "        if 0 <= income <= 30000:\n",
    "            return 'E'\n",
    "        elif 30001 <= income <= 50000:\n",
    "            return 'D'\n",
    "        elif 50001 <= income <= 200000:\n",
    "            return 'C'\n",
    "        elif 200001 <= income <= 1000000:\n",
    "            return 'B'\n",
    "        elif income >= 1000001:\n",
    "            return 'A'\n",
    "    except:\n",
    "        pass"
   ]
  },
  {
   "cell_type": "code",
   "execution_count": 18,
   "id": "d5f3586d",
   "metadata": {
    "deletable": false,
    "id": "d5f3586d"
   },
   "outputs": [],
   "source": [
    "data['total_income_category'] = data['total_income'].apply(categorize_income)"
   ]
  },
  {
   "cell_type": "markdown",
   "id": "dde49b5c",
   "metadata": {
    "deletable": false,
    "id": "dde49b5c"
   },
   "source": [
    "**Задание 17. Выведите на экран перечень уникальных целей взятия кредита из столбца `purpose`.**"
   ]
  },
  {
   "cell_type": "code",
   "execution_count": 19,
   "id": "f67ce9b3",
   "metadata": {
    "deletable": false,
    "id": "f67ce9b3",
    "outputId": "673c12d9-7d7e-4ae0-9812-c622c89dd244"
   },
   "outputs": [
    {
     "data": {
      "text/plain": [
       "array(['покупка жилья', 'приобретение автомобиля',\n",
       "       'дополнительное образование', 'сыграть свадьбу',\n",
       "       'операции с жильем', 'образование', 'на проведение свадьбы',\n",
       "       'покупка жилья для семьи', 'покупка недвижимости',\n",
       "       'покупка коммерческой недвижимости', 'покупка жилой недвижимости',\n",
       "       'строительство собственной недвижимости', 'недвижимость',\n",
       "       'строительство недвижимости', 'на покупку подержанного автомобиля',\n",
       "       'на покупку своего автомобиля',\n",
       "       'операции с коммерческой недвижимостью',\n",
       "       'строительство жилой недвижимости', 'жилье',\n",
       "       'операции со своей недвижимостью', 'автомобили',\n",
       "       'заняться образованием', 'сделка с подержанным автомобилем',\n",
       "       'получение образования', 'автомобиль', 'свадьба',\n",
       "       'получение дополнительного образования', 'покупка своего жилья',\n",
       "       'операции с недвижимостью', 'получение высшего образования',\n",
       "       'свой автомобиль', 'сделка с автомобилем',\n",
       "       'профильное образование', 'высшее образование',\n",
       "       'покупка жилья для сдачи', 'на покупку автомобиля', 'ремонт жилью',\n",
       "       'заняться высшим образованием'], dtype=object)"
      ]
     },
     "execution_count": 19,
     "metadata": {},
     "output_type": "execute_result"
    }
   ],
   "source": [
    "data['purpose'].unique()"
   ]
  },
  {
   "cell_type": "markdown",
   "id": "85d0aef0",
   "metadata": {
    "deletable": false,
    "id": "85d0aef0"
   },
   "source": [
    "**Задание 18. Создайте функцию, которая на основании данных из столбца `purpose` сформирует новый столбец `purpose_category`, в который войдут следующие категории:**\n",
    "\n",
    "- `'операции с автомобилем'`,\n",
    "- `'операции с недвижимостью'`,\n",
    "- `'проведение свадьбы'`,\n",
    "- `'получение образования'`.\n",
    "\n",
    "**Например, если в столбце `purpose` находится подстрока `'на покупку автомобиля'`, то в столбце `purpose_category` должна появиться строка `'операции с автомобилем'`.**\n",
    "\n",
    "**Используйте собственную функцию с именем `categorize_purpose()` и метод `apply()`. Изучите данные в столбце `purpose` и определите, какие подстроки помогут вам правильно определить категорию.**"
   ]
  },
  {
   "cell_type": "code",
   "execution_count": 20,
   "id": "e149fab4",
   "metadata": {
    "deletable": false,
    "id": "e149fab4"
   },
   "outputs": [],
   "source": [
    "def categorize_purpose(row):\n",
    "    try:\n",
    "        if 'автом' in row:\n",
    "            return 'операции с автомобилем'\n",
    "        elif 'жил' in row or 'недвиж' in row:\n",
    "            return 'операции с недвижимостью'\n",
    "        elif 'свад' in row:\n",
    "            return 'проведение свадьбы'\n",
    "        elif 'образов' in row:\n",
    "            return 'получение образования'\n",
    "    except:\n",
    "        return 'нет категории'"
   ]
  },
  {
   "cell_type": "code",
   "execution_count": 21,
   "id": "bf36e69b",
   "metadata": {
    "deletable": false,
    "id": "bf36e69b"
   },
   "outputs": [],
   "source": [
    "data['purpose_category'] = data['purpose'].apply(categorize_purpose)"
   ]
  },
  {
   "cell_type": "markdown",
   "id": "09b242bf",
   "metadata": {
    "deletable": false,
    "editable": false,
    "id": "09b242bf"
   },
   "source": [
    "## Исследуйте данные и ответьте на вопросы"
   ]
  },
  {
   "cell_type": "markdown",
   "id": "c5d66278",
   "metadata": {
    "deletable": false,
    "editable": false,
    "id": "c5d66278"
   },
   "source": [
    "**Задание 19. Есть ли зависимость между количеством детей и возвратом кредита в срок?**"
   ]
  },
  {
   "cell_type": "code",
   "execution_count": 22,
   "id": "2cacfc4a",
   "metadata": {
    "id": "2cacfc4a"
   },
   "outputs": [
    {
     "name": "stdout",
     "output_type": "stream",
     "text": [
      "children\n",
      "0    0.075353\n",
      "1    0.092327\n",
      "2    0.094542\n",
      "3    0.081818\n",
      "4    0.097561\n",
      "5    0.000000\n",
      "Name: debt, dtype: float64\n"
     ]
    }
   ],
   "source": [
    "children_total_credit=data.groupby('children')['debt'].count()\n",
    "children_paid=data.groupby('children')['debt'].sum()\n",
    "children_conversion=children_paid/children_total_credit\n",
    "children_data=['children_total_credit','children_paid','children_data']\n",
    "print(children_conversion)# Ваш код будет здесь. Вы можете создавать новые ячейки.\n"
   ]
  },
  {
   "cell_type": "markdown",
   "id": "3a6b99ec",
   "metadata": {
    "deletable": false,
    "id": "3a6b99ec"
   },
   "source": [
    "**Вывод:** Изучив данные, можно сказать, что взаимосвязи между количеством детей (до 4) и возвратом кредита в срок нет. Среди клиентов с количеством детей 5 и более данных для точных выводов не достаточно."
   ]
  },
  {
   "cell_type": "markdown",
   "id": "97be82ca",
   "metadata": {
    "deletable": false,
    "editable": false,
    "id": "97be82ca"
   },
   "source": [
    "**Задание 20. Есть ли зависимость между семейным положением и возвратом кредита в срок?**"
   ]
  },
  {
   "cell_type": "code",
   "execution_count": 23,
   "id": "dc3f7ee8",
   "metadata": {
    "id": "dc3f7ee8"
   },
   "outputs": [
    {
     "name": "stdout",
     "output_type": "stream",
     "text": [
      "family_status\n",
      "Не женат / не замужем    0.097639\n",
      "в разводе                0.070648\n",
      "вдовец / вдова           0.066246\n",
      "гражданский брак         0.092861\n",
      "женат / замужем          0.075575\n",
      "Name: debt, dtype: float64\n"
     ]
    }
   ],
   "source": [
    "family_total_credit=data.groupby('family_status')['debt'].count()\n",
    "family_paid=data.groupby('family_status')['debt'].sum()\n",
    "family_conversion=family_paid/family_total_credit\n",
    "print(family_conversion)# Ваш код будет здесь. Вы можете создавать новые ячейки."
   ]
  },
  {
   "cell_type": "markdown",
   "id": "1cef7837",
   "metadata": {
    "deletable": false,
    "id": "1cef7837"
   },
   "source": [
    "**Вывод:** исходя из полученных данных видим следующее: клиенты в статусе не женет/не замужем и гражданский брак относятся к наиболее рискованному сегменту, среди таких кредитов больше всего невозвратов в срок. клиенты в статусе женат/замужем и в разводе показывают чуть лучшую статистику возвратов. Самыми благонадежными заемщиками оказываются вдовец/вдова."
   ]
  },
  {
   "cell_type": "markdown",
   "id": "1e8b2fca",
   "metadata": {
    "deletable": false,
    "editable": false,
    "id": "1e8b2fca"
   },
   "source": [
    "**Задание 21. Есть ли зависимость между уровнем дохода и возвратом кредита в срок?**"
   ]
  },
  {
   "cell_type": "code",
   "execution_count": 24,
   "id": "cd7e3720",
   "metadata": {
    "id": "cd7e3720"
   },
   "outputs": [
    {
     "name": "stdout",
     "output_type": "stream",
     "text": [
      "total_income_category\n",
      "A    0.080000\n",
      "B    0.070602\n",
      "C    0.084891\n",
      "D    0.060172\n",
      "E    0.090909\n",
      "Name: debt, dtype: float64\n"
     ]
    }
   ],
   "source": [
    "income_total_credit=data.groupby('total_income_category')['debt'].count()\n",
    "income_paid=data.groupby('total_income_category')['debt'].sum()\n",
    "income_conversion=income_paid/income_total_credit\n",
    "print(income_conversion)"
   ]
  },
  {
   "cell_type": "markdown",
   "id": "e8593def",
   "metadata": {
    "deletable": false,
    "id": "e8593def"
   },
   "source": [
    "**Вывод:** Самыми надежными заемщиками будут клиенты с доходом в диапазоне от 30001 до 50000 и от 200001 до 1000000. А наиболее невозвратными оказались кредиты выданные клиентам с доходом свыше 1000001 рублей."
   ]
  },
  {
   "cell_type": "markdown",
   "id": "99ecbd1f",
   "metadata": {
    "deletable": false,
    "editable": false,
    "id": "99ecbd1f"
   },
   "source": [
    "**Задание 22. Как разные цели кредита влияют на его возврат в срок?**"
   ]
  },
  {
   "cell_type": "code",
   "execution_count": 25,
   "id": "2b687290",
   "metadata": {
    "id": "2b687290"
   },
   "outputs": [
    {
     "data": {
      "text/html": [
       "<div>\n",
       "<style scoped>\n",
       "    .dataframe tbody tr th:only-of-type {\n",
       "        vertical-align: middle;\n",
       "    }\n",
       "\n",
       "    .dataframe tbody tr th {\n",
       "        vertical-align: top;\n",
       "    }\n",
       "\n",
       "    .dataframe thead tr th {\n",
       "        text-align: left;\n",
       "    }\n",
       "\n",
       "    .dataframe thead tr:last-of-type th {\n",
       "        text-align: right;\n",
       "    }\n",
       "</style>\n",
       "<table border=\"1\" class=\"dataframe\">\n",
       "  <thead>\n",
       "    <tr>\n",
       "      <th></th>\n",
       "      <th>sum</th>\n",
       "      <th>count</th>\n",
       "      <th>ratio</th>\n",
       "    </tr>\n",
       "    <tr>\n",
       "      <th></th>\n",
       "      <th>debt</th>\n",
       "      <th>debt</th>\n",
       "      <th></th>\n",
       "    </tr>\n",
       "    <tr>\n",
       "      <th>purpose_category</th>\n",
       "      <th></th>\n",
       "      <th></th>\n",
       "      <th></th>\n",
       "    </tr>\n",
       "  </thead>\n",
       "  <tbody>\n",
       "    <tr>\n",
       "      <th>операции с автомобилем</th>\n",
       "      <td>400</td>\n",
       "      <td>4281</td>\n",
       "      <td>0.093436</td>\n",
       "    </tr>\n",
       "    <tr>\n",
       "      <th>операции с недвижимостью</th>\n",
       "      <td>780</td>\n",
       "      <td>10754</td>\n",
       "      <td>0.072531</td>\n",
       "    </tr>\n",
       "    <tr>\n",
       "      <th>получение образования</th>\n",
       "      <td>369</td>\n",
       "      <td>3989</td>\n",
       "      <td>0.092504</td>\n",
       "    </tr>\n",
       "    <tr>\n",
       "      <th>проведение свадьбы</th>\n",
       "      <td>183</td>\n",
       "      <td>2324</td>\n",
       "      <td>0.078744</td>\n",
       "    </tr>\n",
       "  </tbody>\n",
       "</table>\n",
       "</div>"
      ],
      "text/plain": [
       "                          sum  count     ratio\n",
       "                         debt   debt          \n",
       "purpose_category                              \n",
       "операции с автомобилем    400   4281  0.093436\n",
       "операции с недвижимостью  780  10754  0.072531\n",
       "получение образования     369   3989  0.092504\n",
       "проведение свадьбы        183   2324  0.078744"
      ]
     },
     "execution_count": 25,
     "metadata": {},
     "output_type": "execute_result"
    }
   ],
   "source": [
    "data_pivot=data.pivot_table(index=['purpose_category'],values='debt', aggfunc=['sum','count'])\n",
    "data_pivot['ratio']=data_pivot['sum']/data_pivot['count']\n",
    "data_pivot"
   ]
  },
  {
   "cell_type": "markdown",
   "id": "b4bb2ce6",
   "metadata": {
    "deletable": false,
    "id": "b4bb2ce6"
   },
   "source": [
    "**Вывод:** самыми возвратными исходя из цели кредита оказались кредиты на операции с недвижимостью. Так же хорошую возвратность показали кредиты на проведение свадьбы. Хуже статистика возвратов у кредитов на операции с автомобилем и на получение образования."
   ]
  },
  {
   "cell_type": "markdown",
   "id": "09c3ac4c",
   "metadata": {
    "deletable": false,
    "editable": false,
    "id": "09c3ac4c"
   },
   "source": [
    "**Задание 23. Приведите возможные причины появления пропусков в исходных данных.**"
   ]
  },
  {
   "cell_type": "markdown",
   "id": "9da2ceda",
   "metadata": {
    "deletable": false,
    "id": "9da2ceda"
   },
   "source": [
    "Ответ: Анализируя предоставленные данные, пропуски погли возникнуть по нескольким причинам:\n",
    " 1. Данная информация не предоставлена заемщиком;\n",
    " 2. Данная информация не заполнена сотрудником вносившим информацию;\n",
    " 3. Ошибка возникла на этапе переноса данных;"
   ]
  },
  {
   "cell_type": "markdown",
   "id": "7b0487d6",
   "metadata": {
    "deletable": false,
    "editable": false,
    "id": "7b0487d6"
   },
   "source": [
    "**Задание 24. Объясните, почему заполнить пропуски медианным значением — лучшее решение для количественных переменных.**"
   ]
  },
  {
   "cell_type": "markdown",
   "id": "7ecf2b8e",
   "metadata": {
    "deletable": false,
    "id": "7ecf2b8e"
   },
   "source": [
    "Ответ: Лучше всего для заполнения количественных пропусков использовать медианные значетия, так как это значение в середине списка, и оно наиболее точно отражает ситуацию. Если же использовать среднеорефметическое, то при наличии сильно выбивающихся значений в списке, данные могут сильно исказиться."
   ]
  },
  {
   "cell_type": "markdown",
   "id": "6db5255a",
   "metadata": {
    "deletable": false,
    "editable": false,
    "id": "6db5255a"
   },
   "source": [
    "## Общий вывод."
   ]
  },
  {
   "cell_type": "markdown",
   "id": "bad65432",
   "metadata": {
    "id": "bad65432"
   },
   "source": [
    " Проанализировав предоставленные данные мы выяснили что количество детей на прямую не влияет возвратностью кредита в срок. Для клиентов с количеством детей 5 и более выборка слишком мала, чтобы сделать выводы.\n",
    " Хорошо прослеживается влияние семейного положения на возвратность кредита. Наилучшими плательщиками оказались вдовцы/вдовы. Хорошие показатели у тех кто в браке или в разводе. Больше всего невозвращенных в срок кредитов среди не женатых/не замужнех и людей состоящих в гражданском браке.\n",
    " Что касается изучения влияния дохода на возврат кредитов, то здесь обнаружено следующее. Лучшие плательщики это люди с доходом от 200001 до 1000000 рублей. Так же не плохие показатели возврата среди заемщиков с доходом от 30001 до 50000 рублей. Больше всего проблем с возвратами кредитов в срок возникает у клиентов с высоким доходом от 1000001 рублей.\n",
    "  и последнее что удалось выяснить, это влияние цели кредита на возврат. Самыми надежными кредитами оказались кредиты на операции с недвижимостью. А так же хороший возврат у кредитов на проведение свадьбы. Хуже возвращаются кредиты на операции с автомобилем и на полечение образования."
   ]
  }
 ],
 "metadata": {
  "ExecuteTimeLog": [
   {
    "duration": 559,
    "start_time": "2022-06-15T09:56:46.554Z"
   },
   {
    "duration": 24,
    "start_time": "2022-06-15T09:57:03.487Z"
   },
   {
    "duration": 48,
    "start_time": "2022-06-15T09:57:37.155Z"
   },
   {
    "duration": 595,
    "start_time": "2022-06-15T10:28:52.844Z"
   },
   {
    "duration": 53,
    "start_time": "2022-06-15T10:29:07.335Z"
   },
   {
    "duration": 17,
    "start_time": "2022-06-15T10:29:51.566Z"
   },
   {
    "duration": 505,
    "start_time": "2022-06-15T10:30:21.134Z"
   },
   {
    "duration": 44,
    "start_time": "2022-06-15T10:59:08.235Z"
   },
   {
    "duration": 24,
    "start_time": "2022-06-15T10:59:16.623Z"
   },
   {
    "duration": 147,
    "start_time": "2022-06-15T11:02:11.984Z"
   },
   {
    "duration": 747,
    "start_time": "2022-06-15T11:02:29.384Z"
   },
   {
    "duration": 50,
    "start_time": "2022-06-15T11:02:54.749Z"
   },
   {
    "duration": 150,
    "start_time": "2022-06-15T11:03:14.238Z"
   },
   {
    "duration": 23,
    "start_time": "2022-06-15T11:15:38.958Z"
   },
   {
    "duration": 5,
    "start_time": "2022-06-15T11:16:29.583Z"
   },
   {
    "duration": 5,
    "start_time": "2022-06-15T11:16:53.041Z"
   },
   {
    "duration": 90,
    "start_time": "2022-06-15T11:17:08.149Z"
   },
   {
    "duration": 17,
    "start_time": "2022-06-15T11:17:11.088Z"
   },
   {
    "duration": 16,
    "start_time": "2022-06-15T11:17:17.085Z"
   },
   {
    "duration": 15,
    "start_time": "2022-06-15T11:17:20.352Z"
   },
   {
    "duration": 49,
    "start_time": "2022-06-15T11:17:23.755Z"
   },
   {
    "duration": 5,
    "start_time": "2022-06-15T11:17:26.242Z"
   },
   {
    "duration": 8,
    "start_time": "2022-06-15T11:17:28.512Z"
   },
   {
    "duration": 5,
    "start_time": "2022-06-15T11:17:31.436Z"
   },
   {
    "duration": 22,
    "start_time": "2022-06-15T11:17:34.011Z"
   },
   {
    "duration": 5,
    "start_time": "2022-06-15T11:17:36.416Z"
   },
   {
    "duration": 39,
    "start_time": "2022-06-15T11:17:40.111Z"
   },
   {
    "duration": 25,
    "start_time": "2022-06-15T11:17:42.058Z"
   },
   {
    "duration": 5,
    "start_time": "2022-06-15T11:17:45.348Z"
   },
   {
    "duration": 19,
    "start_time": "2022-06-15T11:17:47.318Z"
   },
   {
    "duration": 17,
    "start_time": "2022-06-15T11:17:49.094Z"
   },
   {
    "duration": 12,
    "start_time": "2022-06-15T11:17:51.207Z"
   },
   {
    "duration": 4,
    "start_time": "2022-06-15T11:17:55.234Z"
   },
   {
    "duration": 23,
    "start_time": "2022-06-15T11:17:57.354Z"
   },
   {
    "duration": 6,
    "start_time": "2022-06-15T11:18:00.226Z"
   },
   {
    "duration": 4,
    "start_time": "2022-06-15T11:18:04.291Z"
   },
   {
    "duration": 9,
    "start_time": "2022-06-15T11:18:05.888Z"
   },
   {
    "duration": 6,
    "start_time": "2022-06-15T11:18:08.038Z"
   },
   {
    "duration": 18,
    "start_time": "2022-06-15T11:30:08.827Z"
   },
   {
    "duration": 19,
    "start_time": "2022-06-15T11:30:10.211Z"
   },
   {
    "duration": 14,
    "start_time": "2022-06-15T11:30:14.643Z"
   },
   {
    "duration": 37,
    "start_time": "2022-06-15T11:30:15.905Z"
   },
   {
    "duration": 4,
    "start_time": "2022-06-15T11:30:17.412Z"
   },
   {
    "duration": 10,
    "start_time": "2022-06-15T11:30:18.555Z"
   },
   {
    "duration": 5,
    "start_time": "2022-06-15T11:30:20.195Z"
   },
   {
    "duration": 12,
    "start_time": "2022-06-15T11:30:21.401Z"
   },
   {
    "duration": 5,
    "start_time": "2022-06-15T11:30:22.458Z"
   },
   {
    "duration": 37,
    "start_time": "2022-06-15T11:30:25.058Z"
   },
   {
    "duration": 13,
    "start_time": "2022-06-15T11:30:26.994Z"
   },
   {
    "duration": 5,
    "start_time": "2022-06-15T11:30:29.233Z"
   },
   {
    "duration": 24,
    "start_time": "2022-06-15T11:30:31.517Z"
   },
   {
    "duration": 23,
    "start_time": "2022-06-15T11:30:32.257Z"
   },
   {
    "duration": 14,
    "start_time": "2022-06-15T11:30:34.146Z"
   },
   {
    "duration": 4,
    "start_time": "2022-06-15T11:30:37.141Z"
   },
   {
    "duration": 12,
    "start_time": "2022-06-15T11:30:37.990Z"
   },
   {
    "duration": 6,
    "start_time": "2022-06-15T11:30:39.842Z"
   },
   {
    "duration": 3,
    "start_time": "2022-06-15T11:30:41.098Z"
   },
   {
    "duration": 9,
    "start_time": "2022-06-15T11:30:41.643Z"
   },
   {
    "duration": 26,
    "start_time": "2022-06-15T11:30:55.559Z"
   },
   {
    "duration": 18,
    "start_time": "2022-06-15T11:34:41.030Z"
   },
   {
    "duration": 10,
    "start_time": "2022-06-15T11:35:45.463Z"
   },
   {
    "duration": 28,
    "start_time": "2022-06-15T11:37:06.363Z"
   },
   {
    "duration": 26,
    "start_time": "2022-06-15T11:37:32.668Z"
   },
   {
    "duration": 12,
    "start_time": "2022-06-15T11:40:58.137Z"
   },
   {
    "duration": 12,
    "start_time": "2022-06-15T11:41:23.297Z"
   },
   {
    "duration": 27,
    "start_time": "2022-06-15T11:42:14.984Z"
   },
   {
    "duration": 18,
    "start_time": "2022-06-15T11:42:23.685Z"
   },
   {
    "duration": 16,
    "start_time": "2022-06-15T11:42:32.213Z"
   },
   {
    "duration": 11,
    "start_time": "2022-06-15T11:42:44.155Z"
   },
   {
    "duration": 7,
    "start_time": "2022-06-15T11:43:33.482Z"
   },
   {
    "duration": 19,
    "start_time": "2022-06-15T11:43:47.605Z"
   },
   {
    "duration": 11,
    "start_time": "2022-06-15T11:44:02.897Z"
   },
   {
    "duration": 74,
    "start_time": "2022-06-15T12:28:57.542Z"
   },
   {
    "duration": 16,
    "start_time": "2022-06-15T12:28:59.341Z"
   },
   {
    "duration": 17,
    "start_time": "2022-06-15T12:29:00.173Z"
   },
   {
    "duration": 17,
    "start_time": "2022-06-15T12:29:01.533Z"
   },
   {
    "duration": 35,
    "start_time": "2022-06-15T12:29:02.687Z"
   },
   {
    "duration": 5,
    "start_time": "2022-06-15T12:29:03.753Z"
   },
   {
    "duration": 8,
    "start_time": "2022-06-15T12:29:04.262Z"
   },
   {
    "duration": 5,
    "start_time": "2022-06-15T12:29:05.327Z"
   },
   {
    "duration": 6,
    "start_time": "2022-06-15T12:29:05.886Z"
   },
   {
    "duration": 5,
    "start_time": "2022-06-15T12:29:08.779Z"
   },
   {
    "duration": 37,
    "start_time": "2022-06-15T12:29:10.279Z"
   },
   {
    "duration": 11,
    "start_time": "2022-06-15T12:29:10.745Z"
   },
   {
    "duration": 6,
    "start_time": "2022-06-15T12:29:11.906Z"
   },
   {
    "duration": 21,
    "start_time": "2022-06-15T12:29:12.680Z"
   },
   {
    "duration": 19,
    "start_time": "2022-06-15T12:29:13.057Z"
   },
   {
    "duration": 12,
    "start_time": "2022-06-15T12:29:13.934Z"
   },
   {
    "duration": 3,
    "start_time": "2022-06-15T12:29:15.178Z"
   },
   {
    "duration": 11,
    "start_time": "2022-06-15T12:29:15.945Z"
   },
   {
    "duration": 8,
    "start_time": "2022-06-15T12:29:17.623Z"
   },
   {
    "duration": 3,
    "start_time": "2022-06-15T12:29:19.032Z"
   },
   {
    "duration": 9,
    "start_time": "2022-06-15T12:29:19.600Z"
   },
   {
    "duration": 25,
    "start_time": "2022-06-15T12:29:36.512Z"
   },
   {
    "duration": 6,
    "start_time": "2022-06-15T12:29:59.075Z"
   },
   {
    "duration": 8,
    "start_time": "2022-06-15T12:31:32.493Z"
   },
   {
    "duration": 11,
    "start_time": "2022-06-15T12:36:28.447Z"
   },
   {
    "duration": 15,
    "start_time": "2022-06-15T12:41:31.162Z"
   },
   {
    "duration": 10,
    "start_time": "2022-06-15T12:41:37.599Z"
   },
   {
    "duration": 11,
    "start_time": "2022-06-15T12:43:21.224Z"
   },
   {
    "duration": 12,
    "start_time": "2022-06-15T12:43:36.429Z"
   },
   {
    "duration": 20,
    "start_time": "2022-06-15T12:46:35.494Z"
   },
   {
    "duration": 31,
    "start_time": "2022-06-15T12:47:03.902Z"
   },
   {
    "duration": 18,
    "start_time": "2022-06-15T12:54:09.627Z"
   },
   {
    "duration": 19,
    "start_time": "2022-06-15T12:54:42.647Z"
   },
   {
    "duration": 11,
    "start_time": "2022-06-15T12:54:58.167Z"
   },
   {
    "duration": 52,
    "start_time": "2022-06-21T08:17:01.637Z"
   },
   {
    "duration": 6,
    "start_time": "2022-06-21T08:17:09.198Z"
   },
   {
    "duration": 663,
    "start_time": "2022-06-21T08:17:15.543Z"
   },
   {
    "duration": 22,
    "start_time": "2022-06-21T08:17:16.410Z"
   },
   {
    "duration": 16,
    "start_time": "2022-06-21T08:17:17.271Z"
   },
   {
    "duration": 10,
    "start_time": "2022-06-21T08:17:18.701Z"
   },
   {
    "duration": 35,
    "start_time": "2022-06-21T08:17:19.227Z"
   },
   {
    "duration": 4,
    "start_time": "2022-06-21T08:17:19.823Z"
   },
   {
    "duration": 8,
    "start_time": "2022-06-21T08:17:20.133Z"
   },
   {
    "duration": 5,
    "start_time": "2022-06-21T08:17:20.981Z"
   },
   {
    "duration": 7,
    "start_time": "2022-06-21T08:17:21.962Z"
   },
   {
    "duration": 5,
    "start_time": "2022-06-21T08:17:22.653Z"
   },
   {
    "duration": 36,
    "start_time": "2022-06-21T08:17:23.968Z"
   },
   {
    "duration": 14,
    "start_time": "2022-06-21T08:17:24.378Z"
   },
   {
    "duration": 4,
    "start_time": "2022-06-21T08:17:24.981Z"
   },
   {
    "duration": 22,
    "start_time": "2022-06-21T08:17:25.614Z"
   },
   {
    "duration": 28,
    "start_time": "2022-06-21T08:17:25.824Z"
   },
   {
    "duration": 12,
    "start_time": "2022-06-21T08:17:26.510Z"
   },
   {
    "duration": 3,
    "start_time": "2022-06-21T08:17:27.223Z"
   },
   {
    "duration": 10,
    "start_time": "2022-06-21T08:17:27.419Z"
   },
   {
    "duration": 7,
    "start_time": "2022-06-21T08:17:28.155Z"
   },
   {
    "duration": 5,
    "start_time": "2022-06-21T08:17:28.868Z"
   },
   {
    "duration": 8,
    "start_time": "2022-06-21T08:17:29.300Z"
   },
   {
    "duration": 10,
    "start_time": "2022-06-21T08:17:31.358Z"
   },
   {
    "duration": 34,
    "start_time": "2022-06-21T08:17:36.689Z"
   },
   {
    "duration": 46,
    "start_time": "2022-06-21T08:17:43.493Z"
   },
   {
    "duration": 13,
    "start_time": "2022-06-21T08:17:48.993Z"
   },
   {
    "duration": 7,
    "start_time": "2022-06-21T08:20:01.672Z"
   },
   {
    "duration": 8,
    "start_time": "2022-06-21T08:20:08.240Z"
   },
   {
    "duration": 394,
    "start_time": "2022-06-21T11:23:46.395Z"
   },
   {
    "duration": 18,
    "start_time": "2022-06-21T11:23:46.791Z"
   },
   {
    "duration": 13,
    "start_time": "2022-06-21T11:23:46.810Z"
   },
   {
    "duration": 17,
    "start_time": "2022-06-21T11:23:46.825Z"
   },
   {
    "duration": 30,
    "start_time": "2022-06-21T11:23:46.845Z"
   },
   {
    "duration": 4,
    "start_time": "2022-06-21T11:23:46.876Z"
   },
   {
    "duration": 12,
    "start_time": "2022-06-21T11:23:46.881Z"
   },
   {
    "duration": 7,
    "start_time": "2022-06-21T11:23:46.894Z"
   },
   {
    "duration": 8,
    "start_time": "2022-06-21T11:23:46.902Z"
   },
   {
    "duration": 3,
    "start_time": "2022-06-21T11:23:46.912Z"
   },
   {
    "duration": 29,
    "start_time": "2022-06-21T11:23:46.940Z"
   },
   {
    "duration": 7,
    "start_time": "2022-06-21T11:23:46.970Z"
   },
   {
    "duration": 4,
    "start_time": "2022-06-21T11:23:46.978Z"
   },
   {
    "duration": 17,
    "start_time": "2022-06-21T11:23:46.984Z"
   },
   {
    "duration": 32,
    "start_time": "2022-06-21T11:23:47.002Z"
   },
   {
    "duration": 11,
    "start_time": "2022-06-21T11:23:47.040Z"
   },
   {
    "duration": 8,
    "start_time": "2022-06-21T11:23:47.052Z"
   },
   {
    "duration": 15,
    "start_time": "2022-06-21T11:23:47.061Z"
   },
   {
    "duration": 6,
    "start_time": "2022-06-21T11:23:47.078Z"
   },
   {
    "duration": 12,
    "start_time": "2022-06-21T11:23:47.086Z"
   },
   {
    "duration": 11,
    "start_time": "2022-06-21T11:23:47.100Z"
   },
   {
    "duration": 7,
    "start_time": "2022-06-21T11:23:47.112Z"
   },
   {
    "duration": 23,
    "start_time": "2022-06-21T11:23:47.120Z"
   },
   {
    "duration": 7,
    "start_time": "2022-06-21T11:23:47.144Z"
   },
   {
    "duration": 8,
    "start_time": "2022-06-21T11:23:47.153Z"
   },
   {
    "duration": 383,
    "start_time": "2022-06-21T11:24:53.481Z"
   },
   {
    "duration": 20,
    "start_time": "2022-06-21T11:24:53.866Z"
   },
   {
    "duration": 13,
    "start_time": "2022-06-21T11:24:53.887Z"
   },
   {
    "duration": 8,
    "start_time": "2022-06-21T11:24:53.901Z"
   },
   {
    "duration": 48,
    "start_time": "2022-06-21T11:24:53.911Z"
   },
   {
    "duration": 3,
    "start_time": "2022-06-21T11:24:53.960Z"
   },
   {
    "duration": 15,
    "start_time": "2022-06-21T11:24:53.964Z"
   },
   {
    "duration": 17,
    "start_time": "2022-06-21T11:24:53.980Z"
   },
   {
    "duration": 22,
    "start_time": "2022-06-21T11:24:53.998Z"
   },
   {
    "duration": 26,
    "start_time": "2022-06-21T11:24:54.021Z"
   },
   {
    "duration": 32,
    "start_time": "2022-06-21T11:24:54.049Z"
   },
   {
    "duration": 7,
    "start_time": "2022-06-21T11:24:54.083Z"
   },
   {
    "duration": 4,
    "start_time": "2022-06-21T11:24:54.091Z"
   },
   {
    "duration": 22,
    "start_time": "2022-06-21T11:24:54.097Z"
   },
   {
    "duration": 21,
    "start_time": "2022-06-21T11:24:54.121Z"
   },
   {
    "duration": 12,
    "start_time": "2022-06-21T11:24:54.144Z"
   },
   {
    "duration": 16,
    "start_time": "2022-06-21T11:24:54.157Z"
   },
   {
    "duration": 13,
    "start_time": "2022-06-21T11:24:54.174Z"
   },
   {
    "duration": 9,
    "start_time": "2022-06-21T11:24:54.189Z"
   },
   {
    "duration": 7,
    "start_time": "2022-06-21T11:24:54.199Z"
   },
   {
    "duration": 11,
    "start_time": "2022-06-21T11:24:54.207Z"
   },
   {
    "duration": 24,
    "start_time": "2022-06-21T11:24:54.220Z"
   },
   {
    "duration": 22,
    "start_time": "2022-06-21T11:24:54.246Z"
   },
   {
    "duration": 22,
    "start_time": "2022-06-21T11:24:54.269Z"
   },
   {
    "duration": 24,
    "start_time": "2022-06-21T11:24:54.292Z"
   },
   {
    "duration": 49,
    "start_time": "2022-06-22T07:29:22.690Z"
   },
   {
    "duration": 998,
    "start_time": "2022-06-22T07:29:31.954Z"
   },
   {
    "duration": 26,
    "start_time": "2022-06-22T07:29:32.955Z"
   },
   {
    "duration": 20,
    "start_time": "2022-06-22T07:29:32.983Z"
   },
   {
    "duration": 18,
    "start_time": "2022-06-22T07:29:33.558Z"
   },
   {
    "duration": 60,
    "start_time": "2022-06-22T07:29:33.921Z"
   },
   {
    "duration": 5,
    "start_time": "2022-06-22T07:29:34.504Z"
   },
   {
    "duration": 12,
    "start_time": "2022-06-22T07:29:34.880Z"
   },
   {
    "duration": 6,
    "start_time": "2022-06-22T07:29:35.449Z"
   },
   {
    "duration": 7,
    "start_time": "2022-06-22T07:29:35.803Z"
   },
   {
    "duration": 7,
    "start_time": "2022-06-22T07:29:36.214Z"
   },
   {
    "duration": 36,
    "start_time": "2022-06-22T07:29:36.810Z"
   },
   {
    "duration": 15,
    "start_time": "2022-06-22T07:29:37.255Z"
   },
   {
    "duration": 4,
    "start_time": "2022-06-22T07:29:37.805Z"
   },
   {
    "duration": 27,
    "start_time": "2022-06-22T07:29:38.467Z"
   },
   {
    "duration": 28,
    "start_time": "2022-06-22T07:29:38.681Z"
   },
   {
    "duration": 16,
    "start_time": "2022-06-22T07:29:39.053Z"
   },
   {
    "duration": 5,
    "start_time": "2022-06-22T07:29:39.702Z"
   },
   {
    "duration": 15,
    "start_time": "2022-06-22T07:29:39.888Z"
   },
   {
    "duration": 8,
    "start_time": "2022-06-22T07:29:40.316Z"
   },
   {
    "duration": 4,
    "start_time": "2022-06-22T07:29:40.987Z"
   },
   {
    "duration": 11,
    "start_time": "2022-06-22T07:29:41.195Z"
   },
   {
    "duration": 10,
    "start_time": "2022-06-22T07:29:41.827Z"
   },
   {
    "duration": 15,
    "start_time": "2022-06-22T07:29:43.123Z"
   },
   {
    "duration": 13,
    "start_time": "2022-06-22T07:29:46.503Z"
   },
   {
    "duration": 15,
    "start_time": "2022-06-22T07:29:48.665Z"
   },
   {
    "duration": 11,
    "start_time": "2022-06-22T07:31:14.005Z"
   },
   {
    "duration": 65,
    "start_time": "2022-06-22T07:44:53.322Z"
   },
   {
    "duration": 95,
    "start_time": "2022-06-22T07:46:13.741Z"
   },
   {
    "duration": 57,
    "start_time": "2022-06-22T07:56:16.292Z"
   },
   {
    "duration": 26,
    "start_time": "2022-06-22T08:07:09.550Z"
   },
   {
    "duration": 21,
    "start_time": "2022-06-22T08:14:17.504Z"
   },
   {
    "duration": 26,
    "start_time": "2022-06-22T08:14:23.174Z"
   },
   {
    "duration": 33,
    "start_time": "2022-06-22T08:18:19.380Z"
   },
   {
    "duration": 21,
    "start_time": "2022-06-22T08:30:06.131Z"
   },
   {
    "duration": 23,
    "start_time": "2022-06-22T08:30:53.821Z"
   },
   {
    "duration": 29,
    "start_time": "2022-06-22T08:40:18.986Z"
   },
   {
    "duration": 28,
    "start_time": "2022-06-22T08:42:12.588Z"
   },
   {
    "duration": 28,
    "start_time": "2022-06-22T08:42:25.423Z"
   },
   {
    "duration": 38,
    "start_time": "2022-06-22T08:42:51.556Z"
   },
   {
    "duration": 40,
    "start_time": "2022-06-22T08:43:54.864Z"
   },
   {
    "duration": 41,
    "start_time": "2022-06-22T08:44:44.563Z"
   },
   {
    "duration": 27,
    "start_time": "2022-06-22T08:45:37.590Z"
   },
   {
    "duration": 490,
    "start_time": "2022-06-22T17:14:22.940Z"
   },
   {
    "duration": 27,
    "start_time": "2022-06-22T17:14:23.433Z"
   },
   {
    "duration": 17,
    "start_time": "2022-06-22T17:14:23.461Z"
   },
   {
    "duration": 10,
    "start_time": "2022-06-22T17:14:23.481Z"
   },
   {
    "duration": 66,
    "start_time": "2022-06-22T17:14:23.493Z"
   },
   {
    "duration": 4,
    "start_time": "2022-06-22T17:14:23.561Z"
   },
   {
    "duration": 14,
    "start_time": "2022-06-22T17:14:23.567Z"
   },
   {
    "duration": 10,
    "start_time": "2022-06-22T17:14:23.582Z"
   },
   {
    "duration": 13,
    "start_time": "2022-06-22T17:14:23.593Z"
   },
   {
    "duration": 17,
    "start_time": "2022-06-22T17:14:23.609Z"
   },
   {
    "duration": 39,
    "start_time": "2022-06-22T17:14:23.628Z"
   },
   {
    "duration": 11,
    "start_time": "2022-06-22T17:14:23.669Z"
   },
   {
    "duration": 4,
    "start_time": "2022-06-22T17:14:23.682Z"
   },
   {
    "duration": 40,
    "start_time": "2022-06-22T17:14:23.687Z"
   },
   {
    "duration": 16,
    "start_time": "2022-06-22T17:14:23.729Z"
   },
   {
    "duration": 12,
    "start_time": "2022-06-22T17:14:23.746Z"
   },
   {
    "duration": 3,
    "start_time": "2022-06-22T17:14:23.759Z"
   },
   {
    "duration": 14,
    "start_time": "2022-06-22T17:14:23.764Z"
   },
   {
    "duration": 9,
    "start_time": "2022-06-22T17:14:23.779Z"
   },
   {
    "duration": 4,
    "start_time": "2022-06-22T17:14:23.789Z"
   },
   {
    "duration": 33,
    "start_time": "2022-06-22T17:14:23.795Z"
   },
   {
    "duration": 11,
    "start_time": "2022-06-22T17:14:23.829Z"
   },
   {
    "duration": 10,
    "start_time": "2022-06-22T17:14:23.841Z"
   },
   {
    "duration": 8,
    "start_time": "2022-06-22T17:14:23.853Z"
   },
   {
    "duration": 27,
    "start_time": "2022-06-22T17:14:23.862Z"
   }
  ],
  "colab": {
   "name": "dpp_template_part2.ipynb",
   "provenance": []
  },
  "kernelspec": {
   "display_name": "Python 3 (ipykernel)",
   "language": "python",
   "name": "python3"
  },
  "language_info": {
   "codemirror_mode": {
    "name": "ipython",
    "version": 3
   },
   "file_extension": ".py",
   "mimetype": "text/x-python",
   "name": "python",
   "nbconvert_exporter": "python",
   "pygments_lexer": "ipython3",
   "version": "3.9.12"
  },
  "toc": {
   "base_numbering": 1,
   "nav_menu": {},
   "number_sections": true,
   "sideBar": true,
   "skip_h1_title": true,
   "title_cell": "Table of Contents",
   "title_sidebar": "Contents",
   "toc_cell": false,
   "toc_position": {},
   "toc_section_display": true,
   "toc_window_display": false
  }
 },
 "nbformat": 4,
 "nbformat_minor": 5
}
